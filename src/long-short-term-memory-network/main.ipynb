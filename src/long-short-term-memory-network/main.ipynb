{
 "cells": [
  {
   "cell_type": "code",
   "execution_count": 1,
   "id": "a3502ad8",
   "metadata": {},
   "outputs": [],
   "source": [
    "import os\n",
    "import numpy as np\n",
    "import tensorflow as tf\n",
    "from tensorflow.keras.models import Sequential\n",
    "from tensorflow.keras.layers import Embedding, LSTM, Bidirectional, Dropout, Dense\n",
    "from sklearn.metrics import f1_score\n",
    "import matplotlib.pyplot as plt\n",
    "from utils import load_nusax_data\n",
    "from model import ManualLSTMModel"
   ]
  },
  {
   "cell_type": "code",
   "execution_count": 2,
   "id": "dceea266",
   "metadata": {},
   "outputs": [],
   "source": [
    "# ----- Fixed Hyperparameters -----\n",
    "MAX_TOKENS    = 20000\n",
    "SEQ_LENGTH    = 100\n",
    "EMBED_DIM     = 128\n",
    "DROPOUT_RATE  = 0.5\n",
    "BATCH_SIZE    = 50\n",
    "EPOCHS        = 15\n",
    "\n",
    "# ----- Load and preprocess data -----\n",
    "tok_train, y_train, tok_val, y_val, tok_test, y_test, vocab_size, num_classes, vectorizer = \\\n",
    "    load_nusax_data(MAX_TOKENS, SEQ_LENGTH)\n",
    "\n",
    "os.makedirs('results/lstm_weights', exist_ok=True)\n",
    "os.makedirs('results/lstm_plots', exist_ok=True)\n",
    "results_summary_lstm = []"
   ]
  },
  {
   "cell_type": "code",
   "execution_count": 5,
   "id": "f9f4d635",
   "metadata": {},
   "outputs": [],
   "source": [
    "# ----- Needed Function Definitions -----\n",
    "def build_keras_lstm_model(vocab_size_fn, embedding_dim_fn, num_lstm_layers, lstm_units_fn, bidirectional_fn, num_classes_fn, dropout_rate_fn, seq_length_fn):\n",
    "    keras_model = Sequential(name=f\"keras_lstm_{num_lstm_layers}L_{lstm_units_fn}U_{'Bi' if bidirectional_fn else 'Uni'}\")\n",
    "    keras_model.add(Embedding(\n",
    "        input_dim=vocab_size_fn,\n",
    "        output_dim=embedding_dim_fn,\n",
    "        input_length=seq_length_fn,\n",
    "        name='embedding'\n",
    "    ))\n",
    "\n",
    "    for i in range(num_lstm_layers):\n",
    "        is_last_lstm = (i == num_lstm_layers - 1)\n",
    "        return_sequences = not is_last_lstm\n",
    "\n",
    "        layer_name_prefix = f\"{'bi' if bidirectional_fn else ''}lstm_{i}\"\n",
    "        lstm_layer_constructor = LSTM(lstm_units_fn, return_sequences=return_sequences, name=f\"{layer_name_prefix}_lstm\")\n",
    "\n",
    "        if bidirectional_fn:\n",
    "            keras_model.add(Bidirectional(lstm_layer_constructor, name=f\"{layer_name_prefix}_bidir\"))\n",
    "        else:\n",
    "            keras_model.add(lstm_layer_constructor)\n",
    "            \n",
    "    keras_model.add(Dropout(dropout_rate_fn, name='dropout'))\n",
    "    keras_model.add(Dense(num_classes_fn, activation='softmax', name='output'))\n",
    "\n",
    "    keras_model.compile(\n",
    "        optimizer='adam',\n",
    "        loss='sparse_categorical_crossentropy',\n",
    "        metrics=['accuracy']\n",
    "    )\n",
    "    return keras_model\n",
    "\n",
    "def plot_history(history, model_name_fn, experiment_name_fn):\n",
    "    plt.figure(figsize=(12, 4))\n",
    "    plt.subplot(1, 2, 1)\n",
    "    plt.plot(history.history['loss'], label='Training Loss')\n",
    "    plt.plot(history.history['val_loss'], label='Validation Loss')\n",
    "    plt.title(f'Loss - {model_name_fn}')\n",
    "    plt.xlabel('Epoch')\n",
    "    plt.ylabel('Loss')\n",
    "    plt.legend()\n",
    "\n",
    "    plt.subplot(1, 2, 2)\n",
    "    plt.plot(history.history['accuracy'], label='Training Accuracy')\n",
    "    plt.plot(history.history['val_accuracy'], label='Validation Accuracy')\n",
    "    plt.title(f'Accuracy - {model_name_fn}')\n",
    "    plt.xlabel('Epoch')\n",
    "    plt.ylabel('Accuracy')\n",
    "    plt.legend()\n",
    "    \n",
    "    plot_filename = f\"results/lstm_plots/{experiment_name_fn}_{model_name_fn}_history.png\"\n",
    "    os.makedirs(os.path.dirname(plot_filename), exist_ok=True)\n",
    "    plt.savefig(plot_filename)\n",
    "    print(f\"Saved plot to {plot_filename}\")\n",
    "    plt.close()"
   ]
  },
  {
   "cell_type": "code",
   "execution_count": 6,
   "id": "659b12a4",
   "metadata": {},
   "outputs": [],
   "source": [
    "# --- Experiment Configurations for LSTM ---\n",
    "experiments_lstm_config = []\n",
    "\n",
    "# A. Pengaruh jumlah layer LSTM\n",
    "lstm_units_A = 64\n",
    "bidirectional_A = True\n",
    "dropout_A = DROPOUT_RATE\n",
    "for num_layers in [1, 2, 3]:\n",
    "    experiments_lstm_config.append({\n",
    "        \"name\": f\"LSTM_NumLayers_{num_layers}_Units_{lstm_units_A}_Dir_{'Bi' if bidirectional_A else 'Uni'}\",\n",
    "        \"num_lstm_layers\": num_layers,\n",
    "        \"lstm_units\": lstm_units_A,\n",
    "        \"bidirectional\": bidirectional_A,\n",
    "        \"dropout_rate\": dropout_A,\n",
    "        \"compare_custom\": (num_layers == 1 and bidirectional_A)\n",
    "    })\n",
    "\n",
    "# B. Pengaruh banyak cell LSTM per layer\n",
    "num_layers_B = 1\n",
    "bidirectional_B = True\n",
    "dropout_B = DROPOUT_RATE\n",
    "for lstm_units_val in [32, 64, 128]:\n",
    "    experiments_lstm_config.append({\n",
    "        \"name\": f\"LSTM_NumLayers_{num_layers_B}_Units_{lstm_units_val}_Dir_{'Bi' if bidirectional_B else 'Uni'}\",\n",
    "        \"num_lstm_layers\": num_layers_B,\n",
    "        \"lstm_units\": lstm_units_val,\n",
    "        \"bidirectional\": bidirectional_B,\n",
    "        \"dropout_rate\": dropout_B,\n",
    "        \"compare_custom\": (num_layers_B == 1 and bidirectional_B and lstm_units_val == 64)\n",
    "    })\n",
    "\n",
    "# C. Pengaruh jenis layer LSTM berdasarkan arah\n",
    "num_layers_C = 1\n",
    "lstm_units_C = 64\n",
    "dropout_C = DROPOUT_RATE\n",
    "for bidirectional_flag in [False, True]:\n",
    "    experiments_lstm_config.append({\n",
    "        \"name\": f\"LSTM_NumLayers_{num_layers_C}_Units_{lstm_units_C}_Dir_{'Bi' if bidirectional_flag else 'Uni'}\",\n",
    "        \"num_lstm_layers\": num_layers_C,\n",
    "        \"lstm_units\": lstm_units_C,\n",
    "        \"bidirectional\": bidirectional_flag,\n",
    "        \"dropout_rate\": dropout_C,\n",
    "        \"compare_custom\": (num_layers_C == 1)\n",
    "    })"
   ]
  },
  {
   "cell_type": "code",
   "execution_count": 7,
   "id": "740364a1",
   "metadata": {},
   "outputs": [
    {
     "name": "stdout",
     "output_type": "stream",
     "text": [
      "\n",
      "--- Running LSTM Experiment 1/8: LSTM_NumLayers_1_Units_64_Dir_Bi ---\n"
     ]
    },
    {
     "name": "stderr",
     "output_type": "stream",
     "text": [
      "c:\\Python312\\Lib\\site-packages\\keras\\src\\layers\\core\\embedding.py:90: UserWarning: Argument `input_length` is deprecated. Just remove it.\n",
      "  warnings.warn(\n"
     ]
    },
    {
     "data": {
      "text/html": [
       "<pre style=\"white-space:pre;overflow-x:auto;line-height:normal;font-family:Menlo,'DejaVu Sans Mono',consolas,'Courier New',monospace\"><span style=\"font-weight: bold\">Model: \"keras_lstm_1L_64U_Bi\"</span>\n",
       "</pre>\n"
      ],
      "text/plain": [
       "\u001b[1mModel: \"keras_lstm_1L_64U_Bi\"\u001b[0m\n"
      ]
     },
     "metadata": {},
     "output_type": "display_data"
    },
    {
     "data": {
      "text/html": [
       "<pre style=\"white-space:pre;overflow-x:auto;line-height:normal;font-family:Menlo,'DejaVu Sans Mono',consolas,'Courier New',monospace\">┏━━━━━━━━━━━━━━━━━━━━━━━━━━━━━━━━━┳━━━━━━━━━━━━━━━━━━━━━━━━┳━━━━━━━━━━━━━━━┓\n",
       "┃<span style=\"font-weight: bold\"> Layer (type)                    </span>┃<span style=\"font-weight: bold\"> Output Shape           </span>┃<span style=\"font-weight: bold\">       Param # </span>┃\n",
       "┡━━━━━━━━━━━━━━━━━━━━━━━━━━━━━━━━━╇━━━━━━━━━━━━━━━━━━━━━━━━╇━━━━━━━━━━━━━━━┩\n",
       "│ embedding (<span style=\"color: #0087ff; text-decoration-color: #0087ff\">Embedding</span>)           │ ?                      │   <span style=\"color: #00af00; text-decoration-color: #00af00\">0</span> (unbuilt) │\n",
       "├─────────────────────────────────┼────────────────────────┼───────────────┤\n",
       "│ bilstm_0_bidir (<span style=\"color: #0087ff; text-decoration-color: #0087ff\">Bidirectional</span>)  │ ?                      │   <span style=\"color: #00af00; text-decoration-color: #00af00\">0</span> (unbuilt) │\n",
       "├─────────────────────────────────┼────────────────────────┼───────────────┤\n",
       "│ dropout (<span style=\"color: #0087ff; text-decoration-color: #0087ff\">Dropout</span>)               │ ?                      │             <span style=\"color: #00af00; text-decoration-color: #00af00\">0</span> │\n",
       "├─────────────────────────────────┼────────────────────────┼───────────────┤\n",
       "│ output (<span style=\"color: #0087ff; text-decoration-color: #0087ff\">Dense</span>)                  │ ?                      │   <span style=\"color: #00af00; text-decoration-color: #00af00\">0</span> (unbuilt) │\n",
       "└─────────────────────────────────┴────────────────────────┴───────────────┘\n",
       "</pre>\n"
      ],
      "text/plain": [
       "┏━━━━━━━━━━━━━━━━━━━━━━━━━━━━━━━━━┳━━━━━━━━━━━━━━━━━━━━━━━━┳━━━━━━━━━━━━━━━┓\n",
       "┃\u001b[1m \u001b[0m\u001b[1mLayer (type)                   \u001b[0m\u001b[1m \u001b[0m┃\u001b[1m \u001b[0m\u001b[1mOutput Shape          \u001b[0m\u001b[1m \u001b[0m┃\u001b[1m \u001b[0m\u001b[1m      Param #\u001b[0m\u001b[1m \u001b[0m┃\n",
       "┡━━━━━━━━━━━━━━━━━━━━━━━━━━━━━━━━━╇━━━━━━━━━━━━━━━━━━━━━━━━╇━━━━━━━━━━━━━━━┩\n",
       "│ embedding (\u001b[38;5;33mEmbedding\u001b[0m)           │ ?                      │   \u001b[38;5;34m0\u001b[0m (unbuilt) │\n",
       "├─────────────────────────────────┼────────────────────────┼───────────────┤\n",
       "│ bilstm_0_bidir (\u001b[38;5;33mBidirectional\u001b[0m)  │ ?                      │   \u001b[38;5;34m0\u001b[0m (unbuilt) │\n",
       "├─────────────────────────────────┼────────────────────────┼───────────────┤\n",
       "│ dropout (\u001b[38;5;33mDropout\u001b[0m)               │ ?                      │             \u001b[38;5;34m0\u001b[0m │\n",
       "├─────────────────────────────────┼────────────────────────┼───────────────┤\n",
       "│ output (\u001b[38;5;33mDense\u001b[0m)                  │ ?                      │   \u001b[38;5;34m0\u001b[0m (unbuilt) │\n",
       "└─────────────────────────────────┴────────────────────────┴───────────────┘\n"
      ]
     },
     "metadata": {},
     "output_type": "display_data"
    },
    {
     "data": {
      "text/html": [
       "<pre style=\"white-space:pre;overflow-x:auto;line-height:normal;font-family:Menlo,'DejaVu Sans Mono',consolas,'Courier New',monospace\"><span style=\"font-weight: bold\"> Total params: </span><span style=\"color: #00af00; text-decoration-color: #00af00\">0</span> (0.00 B)\n",
       "</pre>\n"
      ],
      "text/plain": [
       "\u001b[1m Total params: \u001b[0m\u001b[38;5;34m0\u001b[0m (0.00 B)\n"
      ]
     },
     "metadata": {},
     "output_type": "display_data"
    },
    {
     "data": {
      "text/html": [
       "<pre style=\"white-space:pre;overflow-x:auto;line-height:normal;font-family:Menlo,'DejaVu Sans Mono',consolas,'Courier New',monospace\"><span style=\"font-weight: bold\"> Trainable params: </span><span style=\"color: #00af00; text-decoration-color: #00af00\">0</span> (0.00 B)\n",
       "</pre>\n"
      ],
      "text/plain": [
       "\u001b[1m Trainable params: \u001b[0m\u001b[38;5;34m0\u001b[0m (0.00 B)\n"
      ]
     },
     "metadata": {},
     "output_type": "display_data"
    },
    {
     "data": {
      "text/html": [
       "<pre style=\"white-space:pre;overflow-x:auto;line-height:normal;font-family:Menlo,'DejaVu Sans Mono',consolas,'Courier New',monospace\"><span style=\"font-weight: bold\"> Non-trainable params: </span><span style=\"color: #00af00; text-decoration-color: #00af00\">0</span> (0.00 B)\n",
       "</pre>\n"
      ],
      "text/plain": [
       "\u001b[1m Non-trainable params: \u001b[0m\u001b[38;5;34m0\u001b[0m (0.00 B)\n"
      ]
     },
     "metadata": {},
     "output_type": "display_data"
    },
    {
     "name": "stdout",
     "output_type": "stream",
     "text": [
      "Training Keras LSTM model: LSTM_NumLayers_1_Units_64_Dir_Bi\n",
      "Epoch 1/15\n",
      "10/10 - 4s - 391ms/step - accuracy: 0.3880 - loss: 1.0802 - val_accuracy: 0.4400 - val_loss: 1.0630\n",
      "Epoch 2/15\n",
      "10/10 - 1s - 76ms/step - accuracy: 0.5100 - loss: 1.0108 - val_accuracy: 0.5200 - val_loss: 0.9940\n",
      "Epoch 3/15\n",
      "10/10 - 1s - 78ms/step - accuracy: 0.5960 - loss: 0.8900 - val_accuracy: 0.5300 - val_loss: 0.9249\n",
      "Epoch 4/15\n",
      "10/10 - 1s - 77ms/step - accuracy: 0.6440 - loss: 0.8034 - val_accuracy: 0.5700 - val_loss: 0.8825\n",
      "Epoch 5/15\n",
      "10/10 - 1s - 75ms/step - accuracy: 0.7500 - loss: 0.6681 - val_accuracy: 0.6200 - val_loss: 0.8126\n",
      "Epoch 6/15\n",
      "10/10 - 1s - 67ms/step - accuracy: 0.8540 - loss: 0.5168 - val_accuracy: 0.7100 - val_loss: 0.7300\n",
      "Epoch 7/15\n",
      "10/10 - 1s - 66ms/step - accuracy: 0.9280 - loss: 0.3228 - val_accuracy: 0.7100 - val_loss: 0.6838\n",
      "Epoch 8/15\n",
      "10/10 - 1s - 68ms/step - accuracy: 0.8520 - loss: 0.5856 - val_accuracy: 0.3900 - val_loss: 2.1488\n",
      "Epoch 9/15\n",
      "10/10 - 1s - 67ms/step - accuracy: 0.8160 - loss: 0.4933 - val_accuracy: 0.5600 - val_loss: 0.9611\n",
      "Epoch 10/15\n",
      "10/10 - 1s - 66ms/step - accuracy: 0.9480 - loss: 0.2537 - val_accuracy: 0.6700 - val_loss: 0.7544\n",
      "Epoch 11/15\n",
      "10/10 - 1s - 61ms/step - accuracy: 0.9820 - loss: 0.1345 - val_accuracy: 0.7200 - val_loss: 0.6810\n",
      "Epoch 12/15\n",
      "10/10 - 1s - 60ms/step - accuracy: 0.9880 - loss: 0.0833 - val_accuracy: 0.7400 - val_loss: 0.6863\n",
      "Epoch 13/15\n",
      "10/10 - 1s - 64ms/step - accuracy: 0.9960 - loss: 0.0496 - val_accuracy: 0.7400 - val_loss: 0.7152\n",
      "Epoch 14/15\n",
      "10/10 - 1s - 59ms/step - accuracy: 0.9960 - loss: 0.0368 - val_accuracy: 0.7800 - val_loss: 0.7237\n",
      "Epoch 15/15\n",
      "10/10 - 1s - 60ms/step - accuracy: 0.9960 - loss: 0.0296 - val_accuracy: 0.7400 - val_loss: 0.7770\n",
      "Saved Keras LSTM weights to results/lstm_weights/keras_lstm_LSTM_NumLayers_1_Units_64_Dir_Bi.weights.h5\n",
      "Saved plot to results/lstm_plots/lstm_experiment_LSTM_NumLayers_1_Units_64_Dir_Bi_history.png\n",
      "\u001b[1m8/8\u001b[0m \u001b[32m━━━━━━━━━━━━━━━━━━━━\u001b[0m\u001b[37m\u001b[0m \u001b[1m0s\u001b[0m 16ms/step\n",
      "[Keras LSTM - LSTM_NumLayers_1_Units_64_Dir_Bi] Test Macro F1-score: 0.7349\n",
      "\n",
      "--- Comparing with Manual LSTM Model for LSTM_NumLayers_1_Units_64_Dir_Bi ---\n",
      "Loaded Keras weights into manual LSTM model.\n",
      "[Manual LSTM - LSTM_NumLayers_1_Units_64_Dir_Bi] Test Macro F1-score: 0.7349\n",
      "\n",
      "--- Running LSTM Experiment 2/8: LSTM_NumLayers_2_Units_64_Dir_Bi ---\n"
     ]
    },
    {
     "name": "stderr",
     "output_type": "stream",
     "text": [
      "c:\\Python312\\Lib\\site-packages\\keras\\src\\layers\\core\\embedding.py:90: UserWarning: Argument `input_length` is deprecated. Just remove it.\n",
      "  warnings.warn(\n"
     ]
    },
    {
     "data": {
      "text/html": [
       "<pre style=\"white-space:pre;overflow-x:auto;line-height:normal;font-family:Menlo,'DejaVu Sans Mono',consolas,'Courier New',monospace\"><span style=\"font-weight: bold\">Model: \"keras_lstm_2L_64U_Bi\"</span>\n",
       "</pre>\n"
      ],
      "text/plain": [
       "\u001b[1mModel: \"keras_lstm_2L_64U_Bi\"\u001b[0m\n"
      ]
     },
     "metadata": {},
     "output_type": "display_data"
    },
    {
     "data": {
      "text/html": [
       "<pre style=\"white-space:pre;overflow-x:auto;line-height:normal;font-family:Menlo,'DejaVu Sans Mono',consolas,'Courier New',monospace\">┏━━━━━━━━━━━━━━━━━━━━━━━━━━━━━━━━━┳━━━━━━━━━━━━━━━━━━━━━━━━┳━━━━━━━━━━━━━━━┓\n",
       "┃<span style=\"font-weight: bold\"> Layer (type)                    </span>┃<span style=\"font-weight: bold\"> Output Shape           </span>┃<span style=\"font-weight: bold\">       Param # </span>┃\n",
       "┡━━━━━━━━━━━━━━━━━━━━━━━━━━━━━━━━━╇━━━━━━━━━━━━━━━━━━━━━━━━╇━━━━━━━━━━━━━━━┩\n",
       "│ embedding (<span style=\"color: #0087ff; text-decoration-color: #0087ff\">Embedding</span>)           │ ?                      │   <span style=\"color: #00af00; text-decoration-color: #00af00\">0</span> (unbuilt) │\n",
       "├─────────────────────────────────┼────────────────────────┼───────────────┤\n",
       "│ bilstm_0_bidir (<span style=\"color: #0087ff; text-decoration-color: #0087ff\">Bidirectional</span>)  │ ?                      │   <span style=\"color: #00af00; text-decoration-color: #00af00\">0</span> (unbuilt) │\n",
       "├─────────────────────────────────┼────────────────────────┼───────────────┤\n",
       "│ bilstm_1_bidir (<span style=\"color: #0087ff; text-decoration-color: #0087ff\">Bidirectional</span>)  │ ?                      │   <span style=\"color: #00af00; text-decoration-color: #00af00\">0</span> (unbuilt) │\n",
       "├─────────────────────────────────┼────────────────────────┼───────────────┤\n",
       "│ dropout (<span style=\"color: #0087ff; text-decoration-color: #0087ff\">Dropout</span>)               │ ?                      │             <span style=\"color: #00af00; text-decoration-color: #00af00\">0</span> │\n",
       "├─────────────────────────────────┼────────────────────────┼───────────────┤\n",
       "│ output (<span style=\"color: #0087ff; text-decoration-color: #0087ff\">Dense</span>)                  │ ?                      │   <span style=\"color: #00af00; text-decoration-color: #00af00\">0</span> (unbuilt) │\n",
       "└─────────────────────────────────┴────────────────────────┴───────────────┘\n",
       "</pre>\n"
      ],
      "text/plain": [
       "┏━━━━━━━━━━━━━━━━━━━━━━━━━━━━━━━━━┳━━━━━━━━━━━━━━━━━━━━━━━━┳━━━━━━━━━━━━━━━┓\n",
       "┃\u001b[1m \u001b[0m\u001b[1mLayer (type)                   \u001b[0m\u001b[1m \u001b[0m┃\u001b[1m \u001b[0m\u001b[1mOutput Shape          \u001b[0m\u001b[1m \u001b[0m┃\u001b[1m \u001b[0m\u001b[1m      Param #\u001b[0m\u001b[1m \u001b[0m┃\n",
       "┡━━━━━━━━━━━━━━━━━━━━━━━━━━━━━━━━━╇━━━━━━━━━━━━━━━━━━━━━━━━╇━━━━━━━━━━━━━━━┩\n",
       "│ embedding (\u001b[38;5;33mEmbedding\u001b[0m)           │ ?                      │   \u001b[38;5;34m0\u001b[0m (unbuilt) │\n",
       "├─────────────────────────────────┼────────────────────────┼───────────────┤\n",
       "│ bilstm_0_bidir (\u001b[38;5;33mBidirectional\u001b[0m)  │ ?                      │   \u001b[38;5;34m0\u001b[0m (unbuilt) │\n",
       "├─────────────────────────────────┼────────────────────────┼───────────────┤\n",
       "│ bilstm_1_bidir (\u001b[38;5;33mBidirectional\u001b[0m)  │ ?                      │   \u001b[38;5;34m0\u001b[0m (unbuilt) │\n",
       "├─────────────────────────────────┼────────────────────────┼───────────────┤\n",
       "│ dropout (\u001b[38;5;33mDropout\u001b[0m)               │ ?                      │             \u001b[38;5;34m0\u001b[0m │\n",
       "├─────────────────────────────────┼────────────────────────┼───────────────┤\n",
       "│ output (\u001b[38;5;33mDense\u001b[0m)                  │ ?                      │   \u001b[38;5;34m0\u001b[0m (unbuilt) │\n",
       "└─────────────────────────────────┴────────────────────────┴───────────────┘\n"
      ]
     },
     "metadata": {},
     "output_type": "display_data"
    },
    {
     "data": {
      "text/html": [
       "<pre style=\"white-space:pre;overflow-x:auto;line-height:normal;font-family:Menlo,'DejaVu Sans Mono',consolas,'Courier New',monospace\"><span style=\"font-weight: bold\"> Total params: </span><span style=\"color: #00af00; text-decoration-color: #00af00\">0</span> (0.00 B)\n",
       "</pre>\n"
      ],
      "text/plain": [
       "\u001b[1m Total params: \u001b[0m\u001b[38;5;34m0\u001b[0m (0.00 B)\n"
      ]
     },
     "metadata": {},
     "output_type": "display_data"
    },
    {
     "data": {
      "text/html": [
       "<pre style=\"white-space:pre;overflow-x:auto;line-height:normal;font-family:Menlo,'DejaVu Sans Mono',consolas,'Courier New',monospace\"><span style=\"font-weight: bold\"> Trainable params: </span><span style=\"color: #00af00; text-decoration-color: #00af00\">0</span> (0.00 B)\n",
       "</pre>\n"
      ],
      "text/plain": [
       "\u001b[1m Trainable params: \u001b[0m\u001b[38;5;34m0\u001b[0m (0.00 B)\n"
      ]
     },
     "metadata": {},
     "output_type": "display_data"
    },
    {
     "data": {
      "text/html": [
       "<pre style=\"white-space:pre;overflow-x:auto;line-height:normal;font-family:Menlo,'DejaVu Sans Mono',consolas,'Courier New',monospace\"><span style=\"font-weight: bold\"> Non-trainable params: </span><span style=\"color: #00af00; text-decoration-color: #00af00\">0</span> (0.00 B)\n",
       "</pre>\n"
      ],
      "text/plain": [
       "\u001b[1m Non-trainable params: \u001b[0m\u001b[38;5;34m0\u001b[0m (0.00 B)\n"
      ]
     },
     "metadata": {},
     "output_type": "display_data"
    },
    {
     "name": "stdout",
     "output_type": "stream",
     "text": [
      "Training Keras LSTM model: LSTM_NumLayers_2_Units_64_Dir_Bi\n",
      "Epoch 1/15\n",
      "10/10 - 6s - 613ms/step - accuracy: 0.3760 - loss: 1.0814 - val_accuracy: 0.4000 - val_loss: 1.0468\n",
      "Epoch 2/15\n",
      "10/10 - 1s - 125ms/step - accuracy: 0.5340 - loss: 0.9664 - val_accuracy: 0.5100 - val_loss: 0.9312\n",
      "Epoch 3/15\n",
      "10/10 - 1s - 140ms/step - accuracy: 0.5940 - loss: 0.8286 - val_accuracy: 0.6000 - val_loss: 0.8661\n",
      "Epoch 4/15\n",
      "10/10 - 2s - 153ms/step - accuracy: 0.7140 - loss: 0.6585 - val_accuracy: 0.6600 - val_loss: 0.7547\n",
      "Epoch 5/15\n",
      "10/10 - 1s - 132ms/step - accuracy: 0.7540 - loss: 0.5175 - val_accuracy: 0.6600 - val_loss: 0.7772\n",
      "Epoch 6/15\n",
      "10/10 - 1s - 137ms/step - accuracy: 0.9020 - loss: 0.3180 - val_accuracy: 0.7300 - val_loss: 0.7444\n",
      "Epoch 7/15\n",
      "10/10 - 2s - 150ms/step - accuracy: 0.9460 - loss: 0.1801 - val_accuracy: 0.7300 - val_loss: 0.8600\n",
      "Epoch 8/15\n",
      "10/10 - 1s - 134ms/step - accuracy: 0.9680 - loss: 0.1209 - val_accuracy: 0.7100 - val_loss: 0.8251\n",
      "Epoch 9/15\n",
      "10/10 - 1s - 120ms/step - accuracy: 0.9840 - loss: 0.0572 - val_accuracy: 0.7400 - val_loss: 0.9111\n",
      "Epoch 10/15\n",
      "10/10 - 1s - 130ms/step - accuracy: 0.9980 - loss: 0.0248 - val_accuracy: 0.7600 - val_loss: 1.0664\n",
      "Epoch 11/15\n",
      "10/10 - 1s - 117ms/step - accuracy: 1.0000 - loss: 0.0083 - val_accuracy: 0.7600 - val_loss: 1.0677\n",
      "Epoch 12/15\n",
      "10/10 - 1s - 116ms/step - accuracy: 0.9980 - loss: 0.0102 - val_accuracy: 0.7300 - val_loss: 1.1824\n",
      "Epoch 13/15\n",
      "10/10 - 1s - 108ms/step - accuracy: 0.9980 - loss: 0.0110 - val_accuracy: 0.7300 - val_loss: 1.1370\n",
      "Epoch 14/15\n",
      "10/10 - 1s - 129ms/step - accuracy: 1.0000 - loss: 0.0081 - val_accuracy: 0.7300 - val_loss: 1.1786\n",
      "Epoch 15/15\n",
      "10/10 - 1s - 126ms/step - accuracy: 1.0000 - loss: 0.0038 - val_accuracy: 0.7500 - val_loss: 1.2478\n",
      "Saved Keras LSTM weights to results/lstm_weights/keras_lstm_LSTM_NumLayers_2_Units_64_Dir_Bi.weights.h5\n",
      "Saved plot to results/lstm_plots/lstm_experiment_LSTM_NumLayers_2_Units_64_Dir_Bi_history.png\n",
      "\u001b[1m8/8\u001b[0m \u001b[32m━━━━━━━━━━━━━━━━━━━━\u001b[0m\u001b[37m\u001b[0m \u001b[1m1s\u001b[0m 31ms/step\n",
      "[Keras LSTM - LSTM_NumLayers_2_Units_64_Dir_Bi] Test Macro F1-score: 0.7151\n",
      "\n",
      "--- Running LSTM Experiment 3/8: LSTM_NumLayers_3_Units_64_Dir_Bi ---\n"
     ]
    },
    {
     "name": "stderr",
     "output_type": "stream",
     "text": [
      "c:\\Python312\\Lib\\site-packages\\keras\\src\\layers\\core\\embedding.py:90: UserWarning: Argument `input_length` is deprecated. Just remove it.\n",
      "  warnings.warn(\n"
     ]
    },
    {
     "data": {
      "text/html": [
       "<pre style=\"white-space:pre;overflow-x:auto;line-height:normal;font-family:Menlo,'DejaVu Sans Mono',consolas,'Courier New',monospace\"><span style=\"font-weight: bold\">Model: \"keras_lstm_3L_64U_Bi\"</span>\n",
       "</pre>\n"
      ],
      "text/plain": [
       "\u001b[1mModel: \"keras_lstm_3L_64U_Bi\"\u001b[0m\n"
      ]
     },
     "metadata": {},
     "output_type": "display_data"
    },
    {
     "data": {
      "text/html": [
       "<pre style=\"white-space:pre;overflow-x:auto;line-height:normal;font-family:Menlo,'DejaVu Sans Mono',consolas,'Courier New',monospace\">┏━━━━━━━━━━━━━━━━━━━━━━━━━━━━━━━━━┳━━━━━━━━━━━━━━━━━━━━━━━━┳━━━━━━━━━━━━━━━┓\n",
       "┃<span style=\"font-weight: bold\"> Layer (type)                    </span>┃<span style=\"font-weight: bold\"> Output Shape           </span>┃<span style=\"font-weight: bold\">       Param # </span>┃\n",
       "┡━━━━━━━━━━━━━━━━━━━━━━━━━━━━━━━━━╇━━━━━━━━━━━━━━━━━━━━━━━━╇━━━━━━━━━━━━━━━┩\n",
       "│ embedding (<span style=\"color: #0087ff; text-decoration-color: #0087ff\">Embedding</span>)           │ ?                      │   <span style=\"color: #00af00; text-decoration-color: #00af00\">0</span> (unbuilt) │\n",
       "├─────────────────────────────────┼────────────────────────┼───────────────┤\n",
       "│ bilstm_0_bidir (<span style=\"color: #0087ff; text-decoration-color: #0087ff\">Bidirectional</span>)  │ ?                      │   <span style=\"color: #00af00; text-decoration-color: #00af00\">0</span> (unbuilt) │\n",
       "├─────────────────────────────────┼────────────────────────┼───────────────┤\n",
       "│ bilstm_1_bidir (<span style=\"color: #0087ff; text-decoration-color: #0087ff\">Bidirectional</span>)  │ ?                      │   <span style=\"color: #00af00; text-decoration-color: #00af00\">0</span> (unbuilt) │\n",
       "├─────────────────────────────────┼────────────────────────┼───────────────┤\n",
       "│ bilstm_2_bidir (<span style=\"color: #0087ff; text-decoration-color: #0087ff\">Bidirectional</span>)  │ ?                      │   <span style=\"color: #00af00; text-decoration-color: #00af00\">0</span> (unbuilt) │\n",
       "├─────────────────────────────────┼────────────────────────┼───────────────┤\n",
       "│ dropout (<span style=\"color: #0087ff; text-decoration-color: #0087ff\">Dropout</span>)               │ ?                      │             <span style=\"color: #00af00; text-decoration-color: #00af00\">0</span> │\n",
       "├─────────────────────────────────┼────────────────────────┼───────────────┤\n",
       "│ output (<span style=\"color: #0087ff; text-decoration-color: #0087ff\">Dense</span>)                  │ ?                      │   <span style=\"color: #00af00; text-decoration-color: #00af00\">0</span> (unbuilt) │\n",
       "└─────────────────────────────────┴────────────────────────┴───────────────┘\n",
       "</pre>\n"
      ],
      "text/plain": [
       "┏━━━━━━━━━━━━━━━━━━━━━━━━━━━━━━━━━┳━━━━━━━━━━━━━━━━━━━━━━━━┳━━━━━━━━━━━━━━━┓\n",
       "┃\u001b[1m \u001b[0m\u001b[1mLayer (type)                   \u001b[0m\u001b[1m \u001b[0m┃\u001b[1m \u001b[0m\u001b[1mOutput Shape          \u001b[0m\u001b[1m \u001b[0m┃\u001b[1m \u001b[0m\u001b[1m      Param #\u001b[0m\u001b[1m \u001b[0m┃\n",
       "┡━━━━━━━━━━━━━━━━━━━━━━━━━━━━━━━━━╇━━━━━━━━━━━━━━━━━━━━━━━━╇━━━━━━━━━━━━━━━┩\n",
       "│ embedding (\u001b[38;5;33mEmbedding\u001b[0m)           │ ?                      │   \u001b[38;5;34m0\u001b[0m (unbuilt) │\n",
       "├─────────────────────────────────┼────────────────────────┼───────────────┤\n",
       "│ bilstm_0_bidir (\u001b[38;5;33mBidirectional\u001b[0m)  │ ?                      │   \u001b[38;5;34m0\u001b[0m (unbuilt) │\n",
       "├─────────────────────────────────┼────────────────────────┼───────────────┤\n",
       "│ bilstm_1_bidir (\u001b[38;5;33mBidirectional\u001b[0m)  │ ?                      │   \u001b[38;5;34m0\u001b[0m (unbuilt) │\n",
       "├─────────────────────────────────┼────────────────────────┼───────────────┤\n",
       "│ bilstm_2_bidir (\u001b[38;5;33mBidirectional\u001b[0m)  │ ?                      │   \u001b[38;5;34m0\u001b[0m (unbuilt) │\n",
       "├─────────────────────────────────┼────────────────────────┼───────────────┤\n",
       "│ dropout (\u001b[38;5;33mDropout\u001b[0m)               │ ?                      │             \u001b[38;5;34m0\u001b[0m │\n",
       "├─────────────────────────────────┼────────────────────────┼───────────────┤\n",
       "│ output (\u001b[38;5;33mDense\u001b[0m)                  │ ?                      │   \u001b[38;5;34m0\u001b[0m (unbuilt) │\n",
       "└─────────────────────────────────┴────────────────────────┴───────────────┘\n"
      ]
     },
     "metadata": {},
     "output_type": "display_data"
    },
    {
     "data": {
      "text/html": [
       "<pre style=\"white-space:pre;overflow-x:auto;line-height:normal;font-family:Menlo,'DejaVu Sans Mono',consolas,'Courier New',monospace\"><span style=\"font-weight: bold\"> Total params: </span><span style=\"color: #00af00; text-decoration-color: #00af00\">0</span> (0.00 B)\n",
       "</pre>\n"
      ],
      "text/plain": [
       "\u001b[1m Total params: \u001b[0m\u001b[38;5;34m0\u001b[0m (0.00 B)\n"
      ]
     },
     "metadata": {},
     "output_type": "display_data"
    },
    {
     "data": {
      "text/html": [
       "<pre style=\"white-space:pre;overflow-x:auto;line-height:normal;font-family:Menlo,'DejaVu Sans Mono',consolas,'Courier New',monospace\"><span style=\"font-weight: bold\"> Trainable params: </span><span style=\"color: #00af00; text-decoration-color: #00af00\">0</span> (0.00 B)\n",
       "</pre>\n"
      ],
      "text/plain": [
       "\u001b[1m Trainable params: \u001b[0m\u001b[38;5;34m0\u001b[0m (0.00 B)\n"
      ]
     },
     "metadata": {},
     "output_type": "display_data"
    },
    {
     "data": {
      "text/html": [
       "<pre style=\"white-space:pre;overflow-x:auto;line-height:normal;font-family:Menlo,'DejaVu Sans Mono',consolas,'Courier New',monospace\"><span style=\"font-weight: bold\"> Non-trainable params: </span><span style=\"color: #00af00; text-decoration-color: #00af00\">0</span> (0.00 B)\n",
       "</pre>\n"
      ],
      "text/plain": [
       "\u001b[1m Non-trainable params: \u001b[0m\u001b[38;5;34m0\u001b[0m (0.00 B)\n"
      ]
     },
     "metadata": {},
     "output_type": "display_data"
    },
    {
     "name": "stdout",
     "output_type": "stream",
     "text": [
      "Training Keras LSTM model: LSTM_NumLayers_3_Units_64_Dir_Bi\n",
      "Epoch 1/15\n",
      "10/10 - 9s - 899ms/step - accuracy: 0.4040 - loss: 1.0467 - val_accuracy: 0.5000 - val_loss: 0.9932\n",
      "Epoch 2/15\n",
      "10/10 - 2s - 159ms/step - accuracy: 0.5480 - loss: 0.8876 - val_accuracy: 0.4800 - val_loss: 0.9743\n",
      "Epoch 3/15\n",
      "10/10 - 2s - 167ms/step - accuracy: 0.6600 - loss: 0.7655 - val_accuracy: 0.5800 - val_loss: 0.8291\n",
      "Epoch 4/15\n",
      "10/10 - 2s - 165ms/step - accuracy: 0.7820 - loss: 0.5509 - val_accuracy: 0.6400 - val_loss: 0.8676\n",
      "Epoch 5/15\n",
      "10/10 - 2s - 175ms/step - accuracy: 0.8620 - loss: 0.3812 - val_accuracy: 0.6600 - val_loss: 1.0235\n",
      "Epoch 6/15\n",
      "10/10 - 2s - 183ms/step - accuracy: 0.9440 - loss: 0.2123 - val_accuracy: 0.6500 - val_loss: 1.0758\n",
      "Epoch 7/15\n",
      "10/10 - 2s - 176ms/step - accuracy: 0.9680 - loss: 0.1197 - val_accuracy: 0.6500 - val_loss: 1.1937\n",
      "Epoch 8/15\n",
      "10/10 - 2s - 185ms/step - accuracy: 0.9880 - loss: 0.0593 - val_accuracy: 0.6700 - val_loss: 1.2661\n",
      "Epoch 9/15\n",
      "10/10 - 2s - 189ms/step - accuracy: 0.9980 - loss: 0.0265 - val_accuracy: 0.6700 - val_loss: 1.6079\n",
      "Epoch 10/15\n",
      "10/10 - 2s - 173ms/step - accuracy: 0.9960 - loss: 0.0267 - val_accuracy: 0.6800 - val_loss: 1.7770\n",
      "Epoch 11/15\n",
      "10/10 - 1s - 150ms/step - accuracy: 0.9920 - loss: 0.0367 - val_accuracy: 0.6700 - val_loss: 1.4624\n",
      "Epoch 12/15\n",
      "10/10 - 1s - 149ms/step - accuracy: 0.9900 - loss: 0.0419 - val_accuracy: 0.6500 - val_loss: 1.4930\n",
      "Epoch 13/15\n",
      "10/10 - 2s - 192ms/step - accuracy: 0.9960 - loss: 0.0227 - val_accuracy: 0.6700 - val_loss: 1.4436\n",
      "Epoch 14/15\n",
      "10/10 - 2s - 178ms/step - accuracy: 0.9960 - loss: 0.0148 - val_accuracy: 0.7000 - val_loss: 1.3520\n",
      "Epoch 15/15\n",
      "10/10 - 2s - 202ms/step - accuracy: 0.9980 - loss: 0.0088 - val_accuracy: 0.7100 - val_loss: 1.4218\n",
      "Saved Keras LSTM weights to results/lstm_weights/keras_lstm_LSTM_NumLayers_3_Units_64_Dir_Bi.weights.h5\n",
      "Saved plot to results/lstm_plots/lstm_experiment_LSTM_NumLayers_3_Units_64_Dir_Bi_history.png\n",
      "\u001b[1m8/8\u001b[0m \u001b[32m━━━━━━━━━━━━━━━━━━━━\u001b[0m\u001b[37m\u001b[0m \u001b[1m1s\u001b[0m 38ms/step\n",
      "[Keras LSTM - LSTM_NumLayers_3_Units_64_Dir_Bi] Test Macro F1-score: 0.6753\n",
      "\n",
      "--- Running LSTM Experiment 4/8: LSTM_NumLayers_1_Units_32_Dir_Bi ---\n"
     ]
    },
    {
     "name": "stderr",
     "output_type": "stream",
     "text": [
      "c:\\Python312\\Lib\\site-packages\\keras\\src\\layers\\core\\embedding.py:90: UserWarning: Argument `input_length` is deprecated. Just remove it.\n",
      "  warnings.warn(\n"
     ]
    },
    {
     "data": {
      "text/html": [
       "<pre style=\"white-space:pre;overflow-x:auto;line-height:normal;font-family:Menlo,'DejaVu Sans Mono',consolas,'Courier New',monospace\"><span style=\"font-weight: bold\">Model: \"keras_lstm_1L_32U_Bi\"</span>\n",
       "</pre>\n"
      ],
      "text/plain": [
       "\u001b[1mModel: \"keras_lstm_1L_32U_Bi\"\u001b[0m\n"
      ]
     },
     "metadata": {},
     "output_type": "display_data"
    },
    {
     "data": {
      "text/html": [
       "<pre style=\"white-space:pre;overflow-x:auto;line-height:normal;font-family:Menlo,'DejaVu Sans Mono',consolas,'Courier New',monospace\">┏━━━━━━━━━━━━━━━━━━━━━━━━━━━━━━━━━┳━━━━━━━━━━━━━━━━━━━━━━━━┳━━━━━━━━━━━━━━━┓\n",
       "┃<span style=\"font-weight: bold\"> Layer (type)                    </span>┃<span style=\"font-weight: bold\"> Output Shape           </span>┃<span style=\"font-weight: bold\">       Param # </span>┃\n",
       "┡━━━━━━━━━━━━━━━━━━━━━━━━━━━━━━━━━╇━━━━━━━━━━━━━━━━━━━━━━━━╇━━━━━━━━━━━━━━━┩\n",
       "│ embedding (<span style=\"color: #0087ff; text-decoration-color: #0087ff\">Embedding</span>)           │ ?                      │   <span style=\"color: #00af00; text-decoration-color: #00af00\">0</span> (unbuilt) │\n",
       "├─────────────────────────────────┼────────────────────────┼───────────────┤\n",
       "│ bilstm_0_bidir (<span style=\"color: #0087ff; text-decoration-color: #0087ff\">Bidirectional</span>)  │ ?                      │   <span style=\"color: #00af00; text-decoration-color: #00af00\">0</span> (unbuilt) │\n",
       "├─────────────────────────────────┼────────────────────────┼───────────────┤\n",
       "│ dropout (<span style=\"color: #0087ff; text-decoration-color: #0087ff\">Dropout</span>)               │ ?                      │             <span style=\"color: #00af00; text-decoration-color: #00af00\">0</span> │\n",
       "├─────────────────────────────────┼────────────────────────┼───────────────┤\n",
       "│ output (<span style=\"color: #0087ff; text-decoration-color: #0087ff\">Dense</span>)                  │ ?                      │   <span style=\"color: #00af00; text-decoration-color: #00af00\">0</span> (unbuilt) │\n",
       "└─────────────────────────────────┴────────────────────────┴───────────────┘\n",
       "</pre>\n"
      ],
      "text/plain": [
       "┏━━━━━━━━━━━━━━━━━━━━━━━━━━━━━━━━━┳━━━━━━━━━━━━━━━━━━━━━━━━┳━━━━━━━━━━━━━━━┓\n",
       "┃\u001b[1m \u001b[0m\u001b[1mLayer (type)                   \u001b[0m\u001b[1m \u001b[0m┃\u001b[1m \u001b[0m\u001b[1mOutput Shape          \u001b[0m\u001b[1m \u001b[0m┃\u001b[1m \u001b[0m\u001b[1m      Param #\u001b[0m\u001b[1m \u001b[0m┃\n",
       "┡━━━━━━━━━━━━━━━━━━━━━━━━━━━━━━━━━╇━━━━━━━━━━━━━━━━━━━━━━━━╇━━━━━━━━━━━━━━━┩\n",
       "│ embedding (\u001b[38;5;33mEmbedding\u001b[0m)           │ ?                      │   \u001b[38;5;34m0\u001b[0m (unbuilt) │\n",
       "├─────────────────────────────────┼────────────────────────┼───────────────┤\n",
       "│ bilstm_0_bidir (\u001b[38;5;33mBidirectional\u001b[0m)  │ ?                      │   \u001b[38;5;34m0\u001b[0m (unbuilt) │\n",
       "├─────────────────────────────────┼────────────────────────┼───────────────┤\n",
       "│ dropout (\u001b[38;5;33mDropout\u001b[0m)               │ ?                      │             \u001b[38;5;34m0\u001b[0m │\n",
       "├─────────────────────────────────┼────────────────────────┼───────────────┤\n",
       "│ output (\u001b[38;5;33mDense\u001b[0m)                  │ ?                      │   \u001b[38;5;34m0\u001b[0m (unbuilt) │\n",
       "└─────────────────────────────────┴────────────────────────┴───────────────┘\n"
      ]
     },
     "metadata": {},
     "output_type": "display_data"
    },
    {
     "data": {
      "text/html": [
       "<pre style=\"white-space:pre;overflow-x:auto;line-height:normal;font-family:Menlo,'DejaVu Sans Mono',consolas,'Courier New',monospace\"><span style=\"font-weight: bold\"> Total params: </span><span style=\"color: #00af00; text-decoration-color: #00af00\">0</span> (0.00 B)\n",
       "</pre>\n"
      ],
      "text/plain": [
       "\u001b[1m Total params: \u001b[0m\u001b[38;5;34m0\u001b[0m (0.00 B)\n"
      ]
     },
     "metadata": {},
     "output_type": "display_data"
    },
    {
     "data": {
      "text/html": [
       "<pre style=\"white-space:pre;overflow-x:auto;line-height:normal;font-family:Menlo,'DejaVu Sans Mono',consolas,'Courier New',monospace\"><span style=\"font-weight: bold\"> Trainable params: </span><span style=\"color: #00af00; text-decoration-color: #00af00\">0</span> (0.00 B)\n",
       "</pre>\n"
      ],
      "text/plain": [
       "\u001b[1m Trainable params: \u001b[0m\u001b[38;5;34m0\u001b[0m (0.00 B)\n"
      ]
     },
     "metadata": {},
     "output_type": "display_data"
    },
    {
     "data": {
      "text/html": [
       "<pre style=\"white-space:pre;overflow-x:auto;line-height:normal;font-family:Menlo,'DejaVu Sans Mono',consolas,'Courier New',monospace\"><span style=\"font-weight: bold\"> Non-trainable params: </span><span style=\"color: #00af00; text-decoration-color: #00af00\">0</span> (0.00 B)\n",
       "</pre>\n"
      ],
      "text/plain": [
       "\u001b[1m Non-trainable params: \u001b[0m\u001b[38;5;34m0\u001b[0m (0.00 B)\n"
      ]
     },
     "metadata": {},
     "output_type": "display_data"
    },
    {
     "name": "stdout",
     "output_type": "stream",
     "text": [
      "Training Keras LSTM model: LSTM_NumLayers_1_Units_32_Dir_Bi\n",
      "Epoch 1/15\n",
      "10/10 - 3s - 341ms/step - accuracy: 0.3780 - loss: 1.0832 - val_accuracy: 0.3800 - val_loss: 1.0689\n",
      "Epoch 2/15\n",
      "10/10 - 1s - 63ms/step - accuracy: 0.4800 - loss: 1.0498 - val_accuracy: 0.5800 - val_loss: 1.0361\n",
      "Epoch 3/15\n",
      "10/10 - 1s - 57ms/step - accuracy: 0.6320 - loss: 0.9655 - val_accuracy: 0.5800 - val_loss: 0.9597\n",
      "Epoch 4/15\n",
      "10/10 - 1s - 54ms/step - accuracy: 0.6600 - loss: 0.8462 - val_accuracy: 0.6300 - val_loss: 0.8706\n",
      "Epoch 5/15\n",
      "10/10 - 1s - 57ms/step - accuracy: 0.7340 - loss: 0.6952 - val_accuracy: 0.6400 - val_loss: 0.7913\n",
      "Epoch 6/15\n",
      "10/10 - 1s - 54ms/step - accuracy: 0.8280 - loss: 0.5419 - val_accuracy: 0.6800 - val_loss: 0.7286\n",
      "Epoch 7/15\n",
      "10/10 - 1s - 54ms/step - accuracy: 0.8840 - loss: 0.4412 - val_accuracy: 0.6600 - val_loss: 0.7478\n",
      "Epoch 8/15\n",
      "10/10 - 1s - 57ms/step - accuracy: 0.9180 - loss: 0.3277 - val_accuracy: 0.6700 - val_loss: 0.7003\n",
      "Epoch 9/15\n",
      "10/10 - 1s - 60ms/step - accuracy: 0.9480 - loss: 0.2543 - val_accuracy: 0.7400 - val_loss: 0.6736\n",
      "Epoch 10/15\n",
      "10/10 - 1s - 60ms/step - accuracy: 0.9740 - loss: 0.1802 - val_accuracy: 0.7700 - val_loss: 0.6459\n",
      "Epoch 11/15\n",
      "10/10 - 1s - 57ms/step - accuracy: 0.9840 - loss: 0.1438 - val_accuracy: 0.7300 - val_loss: 0.6682\n",
      "Epoch 12/15\n",
      "10/10 - 1s - 52ms/step - accuracy: 0.9880 - loss: 0.0997 - val_accuracy: 0.7400 - val_loss: 0.7016\n",
      "Epoch 13/15\n",
      "10/10 - 1s - 54ms/step - accuracy: 0.9960 - loss: 0.0782 - val_accuracy: 0.8000 - val_loss: 0.6336\n",
      "Epoch 14/15\n",
      "10/10 - 1s - 59ms/step - accuracy: 0.9980 - loss: 0.0585 - val_accuracy: 0.7700 - val_loss: 0.6974\n",
      "Epoch 15/15\n",
      "10/10 - 1s - 52ms/step - accuracy: 0.9960 - loss: 0.0463 - val_accuracy: 0.7900 - val_loss: 0.6815\n",
      "Saved Keras LSTM weights to results/lstm_weights/keras_lstm_LSTM_NumLayers_1_Units_32_Dir_Bi.weights.h5\n",
      "Saved plot to results/lstm_plots/lstm_experiment_LSTM_NumLayers_1_Units_32_Dir_Bi_history.png\n",
      "\u001b[1m8/8\u001b[0m \u001b[32m━━━━━━━━━━━━━━━━━━━━\u001b[0m\u001b[37m\u001b[0m \u001b[1m0s\u001b[0m 12ms/step\n",
      "[Keras LSTM - LSTM_NumLayers_1_Units_32_Dir_Bi] Test Macro F1-score: 0.7604\n",
      "\n",
      "--- Running LSTM Experiment 5/8: LSTM_NumLayers_1_Units_64_Dir_Bi ---\n"
     ]
    },
    {
     "name": "stderr",
     "output_type": "stream",
     "text": [
      "c:\\Python312\\Lib\\site-packages\\keras\\src\\layers\\core\\embedding.py:90: UserWarning: Argument `input_length` is deprecated. Just remove it.\n",
      "  warnings.warn(\n"
     ]
    },
    {
     "data": {
      "text/html": [
       "<pre style=\"white-space:pre;overflow-x:auto;line-height:normal;font-family:Menlo,'DejaVu Sans Mono',consolas,'Courier New',monospace\"><span style=\"font-weight: bold\">Model: \"keras_lstm_1L_64U_Bi\"</span>\n",
       "</pre>\n"
      ],
      "text/plain": [
       "\u001b[1mModel: \"keras_lstm_1L_64U_Bi\"\u001b[0m\n"
      ]
     },
     "metadata": {},
     "output_type": "display_data"
    },
    {
     "data": {
      "text/html": [
       "<pre style=\"white-space:pre;overflow-x:auto;line-height:normal;font-family:Menlo,'DejaVu Sans Mono',consolas,'Courier New',monospace\">┏━━━━━━━━━━━━━━━━━━━━━━━━━━━━━━━━━┳━━━━━━━━━━━━━━━━━━━━━━━━┳━━━━━━━━━━━━━━━┓\n",
       "┃<span style=\"font-weight: bold\"> Layer (type)                    </span>┃<span style=\"font-weight: bold\"> Output Shape           </span>┃<span style=\"font-weight: bold\">       Param # </span>┃\n",
       "┡━━━━━━━━━━━━━━━━━━━━━━━━━━━━━━━━━╇━━━━━━━━━━━━━━━━━━━━━━━━╇━━━━━━━━━━━━━━━┩\n",
       "│ embedding (<span style=\"color: #0087ff; text-decoration-color: #0087ff\">Embedding</span>)           │ ?                      │   <span style=\"color: #00af00; text-decoration-color: #00af00\">0</span> (unbuilt) │\n",
       "├─────────────────────────────────┼────────────────────────┼───────────────┤\n",
       "│ bilstm_0_bidir (<span style=\"color: #0087ff; text-decoration-color: #0087ff\">Bidirectional</span>)  │ ?                      │   <span style=\"color: #00af00; text-decoration-color: #00af00\">0</span> (unbuilt) │\n",
       "├─────────────────────────────────┼────────────────────────┼───────────────┤\n",
       "│ dropout (<span style=\"color: #0087ff; text-decoration-color: #0087ff\">Dropout</span>)               │ ?                      │             <span style=\"color: #00af00; text-decoration-color: #00af00\">0</span> │\n",
       "├─────────────────────────────────┼────────────────────────┼───────────────┤\n",
       "│ output (<span style=\"color: #0087ff; text-decoration-color: #0087ff\">Dense</span>)                  │ ?                      │   <span style=\"color: #00af00; text-decoration-color: #00af00\">0</span> (unbuilt) │\n",
       "└─────────────────────────────────┴────────────────────────┴───────────────┘\n",
       "</pre>\n"
      ],
      "text/plain": [
       "┏━━━━━━━━━━━━━━━━━━━━━━━━━━━━━━━━━┳━━━━━━━━━━━━━━━━━━━━━━━━┳━━━━━━━━━━━━━━━┓\n",
       "┃\u001b[1m \u001b[0m\u001b[1mLayer (type)                   \u001b[0m\u001b[1m \u001b[0m┃\u001b[1m \u001b[0m\u001b[1mOutput Shape          \u001b[0m\u001b[1m \u001b[0m┃\u001b[1m \u001b[0m\u001b[1m      Param #\u001b[0m\u001b[1m \u001b[0m┃\n",
       "┡━━━━━━━━━━━━━━━━━━━━━━━━━━━━━━━━━╇━━━━━━━━━━━━━━━━━━━━━━━━╇━━━━━━━━━━━━━━━┩\n",
       "│ embedding (\u001b[38;5;33mEmbedding\u001b[0m)           │ ?                      │   \u001b[38;5;34m0\u001b[0m (unbuilt) │\n",
       "├─────────────────────────────────┼────────────────────────┼───────────────┤\n",
       "│ bilstm_0_bidir (\u001b[38;5;33mBidirectional\u001b[0m)  │ ?                      │   \u001b[38;5;34m0\u001b[0m (unbuilt) │\n",
       "├─────────────────────────────────┼────────────────────────┼───────────────┤\n",
       "│ dropout (\u001b[38;5;33mDropout\u001b[0m)               │ ?                      │             \u001b[38;5;34m0\u001b[0m │\n",
       "├─────────────────────────────────┼────────────────────────┼───────────────┤\n",
       "│ output (\u001b[38;5;33mDense\u001b[0m)                  │ ?                      │   \u001b[38;5;34m0\u001b[0m (unbuilt) │\n",
       "└─────────────────────────────────┴────────────────────────┴───────────────┘\n"
      ]
     },
     "metadata": {},
     "output_type": "display_data"
    },
    {
     "data": {
      "text/html": [
       "<pre style=\"white-space:pre;overflow-x:auto;line-height:normal;font-family:Menlo,'DejaVu Sans Mono',consolas,'Courier New',monospace\"><span style=\"font-weight: bold\"> Total params: </span><span style=\"color: #00af00; text-decoration-color: #00af00\">0</span> (0.00 B)\n",
       "</pre>\n"
      ],
      "text/plain": [
       "\u001b[1m Total params: \u001b[0m\u001b[38;5;34m0\u001b[0m (0.00 B)\n"
      ]
     },
     "metadata": {},
     "output_type": "display_data"
    },
    {
     "data": {
      "text/html": [
       "<pre style=\"white-space:pre;overflow-x:auto;line-height:normal;font-family:Menlo,'DejaVu Sans Mono',consolas,'Courier New',monospace\"><span style=\"font-weight: bold\"> Trainable params: </span><span style=\"color: #00af00; text-decoration-color: #00af00\">0</span> (0.00 B)\n",
       "</pre>\n"
      ],
      "text/plain": [
       "\u001b[1m Trainable params: \u001b[0m\u001b[38;5;34m0\u001b[0m (0.00 B)\n"
      ]
     },
     "metadata": {},
     "output_type": "display_data"
    },
    {
     "data": {
      "text/html": [
       "<pre style=\"white-space:pre;overflow-x:auto;line-height:normal;font-family:Menlo,'DejaVu Sans Mono',consolas,'Courier New',monospace\"><span style=\"font-weight: bold\"> Non-trainable params: </span><span style=\"color: #00af00; text-decoration-color: #00af00\">0</span> (0.00 B)\n",
       "</pre>\n"
      ],
      "text/plain": [
       "\u001b[1m Non-trainable params: \u001b[0m\u001b[38;5;34m0\u001b[0m (0.00 B)\n"
      ]
     },
     "metadata": {},
     "output_type": "display_data"
    },
    {
     "name": "stdout",
     "output_type": "stream",
     "text": [
      "Training Keras LSTM model: LSTM_NumLayers_1_Units_64_Dir_Bi\n",
      "Epoch 1/15\n",
      "10/10 - 3s - 302ms/step - accuracy: 0.4260 - loss: 1.0728 - val_accuracy: 0.5500 - val_loss: 1.0491\n",
      "Epoch 2/15\n",
      "10/10 - 1s - 59ms/step - accuracy: 0.5160 - loss: 0.9762 - val_accuracy: 0.5500 - val_loss: 0.9529\n",
      "Epoch 3/15\n",
      "10/10 - 1s - 59ms/step - accuracy: 0.6120 - loss: 0.8570 - val_accuracy: 0.5700 - val_loss: 0.9077\n",
      "Epoch 4/15\n",
      "10/10 - 1s - 59ms/step - accuracy: 0.6780 - loss: 0.7425 - val_accuracy: 0.5900 - val_loss: 0.8400\n",
      "Epoch 5/15\n",
      "10/10 - 1s - 60ms/step - accuracy: 0.8120 - loss: 0.5732 - val_accuracy: 0.6700 - val_loss: 0.7494\n",
      "Epoch 6/15\n",
      "10/10 - 1s - 60ms/step - accuracy: 0.9000 - loss: 0.3850 - val_accuracy: 0.6800 - val_loss: 0.7543\n",
      "Epoch 7/15\n",
      "10/10 - 1s - 66ms/step - accuracy: 0.9120 - loss: 0.2816 - val_accuracy: 0.6700 - val_loss: 0.8418\n",
      "Epoch 8/15\n",
      "10/10 - 1s - 60ms/step - accuracy: 0.9620 - loss: 0.1732 - val_accuracy: 0.7300 - val_loss: 0.6901\n",
      "Epoch 9/15\n",
      "10/10 - 1s - 60ms/step - accuracy: 0.9880 - loss: 0.1052 - val_accuracy: 0.7400 - val_loss: 0.7337\n",
      "Epoch 10/15\n",
      "10/10 - 1s - 61ms/step - accuracy: 0.9960 - loss: 0.0523 - val_accuracy: 0.7100 - val_loss: 0.8643\n",
      "Epoch 11/15\n",
      "10/10 - 1s - 59ms/step - accuracy: 0.9900 - loss: 0.0513 - val_accuracy: 0.7200 - val_loss: 0.8495\n",
      "Epoch 12/15\n",
      "10/10 - 1s - 59ms/step - accuracy: 0.9980 - loss: 0.0319 - val_accuracy: 0.7300 - val_loss: 0.8454\n",
      "Epoch 13/15\n",
      "10/10 - 1s - 59ms/step - accuracy: 1.0000 - loss: 0.0220 - val_accuracy: 0.7400 - val_loss: 0.8767\n",
      "Epoch 14/15\n",
      "10/10 - 1s - 58ms/step - accuracy: 1.0000 - loss: 0.0168 - val_accuracy: 0.7200 - val_loss: 0.9403\n",
      "Epoch 15/15\n",
      "10/10 - 1s - 60ms/step - accuracy: 1.0000 - loss: 0.0118 - val_accuracy: 0.7400 - val_loss: 0.9442\n",
      "Saved Keras LSTM weights to results/lstm_weights/keras_lstm_LSTM_NumLayers_1_Units_64_Dir_Bi.weights.h5\n",
      "Saved plot to results/lstm_plots/lstm_experiment_LSTM_NumLayers_1_Units_64_Dir_Bi_history.png\n",
      "\u001b[1m8/8\u001b[0m \u001b[32m━━━━━━━━━━━━━━━━━━━━\u001b[0m\u001b[37m\u001b[0m \u001b[1m0s\u001b[0m 17ms/step\n",
      "[Keras LSTM - LSTM_NumLayers_1_Units_64_Dir_Bi] Test Macro F1-score: 0.7178\n",
      "\n",
      "--- Comparing with Manual LSTM Model for LSTM_NumLayers_1_Units_64_Dir_Bi ---\n",
      "Loaded Keras weights into manual LSTM model.\n",
      "[Manual LSTM - LSTM_NumLayers_1_Units_64_Dir_Bi] Test Macro F1-score: 0.7178\n",
      "\n",
      "--- Running LSTM Experiment 6/8: LSTM_NumLayers_1_Units_128_Dir_Bi ---\n"
     ]
    },
    {
     "name": "stderr",
     "output_type": "stream",
     "text": [
      "c:\\Python312\\Lib\\site-packages\\keras\\src\\layers\\core\\embedding.py:90: UserWarning: Argument `input_length` is deprecated. Just remove it.\n",
      "  warnings.warn(\n"
     ]
    },
    {
     "data": {
      "text/html": [
       "<pre style=\"white-space:pre;overflow-x:auto;line-height:normal;font-family:Menlo,'DejaVu Sans Mono',consolas,'Courier New',monospace\"><span style=\"font-weight: bold\">Model: \"keras_lstm_1L_128U_Bi\"</span>\n",
       "</pre>\n"
      ],
      "text/plain": [
       "\u001b[1mModel: \"keras_lstm_1L_128U_Bi\"\u001b[0m\n"
      ]
     },
     "metadata": {},
     "output_type": "display_data"
    },
    {
     "data": {
      "text/html": [
       "<pre style=\"white-space:pre;overflow-x:auto;line-height:normal;font-family:Menlo,'DejaVu Sans Mono',consolas,'Courier New',monospace\">┏━━━━━━━━━━━━━━━━━━━━━━━━━━━━━━━━━┳━━━━━━━━━━━━━━━━━━━━━━━━┳━━━━━━━━━━━━━━━┓\n",
       "┃<span style=\"font-weight: bold\"> Layer (type)                    </span>┃<span style=\"font-weight: bold\"> Output Shape           </span>┃<span style=\"font-weight: bold\">       Param # </span>┃\n",
       "┡━━━━━━━━━━━━━━━━━━━━━━━━━━━━━━━━━╇━━━━━━━━━━━━━━━━━━━━━━━━╇━━━━━━━━━━━━━━━┩\n",
       "│ embedding (<span style=\"color: #0087ff; text-decoration-color: #0087ff\">Embedding</span>)           │ ?                      │   <span style=\"color: #00af00; text-decoration-color: #00af00\">0</span> (unbuilt) │\n",
       "├─────────────────────────────────┼────────────────────────┼───────────────┤\n",
       "│ bilstm_0_bidir (<span style=\"color: #0087ff; text-decoration-color: #0087ff\">Bidirectional</span>)  │ ?                      │   <span style=\"color: #00af00; text-decoration-color: #00af00\">0</span> (unbuilt) │\n",
       "├─────────────────────────────────┼────────────────────────┼───────────────┤\n",
       "│ dropout (<span style=\"color: #0087ff; text-decoration-color: #0087ff\">Dropout</span>)               │ ?                      │             <span style=\"color: #00af00; text-decoration-color: #00af00\">0</span> │\n",
       "├─────────────────────────────────┼────────────────────────┼───────────────┤\n",
       "│ output (<span style=\"color: #0087ff; text-decoration-color: #0087ff\">Dense</span>)                  │ ?                      │   <span style=\"color: #00af00; text-decoration-color: #00af00\">0</span> (unbuilt) │\n",
       "└─────────────────────────────────┴────────────────────────┴───────────────┘\n",
       "</pre>\n"
      ],
      "text/plain": [
       "┏━━━━━━━━━━━━━━━━━━━━━━━━━━━━━━━━━┳━━━━━━━━━━━━━━━━━━━━━━━━┳━━━━━━━━━━━━━━━┓\n",
       "┃\u001b[1m \u001b[0m\u001b[1mLayer (type)                   \u001b[0m\u001b[1m \u001b[0m┃\u001b[1m \u001b[0m\u001b[1mOutput Shape          \u001b[0m\u001b[1m \u001b[0m┃\u001b[1m \u001b[0m\u001b[1m      Param #\u001b[0m\u001b[1m \u001b[0m┃\n",
       "┡━━━━━━━━━━━━━━━━━━━━━━━━━━━━━━━━━╇━━━━━━━━━━━━━━━━━━━━━━━━╇━━━━━━━━━━━━━━━┩\n",
       "│ embedding (\u001b[38;5;33mEmbedding\u001b[0m)           │ ?                      │   \u001b[38;5;34m0\u001b[0m (unbuilt) │\n",
       "├─────────────────────────────────┼────────────────────────┼───────────────┤\n",
       "│ bilstm_0_bidir (\u001b[38;5;33mBidirectional\u001b[0m)  │ ?                      │   \u001b[38;5;34m0\u001b[0m (unbuilt) │\n",
       "├─────────────────────────────────┼────────────────────────┼───────────────┤\n",
       "│ dropout (\u001b[38;5;33mDropout\u001b[0m)               │ ?                      │             \u001b[38;5;34m0\u001b[0m │\n",
       "├─────────────────────────────────┼────────────────────────┼───────────────┤\n",
       "│ output (\u001b[38;5;33mDense\u001b[0m)                  │ ?                      │   \u001b[38;5;34m0\u001b[0m (unbuilt) │\n",
       "└─────────────────────────────────┴────────────────────────┴───────────────┘\n"
      ]
     },
     "metadata": {},
     "output_type": "display_data"
    },
    {
     "data": {
      "text/html": [
       "<pre style=\"white-space:pre;overflow-x:auto;line-height:normal;font-family:Menlo,'DejaVu Sans Mono',consolas,'Courier New',monospace\"><span style=\"font-weight: bold\"> Total params: </span><span style=\"color: #00af00; text-decoration-color: #00af00\">0</span> (0.00 B)\n",
       "</pre>\n"
      ],
      "text/plain": [
       "\u001b[1m Total params: \u001b[0m\u001b[38;5;34m0\u001b[0m (0.00 B)\n"
      ]
     },
     "metadata": {},
     "output_type": "display_data"
    },
    {
     "data": {
      "text/html": [
       "<pre style=\"white-space:pre;overflow-x:auto;line-height:normal;font-family:Menlo,'DejaVu Sans Mono',consolas,'Courier New',monospace\"><span style=\"font-weight: bold\"> Trainable params: </span><span style=\"color: #00af00; text-decoration-color: #00af00\">0</span> (0.00 B)\n",
       "</pre>\n"
      ],
      "text/plain": [
       "\u001b[1m Trainable params: \u001b[0m\u001b[38;5;34m0\u001b[0m (0.00 B)\n"
      ]
     },
     "metadata": {},
     "output_type": "display_data"
    },
    {
     "data": {
      "text/html": [
       "<pre style=\"white-space:pre;overflow-x:auto;line-height:normal;font-family:Menlo,'DejaVu Sans Mono',consolas,'Courier New',monospace\"><span style=\"font-weight: bold\"> Non-trainable params: </span><span style=\"color: #00af00; text-decoration-color: #00af00\">0</span> (0.00 B)\n",
       "</pre>\n"
      ],
      "text/plain": [
       "\u001b[1m Non-trainable params: \u001b[0m\u001b[38;5;34m0\u001b[0m (0.00 B)\n"
      ]
     },
     "metadata": {},
     "output_type": "display_data"
    },
    {
     "name": "stdout",
     "output_type": "stream",
     "text": [
      "Training Keras LSTM model: LSTM_NumLayers_1_Units_128_Dir_Bi\n",
      "Epoch 1/15\n",
      "10/10 - 4s - 381ms/step - accuracy: 0.3840 - loss: 1.0732 - val_accuracy: 0.4900 - val_loss: 1.0419\n",
      "Epoch 2/15\n",
      "10/10 - 1s - 113ms/step - accuracy: 0.5460 - loss: 0.9530 - val_accuracy: 0.4700 - val_loss: 0.9681\n",
      "Epoch 3/15\n",
      "10/10 - 1s - 104ms/step - accuracy: 0.6000 - loss: 0.8489 - val_accuracy: 0.5400 - val_loss: 0.9175\n",
      "Epoch 4/15\n",
      "10/10 - 1s - 148ms/step - accuracy: 0.6660 - loss: 0.7166 - val_accuracy: 0.5700 - val_loss: 0.8690\n",
      "Epoch 5/15\n",
      "10/10 - 1s - 138ms/step - accuracy: 0.8360 - loss: 0.5102 - val_accuracy: 0.6300 - val_loss: 0.8922\n",
      "Epoch 6/15\n",
      "10/10 - 1s - 112ms/step - accuracy: 0.9140 - loss: 0.3176 - val_accuracy: 0.7500 - val_loss: 0.7542\n",
      "Epoch 7/15\n",
      "10/10 - 1s - 110ms/step - accuracy: 0.8560 - loss: 0.3541 - val_accuracy: 0.6000 - val_loss: 0.9713\n",
      "Epoch 8/15\n",
      "10/10 - 1s - 118ms/step - accuracy: 0.8920 - loss: 0.3296 - val_accuracy: 0.7000 - val_loss: 0.8591\n",
      "Epoch 9/15\n",
      "10/10 - 1s - 122ms/step - accuracy: 0.9520 - loss: 0.1731 - val_accuracy: 0.7000 - val_loss: 0.9783\n",
      "Epoch 10/15\n",
      "10/10 - 1s - 117ms/step - accuracy: 0.9620 - loss: 0.1304 - val_accuracy: 0.6500 - val_loss: 0.9677\n",
      "Epoch 11/15\n",
      "10/10 - 1s - 105ms/step - accuracy: 0.9700 - loss: 0.1105 - val_accuracy: 0.7100 - val_loss: 0.9230\n",
      "Epoch 12/15\n",
      "10/10 - 1s - 106ms/step - accuracy: 0.9840 - loss: 0.0559 - val_accuracy: 0.7100 - val_loss: 0.9163\n",
      "Epoch 13/15\n",
      "10/10 - 1s - 110ms/step - accuracy: 0.9900 - loss: 0.0416 - val_accuracy: 0.7400 - val_loss: 0.9318\n",
      "Epoch 14/15\n",
      "10/10 - 1s - 118ms/step - accuracy: 0.9940 - loss: 0.0299 - val_accuracy: 0.7200 - val_loss: 1.0175\n",
      "Epoch 15/15\n",
      "10/10 - 1s - 108ms/step - accuracy: 0.9960 - loss: 0.0193 - val_accuracy: 0.7500 - val_loss: 1.0212\n",
      "Saved Keras LSTM weights to results/lstm_weights/keras_lstm_LSTM_NumLayers_1_Units_128_Dir_Bi.weights.h5\n",
      "Saved plot to results/lstm_plots/lstm_experiment_LSTM_NumLayers_1_Units_128_Dir_Bi_history.png\n",
      "\u001b[1m8/8\u001b[0m \u001b[32m━━━━━━━━━━━━━━━━━━━━\u001b[0m\u001b[37m\u001b[0m \u001b[1m0s\u001b[0m 30ms/step\n",
      "[Keras LSTM - LSTM_NumLayers_1_Units_128_Dir_Bi] Test Macro F1-score: 0.7417\n",
      "\n",
      "--- Running LSTM Experiment 7/8: LSTM_NumLayers_1_Units_64_Dir_Uni ---\n"
     ]
    },
    {
     "name": "stderr",
     "output_type": "stream",
     "text": [
      "c:\\Python312\\Lib\\site-packages\\keras\\src\\layers\\core\\embedding.py:90: UserWarning: Argument `input_length` is deprecated. Just remove it.\n",
      "  warnings.warn(\n"
     ]
    },
    {
     "data": {
      "text/html": [
       "<pre style=\"white-space:pre;overflow-x:auto;line-height:normal;font-family:Menlo,'DejaVu Sans Mono',consolas,'Courier New',monospace\"><span style=\"font-weight: bold\">Model: \"keras_lstm_1L_64U_Uni\"</span>\n",
       "</pre>\n"
      ],
      "text/plain": [
       "\u001b[1mModel: \"keras_lstm_1L_64U_Uni\"\u001b[0m\n"
      ]
     },
     "metadata": {},
     "output_type": "display_data"
    },
    {
     "data": {
      "text/html": [
       "<pre style=\"white-space:pre;overflow-x:auto;line-height:normal;font-family:Menlo,'DejaVu Sans Mono',consolas,'Courier New',monospace\">┏━━━━━━━━━━━━━━━━━━━━━━━━━━━━━━━━━┳━━━━━━━━━━━━━━━━━━━━━━━━┳━━━━━━━━━━━━━━━┓\n",
       "┃<span style=\"font-weight: bold\"> Layer (type)                    </span>┃<span style=\"font-weight: bold\"> Output Shape           </span>┃<span style=\"font-weight: bold\">       Param # </span>┃\n",
       "┡━━━━━━━━━━━━━━━━━━━━━━━━━━━━━━━━━╇━━━━━━━━━━━━━━━━━━━━━━━━╇━━━━━━━━━━━━━━━┩\n",
       "│ embedding (<span style=\"color: #0087ff; text-decoration-color: #0087ff\">Embedding</span>)           │ ?                      │   <span style=\"color: #00af00; text-decoration-color: #00af00\">0</span> (unbuilt) │\n",
       "├─────────────────────────────────┼────────────────────────┼───────────────┤\n",
       "│ lstm_0_lstm (<span style=\"color: #0087ff; text-decoration-color: #0087ff\">LSTM</span>)              │ ?                      │   <span style=\"color: #00af00; text-decoration-color: #00af00\">0</span> (unbuilt) │\n",
       "├─────────────────────────────────┼────────────────────────┼───────────────┤\n",
       "│ dropout (<span style=\"color: #0087ff; text-decoration-color: #0087ff\">Dropout</span>)               │ ?                      │             <span style=\"color: #00af00; text-decoration-color: #00af00\">0</span> │\n",
       "├─────────────────────────────────┼────────────────────────┼───────────────┤\n",
       "│ output (<span style=\"color: #0087ff; text-decoration-color: #0087ff\">Dense</span>)                  │ ?                      │   <span style=\"color: #00af00; text-decoration-color: #00af00\">0</span> (unbuilt) │\n",
       "└─────────────────────────────────┴────────────────────────┴───────────────┘\n",
       "</pre>\n"
      ],
      "text/plain": [
       "┏━━━━━━━━━━━━━━━━━━━━━━━━━━━━━━━━━┳━━━━━━━━━━━━━━━━━━━━━━━━┳━━━━━━━━━━━━━━━┓\n",
       "┃\u001b[1m \u001b[0m\u001b[1mLayer (type)                   \u001b[0m\u001b[1m \u001b[0m┃\u001b[1m \u001b[0m\u001b[1mOutput Shape          \u001b[0m\u001b[1m \u001b[0m┃\u001b[1m \u001b[0m\u001b[1m      Param #\u001b[0m\u001b[1m \u001b[0m┃\n",
       "┡━━━━━━━━━━━━━━━━━━━━━━━━━━━━━━━━━╇━━━━━━━━━━━━━━━━━━━━━━━━╇━━━━━━━━━━━━━━━┩\n",
       "│ embedding (\u001b[38;5;33mEmbedding\u001b[0m)           │ ?                      │   \u001b[38;5;34m0\u001b[0m (unbuilt) │\n",
       "├─────────────────────────────────┼────────────────────────┼───────────────┤\n",
       "│ lstm_0_lstm (\u001b[38;5;33mLSTM\u001b[0m)              │ ?                      │   \u001b[38;5;34m0\u001b[0m (unbuilt) │\n",
       "├─────────────────────────────────┼────────────────────────┼───────────────┤\n",
       "│ dropout (\u001b[38;5;33mDropout\u001b[0m)               │ ?                      │             \u001b[38;5;34m0\u001b[0m │\n",
       "├─────────────────────────────────┼────────────────────────┼───────────────┤\n",
       "│ output (\u001b[38;5;33mDense\u001b[0m)                  │ ?                      │   \u001b[38;5;34m0\u001b[0m (unbuilt) │\n",
       "└─────────────────────────────────┴────────────────────────┴───────────────┘\n"
      ]
     },
     "metadata": {},
     "output_type": "display_data"
    },
    {
     "data": {
      "text/html": [
       "<pre style=\"white-space:pre;overflow-x:auto;line-height:normal;font-family:Menlo,'DejaVu Sans Mono',consolas,'Courier New',monospace\"><span style=\"font-weight: bold\"> Total params: </span><span style=\"color: #00af00; text-decoration-color: #00af00\">0</span> (0.00 B)\n",
       "</pre>\n"
      ],
      "text/plain": [
       "\u001b[1m Total params: \u001b[0m\u001b[38;5;34m0\u001b[0m (0.00 B)\n"
      ]
     },
     "metadata": {},
     "output_type": "display_data"
    },
    {
     "data": {
      "text/html": [
       "<pre style=\"white-space:pre;overflow-x:auto;line-height:normal;font-family:Menlo,'DejaVu Sans Mono',consolas,'Courier New',monospace\"><span style=\"font-weight: bold\"> Trainable params: </span><span style=\"color: #00af00; text-decoration-color: #00af00\">0</span> (0.00 B)\n",
       "</pre>\n"
      ],
      "text/plain": [
       "\u001b[1m Trainable params: \u001b[0m\u001b[38;5;34m0\u001b[0m (0.00 B)\n"
      ]
     },
     "metadata": {},
     "output_type": "display_data"
    },
    {
     "data": {
      "text/html": [
       "<pre style=\"white-space:pre;overflow-x:auto;line-height:normal;font-family:Menlo,'DejaVu Sans Mono',consolas,'Courier New',monospace\"><span style=\"font-weight: bold\"> Non-trainable params: </span><span style=\"color: #00af00; text-decoration-color: #00af00\">0</span> (0.00 B)\n",
       "</pre>\n"
      ],
      "text/plain": [
       "\u001b[1m Non-trainable params: \u001b[0m\u001b[38;5;34m0\u001b[0m (0.00 B)\n"
      ]
     },
     "metadata": {},
     "output_type": "display_data"
    },
    {
     "name": "stdout",
     "output_type": "stream",
     "text": [
      "Training Keras LSTM model: LSTM_NumLayers_1_Units_64_Dir_Uni\n",
      "Epoch 1/15\n",
      "10/10 - 3s - 298ms/step - accuracy: 0.3780 - loss: 1.0849 - val_accuracy: 0.3800 - val_loss: 1.0792\n",
      "Epoch 2/15\n",
      "10/10 - 1s - 57ms/step - accuracy: 0.4200 - loss: 1.0802 - val_accuracy: 0.3800 - val_loss: 1.0781\n",
      "Epoch 3/15\n",
      "10/10 - 1s - 65ms/step - accuracy: 0.4000 - loss: 1.0851 - val_accuracy: 0.3800 - val_loss: 1.0792\n",
      "Epoch 4/15\n",
      "10/10 - 1s - 65ms/step - accuracy: 0.3520 - loss: 1.0851 - val_accuracy: 0.3800 - val_loss: 1.0789\n",
      "Epoch 5/15\n",
      "10/10 - 1s - 62ms/step - accuracy: 0.3700 - loss: 1.0826 - val_accuracy: 0.3800 - val_loss: 1.0788\n",
      "Epoch 6/15\n",
      "10/10 - 1s - 61ms/step - accuracy: 0.3600 - loss: 1.0831 - val_accuracy: 0.3800 - val_loss: 1.0782\n",
      "Epoch 7/15\n",
      "10/10 - 1s - 58ms/step - accuracy: 0.3900 - loss: 1.0827 - val_accuracy: 0.3800 - val_loss: 1.0786\n",
      "Epoch 8/15\n",
      "10/10 - 1s - 58ms/step - accuracy: 0.3500 - loss: 1.0805 - val_accuracy: 0.3800 - val_loss: 1.0779\n",
      "Epoch 9/15\n",
      "10/10 - 1s - 59ms/step - accuracy: 0.3900 - loss: 1.0787 - val_accuracy: 0.3800 - val_loss: 1.0782\n",
      "Epoch 10/15\n",
      "10/10 - 1s - 58ms/step - accuracy: 0.4060 - loss: 1.0782 - val_accuracy: 0.3800 - val_loss: 1.0787\n",
      "Epoch 11/15\n",
      "10/10 - 1s - 57ms/step - accuracy: 0.3940 - loss: 1.0838 - val_accuracy: 0.3800 - val_loss: 1.0779\n",
      "Epoch 12/15\n",
      "10/10 - 1s - 59ms/step - accuracy: 0.3720 - loss: 1.0799 - val_accuracy: 0.3800 - val_loss: 1.0779\n",
      "Epoch 13/15\n",
      "10/10 - 1s - 58ms/step - accuracy: 0.3680 - loss: 1.0812 - val_accuracy: 0.3800 - val_loss: 1.0779\n",
      "Epoch 14/15\n",
      "10/10 - 1s - 58ms/step - accuracy: 0.3700 - loss: 1.0813 - val_accuracy: 0.3800 - val_loss: 1.0782\n",
      "Epoch 15/15\n",
      "10/10 - 1s - 60ms/step - accuracy: 0.3300 - loss: 1.0836 - val_accuracy: 0.3800 - val_loss: 1.0783\n",
      "Saved Keras LSTM weights to results/lstm_weights/keras_lstm_LSTM_NumLayers_1_Units_64_Dir_Uni.weights.h5\n",
      "Saved plot to results/lstm_plots/lstm_experiment_LSTM_NumLayers_1_Units_64_Dir_Uni_history.png\n",
      "\u001b[1m8/8\u001b[0m \u001b[32m━━━━━━━━━━━━━━━━━━━━\u001b[0m\u001b[37m\u001b[0m \u001b[1m0s\u001b[0m 14ms/step\n",
      "[Keras LSTM - LSTM_NumLayers_1_Units_64_Dir_Uni] Test Macro F1-score: 0.1827\n",
      "\n",
      "--- Comparing with Manual LSTM Model for LSTM_NumLayers_1_Units_64_Dir_Uni ---\n",
      "Skipping custom LSTM model comparison for LSTM_NumLayers_1_Units_64_Dir_Uni as its Keras architecture (1 layer(s), Uni) does not match the expected 1-layer Bidirectional LSTM structure of ManualLSTMModel.\n",
      "\n",
      "--- Running LSTM Experiment 8/8: LSTM_NumLayers_1_Units_64_Dir_Bi ---\n"
     ]
    },
    {
     "name": "stderr",
     "output_type": "stream",
     "text": [
      "c:\\Python312\\Lib\\site-packages\\keras\\src\\layers\\core\\embedding.py:90: UserWarning: Argument `input_length` is deprecated. Just remove it.\n",
      "  warnings.warn(\n"
     ]
    },
    {
     "data": {
      "text/html": [
       "<pre style=\"white-space:pre;overflow-x:auto;line-height:normal;font-family:Menlo,'DejaVu Sans Mono',consolas,'Courier New',monospace\"><span style=\"font-weight: bold\">Model: \"keras_lstm_1L_64U_Bi\"</span>\n",
       "</pre>\n"
      ],
      "text/plain": [
       "\u001b[1mModel: \"keras_lstm_1L_64U_Bi\"\u001b[0m\n"
      ]
     },
     "metadata": {},
     "output_type": "display_data"
    },
    {
     "data": {
      "text/html": [
       "<pre style=\"white-space:pre;overflow-x:auto;line-height:normal;font-family:Menlo,'DejaVu Sans Mono',consolas,'Courier New',monospace\">┏━━━━━━━━━━━━━━━━━━━━━━━━━━━━━━━━━┳━━━━━━━━━━━━━━━━━━━━━━━━┳━━━━━━━━━━━━━━━┓\n",
       "┃<span style=\"font-weight: bold\"> Layer (type)                    </span>┃<span style=\"font-weight: bold\"> Output Shape           </span>┃<span style=\"font-weight: bold\">       Param # </span>┃\n",
       "┡━━━━━━━━━━━━━━━━━━━━━━━━━━━━━━━━━╇━━━━━━━━━━━━━━━━━━━━━━━━╇━━━━━━━━━━━━━━━┩\n",
       "│ embedding (<span style=\"color: #0087ff; text-decoration-color: #0087ff\">Embedding</span>)           │ ?                      │   <span style=\"color: #00af00; text-decoration-color: #00af00\">0</span> (unbuilt) │\n",
       "├─────────────────────────────────┼────────────────────────┼───────────────┤\n",
       "│ bilstm_0_bidir (<span style=\"color: #0087ff; text-decoration-color: #0087ff\">Bidirectional</span>)  │ ?                      │   <span style=\"color: #00af00; text-decoration-color: #00af00\">0</span> (unbuilt) │\n",
       "├─────────────────────────────────┼────────────────────────┼───────────────┤\n",
       "│ dropout (<span style=\"color: #0087ff; text-decoration-color: #0087ff\">Dropout</span>)               │ ?                      │             <span style=\"color: #00af00; text-decoration-color: #00af00\">0</span> │\n",
       "├─────────────────────────────────┼────────────────────────┼───────────────┤\n",
       "│ output (<span style=\"color: #0087ff; text-decoration-color: #0087ff\">Dense</span>)                  │ ?                      │   <span style=\"color: #00af00; text-decoration-color: #00af00\">0</span> (unbuilt) │\n",
       "└─────────────────────────────────┴────────────────────────┴───────────────┘\n",
       "</pre>\n"
      ],
      "text/plain": [
       "┏━━━━━━━━━━━━━━━━━━━━━━━━━━━━━━━━━┳━━━━━━━━━━━━━━━━━━━━━━━━┳━━━━━━━━━━━━━━━┓\n",
       "┃\u001b[1m \u001b[0m\u001b[1mLayer (type)                   \u001b[0m\u001b[1m \u001b[0m┃\u001b[1m \u001b[0m\u001b[1mOutput Shape          \u001b[0m\u001b[1m \u001b[0m┃\u001b[1m \u001b[0m\u001b[1m      Param #\u001b[0m\u001b[1m \u001b[0m┃\n",
       "┡━━━━━━━━━━━━━━━━━━━━━━━━━━━━━━━━━╇━━━━━━━━━━━━━━━━━━━━━━━━╇━━━━━━━━━━━━━━━┩\n",
       "│ embedding (\u001b[38;5;33mEmbedding\u001b[0m)           │ ?                      │   \u001b[38;5;34m0\u001b[0m (unbuilt) │\n",
       "├─────────────────────────────────┼────────────────────────┼───────────────┤\n",
       "│ bilstm_0_bidir (\u001b[38;5;33mBidirectional\u001b[0m)  │ ?                      │   \u001b[38;5;34m0\u001b[0m (unbuilt) │\n",
       "├─────────────────────────────────┼────────────────────────┼───────────────┤\n",
       "│ dropout (\u001b[38;5;33mDropout\u001b[0m)               │ ?                      │             \u001b[38;5;34m0\u001b[0m │\n",
       "├─────────────────────────────────┼────────────────────────┼───────────────┤\n",
       "│ output (\u001b[38;5;33mDense\u001b[0m)                  │ ?                      │   \u001b[38;5;34m0\u001b[0m (unbuilt) │\n",
       "└─────────────────────────────────┴────────────────────────┴───────────────┘\n"
      ]
     },
     "metadata": {},
     "output_type": "display_data"
    },
    {
     "data": {
      "text/html": [
       "<pre style=\"white-space:pre;overflow-x:auto;line-height:normal;font-family:Menlo,'DejaVu Sans Mono',consolas,'Courier New',monospace\"><span style=\"font-weight: bold\"> Total params: </span><span style=\"color: #00af00; text-decoration-color: #00af00\">0</span> (0.00 B)\n",
       "</pre>\n"
      ],
      "text/plain": [
       "\u001b[1m Total params: \u001b[0m\u001b[38;5;34m0\u001b[0m (0.00 B)\n"
      ]
     },
     "metadata": {},
     "output_type": "display_data"
    },
    {
     "data": {
      "text/html": [
       "<pre style=\"white-space:pre;overflow-x:auto;line-height:normal;font-family:Menlo,'DejaVu Sans Mono',consolas,'Courier New',monospace\"><span style=\"font-weight: bold\"> Trainable params: </span><span style=\"color: #00af00; text-decoration-color: #00af00\">0</span> (0.00 B)\n",
       "</pre>\n"
      ],
      "text/plain": [
       "\u001b[1m Trainable params: \u001b[0m\u001b[38;5;34m0\u001b[0m (0.00 B)\n"
      ]
     },
     "metadata": {},
     "output_type": "display_data"
    },
    {
     "data": {
      "text/html": [
       "<pre style=\"white-space:pre;overflow-x:auto;line-height:normal;font-family:Menlo,'DejaVu Sans Mono',consolas,'Courier New',monospace\"><span style=\"font-weight: bold\"> Non-trainable params: </span><span style=\"color: #00af00; text-decoration-color: #00af00\">0</span> (0.00 B)\n",
       "</pre>\n"
      ],
      "text/plain": [
       "\u001b[1m Non-trainable params: \u001b[0m\u001b[38;5;34m0\u001b[0m (0.00 B)\n"
      ]
     },
     "metadata": {},
     "output_type": "display_data"
    },
    {
     "name": "stdout",
     "output_type": "stream",
     "text": [
      "Training Keras LSTM model: LSTM_NumLayers_1_Units_64_Dir_Bi\n",
      "Epoch 1/15\n",
      "10/10 - 3s - 312ms/step - accuracy: 0.3980 - loss: 1.0839 - val_accuracy: 0.4000 - val_loss: 1.0655\n",
      "Epoch 2/15\n",
      "10/10 - 1s - 75ms/step - accuracy: 0.4740 - loss: 1.0317 - val_accuracy: 0.4900 - val_loss: 1.0038\n",
      "Epoch 3/15\n",
      "10/10 - 1s - 74ms/step - accuracy: 0.6020 - loss: 0.9165 - val_accuracy: 0.5800 - val_loss: 0.9036\n",
      "Epoch 4/15\n",
      "10/10 - 1s - 72ms/step - accuracy: 0.6760 - loss: 0.7534 - val_accuracy: 0.6200 - val_loss: 0.8276\n",
      "Epoch 5/15\n",
      "10/10 - 1s - 80ms/step - accuracy: 0.7500 - loss: 0.5915 - val_accuracy: 0.6800 - val_loss: 0.7412\n",
      "Epoch 6/15\n",
      "10/10 - 1s - 75ms/step - accuracy: 0.8480 - loss: 0.4306 - val_accuracy: 0.6700 - val_loss: 0.7468\n",
      "Epoch 7/15\n",
      "10/10 - 1s - 72ms/step - accuracy: 0.8980 - loss: 0.3173 - val_accuracy: 0.6800 - val_loss: 0.7778\n",
      "Epoch 8/15\n",
      "10/10 - 1s - 74ms/step - accuracy: 0.9540 - loss: 0.2133 - val_accuracy: 0.8100 - val_loss: 0.6467\n",
      "Epoch 9/15\n",
      "10/10 - 1s - 74ms/step - accuracy: 0.9880 - loss: 0.1139 - val_accuracy: 0.8000 - val_loss: 0.6087\n",
      "Epoch 10/15\n",
      "10/10 - 1s - 73ms/step - accuracy: 0.9800 - loss: 0.0965 - val_accuracy: 0.6600 - val_loss: 0.8686\n",
      "Epoch 11/15\n",
      "10/10 - 1s - 75ms/step - accuracy: 0.9780 - loss: 0.1139 - val_accuracy: 0.8000 - val_loss: 0.6483\n",
      "Epoch 12/15\n",
      "10/10 - 1s - 72ms/step - accuracy: 0.9920 - loss: 0.0579 - val_accuracy: 0.7400 - val_loss: 0.7222\n",
      "Epoch 13/15\n",
      "10/10 - 1s - 71ms/step - accuracy: 0.9980 - loss: 0.0444 - val_accuracy: 0.7600 - val_loss: 0.7316\n",
      "Epoch 14/15\n",
      "10/10 - 1s - 69ms/step - accuracy: 1.0000 - loss: 0.0275 - val_accuracy: 0.7800 - val_loss: 0.7612\n",
      "Epoch 15/15\n",
      "10/10 - 1s - 68ms/step - accuracy: 1.0000 - loss: 0.0210 - val_accuracy: 0.8000 - val_loss: 0.8124\n",
      "Saved Keras LSTM weights to results/lstm_weights/keras_lstm_LSTM_NumLayers_1_Units_64_Dir_Bi.weights.h5\n",
      "Saved plot to results/lstm_plots/lstm_experiment_LSTM_NumLayers_1_Units_64_Dir_Bi_history.png\n",
      "\u001b[1m8/8\u001b[0m \u001b[32m━━━━━━━━━━━━━━━━━━━━\u001b[0m\u001b[37m\u001b[0m \u001b[1m0s\u001b[0m 19ms/step\n",
      "[Keras LSTM - LSTM_NumLayers_1_Units_64_Dir_Bi] Test Macro F1-score: 0.7315\n",
      "\n",
      "--- Comparing with Manual LSTM Model for LSTM_NumLayers_1_Units_64_Dir_Bi ---\n",
      "Loaded Keras weights into manual LSTM model.\n",
      "[Manual LSTM - LSTM_NumLayers_1_Units_64_Dir_Bi] Test Macro F1-score: 0.7315\n"
     ]
    }
   ],
   "source": [
    "# --- Run LSTM Experiments ---\n",
    "for i, exp_config in enumerate(experiments_lstm_config):\n",
    "    print(f\"\\n--- Running LSTM Experiment {i+1}/{len(experiments_lstm_config)}: {exp_config['name']} ---\")\n",
    "    \n",
    "    model_name = exp_config['name']\n",
    "    \n",
    "    keras_lstm_model = build_keras_lstm_model(\n",
    "        vocab_size_fn=vocab_size,\n",
    "        embedding_dim_fn=EMBED_DIM,\n",
    "        num_lstm_layers=exp_config['num_lstm_layers'],\n",
    "        lstm_units_fn=exp_config['lstm_units'],\n",
    "        bidirectional_fn=exp_config['bidirectional'],\n",
    "        num_classes_fn=num_classes,\n",
    "        dropout_rate_fn=exp_config['dropout_rate'],\n",
    "        seq_length_fn=SEQ_LENGTH\n",
    "    )\n",
    "    keras_lstm_model.summary()\n",
    "\n",
    "    print(f\"Training Keras LSTM model: {model_name}\")\n",
    "    history = keras_lstm_model.fit(\n",
    "        tok_train, y_train,\n",
    "        validation_data=(tok_val, y_val),\n",
    "        epochs=EPOCHS,\n",
    "        batch_size=BATCH_SIZE,\n",
    "        verbose=2\n",
    "    )\n",
    "    \n",
    "    weights_path = f'results/lstm_weights/keras_lstm_{model_name}.weights.h5'\n",
    "    keras_lstm_model.save_weights(weights_path)\n",
    "    print(f\"Saved Keras LSTM weights to {weights_path}\")\n",
    "\n",
    "    plot_history(history, model_name, \"lstm_experiment\")\n",
    "\n",
    "    y_pred_prob_keras = keras_lstm_model.predict(tok_test, batch_size=BATCH_SIZE)\n",
    "    y_pred_keras = np.argmax(y_pred_prob_keras, axis=1)\n",
    "    f1_test_keras = f1_score(y_test, y_pred_keras, average='macro')\n",
    "    print(f\"[Keras LSTM - {model_name}] Test Macro F1-score: {f1_test_keras:.4f}\")\n",
    "    \n",
    "    current_results = {\n",
    "        \"name\": model_name,\n",
    "        \"num_lstm_layers\": exp_config['num_lstm_layers'],\n",
    "        \"lstm_units\": exp_config['lstm_units'],\n",
    "        \"bidirectional\": exp_config['bidirectional'],\n",
    "        \"f1_keras\": f1_test_keras,\n",
    "        \"f1_custom\": None \n",
    "    }\n",
    "\n",
    "    if exp_config.get(\"compare_custom\", False):\n",
    "        print(f\"\\n--- Comparing with Manual LSTM Model for {model_name} ---\")\n",
    "        \n",
    "        # ManualLSTMModel Anda di LSTMmodel.py dirancang untuk 1 layer BiLSTM.\n",
    "        # Jadi, kita hanya bisa membandingkan jika konfigurasi Keras cocok.\n",
    "        if exp_config['num_lstm_layers'] == 1 and exp_config['bidirectional']:\n",
    "            manual_model = ManualLSTMModel(\n",
    "                vocab_size=vocab_size,\n",
    "                embedding_dim=EMBED_DIM,\n",
    "                lstm_units=exp_config['lstm_units'], # Gunakan lstm_units dari config\n",
    "                dropout_rate=exp_config['dropout_rate'],\n",
    "                num_classes=num_classes\n",
    "            )\n",
    "            \n",
    "            try:\n",
    "                manual_model.load_weights(weights_path) # Memuat dari file .h5\n",
    "                print(\"Loaded Keras weights into manual LSTM model.\")\n",
    "\n",
    "                manual_model.dropout.set_training_mode(False) # Set mode evaluasi\n",
    "                \n",
    "                probs_manual = manual_model.forward(tok_test, training=False)\n",
    "                preds_manual = np.argmax(probs_manual, axis=1)\n",
    "                f1_manual = f1_score(y_test, preds_manual, average='macro')\n",
    "                print(f\"[Manual LSTM - {model_name}] Test Macro F1-score: {f1_manual:.4f}\")\n",
    "                current_results[\"f1_custom\"] = f1_manual\n",
    "\n",
    "                if not np.isclose(f1_test_keras, f1_manual, atol=1e-3): # Toleransi bisa disesuaikan\n",
    "                    print(\"Warning: Keras LSTM and Manual LSTM F1 scores differ significantly.\")\n",
    "            except Exception as e:\n",
    "                print(f\"Error during manual LSTM model comparison for {model_name}: {e}\")\n",
    "                print(\"Please ensure 'ManualLSTMModel.load_weights' correctly parses the Keras H5 file structure for this configuration.\")\n",
    "        else:\n",
    "            print(f\"Skipping custom LSTM model comparison for {model_name} as its Keras architecture \"\n",
    "                  f\"({exp_config['num_lstm_layers']} layer(s), \"\n",
    "                  f\"{'Bi' if exp_config['bidirectional'] else 'Uni'}) \"\n",
    "                  \"does not match the expected 1-layer Bidirectional LSTM structure of ManualLSTMModel.\")\n",
    "    \n",
    "    results_summary_lstm.append(current_results)"
   ]
  },
  {
   "cell_type": "code",
   "execution_count": 8,
   "id": "5165ce14",
   "metadata": {},
   "outputs": [
    {
     "name": "stdout",
     "output_type": "stream",
     "text": [
      "\n",
      "\n",
      "--- LSTM Experiment Results Summary ---\n",
      "Name | LSTM Layers | LSTM Units | Bidirectional | F1 Keras | F1 Custom\n",
      "----------------------------------------------------------------------------------------------------\n",
      "LSTM_NumLayers_1_Units_64_Dir_Bi                             |      1      |     64     | True          | 0.7349   | 0.7349\n",
      "LSTM_NumLayers_2_Units_64_Dir_Bi                             |      2      |     64     | True          | 0.7151   | N/A\n",
      "LSTM_NumLayers_3_Units_64_Dir_Bi                             |      3      |     64     | True          | 0.6753   | N/A\n",
      "LSTM_NumLayers_1_Units_32_Dir_Bi                             |      1      |     32     | True          | 0.7604   | N/A\n",
      "LSTM_NumLayers_1_Units_64_Dir_Bi                             |      1      |     64     | True          | 0.7178   | 0.7178\n",
      "LSTM_NumLayers_1_Units_128_Dir_Bi                            |      1      |    128     | True          | 0.7417   | N/A\n",
      "LSTM_NumLayers_1_Units_64_Dir_Uni                            |      1      |     64     | False         | 0.1827   | N/A\n",
      "LSTM_NumLayers_1_Units_64_Dir_Bi                             |      1      |     64     | True          | 0.7315   | 0.7315\n"
     ]
    }
   ],
   "source": [
    "# --- Print LSTM Experiment Results Summary ---\n",
    "print(\"\\n\\n--- LSTM Experiment Results Summary ---\")\n",
    "print(\"Name | LSTM Layers | LSTM Units | Bidirectional | F1 Keras | F1 Custom\")\n",
    "print(\"-\" * 100) # Disesuaikan agar lebih lebar\n",
    "for res in results_summary_lstm:\n",
    "    f1_custom_str = f\"{res['f1_custom']:.4f}\" if res['f1_custom'] is not None else \"N/A\"\n",
    "    print(f\"{res['name']:<60} | {res['num_lstm_layers']:^11} | {res['lstm_units']:^10} | {str(res['bidirectional']):<13} | {res['f1_keras']:.4f}   | {f1_custom_str}\")"
   ]
  },
  {
   "cell_type": "markdown",
   "id": "1e564407",
   "metadata": {},
   "source": [
    "## ACCURACRY TEST (F1)"
   ]
  },
  {
   "cell_type": "code",
   "execution_count": 24,
   "id": "d6d2ca0b",
   "metadata": {},
   "outputs": [
    {
     "name": "stdout",
     "output_type": "stream",
     "text": [
      "Epoch 1/15\n",
      "10/10 - 3s - 335ms/step - accuracy: 0.4060 - loss: 1.0786 - val_accuracy: 0.4400 - val_loss: 1.0623\n",
      "Epoch 2/15\n",
      "10/10 - 1s - 56ms/step - accuracy: 0.4920 - loss: 1.0130 - val_accuracy: 0.4700 - val_loss: 1.0036\n",
      "Epoch 3/15\n",
      "10/10 - 1s - 57ms/step - accuracy: 0.5780 - loss: 0.9141 - val_accuracy: 0.5500 - val_loss: 0.9248\n",
      "Epoch 4/15\n",
      "10/10 - 1s - 60ms/step - accuracy: 0.6660 - loss: 0.7910 - val_accuracy: 0.6000 - val_loss: 0.8693\n",
      "Epoch 5/15\n",
      "10/10 - 1s - 57ms/step - accuracy: 0.7380 - loss: 0.6637 - val_accuracy: 0.6500 - val_loss: 0.7791\n",
      "Epoch 6/15\n",
      "10/10 - 1s - 59ms/step - accuracy: 0.8640 - loss: 0.4712 - val_accuracy: 0.7000 - val_loss: 0.6747\n",
      "Epoch 7/15\n",
      "10/10 - 1s - 60ms/step - accuracy: 0.9300 - loss: 0.2868 - val_accuracy: 0.7100 - val_loss: 0.6991\n",
      "Epoch 8/15\n",
      "10/10 - 1s - 61ms/step - accuracy: 0.8980 - loss: 0.2972 - val_accuracy: 0.6600 - val_loss: 0.8541\n",
      "Epoch 9/15\n",
      "10/10 - 1s - 55ms/step - accuracy: 0.9240 - loss: 0.2431 - val_accuracy: 0.6500 - val_loss: 0.7960\n",
      "Epoch 10/15\n",
      "10/10 - 1s - 56ms/step - accuracy: 0.9660 - loss: 0.1601 - val_accuracy: 0.7500 - val_loss: 0.7282\n",
      "Epoch 11/15\n",
      "10/10 - 1s - 56ms/step - accuracy: 0.9820 - loss: 0.1033 - val_accuracy: 0.7100 - val_loss: 0.7151\n",
      "Epoch 12/15\n",
      "10/10 - 1s - 58ms/step - accuracy: 0.9900 - loss: 0.0681 - val_accuracy: 0.7300 - val_loss: 0.7218\n",
      "Epoch 13/15\n",
      "10/10 - 1s - 57ms/step - accuracy: 0.9940 - loss: 0.0448 - val_accuracy: 0.7600 - val_loss: 0.7443\n",
      "Epoch 14/15\n",
      "10/10 - 1s - 57ms/step - accuracy: 0.9960 - loss: 0.0360 - val_accuracy: 0.7500 - val_loss: 0.7764\n",
      "Epoch 15/15\n",
      "10/10 - 1s - 58ms/step - accuracy: 0.9980 - loss: 0.0259 - val_accuracy: 0.7500 - val_loss: 0.8279\n"
     ]
    }
   ],
   "source": [
    "vocab_size     = 20000   # size of your word index\n",
    "embedding_dim  = 128     # dimensionality of the embedding vectors\n",
    "lstm_units     = 64      # number of LSTM units\n",
    "dropout_rate   = 0.5     # dropout probability\n",
    "num_classes    = 3       # number of target classes\n",
    "\n",
    "# 2) Build the model\n",
    "model = Sequential([\n",
    "    Embedding(input_dim=vocab_size, output_dim=embedding_dim),\n",
    "    Bidirectional(LSTM(units=lstm_units)),\n",
    "    Dropout(rate=dropout_rate),\n",
    "    Dense(units=num_classes, activation='softmax')\n",
    "])\n",
    "\n",
    "# 3) Compile\n",
    "model.compile(\n",
    "    loss='sparse_categorical_crossentropy',\n",
    "    optimizer='adam',\n",
    "    metrics=['accuracy']\n",
    ")\n",
    "\n",
    "# Train\n",
    "BATCH_SIZE    = 50\n",
    "EPOCHS        = 15\n",
    "\n",
    "history = model.fit(\n",
    "        tok_train, y_train,\n",
    "        validation_data=(tok_val, y_val),\n",
    "        epochs=EPOCHS,\n",
    "        batch_size=BATCH_SIZE,\n",
    "        verbose=2\n",
    "    )\n",
    "\n",
    "model.save_weights(\"model_comp.weights.h5\")"
   ]
  },
  {
   "cell_type": "code",
   "execution_count": 25,
   "id": "e066ac3b",
   "metadata": {},
   "outputs": [],
   "source": [
    "manual = ManualLSTMModel(vocab_size, embedding_dim,lstm_units, dropout_rate, num_classes)\n",
    "manual.load_weights(\"model_comp.weights.h5\")"
   ]
  },
  {
   "cell_type": "code",
   "execution_count": 26,
   "id": "b7f53b81",
   "metadata": {},
   "outputs": [
    {
     "name": "stdout",
     "output_type": "stream",
     "text": [
      "\u001b[1m13/13\u001b[0m \u001b[32m━━━━━━━━━━━━━━━━━━━━\u001b[0m\u001b[37m\u001b[0m \u001b[1m1s\u001b[0m 32ms/step\n",
      "Manual pred :\n"
     ]
    }
   ],
   "source": [
    "prediction = model.predict(tok_test)\n",
    "print(\"Manual pred :\")\n",
    "manual_prediction = manual.forward(tok_test)"
   ]
  },
  {
   "cell_type": "code",
   "execution_count": 27,
   "id": "c9239dac",
   "metadata": {},
   "outputs": [
    {
     "name": "stdout",
     "output_type": "stream",
     "text": [
      "F1 Bawaan:    0.7203\n",
      "              precision    recall  f1-score   support\n",
      "\n",
      "           0     0.7122    0.6471    0.6781       153\n",
      "           1     0.6915    0.6771    0.6842        96\n",
      "           2     0.7605    0.8411    0.7987       151\n",
      "\n",
      "    accuracy                         0.7275       400\n",
      "   macro avg     0.7214    0.7217    0.7203       400\n",
      "weighted avg     0.7255    0.7275    0.7251       400\n",
      "\n",
      "==========\n",
      "==========\n",
      "==========\n",
      "\n",
      "F1 Buatan:    0.7203\n",
      "              precision    recall  f1-score   support\n",
      "\n",
      "           0     0.7122    0.6471    0.6781       153\n",
      "           1     0.6915    0.6771    0.6842        96\n",
      "           2     0.7605    0.8411    0.7987       151\n",
      "\n",
      "    accuracy                         0.7275       400\n",
      "   macro avg     0.7214    0.7217    0.7203       400\n",
      "weighted avg     0.7255    0.7275    0.7251       400\n",
      "\n"
     ]
    }
   ],
   "source": [
    "import numpy as np\n",
    "from sklearn.metrics import f1_score, classification_report\n",
    "\n",
    "pred_labels = np.argmax(prediction, axis=1)\n",
    "manual_pred_labels = np.argmax(manual_prediction, axis=1)\n",
    "\n",
    "f1_source = f1_score(y_test, pred_labels, average='macro')\n",
    "f1_manual = f1_score(y_test, manual_pred_labels, average='macro')\n",
    "\n",
    "print(f\"F1 Bawaan:    {f1_source:.4f}\")\n",
    "print(classification_report(y_test, pred_labels, digits=4))\n",
    "print(\"==========\")\n",
    "print(\"==========\")\n",
    "print(\"==========\\n\")\n",
    "print(f\"F1 Buatan:    {f1_manual:.4f}\")\n",
    "print(classification_report(y_test, manual_pred_labels, digits=4))"
   ]
  }
 ],
 "metadata": {
  "kernelspec": {
   "display_name": "Python 3",
   "language": "python",
   "name": "python3"
  },
  "language_info": {
   "codemirror_mode": {
    "name": "ipython",
    "version": 3
   },
   "file_extension": ".py",
   "mimetype": "text/x-python",
   "name": "python",
   "nbconvert_exporter": "python",
   "pygments_lexer": "ipython3",
   "version": "3.11.4"
  }
 },
 "nbformat": 4,
 "nbformat_minor": 5
}
