{
 "cells": [
  {
   "cell_type": "code",
   "execution_count": 1,
   "id": "a3502ad8",
   "metadata": {},
   "outputs": [],
   "source": [
    "from tensorflow.keras.models import Sequential\n",
    "from tensorflow.keras.layers import Embedding, Bidirectional, LSTM, Dropout, Dense\n",
    "\n",
    "# Base model\n",
    "\n",
    "vocab_size     = 20000   # size of your word index\n",
    "embedding_dim  = 128     # dimensionality of the embedding vectors\n",
    "lstm_units     = 64      # number of LSTM units\n",
    "dropout_rate   = 0.5     # dropout probability\n",
    "num_classes    = 3       # number of target classes\n",
    "\n",
    "# 2) Build the model\n",
    "model = Sequential([\n",
    "    Embedding(input_dim=vocab_size, output_dim=embedding_dim),\n",
    "    Bidirectional(LSTM(units=lstm_units)),\n",
    "    Dropout(rate=dropout_rate),\n",
    "    Dense(units=num_classes, activation='softmax')\n",
    "])\n",
    "\n",
    "# 3) Compile\n",
    "model.compile(\n",
    "    loss='sparse_categorical_crossentropy',\n",
    "    optimizer='adam',\n",
    "    metrics=['accuracy']\n",
    ")\n",
    "\n",
    "\n"
   ]
  },
  {
   "cell_type": "code",
   "execution_count": 2,
   "id": "f9f4d635",
   "metadata": {},
   "outputs": [],
   "source": [
    "# Data\n",
    "from utils import load_nusax_data\n",
    "MAX_TOKENS    = 20000\n",
    "SEQ_LENGTH    = 100\n",
    "\n",
    "tok_train, y_train, tok_val, y_val, tok_test, y_test, vocab_size, num_classes, vectorizer = load_nusax_data(MAX_TOKENS, SEQ_LENGTH)"
   ]
  },
  {
   "cell_type": "code",
   "execution_count": 3,
   "id": "659b12a4",
   "metadata": {},
   "outputs": [
    {
     "name": "stdout",
     "output_type": "stream",
     "text": [
      "Epoch 1/15\n",
      "10/10 - 3s - 297ms/step - accuracy: 0.3720 - loss: 1.0865 - val_accuracy: 0.5900 - val_loss: 1.0684\n",
      "Epoch 2/15\n",
      "10/10 - 1s - 50ms/step - accuracy: 0.5040 - loss: 1.0313 - val_accuracy: 0.4100 - val_loss: 1.0292\n",
      "Epoch 3/15\n",
      "10/10 - 0s - 49ms/step - accuracy: 0.5700 - loss: 0.9469 - val_accuracy: 0.5300 - val_loss: 0.9470\n",
      "Epoch 4/15\n",
      "10/10 - 0s - 44ms/step - accuracy: 0.6880 - loss: 0.7899 - val_accuracy: 0.5700 - val_loss: 0.8780\n",
      "Epoch 5/15\n",
      "10/10 - 0s - 44ms/step - accuracy: 0.7720 - loss: 0.6371 - val_accuracy: 0.6800 - val_loss: 0.7534\n",
      "Epoch 6/15\n",
      "10/10 - 0s - 45ms/step - accuracy: 0.8880 - loss: 0.4126 - val_accuracy: 0.6900 - val_loss: 0.7122\n",
      "Epoch 7/15\n",
      "10/10 - 0s - 45ms/step - accuracy: 0.9160 - loss: 0.2948 - val_accuracy: 0.7400 - val_loss: 0.6695\n",
      "Epoch 8/15\n",
      "10/10 - 0s - 46ms/step - accuracy: 0.9660 - loss: 0.1707 - val_accuracy: 0.7800 - val_loss: 0.6125\n",
      "Epoch 9/15\n",
      "10/10 - 0s - 45ms/step - accuracy: 0.9360 - loss: 0.1743 - val_accuracy: 0.7100 - val_loss: 0.7251\n",
      "Epoch 10/15\n",
      "10/10 - 0s - 47ms/step - accuracy: 0.9760 - loss: 0.1251 - val_accuracy: 0.7400 - val_loss: 0.7234\n",
      "Epoch 11/15\n",
      "10/10 - 0s - 45ms/step - accuracy: 0.9820 - loss: 0.0866 - val_accuracy: 0.6900 - val_loss: 0.9236\n",
      "Epoch 12/15\n",
      "10/10 - 0s - 46ms/step - accuracy: 0.9900 - loss: 0.0568 - val_accuracy: 0.7600 - val_loss: 0.8117\n",
      "Epoch 13/15\n",
      "10/10 - 0s - 47ms/step - accuracy: 0.9940 - loss: 0.0341 - val_accuracy: 0.7400 - val_loss: 0.7576\n",
      "Epoch 14/15\n",
      "10/10 - 0s - 46ms/step - accuracy: 0.9960 - loss: 0.0290 - val_accuracy: 0.7500 - val_loss: 0.7816\n",
      "Epoch 15/15\n",
      "10/10 - 0s - 45ms/step - accuracy: 0.9980 - loss: 0.0194 - val_accuracy: 0.7700 - val_loss: 0.7953\n"
     ]
    }
   ],
   "source": [
    "# Train\n",
    "BATCH_SIZE    = 50\n",
    "EPOCHS        = 15\n",
    "\n",
    "history = model.fit(\n",
    "        tok_train, y_train,\n",
    "        validation_data=(tok_val, y_val),\n",
    "        epochs=EPOCHS,\n",
    "        batch_size=BATCH_SIZE,\n",
    "        verbose=2\n",
    "    )\n",
    "\n"
   ]
  },
  {
   "cell_type": "code",
   "execution_count": 4,
   "id": "740364a1",
   "metadata": {},
   "outputs": [
    {
     "data": {
      "text/html": [
       "<pre style=\"white-space:pre;overflow-x:auto;line-height:normal;font-family:Menlo,'DejaVu Sans Mono',consolas,'Courier New',monospace\"><span style=\"font-weight: bold\">Model: \"sequential\"</span>\n",
       "</pre>\n"
      ],
      "text/plain": [
       "\u001b[1mModel: \"sequential\"\u001b[0m\n"
      ]
     },
     "metadata": {},
     "output_type": "display_data"
    },
    {
     "data": {
      "text/html": [
       "<pre style=\"white-space:pre;overflow-x:auto;line-height:normal;font-family:Menlo,'DejaVu Sans Mono',consolas,'Courier New',monospace\">┏━━━━━━━━━━━━━━━━━━━━━━━━━━━━━━━━━┳━━━━━━━━━━━━━━━━━━━━━━━━┳━━━━━━━━━━━━━━━┓\n",
       "┃<span style=\"font-weight: bold\"> Layer (type)                    </span>┃<span style=\"font-weight: bold\"> Output Shape           </span>┃<span style=\"font-weight: bold\">       Param # </span>┃\n",
       "┡━━━━━━━━━━━━━━━━━━━━━━━━━━━━━━━━━╇━━━━━━━━━━━━━━━━━━━━━━━━╇━━━━━━━━━━━━━━━┩\n",
       "│ embedding (<span style=\"color: #0087ff; text-decoration-color: #0087ff\">Embedding</span>)           │ (<span style=\"color: #00af00; text-decoration-color: #00af00\">50</span>, <span style=\"color: #00af00; text-decoration-color: #00af00\">100</span>, <span style=\"color: #00af00; text-decoration-color: #00af00\">128</span>)         │     <span style=\"color: #00af00; text-decoration-color: #00af00\">2,560,000</span> │\n",
       "├─────────────────────────────────┼────────────────────────┼───────────────┤\n",
       "│ bidirectional (<span style=\"color: #0087ff; text-decoration-color: #0087ff\">Bidirectional</span>)   │ (<span style=\"color: #00af00; text-decoration-color: #00af00\">50</span>, <span style=\"color: #00af00; text-decoration-color: #00af00\">128</span>)              │        <span style=\"color: #00af00; text-decoration-color: #00af00\">98,816</span> │\n",
       "├─────────────────────────────────┼────────────────────────┼───────────────┤\n",
       "│ dropout (<span style=\"color: #0087ff; text-decoration-color: #0087ff\">Dropout</span>)               │ (<span style=\"color: #00af00; text-decoration-color: #00af00\">50</span>, <span style=\"color: #00af00; text-decoration-color: #00af00\">128</span>)              │             <span style=\"color: #00af00; text-decoration-color: #00af00\">0</span> │\n",
       "├─────────────────────────────────┼────────────────────────┼───────────────┤\n",
       "│ dense (<span style=\"color: #0087ff; text-decoration-color: #0087ff\">Dense</span>)                   │ (<span style=\"color: #00af00; text-decoration-color: #00af00\">50</span>, <span style=\"color: #00af00; text-decoration-color: #00af00\">3</span>)                │           <span style=\"color: #00af00; text-decoration-color: #00af00\">387</span> │\n",
       "└─────────────────────────────────┴────────────────────────┴───────────────┘\n",
       "</pre>\n"
      ],
      "text/plain": [
       "┏━━━━━━━━━━━━━━━━━━━━━━━━━━━━━━━━━┳━━━━━━━━━━━━━━━━━━━━━━━━┳━━━━━━━━━━━━━━━┓\n",
       "┃\u001b[1m \u001b[0m\u001b[1mLayer (type)                   \u001b[0m\u001b[1m \u001b[0m┃\u001b[1m \u001b[0m\u001b[1mOutput Shape          \u001b[0m\u001b[1m \u001b[0m┃\u001b[1m \u001b[0m\u001b[1m      Param #\u001b[0m\u001b[1m \u001b[0m┃\n",
       "┡━━━━━━━━━━━━━━━━━━━━━━━━━━━━━━━━━╇━━━━━━━━━━━━━━━━━━━━━━━━╇━━━━━━━━━━━━━━━┩\n",
       "│ embedding (\u001b[38;5;33mEmbedding\u001b[0m)           │ (\u001b[38;5;34m50\u001b[0m, \u001b[38;5;34m100\u001b[0m, \u001b[38;5;34m128\u001b[0m)         │     \u001b[38;5;34m2,560,000\u001b[0m │\n",
       "├─────────────────────────────────┼────────────────────────┼───────────────┤\n",
       "│ bidirectional (\u001b[38;5;33mBidirectional\u001b[0m)   │ (\u001b[38;5;34m50\u001b[0m, \u001b[38;5;34m128\u001b[0m)              │        \u001b[38;5;34m98,816\u001b[0m │\n",
       "├─────────────────────────────────┼────────────────────────┼───────────────┤\n",
       "│ dropout (\u001b[38;5;33mDropout\u001b[0m)               │ (\u001b[38;5;34m50\u001b[0m, \u001b[38;5;34m128\u001b[0m)              │             \u001b[38;5;34m0\u001b[0m │\n",
       "├─────────────────────────────────┼────────────────────────┼───────────────┤\n",
       "│ dense (\u001b[38;5;33mDense\u001b[0m)                   │ (\u001b[38;5;34m50\u001b[0m, \u001b[38;5;34m3\u001b[0m)                │           \u001b[38;5;34m387\u001b[0m │\n",
       "└─────────────────────────────────┴────────────────────────┴───────────────┘\n"
      ]
     },
     "metadata": {},
     "output_type": "display_data"
    },
    {
     "data": {
      "text/html": [
       "<pre style=\"white-space:pre;overflow-x:auto;line-height:normal;font-family:Menlo,'DejaVu Sans Mono',consolas,'Courier New',monospace\"><span style=\"font-weight: bold\"> Total params: </span><span style=\"color: #00af00; text-decoration-color: #00af00\">7,977,611</span> (30.43 MB)\n",
       "</pre>\n"
      ],
      "text/plain": [
       "\u001b[1m Total params: \u001b[0m\u001b[38;5;34m7,977,611\u001b[0m (30.43 MB)\n"
      ]
     },
     "metadata": {},
     "output_type": "display_data"
    },
    {
     "data": {
      "text/html": [
       "<pre style=\"white-space:pre;overflow-x:auto;line-height:normal;font-family:Menlo,'DejaVu Sans Mono',consolas,'Courier New',monospace\"><span style=\"font-weight: bold\"> Trainable params: </span><span style=\"color: #00af00; text-decoration-color: #00af00\">2,659,203</span> (10.14 MB)\n",
       "</pre>\n"
      ],
      "text/plain": [
       "\u001b[1m Trainable params: \u001b[0m\u001b[38;5;34m2,659,203\u001b[0m (10.14 MB)\n"
      ]
     },
     "metadata": {},
     "output_type": "display_data"
    },
    {
     "data": {
      "text/html": [
       "<pre style=\"white-space:pre;overflow-x:auto;line-height:normal;font-family:Menlo,'DejaVu Sans Mono',consolas,'Courier New',monospace\"><span style=\"font-weight: bold\"> Non-trainable params: </span><span style=\"color: #00af00; text-decoration-color: #00af00\">0</span> (0.00 B)\n",
       "</pre>\n"
      ],
      "text/plain": [
       "\u001b[1m Non-trainable params: \u001b[0m\u001b[38;5;34m0\u001b[0m (0.00 B)\n"
      ]
     },
     "metadata": {},
     "output_type": "display_data"
    },
    {
     "data": {
      "text/html": [
       "<pre style=\"white-space:pre;overflow-x:auto;line-height:normal;font-family:Menlo,'DejaVu Sans Mono',consolas,'Courier New',monospace\"><span style=\"font-weight: bold\"> Optimizer params: </span><span style=\"color: #00af00; text-decoration-color: #00af00\">5,318,408</span> (20.29 MB)\n",
       "</pre>\n"
      ],
      "text/plain": [
       "\u001b[1m Optimizer params: \u001b[0m\u001b[38;5;34m5,318,408\u001b[0m (20.29 MB)\n"
      ]
     },
     "metadata": {},
     "output_type": "display_data"
    }
   ],
   "source": [
    "# 4) (Optional) View a summary\n",
    "model.summary()"
   ]
  },
  {
   "cell_type": "code",
   "execution_count": 5,
   "id": "5165ce14",
   "metadata": {},
   "outputs": [],
   "source": [
    "model.save_weights(\"weightbruh.weights.h5\")"
   ]
  },
  {
   "cell_type": "code",
   "execution_count": 4,
   "id": "1f1a1d94",
   "metadata": {},
   "outputs": [],
   "source": [
    "model.load_weights(\"weightbruh.weights.h5\")"
   ]
  },
  {
   "cell_type": "code",
   "execution_count": null,
   "id": "8e2c7b84",
   "metadata": {},
   "outputs": [
    {
     "name": "stdout",
     "output_type": "stream",
     "text": [
      "[-3.4774366e-06 -9.2663961e-03 -3.8522722e-03  7.0058862e-03]\n"
     ]
    }
   ],
   "source": [
    "from model import ManualLSTMModel\n",
    "\n",
    "manual = ManualLSTMModel(vocab_size, embedding_dim,lstm_units, dropout_rate, num_classes)\n"
   ]
  },
  {
   "cell_type": "code",
   "execution_count": 7,
   "id": "9e5d7829",
   "metadata": {},
   "outputs": [],
   "source": [
    "manual.load_weights(\"weightbruh.weights.h5\")"
   ]
  },
  {
   "cell_type": "markdown",
   "id": "a0632a02",
   "metadata": {},
   "source": [
    "Testing Area"
   ]
  },
  {
   "cell_type": "code",
   "execution_count": 8,
   "id": "88f34d6e",
   "metadata": {},
   "outputs": [],
   "source": [
    "Token = vectorizer(\"Kangkungnya lumayan tapi kepiting saus padangnya mengecewakan kami dikasih kepiting yang kopong akhir kami tidak makan keptingnya dan dikembalikan.\")"
   ]
  },
  {
   "cell_type": "code",
   "execution_count": 9,
   "id": "0f667c20",
   "metadata": {},
   "outputs": [],
   "source": [
    "import tensorflow as tf\n",
    "Token_casted = tf.cast([Token], tf.int32).numpy()"
   ]
  },
  {
   "cell_type": "code",
   "execution_count": 10,
   "id": "4b6071f5",
   "metadata": {},
   "outputs": [
    {
     "name": "stdout",
     "output_type": "stream",
     "text": [
      "\u001b[1m1/1\u001b[0m \u001b[32m━━━━━━━━━━━━━━━━━━━━\u001b[0m\u001b[37m\u001b[0m \u001b[1m0s\u001b[0m 204ms/step\n"
     ]
    }
   ],
   "source": [
    "result = model.predict(Token_casted)"
   ]
  },
  {
   "cell_type": "code",
   "execution_count": 11,
   "id": "a25adcd1",
   "metadata": {},
   "outputs": [
    {
     "data": {
      "text/plain": [
       "array([[0.94537485, 0.02387432, 0.03075085]], dtype=float32)"
      ]
     },
     "execution_count": 11,
     "metadata": {},
     "output_type": "execute_result"
    }
   ],
   "source": [
    "result"
   ]
  },
  {
   "cell_type": "code",
   "execution_count": 12,
   "id": "004bc2ed",
   "metadata": {},
   "outputs": [],
   "source": [
    "manual_result = manual.forward(Token_casted)"
   ]
  },
  {
   "cell_type": "code",
   "execution_count": 13,
   "id": "e4e7d18b",
   "metadata": {},
   "outputs": [
    {
     "data": {
      "text/plain": [
       "array([[0.94537507, 0.02387421, 0.03075072]])"
      ]
     },
     "execution_count": 13,
     "metadata": {},
     "output_type": "execute_result"
    }
   ],
   "source": [
    "manual_result"
   ]
  },
  {
   "cell_type": "code",
   "execution_count": null,
   "id": "64ec6ee2",
   "metadata": {},
   "outputs": [],
   "source": [
    "# POSITIVE array([[0.00261186, 0.00146393, 0.9959241 ]], dtype=float32)\n",
    "# Neutral array([[0.02828578, 0.96762127, 0.00409289]], dtype=float32)\n",
    "# Negative array([[0.9517922 , 0.04311086, 0.00509697]], dtype=float32)"
   ]
  },
  {
   "cell_type": "code",
   "execution_count": 21,
   "id": "dcc5ef99",
   "metadata": {},
   "outputs": [],
   "source": [
    "tmodel =  Sequential([\n",
    "    model.layers[0],\n",
    "])\n",
    "\n",
    "# 3) Compile\n",
    "tmodel.compile(\n",
    "    loss='sparse_categorical_crossentropy',\n",
    "    optimizer='adam',\n",
    "    metrics=['accuracy']\n",
    ")"
   ]
  },
  {
   "cell_type": "code",
   "execution_count": 23,
   "id": "e4a3a1c3",
   "metadata": {},
   "outputs": [
    {
     "name": "stdout",
     "output_type": "stream",
     "text": [
      "\u001b[1m1/1\u001b[0m \u001b[32m━━━━━━━━━━━━━━━━━━━━\u001b[0m\u001b[37m\u001b[0m \u001b[1m0s\u001b[0m 24ms/step\n"
     ]
    }
   ],
   "source": [
    "tresult = tmodel.predict(Token_casted)"
   ]
  },
  {
   "cell_type": "code",
   "execution_count": 24,
   "id": "fc4fecfb",
   "metadata": {},
   "outputs": [
    {
     "data": {
      "text/plain": [
       "(1, 100, 128)"
      ]
     },
     "execution_count": 24,
     "metadata": {},
     "output_type": "execute_result"
    }
   ],
   "source": [
    "tresult.shape"
   ]
  }
 ],
 "metadata": {
  "kernelspec": {
   "display_name": "Python 3",
   "language": "python",
   "name": "python3"
  },
  "language_info": {
   "codemirror_mode": {
    "name": "ipython",
    "version": 3
   },
   "file_extension": ".py",
   "mimetype": "text/x-python",
   "name": "python",
   "nbconvert_exporter": "python",
   "pygments_lexer": "ipython3",
   "version": "3.11.4"
  }
 },
 "nbformat": 4,
 "nbformat_minor": 5
}
