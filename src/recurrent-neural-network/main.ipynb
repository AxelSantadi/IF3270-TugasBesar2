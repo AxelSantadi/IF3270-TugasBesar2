{
 "cells": [
  {
   "cell_type": "code",
   "execution_count": 1,
   "id": "74ab9f98",
   "metadata": {},
   "outputs": [],
   "source": [
    "# Cell 1: install TensorFlow jika belum terpasang\n",
    "# !pip install tensorflow --quiet"
   ]
  },
  {
   "cell_type": "code",
   "execution_count": 2,
   "id": "51d63dc3",
   "metadata": {},
   "outputs": [],
   "source": [
    "# importing\n",
    "import os\n",
    "import numpy as np\n",
    "import tensorflow as tf\n",
    "from tensorflow.keras.models import Sequential\n",
    "from tensorflow.keras.layers import Embedding, SimpleRNN, Bidirectional, Dropout, Dense, LSTM\n",
    "from sklearn.metrics import f1_score\n",
    "import matplotlib.pyplot as plt\n",
    "from utils import load_nusax_data\n",
    "from model import SimpleRNNModel\n",
    "from layers import RNN as CustomRNN, BiRNN as CustomBiRNN"
   ]
  },
  {
   "cell_type": "code",
   "execution_count": 3,
   "id": "932442fa",
   "metadata": {},
   "outputs": [],
   "source": [
    "# ----- Fixed Hyperparameters -----\n",
    "MAX_TOKENS    = 20000\n",
    "SEQ_LENGTH    = 100\n",
    "EMBED_DIM     = 128\n",
    "DROPOUT_RATE  = 0.5\n",
    "BATCH_SIZE    = 50\n",
    "EPOCHS        = 15"
   ]
  },
  {
   "cell_type": "code",
   "execution_count": 4,
   "id": "ffa6a654",
   "metadata": {},
   "outputs": [],
   "source": [
    "# ----- Load and preprocess data -----\n",
    "tok_train, y_train, tok_val, y_val, tok_test, y_test, vocab_size, num_classes = \\\n",
    "    load_nusax_data(MAX_TOKENS, SEQ_LENGTH)\n",
    "\n",
    "os.makedirs('src/recurrent-neural-network/results/weights', exist_ok=True)\n",
    "os.makedirs('src/recurrent-neural-network/results/plots', exist_ok=True)\n",
    "results_summary = []"
   ]
  },
  {
   "cell_type": "code",
   "execution_count": 5,
   "id": "1660bbe9",
   "metadata": {},
   "outputs": [],
   "source": [
    "# ----- Needed Function Definitions -----\n",
    "def build_keras_model(num_rnn_layers, rnn_units, bidirectional, rnn_type='SimpleRNN', dropout_rate=DROPOUT_RATE):\n",
    "    keras_model = Sequential()\n",
    "    keras_model.add(Embedding(\n",
    "        input_dim=vocab_size,\n",
    "        output_dim=EMBED_DIM,\n",
    "        input_length=SEQ_LENGTH,\n",
    "        name='embedding'\n",
    "    ))\n",
    "\n",
    "    for i in range(num_rnn_layers):\n",
    "        is_last_rnn = (i == num_rnn_layers - 1)\n",
    "        return_sequences = not is_last_rnn\n",
    "        \n",
    "        layer_name_prefix = f\"{'bi' if bidirectional else ''}{rnn_type.lower()}_{i}\"\n",
    "\n",
    "        if rnn_type == 'SimpleRNN':\n",
    "            rnn_layer_constructor = SimpleRNN(rnn_units, return_sequences=return_sequences, name=f\"{layer_name_prefix}_simplernn\")\n",
    "        elif rnn_type == 'LSTM':\n",
    "            rnn_layer_constructor = LSTM(rnn_units, return_sequences=return_sequences, name=f\"{layer_name_prefix}_lstm\")\n",
    "        else:\n",
    "            raise ValueError(f\"Unsupported RNN type: {rnn_type}\")\n",
    "\n",
    "        if bidirectional:\n",
    "            keras_model.add(Bidirectional(rnn_layer_constructor, name=f\"{layer_name_prefix}_bidir\"))\n",
    "        else:\n",
    "            keras_model.add(rnn_layer_constructor)\n",
    "            \n",
    "    keras_model.add(Dropout(dropout_rate, name='dropout'))\n",
    "    keras_model.add(Dense(num_classes, activation='softmax', name='output'))\n",
    "\n",
    "    keras_model.compile(\n",
    "        optimizer='adam',\n",
    "        loss='sparse_categorical_crossentropy',\n",
    "        metrics=['accuracy']\n",
    "    )\n",
    "    return keras_model\n",
    "\n",
    "def plot_history(history, model_name, experiment_name):\n",
    "    plt.figure(figsize=(12, 4))\n",
    "    plt.subplot(1, 2, 1)\n",
    "    plt.plot(history.history['loss'], label='Training Loss')\n",
    "    plt.plot(history.history['val_loss'], label='Validation Loss')\n",
    "    plt.title(f'Loss - {model_name}')\n",
    "    plt.xlabel('Epoch')\n",
    "    plt.ylabel('Loss')\n",
    "    plt.legend()\n",
    "\n",
    "    plt.subplot(1, 2, 2)\n",
    "    plt.plot(history.history['accuracy'], label='Training Accuracy')\n",
    "    plt.plot(history.history['val_accuracy'], label='Validation Accuracy')\n",
    "    plt.title(f'Accuracy - {model_name}')\n",
    "    plt.xlabel('Epoch')\n",
    "    plt.ylabel('Accuracy')\n",
    "    plt.legend()\n",
    "    \n",
    "    plot_filename = f\"src/recurrent-neural-network/results/plots/{experiment_name}_{model_name}_history.png\"\n",
    "    plt.savefig(plot_filename)\n",
    "    print(f\"Saved plot to {plot_filename}\")\n",
    "    plt.close()"
   ]
  },
  {
   "cell_type": "code",
   "execution_count": 6,
   "id": "b0021098",
   "metadata": {},
   "outputs": [],
   "source": [
    "# --- Experiment Configurations ---\n",
    "experiments = []\n",
    "\n",
    "# 1. beda layer RNN\n",
    "base_rnn_units = 32\n",
    "base_bidirectional = False\n",
    "for num_layers in [5, 6, 7]:\n",
    "    experiments.append({\n",
    "        \"name\": f\"NumLayers_{num_layers}_Units_{base_rnn_units}_Dir_{'Bi' if base_bidirectional else 'Uni'}\",\n",
    "        \"num_rnn_layers\": num_layers,\n",
    "        \"rnn_units\": base_rnn_units,\n",
    "        \"bidirectional\": base_bidirectional,\n",
    "        \"compare_custom\": (num_layers == 1 and not base_bidirectional)\n",
    "    })\n",
    "\n",
    "# 2. beda cell RNN per layer\n",
    "base_num_layers = 5\n",
    "base_bidirectional = False\n",
    "for rnn_units in [32, 64, 128]:\n",
    "    experiments.append({\n",
    "        \"name\": f\"NumLayers_{base_num_layers}_Units_{rnn_units}_Dir_{'Bi' if base_bidirectional else 'Uni'}\",\n",
    "        \"num_rnn_layers\": base_num_layers,\n",
    "        \"rnn_units\": rnn_units,\n",
    "        \"bidirectional\": base_bidirectional,\n",
    "        \"compare_custom\": (base_num_layers == 1 and not base_bidirectional and rnn_units==32)\n",
    "    })\n",
    "\n",
    "# 3. beda RNN berdasarkan arah\n",
    "base_num_layers = 5\n",
    "base_rnn_units = 32\n",
    "for bidirectional_flag in [False, True]:\n",
    "    experiments.append({\n",
    "        \"name\": f\"NumLayers_{base_num_layers}_Units_{base_rnn_units}_Dir_{'Bi' if bidirectional_flag else 'Uni'}\",\n",
    "        \"num_rnn_layers\": base_num_layers,\n",
    "        \"rnn_units\": base_rnn_units,\n",
    "        \"bidirectional\": bidirectional_flag,\n",
    "        \"compare_custom\": (base_num_layers == 1 and base_rnn_units==32)\n",
    "    })"
   ]
  },
  {
   "cell_type": "code",
   "execution_count": 7,
   "id": "dbb41d37",
   "metadata": {},
   "outputs": [
    {
     "name": "stdout",
     "output_type": "stream",
     "text": [
      "\n",
      "--- Running Experiment 1/8: NumLayers_5_Units_32_Dir_Uni ---\n"
     ]
    },
    {
     "name": "stderr",
     "output_type": "stream",
     "text": [
      "c:\\Python312\\Lib\\site-packages\\keras\\src\\layers\\core\\embedding.py:90: UserWarning: Argument `input_length` is deprecated. Just remove it.\n",
      "  warnings.warn(\n"
     ]
    },
    {
     "data": {
      "text/html": [
       "<pre style=\"white-space:pre;overflow-x:auto;line-height:normal;font-family:Menlo,'DejaVu Sans Mono',consolas,'Courier New',monospace\"><span style=\"font-weight: bold\">Model: \"sequential\"</span>\n",
       "</pre>\n"
      ],
      "text/plain": [
       "\u001b[1mModel: \"sequential\"\u001b[0m\n"
      ]
     },
     "metadata": {},
     "output_type": "display_data"
    },
    {
     "data": {
      "text/html": [
       "<pre style=\"white-space:pre;overflow-x:auto;line-height:normal;font-family:Menlo,'DejaVu Sans Mono',consolas,'Courier New',monospace\">┏━━━━━━━━━━━━━━━━━━━━━━━━━━━━━━━━━┳━━━━━━━━━━━━━━━━━━━━━━━━┳━━━━━━━━━━━━━━━┓\n",
       "┃<span style=\"font-weight: bold\"> Layer (type)                    </span>┃<span style=\"font-weight: bold\"> Output Shape           </span>┃<span style=\"font-weight: bold\">       Param # </span>┃\n",
       "┡━━━━━━━━━━━━━━━━━━━━━━━━━━━━━━━━━╇━━━━━━━━━━━━━━━━━━━━━━━━╇━━━━━━━━━━━━━━━┩\n",
       "│ embedding (<span style=\"color: #0087ff; text-decoration-color: #0087ff\">Embedding</span>)           │ ?                      │   <span style=\"color: #00af00; text-decoration-color: #00af00\">0</span> (unbuilt) │\n",
       "├─────────────────────────────────┼────────────────────────┼───────────────┤\n",
       "│ simplernn_0_simplernn           │ ?                      │   <span style=\"color: #00af00; text-decoration-color: #00af00\">0</span> (unbuilt) │\n",
       "│ (<span style=\"color: #0087ff; text-decoration-color: #0087ff\">SimpleRNN</span>)                     │                        │               │\n",
       "├─────────────────────────────────┼────────────────────────┼───────────────┤\n",
       "│ simplernn_1_simplernn           │ ?                      │   <span style=\"color: #00af00; text-decoration-color: #00af00\">0</span> (unbuilt) │\n",
       "│ (<span style=\"color: #0087ff; text-decoration-color: #0087ff\">SimpleRNN</span>)                     │                        │               │\n",
       "├─────────────────────────────────┼────────────────────────┼───────────────┤\n",
       "│ simplernn_2_simplernn           │ ?                      │   <span style=\"color: #00af00; text-decoration-color: #00af00\">0</span> (unbuilt) │\n",
       "│ (<span style=\"color: #0087ff; text-decoration-color: #0087ff\">SimpleRNN</span>)                     │                        │               │\n",
       "├─────────────────────────────────┼────────────────────────┼───────────────┤\n",
       "│ simplernn_3_simplernn           │ ?                      │   <span style=\"color: #00af00; text-decoration-color: #00af00\">0</span> (unbuilt) │\n",
       "│ (<span style=\"color: #0087ff; text-decoration-color: #0087ff\">SimpleRNN</span>)                     │                        │               │\n",
       "├─────────────────────────────────┼────────────────────────┼───────────────┤\n",
       "│ simplernn_4_simplernn           │ ?                      │   <span style=\"color: #00af00; text-decoration-color: #00af00\">0</span> (unbuilt) │\n",
       "│ (<span style=\"color: #0087ff; text-decoration-color: #0087ff\">SimpleRNN</span>)                     │                        │               │\n",
       "├─────────────────────────────────┼────────────────────────┼───────────────┤\n",
       "│ dropout (<span style=\"color: #0087ff; text-decoration-color: #0087ff\">Dropout</span>)               │ ?                      │             <span style=\"color: #00af00; text-decoration-color: #00af00\">0</span> │\n",
       "├─────────────────────────────────┼────────────────────────┼───────────────┤\n",
       "│ output (<span style=\"color: #0087ff; text-decoration-color: #0087ff\">Dense</span>)                  │ ?                      │   <span style=\"color: #00af00; text-decoration-color: #00af00\">0</span> (unbuilt) │\n",
       "└─────────────────────────────────┴────────────────────────┴───────────────┘\n",
       "</pre>\n"
      ],
      "text/plain": [
       "┏━━━━━━━━━━━━━━━━━━━━━━━━━━━━━━━━━┳━━━━━━━━━━━━━━━━━━━━━━━━┳━━━━━━━━━━━━━━━┓\n",
       "┃\u001b[1m \u001b[0m\u001b[1mLayer (type)                   \u001b[0m\u001b[1m \u001b[0m┃\u001b[1m \u001b[0m\u001b[1mOutput Shape          \u001b[0m\u001b[1m \u001b[0m┃\u001b[1m \u001b[0m\u001b[1m      Param #\u001b[0m\u001b[1m \u001b[0m┃\n",
       "┡━━━━━━━━━━━━━━━━━━━━━━━━━━━━━━━━━╇━━━━━━━━━━━━━━━━━━━━━━━━╇━━━━━━━━━━━━━━━┩\n",
       "│ embedding (\u001b[38;5;33mEmbedding\u001b[0m)           │ ?                      │   \u001b[38;5;34m0\u001b[0m (unbuilt) │\n",
       "├─────────────────────────────────┼────────────────────────┼───────────────┤\n",
       "│ simplernn_0_simplernn           │ ?                      │   \u001b[38;5;34m0\u001b[0m (unbuilt) │\n",
       "│ (\u001b[38;5;33mSimpleRNN\u001b[0m)                     │                        │               │\n",
       "├─────────────────────────────────┼────────────────────────┼───────────────┤\n",
       "│ simplernn_1_simplernn           │ ?                      │   \u001b[38;5;34m0\u001b[0m (unbuilt) │\n",
       "│ (\u001b[38;5;33mSimpleRNN\u001b[0m)                     │                        │               │\n",
       "├─────────────────────────────────┼────────────────────────┼───────────────┤\n",
       "│ simplernn_2_simplernn           │ ?                      │   \u001b[38;5;34m0\u001b[0m (unbuilt) │\n",
       "│ (\u001b[38;5;33mSimpleRNN\u001b[0m)                     │                        │               │\n",
       "├─────────────────────────────────┼────────────────────────┼───────────────┤\n",
       "│ simplernn_3_simplernn           │ ?                      │   \u001b[38;5;34m0\u001b[0m (unbuilt) │\n",
       "│ (\u001b[38;5;33mSimpleRNN\u001b[0m)                     │                        │               │\n",
       "├─────────────────────────────────┼────────────────────────┼───────────────┤\n",
       "│ simplernn_4_simplernn           │ ?                      │   \u001b[38;5;34m0\u001b[0m (unbuilt) │\n",
       "│ (\u001b[38;5;33mSimpleRNN\u001b[0m)                     │                        │               │\n",
       "├─────────────────────────────────┼────────────────────────┼───────────────┤\n",
       "│ dropout (\u001b[38;5;33mDropout\u001b[0m)               │ ?                      │             \u001b[38;5;34m0\u001b[0m │\n",
       "├─────────────────────────────────┼────────────────────────┼───────────────┤\n",
       "│ output (\u001b[38;5;33mDense\u001b[0m)                  │ ?                      │   \u001b[38;5;34m0\u001b[0m (unbuilt) │\n",
       "└─────────────────────────────────┴────────────────────────┴───────────────┘\n"
      ]
     },
     "metadata": {},
     "output_type": "display_data"
    },
    {
     "data": {
      "text/html": [
       "<pre style=\"white-space:pre;overflow-x:auto;line-height:normal;font-family:Menlo,'DejaVu Sans Mono',consolas,'Courier New',monospace\"><span style=\"font-weight: bold\"> Total params: </span><span style=\"color: #00af00; text-decoration-color: #00af00\">0</span> (0.00 B)\n",
       "</pre>\n"
      ],
      "text/plain": [
       "\u001b[1m Total params: \u001b[0m\u001b[38;5;34m0\u001b[0m (0.00 B)\n"
      ]
     },
     "metadata": {},
     "output_type": "display_data"
    },
    {
     "data": {
      "text/html": [
       "<pre style=\"white-space:pre;overflow-x:auto;line-height:normal;font-family:Menlo,'DejaVu Sans Mono',consolas,'Courier New',monospace\"><span style=\"font-weight: bold\"> Trainable params: </span><span style=\"color: #00af00; text-decoration-color: #00af00\">0</span> (0.00 B)\n",
       "</pre>\n"
      ],
      "text/plain": [
       "\u001b[1m Trainable params: \u001b[0m\u001b[38;5;34m0\u001b[0m (0.00 B)\n"
      ]
     },
     "metadata": {},
     "output_type": "display_data"
    },
    {
     "data": {
      "text/html": [
       "<pre style=\"white-space:pre;overflow-x:auto;line-height:normal;font-family:Menlo,'DejaVu Sans Mono',consolas,'Courier New',monospace\"><span style=\"font-weight: bold\"> Non-trainable params: </span><span style=\"color: #00af00; text-decoration-color: #00af00\">0</span> (0.00 B)\n",
       "</pre>\n"
      ],
      "text/plain": [
       "\u001b[1m Non-trainable params: \u001b[0m\u001b[38;5;34m0\u001b[0m (0.00 B)\n"
      ]
     },
     "metadata": {},
     "output_type": "display_data"
    },
    {
     "name": "stdout",
     "output_type": "stream",
     "text": [
      "Training Keras model: NumLayers_5_Units_32_Dir_Uni\n",
      "Epoch 1/15\n",
      "10/10 - 7s - 716ms/step - accuracy: 0.3320 - loss: 1.2979 - val_accuracy: 0.3800 - val_loss: 1.0882\n",
      "Epoch 2/15\n",
      "10/10 - 1s - 71ms/step - accuracy: 0.3620 - loss: 1.2027 - val_accuracy: 0.3800 - val_loss: 1.0835\n",
      "Epoch 3/15\n",
      "10/10 - 1s - 67ms/step - accuracy: 0.3820 - loss: 1.1511 - val_accuracy: 0.3600 - val_loss: 1.1397\n",
      "Epoch 4/15\n",
      "10/10 - 1s - 64ms/step - accuracy: 0.5340 - loss: 0.9875 - val_accuracy: 0.4500 - val_loss: 1.1189\n",
      "Epoch 5/15\n",
      "10/10 - 1s - 63ms/step - accuracy: 0.6520 - loss: 0.8449 - val_accuracy: 0.4500 - val_loss: 1.2792\n",
      "Epoch 6/15\n",
      "10/10 - 1s - 63ms/step - accuracy: 0.7200 - loss: 0.7035 - val_accuracy: 0.3900 - val_loss: 1.4477\n",
      "Epoch 7/15\n",
      "10/10 - 1s - 62ms/step - accuracy: 0.7340 - loss: 0.6404 - val_accuracy: 0.4100 - val_loss: 1.4704\n",
      "Epoch 8/15\n",
      "10/10 - 1s - 63ms/step - accuracy: 0.8360 - loss: 0.4307 - val_accuracy: 0.4600 - val_loss: 1.5323\n",
      "Epoch 9/15\n",
      "10/10 - 1s - 67ms/step - accuracy: 0.9060 - loss: 0.3084 - val_accuracy: 0.4500 - val_loss: 1.7387\n",
      "Epoch 10/15\n",
      "10/10 - 1s - 66ms/step - accuracy: 0.9660 - loss: 0.1920 - val_accuracy: 0.4500 - val_loss: 1.9126\n",
      "Epoch 11/15\n",
      "10/10 - 1s - 64ms/step - accuracy: 0.9760 - loss: 0.1447 - val_accuracy: 0.4900 - val_loss: 2.0163\n",
      "Epoch 12/15\n",
      "10/10 - 1s - 64ms/step - accuracy: 0.9940 - loss: 0.0849 - val_accuracy: 0.4800 - val_loss: 2.0012\n",
      "Epoch 13/15\n",
      "10/10 - 1s - 63ms/step - accuracy: 0.9940 - loss: 0.0818 - val_accuracy: 0.4700 - val_loss: 2.0561\n",
      "Epoch 14/15\n",
      "10/10 - 1s - 67ms/step - accuracy: 0.9920 - loss: 0.0719 - val_accuracy: 0.4800 - val_loss: 2.1067\n",
      "Epoch 15/15\n",
      "10/10 - 1s - 65ms/step - accuracy: 0.9940 - loss: 0.0636 - val_accuracy: 0.5100 - val_loss: 2.1382\n",
      "Saved Keras weights to src/recurrent-neural-network/results/weights/keras_rnn_NumLayers_5_Units_32_Dir_Uni.weights.h5\n",
      "Saved plot to src/recurrent-neural-network/results/plots/experiment_NumLayers_5_Units_32_Dir_Uni_history.png\n",
      "\u001b[1m8/8\u001b[0m \u001b[32m━━━━━━━━━━━━━━━━━━━━\u001b[0m\u001b[37m\u001b[0m \u001b[1m1s\u001b[0m 16ms/step\n",
      "[Keras - NumLayers_5_Units_32_Dir_Uni] Test Macro F1-score: 0.3699\n",
      "\n",
      "--- Running Experiment 2/8: NumLayers_6_Units_32_Dir_Uni ---\n"
     ]
    },
    {
     "name": "stderr",
     "output_type": "stream",
     "text": [
      "c:\\Python312\\Lib\\site-packages\\keras\\src\\layers\\core\\embedding.py:90: UserWarning: Argument `input_length` is deprecated. Just remove it.\n",
      "  warnings.warn(\n"
     ]
    },
    {
     "data": {
      "text/html": [
       "<pre style=\"white-space:pre;overflow-x:auto;line-height:normal;font-family:Menlo,'DejaVu Sans Mono',consolas,'Courier New',monospace\"><span style=\"font-weight: bold\">Model: \"sequential_1\"</span>\n",
       "</pre>\n"
      ],
      "text/plain": [
       "\u001b[1mModel: \"sequential_1\"\u001b[0m\n"
      ]
     },
     "metadata": {},
     "output_type": "display_data"
    },
    {
     "data": {
      "text/html": [
       "<pre style=\"white-space:pre;overflow-x:auto;line-height:normal;font-family:Menlo,'DejaVu Sans Mono',consolas,'Courier New',monospace\">┏━━━━━━━━━━━━━━━━━━━━━━━━━━━━━━━━━┳━━━━━━━━━━━━━━━━━━━━━━━━┳━━━━━━━━━━━━━━━┓\n",
       "┃<span style=\"font-weight: bold\"> Layer (type)                    </span>┃<span style=\"font-weight: bold\"> Output Shape           </span>┃<span style=\"font-weight: bold\">       Param # </span>┃\n",
       "┡━━━━━━━━━━━━━━━━━━━━━━━━━━━━━━━━━╇━━━━━━━━━━━━━━━━━━━━━━━━╇━━━━━━━━━━━━━━━┩\n",
       "│ embedding (<span style=\"color: #0087ff; text-decoration-color: #0087ff\">Embedding</span>)           │ ?                      │   <span style=\"color: #00af00; text-decoration-color: #00af00\">0</span> (unbuilt) │\n",
       "├─────────────────────────────────┼────────────────────────┼───────────────┤\n",
       "│ simplernn_0_simplernn           │ ?                      │   <span style=\"color: #00af00; text-decoration-color: #00af00\">0</span> (unbuilt) │\n",
       "│ (<span style=\"color: #0087ff; text-decoration-color: #0087ff\">SimpleRNN</span>)                     │                        │               │\n",
       "├─────────────────────────────────┼────────────────────────┼───────────────┤\n",
       "│ simplernn_1_simplernn           │ ?                      │   <span style=\"color: #00af00; text-decoration-color: #00af00\">0</span> (unbuilt) │\n",
       "│ (<span style=\"color: #0087ff; text-decoration-color: #0087ff\">SimpleRNN</span>)                     │                        │               │\n",
       "├─────────────────────────────────┼────────────────────────┼───────────────┤\n",
       "│ simplernn_2_simplernn           │ ?                      │   <span style=\"color: #00af00; text-decoration-color: #00af00\">0</span> (unbuilt) │\n",
       "│ (<span style=\"color: #0087ff; text-decoration-color: #0087ff\">SimpleRNN</span>)                     │                        │               │\n",
       "├─────────────────────────────────┼────────────────────────┼───────────────┤\n",
       "│ simplernn_3_simplernn           │ ?                      │   <span style=\"color: #00af00; text-decoration-color: #00af00\">0</span> (unbuilt) │\n",
       "│ (<span style=\"color: #0087ff; text-decoration-color: #0087ff\">SimpleRNN</span>)                     │                        │               │\n",
       "├─────────────────────────────────┼────────────────────────┼───────────────┤\n",
       "│ simplernn_4_simplernn           │ ?                      │   <span style=\"color: #00af00; text-decoration-color: #00af00\">0</span> (unbuilt) │\n",
       "│ (<span style=\"color: #0087ff; text-decoration-color: #0087ff\">SimpleRNN</span>)                     │                        │               │\n",
       "├─────────────────────────────────┼────────────────────────┼───────────────┤\n",
       "│ simplernn_5_simplernn           │ ?                      │   <span style=\"color: #00af00; text-decoration-color: #00af00\">0</span> (unbuilt) │\n",
       "│ (<span style=\"color: #0087ff; text-decoration-color: #0087ff\">SimpleRNN</span>)                     │                        │               │\n",
       "├─────────────────────────────────┼────────────────────────┼───────────────┤\n",
       "│ dropout (<span style=\"color: #0087ff; text-decoration-color: #0087ff\">Dropout</span>)               │ ?                      │             <span style=\"color: #00af00; text-decoration-color: #00af00\">0</span> │\n",
       "├─────────────────────────────────┼────────────────────────┼───────────────┤\n",
       "│ output (<span style=\"color: #0087ff; text-decoration-color: #0087ff\">Dense</span>)                  │ ?                      │   <span style=\"color: #00af00; text-decoration-color: #00af00\">0</span> (unbuilt) │\n",
       "└─────────────────────────────────┴────────────────────────┴───────────────┘\n",
       "</pre>\n"
      ],
      "text/plain": [
       "┏━━━━━━━━━━━━━━━━━━━━━━━━━━━━━━━━━┳━━━━━━━━━━━━━━━━━━━━━━━━┳━━━━━━━━━━━━━━━┓\n",
       "┃\u001b[1m \u001b[0m\u001b[1mLayer (type)                   \u001b[0m\u001b[1m \u001b[0m┃\u001b[1m \u001b[0m\u001b[1mOutput Shape          \u001b[0m\u001b[1m \u001b[0m┃\u001b[1m \u001b[0m\u001b[1m      Param #\u001b[0m\u001b[1m \u001b[0m┃\n",
       "┡━━━━━━━━━━━━━━━━━━━━━━━━━━━━━━━━━╇━━━━━━━━━━━━━━━━━━━━━━━━╇━━━━━━━━━━━━━━━┩\n",
       "│ embedding (\u001b[38;5;33mEmbedding\u001b[0m)           │ ?                      │   \u001b[38;5;34m0\u001b[0m (unbuilt) │\n",
       "├─────────────────────────────────┼────────────────────────┼───────────────┤\n",
       "│ simplernn_0_simplernn           │ ?                      │   \u001b[38;5;34m0\u001b[0m (unbuilt) │\n",
       "│ (\u001b[38;5;33mSimpleRNN\u001b[0m)                     │                        │               │\n",
       "├─────────────────────────────────┼────────────────────────┼───────────────┤\n",
       "│ simplernn_1_simplernn           │ ?                      │   \u001b[38;5;34m0\u001b[0m (unbuilt) │\n",
       "│ (\u001b[38;5;33mSimpleRNN\u001b[0m)                     │                        │               │\n",
       "├─────────────────────────────────┼────────────────────────┼───────────────┤\n",
       "│ simplernn_2_simplernn           │ ?                      │   \u001b[38;5;34m0\u001b[0m (unbuilt) │\n",
       "│ (\u001b[38;5;33mSimpleRNN\u001b[0m)                     │                        │               │\n",
       "├─────────────────────────────────┼────────────────────────┼───────────────┤\n",
       "│ simplernn_3_simplernn           │ ?                      │   \u001b[38;5;34m0\u001b[0m (unbuilt) │\n",
       "│ (\u001b[38;5;33mSimpleRNN\u001b[0m)                     │                        │               │\n",
       "├─────────────────────────────────┼────────────────────────┼───────────────┤\n",
       "│ simplernn_4_simplernn           │ ?                      │   \u001b[38;5;34m0\u001b[0m (unbuilt) │\n",
       "│ (\u001b[38;5;33mSimpleRNN\u001b[0m)                     │                        │               │\n",
       "├─────────────────────────────────┼────────────────────────┼───────────────┤\n",
       "│ simplernn_5_simplernn           │ ?                      │   \u001b[38;5;34m0\u001b[0m (unbuilt) │\n",
       "│ (\u001b[38;5;33mSimpleRNN\u001b[0m)                     │                        │               │\n",
       "├─────────────────────────────────┼────────────────────────┼───────────────┤\n",
       "│ dropout (\u001b[38;5;33mDropout\u001b[0m)               │ ?                      │             \u001b[38;5;34m0\u001b[0m │\n",
       "├─────────────────────────────────┼────────────────────────┼───────────────┤\n",
       "│ output (\u001b[38;5;33mDense\u001b[0m)                  │ ?                      │   \u001b[38;5;34m0\u001b[0m (unbuilt) │\n",
       "└─────────────────────────────────┴────────────────────────┴───────────────┘\n"
      ]
     },
     "metadata": {},
     "output_type": "display_data"
    },
    {
     "data": {
      "text/html": [
       "<pre style=\"white-space:pre;overflow-x:auto;line-height:normal;font-family:Menlo,'DejaVu Sans Mono',consolas,'Courier New',monospace\"><span style=\"font-weight: bold\"> Total params: </span><span style=\"color: #00af00; text-decoration-color: #00af00\">0</span> (0.00 B)\n",
       "</pre>\n"
      ],
      "text/plain": [
       "\u001b[1m Total params: \u001b[0m\u001b[38;5;34m0\u001b[0m (0.00 B)\n"
      ]
     },
     "metadata": {},
     "output_type": "display_data"
    },
    {
     "data": {
      "text/html": [
       "<pre style=\"white-space:pre;overflow-x:auto;line-height:normal;font-family:Menlo,'DejaVu Sans Mono',consolas,'Courier New',monospace\"><span style=\"font-weight: bold\"> Trainable params: </span><span style=\"color: #00af00; text-decoration-color: #00af00\">0</span> (0.00 B)\n",
       "</pre>\n"
      ],
      "text/plain": [
       "\u001b[1m Trainable params: \u001b[0m\u001b[38;5;34m0\u001b[0m (0.00 B)\n"
      ]
     },
     "metadata": {},
     "output_type": "display_data"
    },
    {
     "data": {
      "text/html": [
       "<pre style=\"white-space:pre;overflow-x:auto;line-height:normal;font-family:Menlo,'DejaVu Sans Mono',consolas,'Courier New',monospace\"><span style=\"font-weight: bold\"> Non-trainable params: </span><span style=\"color: #00af00; text-decoration-color: #00af00\">0</span> (0.00 B)\n",
       "</pre>\n"
      ],
      "text/plain": [
       "\u001b[1m Non-trainable params: \u001b[0m\u001b[38;5;34m0\u001b[0m (0.00 B)\n"
      ]
     },
     "metadata": {},
     "output_type": "display_data"
    },
    {
     "name": "stdout",
     "output_type": "stream",
     "text": [
      "Training Keras model: NumLayers_6_Units_32_Dir_Uni\n",
      "Epoch 1/15\n",
      "10/10 - 7s - 693ms/step - accuracy: 0.3500 - loss: 1.3285 - val_accuracy: 0.3800 - val_loss: 1.1000\n",
      "Epoch 2/15\n",
      "10/10 - 1s - 69ms/step - accuracy: 0.3740 - loss: 1.2098 - val_accuracy: 0.3900 - val_loss: 1.0907\n",
      "Epoch 3/15\n",
      "10/10 - 1s - 69ms/step - accuracy: 0.3540 - loss: 1.2084 - val_accuracy: 0.3200 - val_loss: 1.0808\n",
      "Epoch 4/15\n",
      "10/10 - 1s - 70ms/step - accuracy: 0.4800 - loss: 1.0569 - val_accuracy: 0.4000 - val_loss: 1.1585\n",
      "Epoch 5/15\n",
      "10/10 - 1s - 73ms/step - accuracy: 0.7740 - loss: 0.6272 - val_accuracy: 0.3300 - val_loss: 1.3658\n",
      "Epoch 6/15\n",
      "10/10 - 1s - 70ms/step - accuracy: 0.8800 - loss: 0.3782 - val_accuracy: 0.2900 - val_loss: 1.5412\n",
      "Epoch 7/15\n",
      "10/10 - 1s - 70ms/step - accuracy: 0.9600 - loss: 0.2024 - val_accuracy: 0.3400 - val_loss: 1.8069\n",
      "Epoch 8/15\n",
      "10/10 - 1s - 70ms/step - accuracy: 0.9840 - loss: 0.1260 - val_accuracy: 0.4100 - val_loss: 1.6161\n",
      "Epoch 9/15\n",
      "10/10 - 1s - 68ms/step - accuracy: 0.9920 - loss: 0.0693 - val_accuracy: 0.4100 - val_loss: 1.7442\n",
      "Epoch 10/15\n",
      "10/10 - 1s - 69ms/step - accuracy: 0.9940 - loss: 0.0513 - val_accuracy: 0.3600 - val_loss: 1.8632\n",
      "Epoch 11/15\n",
      "10/10 - 1s - 68ms/step - accuracy: 1.0000 - loss: 0.0317 - val_accuracy: 0.3200 - val_loss: 2.0843\n",
      "Epoch 12/15\n",
      "10/10 - 1s - 70ms/step - accuracy: 0.9980 - loss: 0.0340 - val_accuracy: 0.3500 - val_loss: 1.9220\n",
      "Epoch 13/15\n",
      "10/10 - 1s - 70ms/step - accuracy: 1.0000 - loss: 0.0229 - val_accuracy: 0.4000 - val_loss: 1.9178\n",
      "Epoch 14/15\n",
      "10/10 - 1s - 70ms/step - accuracy: 1.0000 - loss: 0.0244 - val_accuracy: 0.3300 - val_loss: 2.0444\n",
      "Epoch 15/15\n",
      "10/10 - 1s - 69ms/step - accuracy: 1.0000 - loss: 0.0211 - val_accuracy: 0.3400 - val_loss: 2.1068\n",
      "Saved Keras weights to src/recurrent-neural-network/results/weights/keras_rnn_NumLayers_6_Units_32_Dir_Uni.weights.h5\n",
      "Saved plot to src/recurrent-neural-network/results/plots/experiment_NumLayers_6_Units_32_Dir_Uni_history.png\n",
      "\u001b[1m8/8\u001b[0m \u001b[32m━━━━━━━━━━━━━━━━━━━━\u001b[0m\u001b[37m\u001b[0m \u001b[1m1s\u001b[0m 18ms/step\n",
      "[Keras - NumLayers_6_Units_32_Dir_Uni] Test Macro F1-score: 0.3397\n",
      "\n",
      "--- Running Experiment 3/8: NumLayers_7_Units_32_Dir_Uni ---\n"
     ]
    },
    {
     "name": "stderr",
     "output_type": "stream",
     "text": [
      "c:\\Python312\\Lib\\site-packages\\keras\\src\\layers\\core\\embedding.py:90: UserWarning: Argument `input_length` is deprecated. Just remove it.\n",
      "  warnings.warn(\n"
     ]
    },
    {
     "data": {
      "text/html": [
       "<pre style=\"white-space:pre;overflow-x:auto;line-height:normal;font-family:Menlo,'DejaVu Sans Mono',consolas,'Courier New',monospace\"><span style=\"font-weight: bold\">Model: \"sequential_2\"</span>\n",
       "</pre>\n"
      ],
      "text/plain": [
       "\u001b[1mModel: \"sequential_2\"\u001b[0m\n"
      ]
     },
     "metadata": {},
     "output_type": "display_data"
    },
    {
     "data": {
      "text/html": [
       "<pre style=\"white-space:pre;overflow-x:auto;line-height:normal;font-family:Menlo,'DejaVu Sans Mono',consolas,'Courier New',monospace\">┏━━━━━━━━━━━━━━━━━━━━━━━━━━━━━━━━━┳━━━━━━━━━━━━━━━━━━━━━━━━┳━━━━━━━━━━━━━━━┓\n",
       "┃<span style=\"font-weight: bold\"> Layer (type)                    </span>┃<span style=\"font-weight: bold\"> Output Shape           </span>┃<span style=\"font-weight: bold\">       Param # </span>┃\n",
       "┡━━━━━━━━━━━━━━━━━━━━━━━━━━━━━━━━━╇━━━━━━━━━━━━━━━━━━━━━━━━╇━━━━━━━━━━━━━━━┩\n",
       "│ embedding (<span style=\"color: #0087ff; text-decoration-color: #0087ff\">Embedding</span>)           │ ?                      │   <span style=\"color: #00af00; text-decoration-color: #00af00\">0</span> (unbuilt) │\n",
       "├─────────────────────────────────┼────────────────────────┼───────────────┤\n",
       "│ simplernn_0_simplernn           │ ?                      │   <span style=\"color: #00af00; text-decoration-color: #00af00\">0</span> (unbuilt) │\n",
       "│ (<span style=\"color: #0087ff; text-decoration-color: #0087ff\">SimpleRNN</span>)                     │                        │               │\n",
       "├─────────────────────────────────┼────────────────────────┼───────────────┤\n",
       "│ simplernn_1_simplernn           │ ?                      │   <span style=\"color: #00af00; text-decoration-color: #00af00\">0</span> (unbuilt) │\n",
       "│ (<span style=\"color: #0087ff; text-decoration-color: #0087ff\">SimpleRNN</span>)                     │                        │               │\n",
       "├─────────────────────────────────┼────────────────────────┼───────────────┤\n",
       "│ simplernn_2_simplernn           │ ?                      │   <span style=\"color: #00af00; text-decoration-color: #00af00\">0</span> (unbuilt) │\n",
       "│ (<span style=\"color: #0087ff; text-decoration-color: #0087ff\">SimpleRNN</span>)                     │                        │               │\n",
       "├─────────────────────────────────┼────────────────────────┼───────────────┤\n",
       "│ simplernn_3_simplernn           │ ?                      │   <span style=\"color: #00af00; text-decoration-color: #00af00\">0</span> (unbuilt) │\n",
       "│ (<span style=\"color: #0087ff; text-decoration-color: #0087ff\">SimpleRNN</span>)                     │                        │               │\n",
       "├─────────────────────────────────┼────────────────────────┼───────────────┤\n",
       "│ simplernn_4_simplernn           │ ?                      │   <span style=\"color: #00af00; text-decoration-color: #00af00\">0</span> (unbuilt) │\n",
       "│ (<span style=\"color: #0087ff; text-decoration-color: #0087ff\">SimpleRNN</span>)                     │                        │               │\n",
       "├─────────────────────────────────┼────────────────────────┼───────────────┤\n",
       "│ simplernn_5_simplernn           │ ?                      │   <span style=\"color: #00af00; text-decoration-color: #00af00\">0</span> (unbuilt) │\n",
       "│ (<span style=\"color: #0087ff; text-decoration-color: #0087ff\">SimpleRNN</span>)                     │                        │               │\n",
       "├─────────────────────────────────┼────────────────────────┼───────────────┤\n",
       "│ simplernn_6_simplernn           │ ?                      │   <span style=\"color: #00af00; text-decoration-color: #00af00\">0</span> (unbuilt) │\n",
       "│ (<span style=\"color: #0087ff; text-decoration-color: #0087ff\">SimpleRNN</span>)                     │                        │               │\n",
       "├─────────────────────────────────┼────────────────────────┼───────────────┤\n",
       "│ dropout (<span style=\"color: #0087ff; text-decoration-color: #0087ff\">Dropout</span>)               │ ?                      │             <span style=\"color: #00af00; text-decoration-color: #00af00\">0</span> │\n",
       "├─────────────────────────────────┼────────────────────────┼───────────────┤\n",
       "│ output (<span style=\"color: #0087ff; text-decoration-color: #0087ff\">Dense</span>)                  │ ?                      │   <span style=\"color: #00af00; text-decoration-color: #00af00\">0</span> (unbuilt) │\n",
       "└─────────────────────────────────┴────────────────────────┴───────────────┘\n",
       "</pre>\n"
      ],
      "text/plain": [
       "┏━━━━━━━━━━━━━━━━━━━━━━━━━━━━━━━━━┳━━━━━━━━━━━━━━━━━━━━━━━━┳━━━━━━━━━━━━━━━┓\n",
       "┃\u001b[1m \u001b[0m\u001b[1mLayer (type)                   \u001b[0m\u001b[1m \u001b[0m┃\u001b[1m \u001b[0m\u001b[1mOutput Shape          \u001b[0m\u001b[1m \u001b[0m┃\u001b[1m \u001b[0m\u001b[1m      Param #\u001b[0m\u001b[1m \u001b[0m┃\n",
       "┡━━━━━━━━━━━━━━━━━━━━━━━━━━━━━━━━━╇━━━━━━━━━━━━━━━━━━━━━━━━╇━━━━━━━━━━━━━━━┩\n",
       "│ embedding (\u001b[38;5;33mEmbedding\u001b[0m)           │ ?                      │   \u001b[38;5;34m0\u001b[0m (unbuilt) │\n",
       "├─────────────────────────────────┼────────────────────────┼───────────────┤\n",
       "│ simplernn_0_simplernn           │ ?                      │   \u001b[38;5;34m0\u001b[0m (unbuilt) │\n",
       "│ (\u001b[38;5;33mSimpleRNN\u001b[0m)                     │                        │               │\n",
       "├─────────────────────────────────┼────────────────────────┼───────────────┤\n",
       "│ simplernn_1_simplernn           │ ?                      │   \u001b[38;5;34m0\u001b[0m (unbuilt) │\n",
       "│ (\u001b[38;5;33mSimpleRNN\u001b[0m)                     │                        │               │\n",
       "├─────────────────────────────────┼────────────────────────┼───────────────┤\n",
       "│ simplernn_2_simplernn           │ ?                      │   \u001b[38;5;34m0\u001b[0m (unbuilt) │\n",
       "│ (\u001b[38;5;33mSimpleRNN\u001b[0m)                     │                        │               │\n",
       "├─────────────────────────────────┼────────────────────────┼───────────────┤\n",
       "│ simplernn_3_simplernn           │ ?                      │   \u001b[38;5;34m0\u001b[0m (unbuilt) │\n",
       "│ (\u001b[38;5;33mSimpleRNN\u001b[0m)                     │                        │               │\n",
       "├─────────────────────────────────┼────────────────────────┼───────────────┤\n",
       "│ simplernn_4_simplernn           │ ?                      │   \u001b[38;5;34m0\u001b[0m (unbuilt) │\n",
       "│ (\u001b[38;5;33mSimpleRNN\u001b[0m)                     │                        │               │\n",
       "├─────────────────────────────────┼────────────────────────┼───────────────┤\n",
       "│ simplernn_5_simplernn           │ ?                      │   \u001b[38;5;34m0\u001b[0m (unbuilt) │\n",
       "│ (\u001b[38;5;33mSimpleRNN\u001b[0m)                     │                        │               │\n",
       "├─────────────────────────────────┼────────────────────────┼───────────────┤\n",
       "│ simplernn_6_simplernn           │ ?                      │   \u001b[38;5;34m0\u001b[0m (unbuilt) │\n",
       "│ (\u001b[38;5;33mSimpleRNN\u001b[0m)                     │                        │               │\n",
       "├─────────────────────────────────┼────────────────────────┼───────────────┤\n",
       "│ dropout (\u001b[38;5;33mDropout\u001b[0m)               │ ?                      │             \u001b[38;5;34m0\u001b[0m │\n",
       "├─────────────────────────────────┼────────────────────────┼───────────────┤\n",
       "│ output (\u001b[38;5;33mDense\u001b[0m)                  │ ?                      │   \u001b[38;5;34m0\u001b[0m (unbuilt) │\n",
       "└─────────────────────────────────┴────────────────────────┴───────────────┘\n"
      ]
     },
     "metadata": {},
     "output_type": "display_data"
    },
    {
     "data": {
      "text/html": [
       "<pre style=\"white-space:pre;overflow-x:auto;line-height:normal;font-family:Menlo,'DejaVu Sans Mono',consolas,'Courier New',monospace\"><span style=\"font-weight: bold\"> Total params: </span><span style=\"color: #00af00; text-decoration-color: #00af00\">0</span> (0.00 B)\n",
       "</pre>\n"
      ],
      "text/plain": [
       "\u001b[1m Total params: \u001b[0m\u001b[38;5;34m0\u001b[0m (0.00 B)\n"
      ]
     },
     "metadata": {},
     "output_type": "display_data"
    },
    {
     "data": {
      "text/html": [
       "<pre style=\"white-space:pre;overflow-x:auto;line-height:normal;font-family:Menlo,'DejaVu Sans Mono',consolas,'Courier New',monospace\"><span style=\"font-weight: bold\"> Trainable params: </span><span style=\"color: #00af00; text-decoration-color: #00af00\">0</span> (0.00 B)\n",
       "</pre>\n"
      ],
      "text/plain": [
       "\u001b[1m Trainable params: \u001b[0m\u001b[38;5;34m0\u001b[0m (0.00 B)\n"
      ]
     },
     "metadata": {},
     "output_type": "display_data"
    },
    {
     "data": {
      "text/html": [
       "<pre style=\"white-space:pre;overflow-x:auto;line-height:normal;font-family:Menlo,'DejaVu Sans Mono',consolas,'Courier New',monospace\"><span style=\"font-weight: bold\"> Non-trainable params: </span><span style=\"color: #00af00; text-decoration-color: #00af00\">0</span> (0.00 B)\n",
       "</pre>\n"
      ],
      "text/plain": [
       "\u001b[1m Non-trainable params: \u001b[0m\u001b[38;5;34m0\u001b[0m (0.00 B)\n"
      ]
     },
     "metadata": {},
     "output_type": "display_data"
    },
    {
     "name": "stdout",
     "output_type": "stream",
     "text": [
      "Training Keras model: NumLayers_7_Units_32_Dir_Uni\n",
      "Epoch 1/15\n",
      "10/10 - 8s - 779ms/step - accuracy: 0.3360 - loss: 1.3150 - val_accuracy: 0.3800 - val_loss: 1.0915\n",
      "Epoch 2/15\n",
      "10/10 - 1s - 75ms/step - accuracy: 0.3760 - loss: 1.2222 - val_accuracy: 0.3800 - val_loss: 1.0862\n",
      "Epoch 3/15\n",
      "10/10 - 1s - 77ms/step - accuracy: 0.3540 - loss: 1.1982 - val_accuracy: 0.3800 - val_loss: 1.0893\n",
      "Epoch 4/15\n",
      "10/10 - 1s - 81ms/step - accuracy: 0.3180 - loss: 1.1762 - val_accuracy: 0.2400 - val_loss: 1.1129\n",
      "Epoch 5/15\n",
      "10/10 - 1s - 77ms/step - accuracy: 0.3360 - loss: 1.2020 - val_accuracy: 0.3800 - val_loss: 1.0822\n",
      "Epoch 6/15\n",
      "10/10 - 1s - 80ms/step - accuracy: 0.3080 - loss: 1.1758 - val_accuracy: 0.3800 - val_loss: 1.0780\n",
      "Epoch 7/15\n",
      "10/10 - 1s - 78ms/step - accuracy: 0.3400 - loss: 1.1333 - val_accuracy: 0.3900 - val_loss: 1.0745\n",
      "Epoch 8/15\n",
      "10/10 - 1s - 78ms/step - accuracy: 0.4580 - loss: 1.0205 - val_accuracy: 0.4100 - val_loss: 1.0874\n",
      "Epoch 9/15\n",
      "10/10 - 1s - 76ms/step - accuracy: 0.4900 - loss: 0.9514 - val_accuracy: 0.3600 - val_loss: 1.1393\n",
      "Epoch 10/15\n",
      "10/10 - 1s - 76ms/step - accuracy: 0.5460 - loss: 0.8516 - val_accuracy: 0.4400 - val_loss: 1.2110\n",
      "Epoch 11/15\n",
      "10/10 - 1s - 79ms/step - accuracy: 0.6480 - loss: 0.7754 - val_accuracy: 0.3100 - val_loss: 1.4138\n",
      "Epoch 12/15\n",
      "10/10 - 1s - 77ms/step - accuracy: 0.5980 - loss: 0.8143 - val_accuracy: 0.4200 - val_loss: 1.2746\n",
      "Epoch 13/15\n",
      "10/10 - 1s - 78ms/step - accuracy: 0.7220 - loss: 0.6487 - val_accuracy: 0.3700 - val_loss: 1.3826\n",
      "Epoch 14/15\n",
      "10/10 - 1s - 77ms/step - accuracy: 0.7380 - loss: 0.5890 - val_accuracy: 0.3700 - val_loss: 1.4461\n",
      "Epoch 15/15\n",
      "10/10 - 1s - 76ms/step - accuracy: 0.7860 - loss: 0.5215 - val_accuracy: 0.3800 - val_loss: 1.4980\n",
      "Saved Keras weights to src/recurrent-neural-network/results/weights/keras_rnn_NumLayers_7_Units_32_Dir_Uni.weights.h5\n",
      "Saved plot to src/recurrent-neural-network/results/plots/experiment_NumLayers_7_Units_32_Dir_Uni_history.png\n",
      "\u001b[1m8/8\u001b[0m \u001b[32m━━━━━━━━━━━━━━━━━━━━\u001b[0m\u001b[37m\u001b[0m \u001b[1m1s\u001b[0m 23ms/step\n",
      "[Keras - NumLayers_7_Units_32_Dir_Uni] Test Macro F1-score: 0.3582\n",
      "\n",
      "--- Running Experiment 4/8: NumLayers_5_Units_32_Dir_Uni ---\n"
     ]
    },
    {
     "name": "stderr",
     "output_type": "stream",
     "text": [
      "c:\\Python312\\Lib\\site-packages\\keras\\src\\layers\\core\\embedding.py:90: UserWarning: Argument `input_length` is deprecated. Just remove it.\n",
      "  warnings.warn(\n"
     ]
    },
    {
     "data": {
      "text/html": [
       "<pre style=\"white-space:pre;overflow-x:auto;line-height:normal;font-family:Menlo,'DejaVu Sans Mono',consolas,'Courier New',monospace\"><span style=\"font-weight: bold\">Model: \"sequential_3\"</span>\n",
       "</pre>\n"
      ],
      "text/plain": [
       "\u001b[1mModel: \"sequential_3\"\u001b[0m\n"
      ]
     },
     "metadata": {},
     "output_type": "display_data"
    },
    {
     "data": {
      "text/html": [
       "<pre style=\"white-space:pre;overflow-x:auto;line-height:normal;font-family:Menlo,'DejaVu Sans Mono',consolas,'Courier New',monospace\">┏━━━━━━━━━━━━━━━━━━━━━━━━━━━━━━━━━┳━━━━━━━━━━━━━━━━━━━━━━━━┳━━━━━━━━━━━━━━━┓\n",
       "┃<span style=\"font-weight: bold\"> Layer (type)                    </span>┃<span style=\"font-weight: bold\"> Output Shape           </span>┃<span style=\"font-weight: bold\">       Param # </span>┃\n",
       "┡━━━━━━━━━━━━━━━━━━━━━━━━━━━━━━━━━╇━━━━━━━━━━━━━━━━━━━━━━━━╇━━━━━━━━━━━━━━━┩\n",
       "│ embedding (<span style=\"color: #0087ff; text-decoration-color: #0087ff\">Embedding</span>)           │ ?                      │   <span style=\"color: #00af00; text-decoration-color: #00af00\">0</span> (unbuilt) │\n",
       "├─────────────────────────────────┼────────────────────────┼───────────────┤\n",
       "│ simplernn_0_simplernn           │ ?                      │   <span style=\"color: #00af00; text-decoration-color: #00af00\">0</span> (unbuilt) │\n",
       "│ (<span style=\"color: #0087ff; text-decoration-color: #0087ff\">SimpleRNN</span>)                     │                        │               │\n",
       "├─────────────────────────────────┼────────────────────────┼───────────────┤\n",
       "│ simplernn_1_simplernn           │ ?                      │   <span style=\"color: #00af00; text-decoration-color: #00af00\">0</span> (unbuilt) │\n",
       "│ (<span style=\"color: #0087ff; text-decoration-color: #0087ff\">SimpleRNN</span>)                     │                        │               │\n",
       "├─────────────────────────────────┼────────────────────────┼───────────────┤\n",
       "│ simplernn_2_simplernn           │ ?                      │   <span style=\"color: #00af00; text-decoration-color: #00af00\">0</span> (unbuilt) │\n",
       "│ (<span style=\"color: #0087ff; text-decoration-color: #0087ff\">SimpleRNN</span>)                     │                        │               │\n",
       "├─────────────────────────────────┼────────────────────────┼───────────────┤\n",
       "│ simplernn_3_simplernn           │ ?                      │   <span style=\"color: #00af00; text-decoration-color: #00af00\">0</span> (unbuilt) │\n",
       "│ (<span style=\"color: #0087ff; text-decoration-color: #0087ff\">SimpleRNN</span>)                     │                        │               │\n",
       "├─────────────────────────────────┼────────────────────────┼───────────────┤\n",
       "│ simplernn_4_simplernn           │ ?                      │   <span style=\"color: #00af00; text-decoration-color: #00af00\">0</span> (unbuilt) │\n",
       "│ (<span style=\"color: #0087ff; text-decoration-color: #0087ff\">SimpleRNN</span>)                     │                        │               │\n",
       "├─────────────────────────────────┼────────────────────────┼───────────────┤\n",
       "│ dropout (<span style=\"color: #0087ff; text-decoration-color: #0087ff\">Dropout</span>)               │ ?                      │             <span style=\"color: #00af00; text-decoration-color: #00af00\">0</span> │\n",
       "├─────────────────────────────────┼────────────────────────┼───────────────┤\n",
       "│ output (<span style=\"color: #0087ff; text-decoration-color: #0087ff\">Dense</span>)                  │ ?                      │   <span style=\"color: #00af00; text-decoration-color: #00af00\">0</span> (unbuilt) │\n",
       "└─────────────────────────────────┴────────────────────────┴───────────────┘\n",
       "</pre>\n"
      ],
      "text/plain": [
       "┏━━━━━━━━━━━━━━━━━━━━━━━━━━━━━━━━━┳━━━━━━━━━━━━━━━━━━━━━━━━┳━━━━━━━━━━━━━━━┓\n",
       "┃\u001b[1m \u001b[0m\u001b[1mLayer (type)                   \u001b[0m\u001b[1m \u001b[0m┃\u001b[1m \u001b[0m\u001b[1mOutput Shape          \u001b[0m\u001b[1m \u001b[0m┃\u001b[1m \u001b[0m\u001b[1m      Param #\u001b[0m\u001b[1m \u001b[0m┃\n",
       "┡━━━━━━━━━━━━━━━━━━━━━━━━━━━━━━━━━╇━━━━━━━━━━━━━━━━━━━━━━━━╇━━━━━━━━━━━━━━━┩\n",
       "│ embedding (\u001b[38;5;33mEmbedding\u001b[0m)           │ ?                      │   \u001b[38;5;34m0\u001b[0m (unbuilt) │\n",
       "├─────────────────────────────────┼────────────────────────┼───────────────┤\n",
       "│ simplernn_0_simplernn           │ ?                      │   \u001b[38;5;34m0\u001b[0m (unbuilt) │\n",
       "│ (\u001b[38;5;33mSimpleRNN\u001b[0m)                     │                        │               │\n",
       "├─────────────────────────────────┼────────────────────────┼───────────────┤\n",
       "│ simplernn_1_simplernn           │ ?                      │   \u001b[38;5;34m0\u001b[0m (unbuilt) │\n",
       "│ (\u001b[38;5;33mSimpleRNN\u001b[0m)                     │                        │               │\n",
       "├─────────────────────────────────┼────────────────────────┼───────────────┤\n",
       "│ simplernn_2_simplernn           │ ?                      │   \u001b[38;5;34m0\u001b[0m (unbuilt) │\n",
       "│ (\u001b[38;5;33mSimpleRNN\u001b[0m)                     │                        │               │\n",
       "├─────────────────────────────────┼────────────────────────┼───────────────┤\n",
       "│ simplernn_3_simplernn           │ ?                      │   \u001b[38;5;34m0\u001b[0m (unbuilt) │\n",
       "│ (\u001b[38;5;33mSimpleRNN\u001b[0m)                     │                        │               │\n",
       "├─────────────────────────────────┼────────────────────────┼───────────────┤\n",
       "│ simplernn_4_simplernn           │ ?                      │   \u001b[38;5;34m0\u001b[0m (unbuilt) │\n",
       "│ (\u001b[38;5;33mSimpleRNN\u001b[0m)                     │                        │               │\n",
       "├─────────────────────────────────┼────────────────────────┼───────────────┤\n",
       "│ dropout (\u001b[38;5;33mDropout\u001b[0m)               │ ?                      │             \u001b[38;5;34m0\u001b[0m │\n",
       "├─────────────────────────────────┼────────────────────────┼───────────────┤\n",
       "│ output (\u001b[38;5;33mDense\u001b[0m)                  │ ?                      │   \u001b[38;5;34m0\u001b[0m (unbuilt) │\n",
       "└─────────────────────────────────┴────────────────────────┴───────────────┘\n"
      ]
     },
     "metadata": {},
     "output_type": "display_data"
    },
    {
     "data": {
      "text/html": [
       "<pre style=\"white-space:pre;overflow-x:auto;line-height:normal;font-family:Menlo,'DejaVu Sans Mono',consolas,'Courier New',monospace\"><span style=\"font-weight: bold\"> Total params: </span><span style=\"color: #00af00; text-decoration-color: #00af00\">0</span> (0.00 B)\n",
       "</pre>\n"
      ],
      "text/plain": [
       "\u001b[1m Total params: \u001b[0m\u001b[38;5;34m0\u001b[0m (0.00 B)\n"
      ]
     },
     "metadata": {},
     "output_type": "display_data"
    },
    {
     "data": {
      "text/html": [
       "<pre style=\"white-space:pre;overflow-x:auto;line-height:normal;font-family:Menlo,'DejaVu Sans Mono',consolas,'Courier New',monospace\"><span style=\"font-weight: bold\"> Trainable params: </span><span style=\"color: #00af00; text-decoration-color: #00af00\">0</span> (0.00 B)\n",
       "</pre>\n"
      ],
      "text/plain": [
       "\u001b[1m Trainable params: \u001b[0m\u001b[38;5;34m0\u001b[0m (0.00 B)\n"
      ]
     },
     "metadata": {},
     "output_type": "display_data"
    },
    {
     "data": {
      "text/html": [
       "<pre style=\"white-space:pre;overflow-x:auto;line-height:normal;font-family:Menlo,'DejaVu Sans Mono',consolas,'Courier New',monospace\"><span style=\"font-weight: bold\"> Non-trainable params: </span><span style=\"color: #00af00; text-decoration-color: #00af00\">0</span> (0.00 B)\n",
       "</pre>\n"
      ],
      "text/plain": [
       "\u001b[1m Non-trainable params: \u001b[0m\u001b[38;5;34m0\u001b[0m (0.00 B)\n"
      ]
     },
     "metadata": {},
     "output_type": "display_data"
    },
    {
     "name": "stdout",
     "output_type": "stream",
     "text": [
      "Training Keras model: NumLayers_5_Units_32_Dir_Uni\n",
      "Epoch 1/15\n",
      "10/10 - 6s - 615ms/step - accuracy: 0.3540 - loss: 1.2609 - val_accuracy: 0.3900 - val_loss: 1.0969\n",
      "Epoch 2/15\n",
      "10/10 - 1s - 67ms/step - accuracy: 0.3580 - loss: 1.1942 - val_accuracy: 0.3800 - val_loss: 1.0887\n",
      "Epoch 3/15\n",
      "10/10 - 1s - 63ms/step - accuracy: 0.3820 - loss: 1.1325 - val_accuracy: 0.4600 - val_loss: 1.0688\n",
      "Epoch 4/15\n",
      "10/10 - 1s - 66ms/step - accuracy: 0.5440 - loss: 1.0018 - val_accuracy: 0.4000 - val_loss: 1.1612\n",
      "Epoch 5/15\n",
      "10/10 - 1s - 63ms/step - accuracy: 0.6500 - loss: 0.7998 - val_accuracy: 0.3700 - val_loss: 1.2784\n",
      "Epoch 6/15\n",
      "10/10 - 1s - 64ms/step - accuracy: 0.7900 - loss: 0.5823 - val_accuracy: 0.3800 - val_loss: 1.3834\n",
      "Epoch 7/15\n",
      "10/10 - 1s - 64ms/step - accuracy: 0.8540 - loss: 0.4383 - val_accuracy: 0.3500 - val_loss: 1.5761\n",
      "Epoch 8/15\n",
      "10/10 - 1s - 62ms/step - accuracy: 0.9120 - loss: 0.2834 - val_accuracy: 0.3500 - val_loss: 1.9468\n",
      "Epoch 9/15\n",
      "10/10 - 1s - 64ms/step - accuracy: 0.9600 - loss: 0.1744 - val_accuracy: 0.3700 - val_loss: 1.6769\n",
      "Epoch 10/15\n",
      "10/10 - 1s - 67ms/step - accuracy: 0.9780 - loss: 0.1257 - val_accuracy: 0.3700 - val_loss: 1.8089\n",
      "Epoch 11/15\n",
      "10/10 - 1s - 63ms/step - accuracy: 0.9860 - loss: 0.0939 - val_accuracy: 0.3600 - val_loss: 2.0022\n",
      "Epoch 12/15\n",
      "10/10 - 1s - 62ms/step - accuracy: 0.9940 - loss: 0.0634 - val_accuracy: 0.3500 - val_loss: 2.0867\n",
      "Epoch 13/15\n",
      "10/10 - 1s - 64ms/step - accuracy: 0.9960 - loss: 0.0554 - val_accuracy: 0.4000 - val_loss: 1.9875\n",
      "Epoch 14/15\n",
      "10/10 - 1s - 63ms/step - accuracy: 0.9960 - loss: 0.0431 - val_accuracy: 0.3700 - val_loss: 2.1707\n",
      "Epoch 15/15\n",
      "10/10 - 1s - 63ms/step - accuracy: 1.0000 - loss: 0.0303 - val_accuracy: 0.3800 - val_loss: 2.1745\n",
      "Saved Keras weights to src/recurrent-neural-network/results/weights/keras_rnn_NumLayers_5_Units_32_Dir_Uni.weights.h5\n",
      "Saved plot to src/recurrent-neural-network/results/plots/experiment_NumLayers_5_Units_32_Dir_Uni_history.png\n",
      "\u001b[1m8/8\u001b[0m \u001b[32m━━━━━━━━━━━━━━━━━━━━\u001b[0m\u001b[37m\u001b[0m \u001b[1m1s\u001b[0m 16ms/step\n",
      "[Keras - NumLayers_5_Units_32_Dir_Uni] Test Macro F1-score: 0.3493\n",
      "\n",
      "--- Running Experiment 5/8: NumLayers_5_Units_64_Dir_Uni ---\n"
     ]
    },
    {
     "name": "stderr",
     "output_type": "stream",
     "text": [
      "c:\\Python312\\Lib\\site-packages\\keras\\src\\layers\\core\\embedding.py:90: UserWarning: Argument `input_length` is deprecated. Just remove it.\n",
      "  warnings.warn(\n"
     ]
    },
    {
     "data": {
      "text/html": [
       "<pre style=\"white-space:pre;overflow-x:auto;line-height:normal;font-family:Menlo,'DejaVu Sans Mono',consolas,'Courier New',monospace\"><span style=\"font-weight: bold\">Model: \"sequential_4\"</span>\n",
       "</pre>\n"
      ],
      "text/plain": [
       "\u001b[1mModel: \"sequential_4\"\u001b[0m\n"
      ]
     },
     "metadata": {},
     "output_type": "display_data"
    },
    {
     "data": {
      "text/html": [
       "<pre style=\"white-space:pre;overflow-x:auto;line-height:normal;font-family:Menlo,'DejaVu Sans Mono',consolas,'Courier New',monospace\">┏━━━━━━━━━━━━━━━━━━━━━━━━━━━━━━━━━┳━━━━━━━━━━━━━━━━━━━━━━━━┳━━━━━━━━━━━━━━━┓\n",
       "┃<span style=\"font-weight: bold\"> Layer (type)                    </span>┃<span style=\"font-weight: bold\"> Output Shape           </span>┃<span style=\"font-weight: bold\">       Param # </span>┃\n",
       "┡━━━━━━━━━━━━━━━━━━━━━━━━━━━━━━━━━╇━━━━━━━━━━━━━━━━━━━━━━━━╇━━━━━━━━━━━━━━━┩\n",
       "│ embedding (<span style=\"color: #0087ff; text-decoration-color: #0087ff\">Embedding</span>)           │ ?                      │   <span style=\"color: #00af00; text-decoration-color: #00af00\">0</span> (unbuilt) │\n",
       "├─────────────────────────────────┼────────────────────────┼───────────────┤\n",
       "│ simplernn_0_simplernn           │ ?                      │   <span style=\"color: #00af00; text-decoration-color: #00af00\">0</span> (unbuilt) │\n",
       "│ (<span style=\"color: #0087ff; text-decoration-color: #0087ff\">SimpleRNN</span>)                     │                        │               │\n",
       "├─────────────────────────────────┼────────────────────────┼───────────────┤\n",
       "│ simplernn_1_simplernn           │ ?                      │   <span style=\"color: #00af00; text-decoration-color: #00af00\">0</span> (unbuilt) │\n",
       "│ (<span style=\"color: #0087ff; text-decoration-color: #0087ff\">SimpleRNN</span>)                     │                        │               │\n",
       "├─────────────────────────────────┼────────────────────────┼───────────────┤\n",
       "│ simplernn_2_simplernn           │ ?                      │   <span style=\"color: #00af00; text-decoration-color: #00af00\">0</span> (unbuilt) │\n",
       "│ (<span style=\"color: #0087ff; text-decoration-color: #0087ff\">SimpleRNN</span>)                     │                        │               │\n",
       "├─────────────────────────────────┼────────────────────────┼───────────────┤\n",
       "│ simplernn_3_simplernn           │ ?                      │   <span style=\"color: #00af00; text-decoration-color: #00af00\">0</span> (unbuilt) │\n",
       "│ (<span style=\"color: #0087ff; text-decoration-color: #0087ff\">SimpleRNN</span>)                     │                        │               │\n",
       "├─────────────────────────────────┼────────────────────────┼───────────────┤\n",
       "│ simplernn_4_simplernn           │ ?                      │   <span style=\"color: #00af00; text-decoration-color: #00af00\">0</span> (unbuilt) │\n",
       "│ (<span style=\"color: #0087ff; text-decoration-color: #0087ff\">SimpleRNN</span>)                     │                        │               │\n",
       "├─────────────────────────────────┼────────────────────────┼───────────────┤\n",
       "│ dropout (<span style=\"color: #0087ff; text-decoration-color: #0087ff\">Dropout</span>)               │ ?                      │             <span style=\"color: #00af00; text-decoration-color: #00af00\">0</span> │\n",
       "├─────────────────────────────────┼────────────────────────┼───────────────┤\n",
       "│ output (<span style=\"color: #0087ff; text-decoration-color: #0087ff\">Dense</span>)                  │ ?                      │   <span style=\"color: #00af00; text-decoration-color: #00af00\">0</span> (unbuilt) │\n",
       "└─────────────────────────────────┴────────────────────────┴───────────────┘\n",
       "</pre>\n"
      ],
      "text/plain": [
       "┏━━━━━━━━━━━━━━━━━━━━━━━━━━━━━━━━━┳━━━━━━━━━━━━━━━━━━━━━━━━┳━━━━━━━━━━━━━━━┓\n",
       "┃\u001b[1m \u001b[0m\u001b[1mLayer (type)                   \u001b[0m\u001b[1m \u001b[0m┃\u001b[1m \u001b[0m\u001b[1mOutput Shape          \u001b[0m\u001b[1m \u001b[0m┃\u001b[1m \u001b[0m\u001b[1m      Param #\u001b[0m\u001b[1m \u001b[0m┃\n",
       "┡━━━━━━━━━━━━━━━━━━━━━━━━━━━━━━━━━╇━━━━━━━━━━━━━━━━━━━━━━━━╇━━━━━━━━━━━━━━━┩\n",
       "│ embedding (\u001b[38;5;33mEmbedding\u001b[0m)           │ ?                      │   \u001b[38;5;34m0\u001b[0m (unbuilt) │\n",
       "├─────────────────────────────────┼────────────────────────┼───────────────┤\n",
       "│ simplernn_0_simplernn           │ ?                      │   \u001b[38;5;34m0\u001b[0m (unbuilt) │\n",
       "│ (\u001b[38;5;33mSimpleRNN\u001b[0m)                     │                        │               │\n",
       "├─────────────────────────────────┼────────────────────────┼───────────────┤\n",
       "│ simplernn_1_simplernn           │ ?                      │   \u001b[38;5;34m0\u001b[0m (unbuilt) │\n",
       "│ (\u001b[38;5;33mSimpleRNN\u001b[0m)                     │                        │               │\n",
       "├─────────────────────────────────┼────────────────────────┼───────────────┤\n",
       "│ simplernn_2_simplernn           │ ?                      │   \u001b[38;5;34m0\u001b[0m (unbuilt) │\n",
       "│ (\u001b[38;5;33mSimpleRNN\u001b[0m)                     │                        │               │\n",
       "├─────────────────────────────────┼────────────────────────┼───────────────┤\n",
       "│ simplernn_3_simplernn           │ ?                      │   \u001b[38;5;34m0\u001b[0m (unbuilt) │\n",
       "│ (\u001b[38;5;33mSimpleRNN\u001b[0m)                     │                        │               │\n",
       "├─────────────────────────────────┼────────────────────────┼───────────────┤\n",
       "│ simplernn_4_simplernn           │ ?                      │   \u001b[38;5;34m0\u001b[0m (unbuilt) │\n",
       "│ (\u001b[38;5;33mSimpleRNN\u001b[0m)                     │                        │               │\n",
       "├─────────────────────────────────┼────────────────────────┼───────────────┤\n",
       "│ dropout (\u001b[38;5;33mDropout\u001b[0m)               │ ?                      │             \u001b[38;5;34m0\u001b[0m │\n",
       "├─────────────────────────────────┼────────────────────────┼───────────────┤\n",
       "│ output (\u001b[38;5;33mDense\u001b[0m)                  │ ?                      │   \u001b[38;5;34m0\u001b[0m (unbuilt) │\n",
       "└─────────────────────────────────┴────────────────────────┴───────────────┘\n"
      ]
     },
     "metadata": {},
     "output_type": "display_data"
    },
    {
     "data": {
      "text/html": [
       "<pre style=\"white-space:pre;overflow-x:auto;line-height:normal;font-family:Menlo,'DejaVu Sans Mono',consolas,'Courier New',monospace\"><span style=\"font-weight: bold\"> Total params: </span><span style=\"color: #00af00; text-decoration-color: #00af00\">0</span> (0.00 B)\n",
       "</pre>\n"
      ],
      "text/plain": [
       "\u001b[1m Total params: \u001b[0m\u001b[38;5;34m0\u001b[0m (0.00 B)\n"
      ]
     },
     "metadata": {},
     "output_type": "display_data"
    },
    {
     "data": {
      "text/html": [
       "<pre style=\"white-space:pre;overflow-x:auto;line-height:normal;font-family:Menlo,'DejaVu Sans Mono',consolas,'Courier New',monospace\"><span style=\"font-weight: bold\"> Trainable params: </span><span style=\"color: #00af00; text-decoration-color: #00af00\">0</span> (0.00 B)\n",
       "</pre>\n"
      ],
      "text/plain": [
       "\u001b[1m Trainable params: \u001b[0m\u001b[38;5;34m0\u001b[0m (0.00 B)\n"
      ]
     },
     "metadata": {},
     "output_type": "display_data"
    },
    {
     "data": {
      "text/html": [
       "<pre style=\"white-space:pre;overflow-x:auto;line-height:normal;font-family:Menlo,'DejaVu Sans Mono',consolas,'Courier New',monospace\"><span style=\"font-weight: bold\"> Non-trainable params: </span><span style=\"color: #00af00; text-decoration-color: #00af00\">0</span> (0.00 B)\n",
       "</pre>\n"
      ],
      "text/plain": [
       "\u001b[1m Non-trainable params: \u001b[0m\u001b[38;5;34m0\u001b[0m (0.00 B)\n"
      ]
     },
     "metadata": {},
     "output_type": "display_data"
    },
    {
     "name": "stdout",
     "output_type": "stream",
     "text": [
      "Training Keras model: NumLayers_5_Units_64_Dir_Uni\n",
      "Epoch 1/15\n",
      "10/10 - 7s - 705ms/step - accuracy: 0.3680 - loss: 1.3699 - val_accuracy: 0.3800 - val_loss: 1.1592\n",
      "Epoch 2/15\n",
      "10/10 - 1s - 77ms/step - accuracy: 0.3260 - loss: 1.3354 - val_accuracy: 0.3800 - val_loss: 1.1453\n",
      "Epoch 3/15\n",
      "10/10 - 1s - 79ms/step - accuracy: 0.3740 - loss: 1.3131 - val_accuracy: 0.3800 - val_loss: 1.1126\n",
      "Epoch 4/15\n",
      "10/10 - 1s - 81ms/step - accuracy: 0.3580 - loss: 1.2355 - val_accuracy: 0.3800 - val_loss: 1.1117\n",
      "Epoch 5/15\n",
      "10/10 - 1s - 81ms/step - accuracy: 0.3360 - loss: 1.2881 - val_accuracy: 0.3800 - val_loss: 1.0825\n",
      "Epoch 6/15\n",
      "10/10 - 1s - 83ms/step - accuracy: 0.3680 - loss: 1.2423 - val_accuracy: 0.3800 - val_loss: 1.0948\n",
      "Epoch 7/15\n",
      "10/10 - 1s - 78ms/step - accuracy: 0.3640 - loss: 1.1940 - val_accuracy: 0.3800 - val_loss: 1.0822\n",
      "Epoch 8/15\n",
      "10/10 - 1s - 78ms/step - accuracy: 0.3880 - loss: 1.1838 - val_accuracy: 0.3800 - val_loss: 1.0803\n",
      "Epoch 9/15\n",
      "10/10 - 1s - 81ms/step - accuracy: 0.4060 - loss: 1.1319 - val_accuracy: 0.3800 - val_loss: 1.1145\n",
      "Epoch 10/15\n",
      "10/10 - 1s - 79ms/step - accuracy: 0.3580 - loss: 1.2273 - val_accuracy: 0.3700 - val_loss: 1.0822\n",
      "Epoch 11/15\n",
      "10/10 - 1s - 76ms/step - accuracy: 0.3620 - loss: 1.2129 - val_accuracy: 0.4100 - val_loss: 1.1229\n",
      "Epoch 12/15\n",
      "10/10 - 1s - 82ms/step - accuracy: 0.4960 - loss: 1.0834 - val_accuracy: 0.3300 - val_loss: 1.2642\n",
      "Epoch 13/15\n",
      "10/10 - 1s - 79ms/step - accuracy: 0.4420 - loss: 1.1488 - val_accuracy: 0.3600 - val_loss: 1.1537\n",
      "Epoch 14/15\n",
      "10/10 - 1s - 80ms/step - accuracy: 0.4580 - loss: 1.1150 - val_accuracy: 0.4200 - val_loss: 1.1468\n",
      "Epoch 15/15\n",
      "10/10 - 1s - 80ms/step - accuracy: 0.5680 - loss: 0.9678 - val_accuracy: 0.3500 - val_loss: 1.3071\n",
      "Saved Keras weights to src/recurrent-neural-network/results/weights/keras_rnn_NumLayers_5_Units_64_Dir_Uni.weights.h5\n",
      "Saved plot to src/recurrent-neural-network/results/plots/experiment_NumLayers_5_Units_64_Dir_Uni_history.png\n",
      "\u001b[1m8/8\u001b[0m \u001b[32m━━━━━━━━━━━━━━━━━━━━\u001b[0m\u001b[37m\u001b[0m \u001b[1m1s\u001b[0m 22ms/step\n",
      "[Keras - NumLayers_5_Units_64_Dir_Uni] Test Macro F1-score: 0.3425\n",
      "\n",
      "--- Running Experiment 6/8: NumLayers_5_Units_128_Dir_Uni ---\n"
     ]
    },
    {
     "name": "stderr",
     "output_type": "stream",
     "text": [
      "c:\\Python312\\Lib\\site-packages\\keras\\src\\layers\\core\\embedding.py:90: UserWarning: Argument `input_length` is deprecated. Just remove it.\n",
      "  warnings.warn(\n"
     ]
    },
    {
     "data": {
      "text/html": [
       "<pre style=\"white-space:pre;overflow-x:auto;line-height:normal;font-family:Menlo,'DejaVu Sans Mono',consolas,'Courier New',monospace\"><span style=\"font-weight: bold\">Model: \"sequential_5\"</span>\n",
       "</pre>\n"
      ],
      "text/plain": [
       "\u001b[1mModel: \"sequential_5\"\u001b[0m\n"
      ]
     },
     "metadata": {},
     "output_type": "display_data"
    },
    {
     "data": {
      "text/html": [
       "<pre style=\"white-space:pre;overflow-x:auto;line-height:normal;font-family:Menlo,'DejaVu Sans Mono',consolas,'Courier New',monospace\">┏━━━━━━━━━━━━━━━━━━━━━━━━━━━━━━━━━┳━━━━━━━━━━━━━━━━━━━━━━━━┳━━━━━━━━━━━━━━━┓\n",
       "┃<span style=\"font-weight: bold\"> Layer (type)                    </span>┃<span style=\"font-weight: bold\"> Output Shape           </span>┃<span style=\"font-weight: bold\">       Param # </span>┃\n",
       "┡━━━━━━━━━━━━━━━━━━━━━━━━━━━━━━━━━╇━━━━━━━━━━━━━━━━━━━━━━━━╇━━━━━━━━━━━━━━━┩\n",
       "│ embedding (<span style=\"color: #0087ff; text-decoration-color: #0087ff\">Embedding</span>)           │ ?                      │   <span style=\"color: #00af00; text-decoration-color: #00af00\">0</span> (unbuilt) │\n",
       "├─────────────────────────────────┼────────────────────────┼───────────────┤\n",
       "│ simplernn_0_simplernn           │ ?                      │   <span style=\"color: #00af00; text-decoration-color: #00af00\">0</span> (unbuilt) │\n",
       "│ (<span style=\"color: #0087ff; text-decoration-color: #0087ff\">SimpleRNN</span>)                     │                        │               │\n",
       "├─────────────────────────────────┼────────────────────────┼───────────────┤\n",
       "│ simplernn_1_simplernn           │ ?                      │   <span style=\"color: #00af00; text-decoration-color: #00af00\">0</span> (unbuilt) │\n",
       "│ (<span style=\"color: #0087ff; text-decoration-color: #0087ff\">SimpleRNN</span>)                     │                        │               │\n",
       "├─────────────────────────────────┼────────────────────────┼───────────────┤\n",
       "│ simplernn_2_simplernn           │ ?                      │   <span style=\"color: #00af00; text-decoration-color: #00af00\">0</span> (unbuilt) │\n",
       "│ (<span style=\"color: #0087ff; text-decoration-color: #0087ff\">SimpleRNN</span>)                     │                        │               │\n",
       "├─────────────────────────────────┼────────────────────────┼───────────────┤\n",
       "│ simplernn_3_simplernn           │ ?                      │   <span style=\"color: #00af00; text-decoration-color: #00af00\">0</span> (unbuilt) │\n",
       "│ (<span style=\"color: #0087ff; text-decoration-color: #0087ff\">SimpleRNN</span>)                     │                        │               │\n",
       "├─────────────────────────────────┼────────────────────────┼───────────────┤\n",
       "│ simplernn_4_simplernn           │ ?                      │   <span style=\"color: #00af00; text-decoration-color: #00af00\">0</span> (unbuilt) │\n",
       "│ (<span style=\"color: #0087ff; text-decoration-color: #0087ff\">SimpleRNN</span>)                     │                        │               │\n",
       "├─────────────────────────────────┼────────────────────────┼───────────────┤\n",
       "│ dropout (<span style=\"color: #0087ff; text-decoration-color: #0087ff\">Dropout</span>)               │ ?                      │             <span style=\"color: #00af00; text-decoration-color: #00af00\">0</span> │\n",
       "├─────────────────────────────────┼────────────────────────┼───────────────┤\n",
       "│ output (<span style=\"color: #0087ff; text-decoration-color: #0087ff\">Dense</span>)                  │ ?                      │   <span style=\"color: #00af00; text-decoration-color: #00af00\">0</span> (unbuilt) │\n",
       "└─────────────────────────────────┴────────────────────────┴───────────────┘\n",
       "</pre>\n"
      ],
      "text/plain": [
       "┏━━━━━━━━━━━━━━━━━━━━━━━━━━━━━━━━━┳━━━━━━━━━━━━━━━━━━━━━━━━┳━━━━━━━━━━━━━━━┓\n",
       "┃\u001b[1m \u001b[0m\u001b[1mLayer (type)                   \u001b[0m\u001b[1m \u001b[0m┃\u001b[1m \u001b[0m\u001b[1mOutput Shape          \u001b[0m\u001b[1m \u001b[0m┃\u001b[1m \u001b[0m\u001b[1m      Param #\u001b[0m\u001b[1m \u001b[0m┃\n",
       "┡━━━━━━━━━━━━━━━━━━━━━━━━━━━━━━━━━╇━━━━━━━━━━━━━━━━━━━━━━━━╇━━━━━━━━━━━━━━━┩\n",
       "│ embedding (\u001b[38;5;33mEmbedding\u001b[0m)           │ ?                      │   \u001b[38;5;34m0\u001b[0m (unbuilt) │\n",
       "├─────────────────────────────────┼────────────────────────┼───────────────┤\n",
       "│ simplernn_0_simplernn           │ ?                      │   \u001b[38;5;34m0\u001b[0m (unbuilt) │\n",
       "│ (\u001b[38;5;33mSimpleRNN\u001b[0m)                     │                        │               │\n",
       "├─────────────────────────────────┼────────────────────────┼───────────────┤\n",
       "│ simplernn_1_simplernn           │ ?                      │   \u001b[38;5;34m0\u001b[0m (unbuilt) │\n",
       "│ (\u001b[38;5;33mSimpleRNN\u001b[0m)                     │                        │               │\n",
       "├─────────────────────────────────┼────────────────────────┼───────────────┤\n",
       "│ simplernn_2_simplernn           │ ?                      │   \u001b[38;5;34m0\u001b[0m (unbuilt) │\n",
       "│ (\u001b[38;5;33mSimpleRNN\u001b[0m)                     │                        │               │\n",
       "├─────────────────────────────────┼────────────────────────┼───────────────┤\n",
       "│ simplernn_3_simplernn           │ ?                      │   \u001b[38;5;34m0\u001b[0m (unbuilt) │\n",
       "│ (\u001b[38;5;33mSimpleRNN\u001b[0m)                     │                        │               │\n",
       "├─────────────────────────────────┼────────────────────────┼───────────────┤\n",
       "│ simplernn_4_simplernn           │ ?                      │   \u001b[38;5;34m0\u001b[0m (unbuilt) │\n",
       "│ (\u001b[38;5;33mSimpleRNN\u001b[0m)                     │                        │               │\n",
       "├─────────────────────────────────┼────────────────────────┼───────────────┤\n",
       "│ dropout (\u001b[38;5;33mDropout\u001b[0m)               │ ?                      │             \u001b[38;5;34m0\u001b[0m │\n",
       "├─────────────────────────────────┼────────────────────────┼───────────────┤\n",
       "│ output (\u001b[38;5;33mDense\u001b[0m)                  │ ?                      │   \u001b[38;5;34m0\u001b[0m (unbuilt) │\n",
       "└─────────────────────────────────┴────────────────────────┴───────────────┘\n"
      ]
     },
     "metadata": {},
     "output_type": "display_data"
    },
    {
     "data": {
      "text/html": [
       "<pre style=\"white-space:pre;overflow-x:auto;line-height:normal;font-family:Menlo,'DejaVu Sans Mono',consolas,'Courier New',monospace\"><span style=\"font-weight: bold\"> Total params: </span><span style=\"color: #00af00; text-decoration-color: #00af00\">0</span> (0.00 B)\n",
       "</pre>\n"
      ],
      "text/plain": [
       "\u001b[1m Total params: \u001b[0m\u001b[38;5;34m0\u001b[0m (0.00 B)\n"
      ]
     },
     "metadata": {},
     "output_type": "display_data"
    },
    {
     "data": {
      "text/html": [
       "<pre style=\"white-space:pre;overflow-x:auto;line-height:normal;font-family:Menlo,'DejaVu Sans Mono',consolas,'Courier New',monospace\"><span style=\"font-weight: bold\"> Trainable params: </span><span style=\"color: #00af00; text-decoration-color: #00af00\">0</span> (0.00 B)\n",
       "</pre>\n"
      ],
      "text/plain": [
       "\u001b[1m Trainable params: \u001b[0m\u001b[38;5;34m0\u001b[0m (0.00 B)\n"
      ]
     },
     "metadata": {},
     "output_type": "display_data"
    },
    {
     "data": {
      "text/html": [
       "<pre style=\"white-space:pre;overflow-x:auto;line-height:normal;font-family:Menlo,'DejaVu Sans Mono',consolas,'Courier New',monospace\"><span style=\"font-weight: bold\"> Non-trainable params: </span><span style=\"color: #00af00; text-decoration-color: #00af00\">0</span> (0.00 B)\n",
       "</pre>\n"
      ],
      "text/plain": [
       "\u001b[1m Non-trainable params: \u001b[0m\u001b[38;5;34m0\u001b[0m (0.00 B)\n"
      ]
     },
     "metadata": {},
     "output_type": "display_data"
    },
    {
     "name": "stdout",
     "output_type": "stream",
     "text": [
      "Training Keras model: NumLayers_5_Units_128_Dir_Uni\n",
      "Epoch 1/15\n",
      "10/10 - 7s - 668ms/step - accuracy: 0.3440 - loss: 1.4908 - val_accuracy: 0.3800 - val_loss: 1.1051\n",
      "Epoch 2/15\n",
      "10/10 - 1s - 145ms/step - accuracy: 0.3460 - loss: 1.3397 - val_accuracy: 0.3800 - val_loss: 1.1092\n",
      "Epoch 3/15\n",
      "10/10 - 1s - 148ms/step - accuracy: 0.3580 - loss: 1.3536 - val_accuracy: 0.3800 - val_loss: 1.0824\n",
      "Epoch 4/15\n",
      "10/10 - 2s - 156ms/step - accuracy: 0.3140 - loss: 1.3607 - val_accuracy: 0.3800 - val_loss: 1.0881\n",
      "Epoch 5/15\n",
      "10/10 - 2s - 158ms/step - accuracy: 0.3220 - loss: 1.3786 - val_accuracy: 0.3800 - val_loss: 1.1112\n",
      "Epoch 6/15\n",
      "10/10 - 3s - 259ms/step - accuracy: 0.3340 - loss: 1.3489 - val_accuracy: 0.3800 - val_loss: 1.1698\n",
      "Epoch 7/15\n",
      "10/10 - 2s - 156ms/step - accuracy: 0.3440 - loss: 1.3236 - val_accuracy: 0.3800 - val_loss: 1.0878\n",
      "Epoch 8/15\n",
      "10/10 - 2s - 151ms/step - accuracy: 0.3460 - loss: 1.2765 - val_accuracy: 0.3800 - val_loss: 1.0967\n",
      "Epoch 9/15\n",
      "10/10 - 2s - 159ms/step - accuracy: 0.3600 - loss: 1.2360 - val_accuracy: 0.3800 - val_loss: 1.0848\n",
      "Epoch 10/15\n",
      "10/10 - 2s - 160ms/step - accuracy: 0.3560 - loss: 1.2535 - val_accuracy: 0.3800 - val_loss: 1.1186\n",
      "Epoch 11/15\n",
      "10/10 - 2s - 152ms/step - accuracy: 0.3560 - loss: 1.2682 - val_accuracy: 0.3800 - val_loss: 1.0814\n",
      "Epoch 12/15\n",
      "10/10 - 2s - 158ms/step - accuracy: 0.3520 - loss: 1.2426 - val_accuracy: 0.2400 - val_loss: 1.1025\n",
      "Epoch 13/15\n",
      "10/10 - 2s - 156ms/step - accuracy: 0.3600 - loss: 1.2542 - val_accuracy: 0.3800 - val_loss: 1.1009\n",
      "Epoch 14/15\n",
      "10/10 - 2s - 153ms/step - accuracy: 0.3240 - loss: 1.2959 - val_accuracy: 0.3800 - val_loss: 1.0979\n",
      "Epoch 15/15\n",
      "10/10 - 2s - 155ms/step - accuracy: 0.3640 - loss: 1.2172 - val_accuracy: 0.3800 - val_loss: 1.0913\n",
      "Saved Keras weights to src/recurrent-neural-network/results/weights/keras_rnn_NumLayers_5_Units_128_Dir_Uni.weights.h5\n",
      "Saved plot to src/recurrent-neural-network/results/plots/experiment_NumLayers_5_Units_128_Dir_Uni_history.png\n",
      "\u001b[1m8/8\u001b[0m \u001b[32m━━━━━━━━━━━━━━━━━━━━\u001b[0m\u001b[37m\u001b[0m \u001b[1m1s\u001b[0m 44ms/step\n",
      "[Keras - NumLayers_5_Units_128_Dir_Uni] Test Macro F1-score: 0.1800\n",
      "\n",
      "--- Running Experiment 7/8: NumLayers_5_Units_32_Dir_Uni ---\n"
     ]
    },
    {
     "name": "stderr",
     "output_type": "stream",
     "text": [
      "c:\\Python312\\Lib\\site-packages\\keras\\src\\layers\\core\\embedding.py:90: UserWarning: Argument `input_length` is deprecated. Just remove it.\n",
      "  warnings.warn(\n"
     ]
    },
    {
     "data": {
      "text/html": [
       "<pre style=\"white-space:pre;overflow-x:auto;line-height:normal;font-family:Menlo,'DejaVu Sans Mono',consolas,'Courier New',monospace\"><span style=\"font-weight: bold\">Model: \"sequential_6\"</span>\n",
       "</pre>\n"
      ],
      "text/plain": [
       "\u001b[1mModel: \"sequential_6\"\u001b[0m\n"
      ]
     },
     "metadata": {},
     "output_type": "display_data"
    },
    {
     "data": {
      "text/html": [
       "<pre style=\"white-space:pre;overflow-x:auto;line-height:normal;font-family:Menlo,'DejaVu Sans Mono',consolas,'Courier New',monospace\">┏━━━━━━━━━━━━━━━━━━━━━━━━━━━━━━━━━┳━━━━━━━━━━━━━━━━━━━━━━━━┳━━━━━━━━━━━━━━━┓\n",
       "┃<span style=\"font-weight: bold\"> Layer (type)                    </span>┃<span style=\"font-weight: bold\"> Output Shape           </span>┃<span style=\"font-weight: bold\">       Param # </span>┃\n",
       "┡━━━━━━━━━━━━━━━━━━━━━━━━━━━━━━━━━╇━━━━━━━━━━━━━━━━━━━━━━━━╇━━━━━━━━━━━━━━━┩\n",
       "│ embedding (<span style=\"color: #0087ff; text-decoration-color: #0087ff\">Embedding</span>)           │ ?                      │   <span style=\"color: #00af00; text-decoration-color: #00af00\">0</span> (unbuilt) │\n",
       "├─────────────────────────────────┼────────────────────────┼───────────────┤\n",
       "│ simplernn_0_simplernn           │ ?                      │   <span style=\"color: #00af00; text-decoration-color: #00af00\">0</span> (unbuilt) │\n",
       "│ (<span style=\"color: #0087ff; text-decoration-color: #0087ff\">SimpleRNN</span>)                     │                        │               │\n",
       "├─────────────────────────────────┼────────────────────────┼───────────────┤\n",
       "│ simplernn_1_simplernn           │ ?                      │   <span style=\"color: #00af00; text-decoration-color: #00af00\">0</span> (unbuilt) │\n",
       "│ (<span style=\"color: #0087ff; text-decoration-color: #0087ff\">SimpleRNN</span>)                     │                        │               │\n",
       "├─────────────────────────────────┼────────────────────────┼───────────────┤\n",
       "│ simplernn_2_simplernn           │ ?                      │   <span style=\"color: #00af00; text-decoration-color: #00af00\">0</span> (unbuilt) │\n",
       "│ (<span style=\"color: #0087ff; text-decoration-color: #0087ff\">SimpleRNN</span>)                     │                        │               │\n",
       "├─────────────────────────────────┼────────────────────────┼───────────────┤\n",
       "│ simplernn_3_simplernn           │ ?                      │   <span style=\"color: #00af00; text-decoration-color: #00af00\">0</span> (unbuilt) │\n",
       "│ (<span style=\"color: #0087ff; text-decoration-color: #0087ff\">SimpleRNN</span>)                     │                        │               │\n",
       "├─────────────────────────────────┼────────────────────────┼───────────────┤\n",
       "│ simplernn_4_simplernn           │ ?                      │   <span style=\"color: #00af00; text-decoration-color: #00af00\">0</span> (unbuilt) │\n",
       "│ (<span style=\"color: #0087ff; text-decoration-color: #0087ff\">SimpleRNN</span>)                     │                        │               │\n",
       "├─────────────────────────────────┼────────────────────────┼───────────────┤\n",
       "│ dropout (<span style=\"color: #0087ff; text-decoration-color: #0087ff\">Dropout</span>)               │ ?                      │             <span style=\"color: #00af00; text-decoration-color: #00af00\">0</span> │\n",
       "├─────────────────────────────────┼────────────────────────┼───────────────┤\n",
       "│ output (<span style=\"color: #0087ff; text-decoration-color: #0087ff\">Dense</span>)                  │ ?                      │   <span style=\"color: #00af00; text-decoration-color: #00af00\">0</span> (unbuilt) │\n",
       "└─────────────────────────────────┴────────────────────────┴───────────────┘\n",
       "</pre>\n"
      ],
      "text/plain": [
       "┏━━━━━━━━━━━━━━━━━━━━━━━━━━━━━━━━━┳━━━━━━━━━━━━━━━━━━━━━━━━┳━━━━━━━━━━━━━━━┓\n",
       "┃\u001b[1m \u001b[0m\u001b[1mLayer (type)                   \u001b[0m\u001b[1m \u001b[0m┃\u001b[1m \u001b[0m\u001b[1mOutput Shape          \u001b[0m\u001b[1m \u001b[0m┃\u001b[1m \u001b[0m\u001b[1m      Param #\u001b[0m\u001b[1m \u001b[0m┃\n",
       "┡━━━━━━━━━━━━━━━━━━━━━━━━━━━━━━━━━╇━━━━━━━━━━━━━━━━━━━━━━━━╇━━━━━━━━━━━━━━━┩\n",
       "│ embedding (\u001b[38;5;33mEmbedding\u001b[0m)           │ ?                      │   \u001b[38;5;34m0\u001b[0m (unbuilt) │\n",
       "├─────────────────────────────────┼────────────────────────┼───────────────┤\n",
       "│ simplernn_0_simplernn           │ ?                      │   \u001b[38;5;34m0\u001b[0m (unbuilt) │\n",
       "│ (\u001b[38;5;33mSimpleRNN\u001b[0m)                     │                        │               │\n",
       "├─────────────────────────────────┼────────────────────────┼───────────────┤\n",
       "│ simplernn_1_simplernn           │ ?                      │   \u001b[38;5;34m0\u001b[0m (unbuilt) │\n",
       "│ (\u001b[38;5;33mSimpleRNN\u001b[0m)                     │                        │               │\n",
       "├─────────────────────────────────┼────────────────────────┼───────────────┤\n",
       "│ simplernn_2_simplernn           │ ?                      │   \u001b[38;5;34m0\u001b[0m (unbuilt) │\n",
       "│ (\u001b[38;5;33mSimpleRNN\u001b[0m)                     │                        │               │\n",
       "├─────────────────────────────────┼────────────────────────┼───────────────┤\n",
       "│ simplernn_3_simplernn           │ ?                      │   \u001b[38;5;34m0\u001b[0m (unbuilt) │\n",
       "│ (\u001b[38;5;33mSimpleRNN\u001b[0m)                     │                        │               │\n",
       "├─────────────────────────────────┼────────────────────────┼───────────────┤\n",
       "│ simplernn_4_simplernn           │ ?                      │   \u001b[38;5;34m0\u001b[0m (unbuilt) │\n",
       "│ (\u001b[38;5;33mSimpleRNN\u001b[0m)                     │                        │               │\n",
       "├─────────────────────────────────┼────────────────────────┼───────────────┤\n",
       "│ dropout (\u001b[38;5;33mDropout\u001b[0m)               │ ?                      │             \u001b[38;5;34m0\u001b[0m │\n",
       "├─────────────────────────────────┼────────────────────────┼───────────────┤\n",
       "│ output (\u001b[38;5;33mDense\u001b[0m)                  │ ?                      │   \u001b[38;5;34m0\u001b[0m (unbuilt) │\n",
       "└─────────────────────────────────┴────────────────────────┴───────────────┘\n"
      ]
     },
     "metadata": {},
     "output_type": "display_data"
    },
    {
     "data": {
      "text/html": [
       "<pre style=\"white-space:pre;overflow-x:auto;line-height:normal;font-family:Menlo,'DejaVu Sans Mono',consolas,'Courier New',monospace\"><span style=\"font-weight: bold\"> Total params: </span><span style=\"color: #00af00; text-decoration-color: #00af00\">0</span> (0.00 B)\n",
       "</pre>\n"
      ],
      "text/plain": [
       "\u001b[1m Total params: \u001b[0m\u001b[38;5;34m0\u001b[0m (0.00 B)\n"
      ]
     },
     "metadata": {},
     "output_type": "display_data"
    },
    {
     "data": {
      "text/html": [
       "<pre style=\"white-space:pre;overflow-x:auto;line-height:normal;font-family:Menlo,'DejaVu Sans Mono',consolas,'Courier New',monospace\"><span style=\"font-weight: bold\"> Trainable params: </span><span style=\"color: #00af00; text-decoration-color: #00af00\">0</span> (0.00 B)\n",
       "</pre>\n"
      ],
      "text/plain": [
       "\u001b[1m Trainable params: \u001b[0m\u001b[38;5;34m0\u001b[0m (0.00 B)\n"
      ]
     },
     "metadata": {},
     "output_type": "display_data"
    },
    {
     "data": {
      "text/html": [
       "<pre style=\"white-space:pre;overflow-x:auto;line-height:normal;font-family:Menlo,'DejaVu Sans Mono',consolas,'Courier New',monospace\"><span style=\"font-weight: bold\"> Non-trainable params: </span><span style=\"color: #00af00; text-decoration-color: #00af00\">0</span> (0.00 B)\n",
       "</pre>\n"
      ],
      "text/plain": [
       "\u001b[1m Non-trainable params: \u001b[0m\u001b[38;5;34m0\u001b[0m (0.00 B)\n"
      ]
     },
     "metadata": {},
     "output_type": "display_data"
    },
    {
     "name": "stdout",
     "output_type": "stream",
     "text": [
      "Training Keras model: NumLayers_5_Units_32_Dir_Uni\n",
      "Epoch 1/15\n",
      "10/10 - 7s - 659ms/step - accuracy: 0.3040 - loss: 1.2961 - val_accuracy: 0.3800 - val_loss: 1.1174\n",
      "Epoch 2/15\n",
      "10/10 - 1s - 68ms/step - accuracy: 0.3760 - loss: 1.2499 - val_accuracy: 0.3800 - val_loss: 1.1163\n",
      "Epoch 3/15\n",
      "10/10 - 1s - 66ms/step - accuracy: 0.3600 - loss: 1.2712 - val_accuracy: 0.3800 - val_loss: 1.1195\n",
      "Epoch 4/15\n",
      "10/10 - 1s - 67ms/step - accuracy: 0.3400 - loss: 1.2374 - val_accuracy: 0.3800 - val_loss: 1.0887\n",
      "Epoch 5/15\n",
      "10/10 - 1s - 65ms/step - accuracy: 0.4060 - loss: 1.1310 - val_accuracy: 0.3800 - val_loss: 1.1001\n",
      "Epoch 6/15\n",
      "10/10 - 1s - 66ms/step - accuracy: 0.3820 - loss: 1.1791 - val_accuracy: 0.3800 - val_loss: 1.0905\n",
      "Epoch 7/15\n",
      "10/10 - 1s - 71ms/step - accuracy: 0.3360 - loss: 1.1599 - val_accuracy: 0.3800 - val_loss: 1.0808\n",
      "Epoch 8/15\n",
      "10/10 - 1s - 67ms/step - accuracy: 0.3460 - loss: 1.1563 - val_accuracy: 0.3800 - val_loss: 1.0847\n",
      "Epoch 9/15\n",
      "10/10 - 1s - 67ms/step - accuracy: 0.4080 - loss: 1.1095 - val_accuracy: 0.3900 - val_loss: 1.1716\n",
      "Epoch 10/15\n",
      "10/10 - 1s - 66ms/step - accuracy: 0.5120 - loss: 1.0651 - val_accuracy: 0.3100 - val_loss: 1.3397\n",
      "Epoch 11/15\n",
      "10/10 - 1s - 67ms/step - accuracy: 0.6180 - loss: 0.8906 - val_accuracy: 0.3700 - val_loss: 1.3054\n",
      "Epoch 12/15\n",
      "10/10 - 1s - 66ms/step - accuracy: 0.7160 - loss: 0.7201 - val_accuracy: 0.4000 - val_loss: 1.4875\n",
      "Epoch 13/15\n",
      "10/10 - 1s - 66ms/step - accuracy: 0.8400 - loss: 0.4587 - val_accuracy: 0.3900 - val_loss: 1.5609\n",
      "Epoch 14/15\n",
      "10/10 - 1s - 68ms/step - accuracy: 0.9020 - loss: 0.2880 - val_accuracy: 0.4300 - val_loss: 1.5781\n",
      "Epoch 15/15\n",
      "10/10 - 1s - 67ms/step - accuracy: 0.9660 - loss: 0.1641 - val_accuracy: 0.4100 - val_loss: 1.9087\n",
      "Saved Keras weights to src/recurrent-neural-network/results/weights/keras_rnn_NumLayers_5_Units_32_Dir_Uni.weights.h5\n",
      "Saved plot to src/recurrent-neural-network/results/plots/experiment_NumLayers_5_Units_32_Dir_Uni_history.png\n",
      "\u001b[1m8/8\u001b[0m \u001b[32m━━━━━━━━━━━━━━━━━━━━\u001b[0m\u001b[37m\u001b[0m \u001b[1m1s\u001b[0m 17ms/step\n",
      "[Keras - NumLayers_5_Units_32_Dir_Uni] Test Macro F1-score: 0.3417\n",
      "\n",
      "--- Running Experiment 8/8: NumLayers_5_Units_32_Dir_Bi ---\n"
     ]
    },
    {
     "name": "stderr",
     "output_type": "stream",
     "text": [
      "c:\\Python312\\Lib\\site-packages\\keras\\src\\layers\\core\\embedding.py:90: UserWarning: Argument `input_length` is deprecated. Just remove it.\n",
      "  warnings.warn(\n"
     ]
    },
    {
     "data": {
      "text/html": [
       "<pre style=\"white-space:pre;overflow-x:auto;line-height:normal;font-family:Menlo,'DejaVu Sans Mono',consolas,'Courier New',monospace\"><span style=\"font-weight: bold\">Model: \"sequential_7\"</span>\n",
       "</pre>\n"
      ],
      "text/plain": [
       "\u001b[1mModel: \"sequential_7\"\u001b[0m\n"
      ]
     },
     "metadata": {},
     "output_type": "display_data"
    },
    {
     "data": {
      "text/html": [
       "<pre style=\"white-space:pre;overflow-x:auto;line-height:normal;font-family:Menlo,'DejaVu Sans Mono',consolas,'Courier New',monospace\">┏━━━━━━━━━━━━━━━━━━━━━━━━━━━━━━━━━┳━━━━━━━━━━━━━━━━━━━━━━━━┳━━━━━━━━━━━━━━━┓\n",
       "┃<span style=\"font-weight: bold\"> Layer (type)                    </span>┃<span style=\"font-weight: bold\"> Output Shape           </span>┃<span style=\"font-weight: bold\">       Param # </span>┃\n",
       "┡━━━━━━━━━━━━━━━━━━━━━━━━━━━━━━━━━╇━━━━━━━━━━━━━━━━━━━━━━━━╇━━━━━━━━━━━━━━━┩\n",
       "│ embedding (<span style=\"color: #0087ff; text-decoration-color: #0087ff\">Embedding</span>)           │ ?                      │   <span style=\"color: #00af00; text-decoration-color: #00af00\">0</span> (unbuilt) │\n",
       "├─────────────────────────────────┼────────────────────────┼───────────────┤\n",
       "│ bisimplernn_0_bidir             │ ?                      │   <span style=\"color: #00af00; text-decoration-color: #00af00\">0</span> (unbuilt) │\n",
       "│ (<span style=\"color: #0087ff; text-decoration-color: #0087ff\">Bidirectional</span>)                 │                        │               │\n",
       "├─────────────────────────────────┼────────────────────────┼───────────────┤\n",
       "│ bisimplernn_1_bidir             │ ?                      │   <span style=\"color: #00af00; text-decoration-color: #00af00\">0</span> (unbuilt) │\n",
       "│ (<span style=\"color: #0087ff; text-decoration-color: #0087ff\">Bidirectional</span>)                 │                        │               │\n",
       "├─────────────────────────────────┼────────────────────────┼───────────────┤\n",
       "│ bisimplernn_2_bidir             │ ?                      │   <span style=\"color: #00af00; text-decoration-color: #00af00\">0</span> (unbuilt) │\n",
       "│ (<span style=\"color: #0087ff; text-decoration-color: #0087ff\">Bidirectional</span>)                 │                        │               │\n",
       "├─────────────────────────────────┼────────────────────────┼───────────────┤\n",
       "│ bisimplernn_3_bidir             │ ?                      │   <span style=\"color: #00af00; text-decoration-color: #00af00\">0</span> (unbuilt) │\n",
       "│ (<span style=\"color: #0087ff; text-decoration-color: #0087ff\">Bidirectional</span>)                 │                        │               │\n",
       "├─────────────────────────────────┼────────────────────────┼───────────────┤\n",
       "│ bisimplernn_4_bidir             │ ?                      │   <span style=\"color: #00af00; text-decoration-color: #00af00\">0</span> (unbuilt) │\n",
       "│ (<span style=\"color: #0087ff; text-decoration-color: #0087ff\">Bidirectional</span>)                 │                        │               │\n",
       "├─────────────────────────────────┼────────────────────────┼───────────────┤\n",
       "│ dropout (<span style=\"color: #0087ff; text-decoration-color: #0087ff\">Dropout</span>)               │ ?                      │             <span style=\"color: #00af00; text-decoration-color: #00af00\">0</span> │\n",
       "├─────────────────────────────────┼────────────────────────┼───────────────┤\n",
       "│ output (<span style=\"color: #0087ff; text-decoration-color: #0087ff\">Dense</span>)                  │ ?                      │   <span style=\"color: #00af00; text-decoration-color: #00af00\">0</span> (unbuilt) │\n",
       "└─────────────────────────────────┴────────────────────────┴───────────────┘\n",
       "</pre>\n"
      ],
      "text/plain": [
       "┏━━━━━━━━━━━━━━━━━━━━━━━━━━━━━━━━━┳━━━━━━━━━━━━━━━━━━━━━━━━┳━━━━━━━━━━━━━━━┓\n",
       "┃\u001b[1m \u001b[0m\u001b[1mLayer (type)                   \u001b[0m\u001b[1m \u001b[0m┃\u001b[1m \u001b[0m\u001b[1mOutput Shape          \u001b[0m\u001b[1m \u001b[0m┃\u001b[1m \u001b[0m\u001b[1m      Param #\u001b[0m\u001b[1m \u001b[0m┃\n",
       "┡━━━━━━━━━━━━━━━━━━━━━━━━━━━━━━━━━╇━━━━━━━━━━━━━━━━━━━━━━━━╇━━━━━━━━━━━━━━━┩\n",
       "│ embedding (\u001b[38;5;33mEmbedding\u001b[0m)           │ ?                      │   \u001b[38;5;34m0\u001b[0m (unbuilt) │\n",
       "├─────────────────────────────────┼────────────────────────┼───────────────┤\n",
       "│ bisimplernn_0_bidir             │ ?                      │   \u001b[38;5;34m0\u001b[0m (unbuilt) │\n",
       "│ (\u001b[38;5;33mBidirectional\u001b[0m)                 │                        │               │\n",
       "├─────────────────────────────────┼────────────────────────┼───────────────┤\n",
       "│ bisimplernn_1_bidir             │ ?                      │   \u001b[38;5;34m0\u001b[0m (unbuilt) │\n",
       "│ (\u001b[38;5;33mBidirectional\u001b[0m)                 │                        │               │\n",
       "├─────────────────────────────────┼────────────────────────┼───────────────┤\n",
       "│ bisimplernn_2_bidir             │ ?                      │   \u001b[38;5;34m0\u001b[0m (unbuilt) │\n",
       "│ (\u001b[38;5;33mBidirectional\u001b[0m)                 │                        │               │\n",
       "├─────────────────────────────────┼────────────────────────┼───────────────┤\n",
       "│ bisimplernn_3_bidir             │ ?                      │   \u001b[38;5;34m0\u001b[0m (unbuilt) │\n",
       "│ (\u001b[38;5;33mBidirectional\u001b[0m)                 │                        │               │\n",
       "├─────────────────────────────────┼────────────────────────┼───────────────┤\n",
       "│ bisimplernn_4_bidir             │ ?                      │   \u001b[38;5;34m0\u001b[0m (unbuilt) │\n",
       "│ (\u001b[38;5;33mBidirectional\u001b[0m)                 │                        │               │\n",
       "├─────────────────────────────────┼────────────────────────┼───────────────┤\n",
       "│ dropout (\u001b[38;5;33mDropout\u001b[0m)               │ ?                      │             \u001b[38;5;34m0\u001b[0m │\n",
       "├─────────────────────────────────┼────────────────────────┼───────────────┤\n",
       "│ output (\u001b[38;5;33mDense\u001b[0m)                  │ ?                      │   \u001b[38;5;34m0\u001b[0m (unbuilt) │\n",
       "└─────────────────────────────────┴────────────────────────┴───────────────┘\n"
      ]
     },
     "metadata": {},
     "output_type": "display_data"
    },
    {
     "data": {
      "text/html": [
       "<pre style=\"white-space:pre;overflow-x:auto;line-height:normal;font-family:Menlo,'DejaVu Sans Mono',consolas,'Courier New',monospace\"><span style=\"font-weight: bold\"> Total params: </span><span style=\"color: #00af00; text-decoration-color: #00af00\">0</span> (0.00 B)\n",
       "</pre>\n"
      ],
      "text/plain": [
       "\u001b[1m Total params: \u001b[0m\u001b[38;5;34m0\u001b[0m (0.00 B)\n"
      ]
     },
     "metadata": {},
     "output_type": "display_data"
    },
    {
     "data": {
      "text/html": [
       "<pre style=\"white-space:pre;overflow-x:auto;line-height:normal;font-family:Menlo,'DejaVu Sans Mono',consolas,'Courier New',monospace\"><span style=\"font-weight: bold\"> Trainable params: </span><span style=\"color: #00af00; text-decoration-color: #00af00\">0</span> (0.00 B)\n",
       "</pre>\n"
      ],
      "text/plain": [
       "\u001b[1m Trainable params: \u001b[0m\u001b[38;5;34m0\u001b[0m (0.00 B)\n"
      ]
     },
     "metadata": {},
     "output_type": "display_data"
    },
    {
     "data": {
      "text/html": [
       "<pre style=\"white-space:pre;overflow-x:auto;line-height:normal;font-family:Menlo,'DejaVu Sans Mono',consolas,'Courier New',monospace\"><span style=\"font-weight: bold\"> Non-trainable params: </span><span style=\"color: #00af00; text-decoration-color: #00af00\">0</span> (0.00 B)\n",
       "</pre>\n"
      ],
      "text/plain": [
       "\u001b[1m Non-trainable params: \u001b[0m\u001b[38;5;34m0\u001b[0m (0.00 B)\n"
      ]
     },
     "metadata": {},
     "output_type": "display_data"
    },
    {
     "name": "stdout",
     "output_type": "stream",
     "text": [
      "Training Keras model: NumLayers_5_Units_32_Dir_Bi\n",
      "Epoch 1/15\n",
      "10/10 - 12s - 1s/step - accuracy: 0.3780 - loss: 1.3491 - val_accuracy: 0.5700 - val_loss: 1.0235\n",
      "Epoch 2/15\n",
      "10/10 - 1s - 91ms/step - accuracy: 0.5340 - loss: 0.9761 - val_accuracy: 0.5400 - val_loss: 0.9688\n",
      "Epoch 3/15\n",
      "10/10 - 1s - 95ms/step - accuracy: 0.7080 - loss: 0.6871 - val_accuracy: 0.5400 - val_loss: 0.9454\n",
      "Epoch 4/15\n",
      "10/10 - 1s - 91ms/step - accuracy: 0.8800 - loss: 0.3972 - val_accuracy: 0.5700 - val_loss: 0.9988\n",
      "Epoch 5/15\n",
      "10/10 - 1s - 94ms/step - accuracy: 0.9740 - loss: 0.1900 - val_accuracy: 0.5500 - val_loss: 1.1056\n",
      "Epoch 6/15\n",
      "10/10 - 1s - 94ms/step - accuracy: 0.9860 - loss: 0.1349 - val_accuracy: 0.5900 - val_loss: 1.0355\n",
      "Epoch 7/15\n",
      "10/10 - 1s - 95ms/step - accuracy: 0.9900 - loss: 0.0798 - val_accuracy: 0.5800 - val_loss: 1.1405\n",
      "Epoch 8/15\n",
      "10/10 - 1s - 91ms/step - accuracy: 0.9980 - loss: 0.0578 - val_accuracy: 0.5900 - val_loss: 1.1061\n",
      "Epoch 9/15\n",
      "10/10 - 1s - 97ms/step - accuracy: 0.9980 - loss: 0.0386 - val_accuracy: 0.5600 - val_loss: 1.1344\n",
      "Epoch 10/15\n",
      "10/10 - 1s - 91ms/step - accuracy: 0.9980 - loss: 0.0431 - val_accuracy: 0.5500 - val_loss: 1.1619\n",
      "Epoch 11/15\n",
      "10/10 - 1s - 93ms/step - accuracy: 0.9980 - loss: 0.0401 - val_accuracy: 0.5700 - val_loss: 1.1610\n",
      "Epoch 12/15\n",
      "10/10 - 1s - 94ms/step - accuracy: 1.0000 - loss: 0.0321 - val_accuracy: 0.5800 - val_loss: 1.1917\n",
      "Epoch 13/15\n",
      "10/10 - 1s - 91ms/step - accuracy: 1.0000 - loss: 0.0311 - val_accuracy: 0.5900 - val_loss: 1.2048\n",
      "Epoch 14/15\n",
      "10/10 - 1s - 97ms/step - accuracy: 0.9980 - loss: 0.0277 - val_accuracy: 0.6100 - val_loss: 1.2220\n",
      "Epoch 15/15\n",
      "10/10 - 1s - 92ms/step - accuracy: 1.0000 - loss: 0.0265 - val_accuracy: 0.5900 - val_loss: 1.2474\n",
      "Saved Keras weights to src/recurrent-neural-network/results/weights/keras_rnn_NumLayers_5_Units_32_Dir_Bi.weights.h5\n",
      "Saved plot to src/recurrent-neural-network/results/plots/experiment_NumLayers_5_Units_32_Dir_Bi_history.png\n",
      "\u001b[1m8/8\u001b[0m \u001b[32m━━━━━━━━━━━━━━━━━━━━\u001b[0m\u001b[37m\u001b[0m \u001b[1m1s\u001b[0m 29ms/step\n",
      "[Keras - NumLayers_5_Units_32_Dir_Bi] Test Macro F1-score: 0.4990\n"
     ]
    }
   ],
   "source": [
    "# --- Run Experiments ---\n",
    "for i, exp_config in enumerate(experiments):\n",
    "    print(f\"\\n--- Running Experiment {i+1}/{len(experiments)}: {exp_config['name']} ---\")\n",
    "    \n",
    "    model_name = exp_config['name']\n",
    "    num_rnn_layers_exp = exp_config['num_rnn_layers']\n",
    "    rnn_units_exp = exp_config['rnn_units']\n",
    "    bidirectional_exp = exp_config['bidirectional']\n",
    "\n",
    "    # ----- bikin model keras -----\n",
    "    keras_model = build_keras_model(\n",
    "        num_rnn_layers=num_rnn_layers_exp,\n",
    "        rnn_units=rnn_units_exp,\n",
    "        bidirectional=bidirectional_exp\n",
    "    )\n",
    "    keras_model.summary()\n",
    "\n",
    "    # ----- Training -----\n",
    "    print(f\"Training Keras model: {model_name}\")\n",
    "    history = keras_model.fit(\n",
    "        tok_train, y_train,\n",
    "        validation_data=(tok_val, y_val),\n",
    "        epochs=EPOCHS,\n",
    "        batch_size=BATCH_SIZE,\n",
    "        verbose=2\n",
    "    )\n",
    "    # Save weights\n",
    "    weights_path = f'src/recurrent-neural-network/results/weights/keras_rnn_{model_name}.weights.h5'\n",
    "    keras_model.save_weights(weights_path)\n",
    "    print(f\"Saved Keras weights to {weights_path}\")\n",
    "\n",
    "    # Plot history\n",
    "    plot_history(history, model_name, \"experiment\")\n",
    "\n",
    "    # ----- Evaluation on test set (Keras) -----\n",
    "    y_pred_prob_keras = keras_model.predict(tok_test, batch_size=BATCH_SIZE)\n",
    "    y_pred_keras = np.argmax(y_pred_prob_keras, axis=1)\n",
    "    f1_test_keras = f1_score(y_test, y_pred_keras, average='macro')\n",
    "    print(f\"[Keras - {model_name}] Test Macro F1-score: {f1_test_keras:.4f}\")\n",
    "    \n",
    "    results_summary.append({\n",
    "        \"name\": model_name,\n",
    "        \"num_rnn_layers\": num_rnn_layers_exp,\n",
    "        \"rnn_units\": rnn_units_exp,\n",
    "        \"bidirectional\": bidirectional_exp,\n",
    "        \"f1_keras\": f1_test_keras,\n",
    "        \"f1_custom\": None\n",
    "    })"
   ]
  },
  {
   "cell_type": "code",
   "execution_count": null,
   "id": "46e2daf0",
   "metadata": {},
   "outputs": [],
   "source": [
    "# ----- Custom Model Comparison -----\n",
    "if exp_config.get(\"compare_custom\", False):\n",
    "    print(f\"\\n--- Comparing with Custom Model for {model_name} ---\")\n",
    "    \n",
    "    custom_return_sequences = [True] * (num_rnn_layers_exp - 1) + [False] if num_rnn_layers_exp > 0 else []\n",
    "\n",
    "    custom_model = SimpleRNNModel(\n",
    "        vocab_size=vocab_size,\n",
    "        embed_dim=EMBED_DIM,\n",
    "        hidden_dim=rnn_units_exp,\n",
    "        num_classes=num_classes,\n",
    "        dropout_rate=DROPOUT_RATE,\n",
    "        num_layers=num_rnn_layers_exp,\n",
    "        bidirectional=bidirectional_exp,\n",
    "        return_sequences_list=custom_return_sequences\n",
    "    )\n",
    "\n",
    "    keras_weights_list = keras_model.get_weights()\n",
    "    custom_model.load_keras_weights(keras_weights_list)\n",
    "    print(\"Loaded Keras weights into custom model.\")\n",
    "\n",
    "    custom_model.set_training_mode(False)\n",
    "\n",
    "    probs_custom = custom_model.forward(tok_test, training=False)\n",
    "    preds_custom = np.argmax(probs_custom, axis=1)\n",
    "    f1_custom = f1_score(y_test, preds_custom, average='macro')\n",
    "    print(f\"[Custom - {model_name}] Test Macro F1-score: {f1_custom:.4f}\")\n",
    "    \n",
    "    for res in results_summary:\n",
    "        if res[\"name\"] == model_name:\n",
    "            res[\"f1_custom\"] = f1_custom\n",
    "            break\n",
    "    \n",
    "    # Further check: Compare outputs if F1s are not close\n",
    "    if not np.isclose(f1_test_keras, f1_custom, atol=1e-3):\n",
    "        print(\"Warning: Keras and Custom F1 scores differ significantly. Debugging may be needed.\")\n",
    "        # print(\"Sample Keras Probs:\", y_pred_prob_keras[:2])\n",
    "        # print(\"Sample Custom Probs:\", probs_custom[:2])"
   ]
  },
  {
   "cell_type": "code",
   "execution_count": null,
   "id": "13ba663a",
   "metadata": {},
   "outputs": [
    {
     "name": "stdout",
     "output_type": "stream",
     "text": [
      "\n",
      "\n",
      "--- Experiment Results Summary ---\n",
      "Name | RNN Layers | RNN Units | Bidirectional | F1 Keras | F1 Custom\n",
      "--------------------------------------------------------------------------------\n",
      "NumLayers_5_Units_32_Dir_Uni | 5 | 32 | False | 0.3699 | N/A\n",
      "NumLayers_6_Units_32_Dir_Uni | 6 | 32 | False | 0.3397 | N/A\n",
      "NumLayers_7_Units_32_Dir_Uni | 7 | 32 | False | 0.3582 | N/A\n",
      "NumLayers_5_Units_32_Dir_Uni | 5 | 32 | False | 0.3493 | N/A\n",
      "NumLayers_5_Units_64_Dir_Uni | 5 | 64 | False | 0.3425 | N/A\n",
      "NumLayers_5_Units_128_Dir_Uni | 5 | 128 | False | 0.1800 | N/A\n",
      "NumLayers_5_Units_32_Dir_Uni | 5 | 32 | False | 0.3417 | N/A\n",
      "NumLayers_5_Units_32_Dir_Bi | 5 | 32 | True | 0.4990 | N/A\n"
     ]
    }
   ],
   "source": [
    "# --- Print Hasil ---\n",
    "print(\"\\n\\n--- Experiment Results Summary ---\")\n",
    "print(\"Name | RNN Layers | RNN Units | Bidirectional | F1 Keras | F1 Custom\")\n",
    "print(\"-\" * 80)\n",
    "for res in results_summary:\n",
    "    f1_custom_str = f\"{res['f1_custom']:.4f}\" if res['f1_custom'] is not None else \"N/A\"\n",
    "    print(f\"{res['name']} | {res['num_rnn_layers']} | {res['rnn_units']} | {res['bidirectional']} | {res['f1_keras']:.4f} | {f1_custom_str}\")"
   ]
  }
 ],
 "metadata": {
  "kernelspec": {
   "display_name": "Python 3",
   "language": "python",
   "name": "python3"
  },
  "language_info": {
   "codemirror_mode": {
    "name": "ipython",
    "version": 3
   },
   "file_extension": ".py",
   "mimetype": "text/x-python",
   "name": "python",
   "nbconvert_exporter": "python",
   "pygments_lexer": "ipython3",
   "version": "3.12.3"
  }
 },
 "nbformat": 4,
 "nbformat_minor": 5
}
