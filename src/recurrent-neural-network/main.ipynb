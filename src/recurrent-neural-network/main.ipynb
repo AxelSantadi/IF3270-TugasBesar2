{
 "cells": [
  {
   "cell_type": "code",
   "execution_count": null,
   "id": "74ab9f98",
   "metadata": {},
   "outputs": [],
   "source": [
    "# !pip install tensorflow --quiet"
   ]
  },
  {
   "cell_type": "code",
   "execution_count": 20,
   "id": "51d63dc3",
   "metadata": {},
   "outputs": [],
   "source": [
    "# importing\n",
    "import os\n",
    "import numpy as np\n",
    "import tensorflow as tf\n",
    "from tensorflow.keras.models import Sequential\n",
    "from tensorflow.keras.layers import Embedding, SimpleRNN, Bidirectional, Dropout, Dense, LSTM\n",
    "from sklearn.metrics import f1_score\n",
    "import matplotlib.pyplot as plt\n",
    "from utils import load_nusax_data\n",
    "from model import SimpleRNNModel\n",
    "from layers import RNN as CustomRNN, BiRNN as CustomBiRNN"
   ]
  },
  {
   "cell_type": "code",
   "execution_count": 21,
   "id": "932442fa",
   "metadata": {},
   "outputs": [],
   "source": [
    "# ----- Fixed Hyperparameters -----\n",
    "MAX_TOKENS    = 20000\n",
    "SEQ_LENGTH    = 100\n",
    "EMBED_DIM     = 128\n",
    "DROPOUT_RATE  = 0.5\n",
    "BATCH_SIZE    = 50\n",
    "EPOCHS        = 15"
   ]
  },
  {
   "cell_type": "code",
   "execution_count": 22,
   "id": "ffa6a654",
   "metadata": {},
   "outputs": [],
   "source": [
    "# ----- Load and preprocess data -----\n",
    "tok_train, y_train, tok_val, y_val, tok_test, y_test, vocab_size, num_classes = \\\n",
    "    load_nusax_data(MAX_TOKENS, SEQ_LENGTH)\n",
    "\n",
    "os.makedirs('results/weights', exist_ok=True)\n",
    "os.makedirs('results/plots', exist_ok=True)\n",
    "results_summary = []"
   ]
  },
  {
   "cell_type": "code",
   "execution_count": 23,
   "id": "1660bbe9",
   "metadata": {},
   "outputs": [],
   "source": [
    "# ----- Needed Function Definitions -----\n",
    "def build_keras_model(num_rnn_layers, rnn_units, bidirectional, rnn_type='SimpleRNN', dropout_rate=DROPOUT_RATE):\n",
    "    keras_model = Sequential()\n",
    "    keras_model.add(Embedding(\n",
    "        input_dim=vocab_size,\n",
    "        output_dim=EMBED_DIM,\n",
    "        input_length=SEQ_LENGTH,\n",
    "        name='embedding'\n",
    "    ))\n",
    "\n",
    "    for i in range(num_rnn_layers):\n",
    "        is_last_rnn = (i == num_rnn_layers - 1)\n",
    "        return_sequences = not is_last_rnn\n",
    "        \n",
    "        layer_name_prefix = f\"{'bi' if bidirectional else ''}{rnn_type.lower()}_{i}\"\n",
    "\n",
    "        if rnn_type == 'SimpleRNN':\n",
    "            rnn_layer_constructor = SimpleRNN(rnn_units, return_sequences=return_sequences, name=f\"{layer_name_prefix}_simplernn\")\n",
    "        elif rnn_type == 'LSTM':\n",
    "            rnn_layer_constructor = LSTM(rnn_units, return_sequences=return_sequences, name=f\"{layer_name_prefix}_lstm\")\n",
    "        else:\n",
    "            raise ValueError(f\"Unsupported RNN type: {rnn_type}\")\n",
    "\n",
    "        if bidirectional:\n",
    "            keras_model.add(Bidirectional(rnn_layer_constructor, name=f\"{layer_name_prefix}_bidir\"))\n",
    "        else:\n",
    "            keras_model.add(rnn_layer_constructor)\n",
    "            \n",
    "    keras_model.add(Dropout(dropout_rate, name='dropout'))\n",
    "    keras_model.add(Dense(num_classes, activation='softmax', name='output'))\n",
    "\n",
    "    keras_model.compile(\n",
    "        optimizer='adam',\n",
    "        loss='sparse_categorical_crossentropy',\n",
    "        metrics=['accuracy']\n",
    "    )\n",
    "    return keras_model\n",
    "\n",
    "def plot_history(history, model_name, experiment_name):\n",
    "    plt.figure(figsize=(12, 4))\n",
    "    plt.subplot(1, 2, 1)\n",
    "    plt.plot(history.history['loss'], label='Training Loss')\n",
    "    plt.plot(history.history['val_loss'], label='Validation Loss')\n",
    "    plt.title(f'Loss - {model_name}')\n",
    "    plt.xlabel('Epoch')\n",
    "    plt.ylabel('Loss')\n",
    "    plt.legend()\n",
    "\n",
    "    plt.subplot(1, 2, 2)\n",
    "    plt.plot(history.history['accuracy'], label='Training Accuracy')\n",
    "    plt.plot(history.history['val_accuracy'], label='Validation Accuracy')\n",
    "    plt.title(f'Accuracy - {model_name}')\n",
    "    plt.xlabel('Epoch')\n",
    "    plt.ylabel('Accuracy')\n",
    "    plt.legend()\n",
    "    \n",
    "    plot_filename = f\"results/plots/{experiment_name}_{model_name}_history.png\"\n",
    "    plt.savefig(plot_filename)\n",
    "    print(f\"Saved plot to {plot_filename}\")\n",
    "    plt.close()"
   ]
  },
  {
   "cell_type": "code",
   "execution_count": 24,
   "id": "b0021098",
   "metadata": {},
   "outputs": [],
   "source": [
    "# --- Experiment Configurations ---\n",
    "experiments = []\n",
    "\n",
    "# 1. beda layer RNN\n",
    "base_rnn_units = 32\n",
    "base_bidirectional = False\n",
    "for num_layers in [5, 6, 7]:\n",
    "    experiments.append({\n",
    "        \"name\": f\"NumLayers_{num_layers}_Units_{base_rnn_units}_Dir_{'Bi' if base_bidirectional else 'Uni'}\",\n",
    "        \"num_rnn_layers\": num_layers,\n",
    "        \"rnn_units\": base_rnn_units,\n",
    "        \"bidirectional\": base_bidirectional,\n",
    "        \"compare_custom\": (num_layers == 5 and not base_bidirectional)\n",
    "    })\n",
    "\n",
    "# 2. beda cell RNN per layer\n",
    "base_num_layers = 5\n",
    "base_bidirectional = False\n",
    "for rnn_units in [32, 64, 128]:\n",
    "    experiments.append({\n",
    "        \"name\": f\"NumLayers_{base_num_layers}_Units_{rnn_units}_Dir_{'Bi' if base_bidirectional else 'Uni'}\",\n",
    "        \"num_rnn_layers\": base_num_layers,\n",
    "        \"rnn_units\": rnn_units,\n",
    "        \"bidirectional\": base_bidirectional,\n",
    "        \"compare_custom\": (base_num_layers == 5 and not base_bidirectional and rnn_units==32)\n",
    "    })\n",
    "\n",
    "# 3. beda RNN berdasarkan arah\n",
    "base_num_layers = 5\n",
    "base_rnn_units = 32\n",
    "for bidirectional_flag in [False, True]:\n",
    "    experiments.append({\n",
    "        \"name\": f\"NumLayers_{base_num_layers}_Units_{base_rnn_units}_Dir_{'Bi' if bidirectional_flag else 'Uni'}\",\n",
    "        \"num_rnn_layers\": base_num_layers,\n",
    "        \"rnn_units\": base_rnn_units,\n",
    "        \"bidirectional\": bidirectional_flag,\n",
    "        \"compare_custom\": (base_num_layers == 5 and base_rnn_units==32)\n",
    "    })"
   ]
  },
  {
   "cell_type": "code",
   "execution_count": null,
   "id": "dbb41d37",
   "metadata": {},
   "outputs": [
    {
     "name": "stdout",
     "output_type": "stream",
     "text": [
      "\n",
      "--- Running Experiment 1/8: NumLayers_5_Units_32_Dir_Uni ---\n"
     ]
    },
    {
     "name": "stderr",
     "output_type": "stream",
     "text": [
      "c:\\Python312\\Lib\\site-packages\\keras\\src\\layers\\core\\embedding.py:90: UserWarning: Argument `input_length` is deprecated. Just remove it.\n",
      "  warnings.warn(\n"
     ]
    },
    {
     "data": {
      "text/html": [
       "<pre style=\"white-space:pre;overflow-x:auto;line-height:normal;font-family:Menlo,'DejaVu Sans Mono',consolas,'Courier New',monospace\"><span style=\"font-weight: bold\">Model: \"sequential_16\"</span>\n",
       "</pre>\n"
      ],
      "text/plain": [
       "\u001b[1mModel: \"sequential_16\"\u001b[0m\n"
      ]
     },
     "metadata": {},
     "output_type": "display_data"
    },
    {
     "data": {
      "text/html": [
       "<pre style=\"white-space:pre;overflow-x:auto;line-height:normal;font-family:Menlo,'DejaVu Sans Mono',consolas,'Courier New',monospace\">┏━━━━━━━━━━━━━━━━━━━━━━━━━━━━━━━━━┳━━━━━━━━━━━━━━━━━━━━━━━━┳━━━━━━━━━━━━━━━┓\n",
       "┃<span style=\"font-weight: bold\"> Layer (type)                    </span>┃<span style=\"font-weight: bold\"> Output Shape           </span>┃<span style=\"font-weight: bold\">       Param # </span>┃\n",
       "┡━━━━━━━━━━━━━━━━━━━━━━━━━━━━━━━━━╇━━━━━━━━━━━━━━━━━━━━━━━━╇━━━━━━━━━━━━━━━┩\n",
       "│ embedding (<span style=\"color: #0087ff; text-decoration-color: #0087ff\">Embedding</span>)           │ ?                      │   <span style=\"color: #00af00; text-decoration-color: #00af00\">0</span> (unbuilt) │\n",
       "├─────────────────────────────────┼────────────────────────┼───────────────┤\n",
       "│ simplernn_0_simplernn           │ ?                      │   <span style=\"color: #00af00; text-decoration-color: #00af00\">0</span> (unbuilt) │\n",
       "│ (<span style=\"color: #0087ff; text-decoration-color: #0087ff\">SimpleRNN</span>)                     │                        │               │\n",
       "├─────────────────────────────────┼────────────────────────┼───────────────┤\n",
       "│ simplernn_1_simplernn           │ ?                      │   <span style=\"color: #00af00; text-decoration-color: #00af00\">0</span> (unbuilt) │\n",
       "│ (<span style=\"color: #0087ff; text-decoration-color: #0087ff\">SimpleRNN</span>)                     │                        │               │\n",
       "├─────────────────────────────────┼────────────────────────┼───────────────┤\n",
       "│ simplernn_2_simplernn           │ ?                      │   <span style=\"color: #00af00; text-decoration-color: #00af00\">0</span> (unbuilt) │\n",
       "│ (<span style=\"color: #0087ff; text-decoration-color: #0087ff\">SimpleRNN</span>)                     │                        │               │\n",
       "├─────────────────────────────────┼────────────────────────┼───────────────┤\n",
       "│ simplernn_3_simplernn           │ ?                      │   <span style=\"color: #00af00; text-decoration-color: #00af00\">0</span> (unbuilt) │\n",
       "│ (<span style=\"color: #0087ff; text-decoration-color: #0087ff\">SimpleRNN</span>)                     │                        │               │\n",
       "├─────────────────────────────────┼────────────────────────┼───────────────┤\n",
       "│ simplernn_4_simplernn           │ ?                      │   <span style=\"color: #00af00; text-decoration-color: #00af00\">0</span> (unbuilt) │\n",
       "│ (<span style=\"color: #0087ff; text-decoration-color: #0087ff\">SimpleRNN</span>)                     │                        │               │\n",
       "├─────────────────────────────────┼────────────────────────┼───────────────┤\n",
       "│ dropout (<span style=\"color: #0087ff; text-decoration-color: #0087ff\">Dropout</span>)               │ ?                      │             <span style=\"color: #00af00; text-decoration-color: #00af00\">0</span> │\n",
       "├─────────────────────────────────┼────────────────────────┼───────────────┤\n",
       "│ output (<span style=\"color: #0087ff; text-decoration-color: #0087ff\">Dense</span>)                  │ ?                      │   <span style=\"color: #00af00; text-decoration-color: #00af00\">0</span> (unbuilt) │\n",
       "└─────────────────────────────────┴────────────────────────┴───────────────┘\n",
       "</pre>\n"
      ],
      "text/plain": [
       "┏━━━━━━━━━━━━━━━━━━━━━━━━━━━━━━━━━┳━━━━━━━━━━━━━━━━━━━━━━━━┳━━━━━━━━━━━━━━━┓\n",
       "┃\u001b[1m \u001b[0m\u001b[1mLayer (type)                   \u001b[0m\u001b[1m \u001b[0m┃\u001b[1m \u001b[0m\u001b[1mOutput Shape          \u001b[0m\u001b[1m \u001b[0m┃\u001b[1m \u001b[0m\u001b[1m      Param #\u001b[0m\u001b[1m \u001b[0m┃\n",
       "┡━━━━━━━━━━━━━━━━━━━━━━━━━━━━━━━━━╇━━━━━━━━━━━━━━━━━━━━━━━━╇━━━━━━━━━━━━━━━┩\n",
       "│ embedding (\u001b[38;5;33mEmbedding\u001b[0m)           │ ?                      │   \u001b[38;5;34m0\u001b[0m (unbuilt) │\n",
       "├─────────────────────────────────┼────────────────────────┼───────────────┤\n",
       "│ simplernn_0_simplernn           │ ?                      │   \u001b[38;5;34m0\u001b[0m (unbuilt) │\n",
       "│ (\u001b[38;5;33mSimpleRNN\u001b[0m)                     │                        │               │\n",
       "├─────────────────────────────────┼────────────────────────┼───────────────┤\n",
       "│ simplernn_1_simplernn           │ ?                      │   \u001b[38;5;34m0\u001b[0m (unbuilt) │\n",
       "│ (\u001b[38;5;33mSimpleRNN\u001b[0m)                     │                        │               │\n",
       "├─────────────────────────────────┼────────────────────────┼───────────────┤\n",
       "│ simplernn_2_simplernn           │ ?                      │   \u001b[38;5;34m0\u001b[0m (unbuilt) │\n",
       "│ (\u001b[38;5;33mSimpleRNN\u001b[0m)                     │                        │               │\n",
       "├─────────────────────────────────┼────────────────────────┼───────────────┤\n",
       "│ simplernn_3_simplernn           │ ?                      │   \u001b[38;5;34m0\u001b[0m (unbuilt) │\n",
       "│ (\u001b[38;5;33mSimpleRNN\u001b[0m)                     │                        │               │\n",
       "├─────────────────────────────────┼────────────────────────┼───────────────┤\n",
       "│ simplernn_4_simplernn           │ ?                      │   \u001b[38;5;34m0\u001b[0m (unbuilt) │\n",
       "│ (\u001b[38;5;33mSimpleRNN\u001b[0m)                     │                        │               │\n",
       "├─────────────────────────────────┼────────────────────────┼───────────────┤\n",
       "│ dropout (\u001b[38;5;33mDropout\u001b[0m)               │ ?                      │             \u001b[38;5;34m0\u001b[0m │\n",
       "├─────────────────────────────────┼────────────────────────┼───────────────┤\n",
       "│ output (\u001b[38;5;33mDense\u001b[0m)                  │ ?                      │   \u001b[38;5;34m0\u001b[0m (unbuilt) │\n",
       "└─────────────────────────────────┴────────────────────────┴───────────────┘\n"
      ]
     },
     "metadata": {},
     "output_type": "display_data"
    },
    {
     "data": {
      "text/html": [
       "<pre style=\"white-space:pre;overflow-x:auto;line-height:normal;font-family:Menlo,'DejaVu Sans Mono',consolas,'Courier New',monospace\"><span style=\"font-weight: bold\"> Total params: </span><span style=\"color: #00af00; text-decoration-color: #00af00\">0</span> (0.00 B)\n",
       "</pre>\n"
      ],
      "text/plain": [
       "\u001b[1m Total params: \u001b[0m\u001b[38;5;34m0\u001b[0m (0.00 B)\n"
      ]
     },
     "metadata": {},
     "output_type": "display_data"
    },
    {
     "data": {
      "text/html": [
       "<pre style=\"white-space:pre;overflow-x:auto;line-height:normal;font-family:Menlo,'DejaVu Sans Mono',consolas,'Courier New',monospace\"><span style=\"font-weight: bold\"> Trainable params: </span><span style=\"color: #00af00; text-decoration-color: #00af00\">0</span> (0.00 B)\n",
       "</pre>\n"
      ],
      "text/plain": [
       "\u001b[1m Trainable params: \u001b[0m\u001b[38;5;34m0\u001b[0m (0.00 B)\n"
      ]
     },
     "metadata": {},
     "output_type": "display_data"
    },
    {
     "data": {
      "text/html": [
       "<pre style=\"white-space:pre;overflow-x:auto;line-height:normal;font-family:Menlo,'DejaVu Sans Mono',consolas,'Courier New',monospace\"><span style=\"font-weight: bold\"> Non-trainable params: </span><span style=\"color: #00af00; text-decoration-color: #00af00\">0</span> (0.00 B)\n",
       "</pre>\n"
      ],
      "text/plain": [
       "\u001b[1m Non-trainable params: \u001b[0m\u001b[38;5;34m0\u001b[0m (0.00 B)\n"
      ]
     },
     "metadata": {},
     "output_type": "display_data"
    },
    {
     "name": "stdout",
     "output_type": "stream",
     "text": [
      "Training Keras model: NumLayers_5_Units_32_Dir_Uni\n",
      "Epoch 1/15\n",
      "10/10 - 5s - 497ms/step - accuracy: 0.3520 - loss: 1.3161 - val_accuracy: 0.3800 - val_loss: 1.0783\n",
      "Epoch 2/15\n",
      "10/10 - 1s - 58ms/step - accuracy: 0.3920 - loss: 1.1502 - val_accuracy: 0.3800 - val_loss: 1.0943\n",
      "Epoch 3/15\n",
      "10/10 - 1s - 59ms/step - accuracy: 0.3840 - loss: 1.1594 - val_accuracy: 0.3800 - val_loss: 1.0783\n",
      "Epoch 4/15\n",
      "10/10 - 1s - 61ms/step - accuracy: 0.3740 - loss: 1.1409 - val_accuracy: 0.3800 - val_loss: 1.0811\n",
      "Epoch 5/15\n",
      "10/10 - 1s - 63ms/step - accuracy: 0.3500 - loss: 1.1374 - val_accuracy: 0.3800 - val_loss: 1.0807\n",
      "Epoch 6/15\n",
      "10/10 - 1s - 62ms/step - accuracy: 0.3980 - loss: 1.1272 - val_accuracy: 0.3800 - val_loss: 1.0818\n",
      "Epoch 7/15\n",
      "10/10 - 1s - 69ms/step - accuracy: 0.3600 - loss: 1.1088 - val_accuracy: 0.3800 - val_loss: 1.0789\n",
      "Epoch 8/15\n",
      "10/10 - 1s - 61ms/step - accuracy: 0.3440 - loss: 1.1219 - val_accuracy: 0.3800 - val_loss: 1.1001\n",
      "Epoch 9/15\n",
      "10/10 - 1s - 62ms/step - accuracy: 0.3680 - loss: 1.1402 - val_accuracy: 0.3800 - val_loss: 1.0817\n",
      "Epoch 10/15\n",
      "10/10 - 1s - 66ms/step - accuracy: 0.3680 - loss: 1.1115 - val_accuracy: 0.3800 - val_loss: 1.0844\n",
      "Epoch 11/15\n",
      "10/10 - 1s - 62ms/step - accuracy: 0.3500 - loss: 1.1158 - val_accuracy: 0.3800 - val_loss: 1.0803\n",
      "Epoch 12/15\n",
      "10/10 - 1s - 56ms/step - accuracy: 0.3860 - loss: 1.1080 - val_accuracy: 0.3800 - val_loss: 1.0797\n",
      "Epoch 13/15\n",
      "10/10 - 1s - 58ms/step - accuracy: 0.3460 - loss: 1.1138 - val_accuracy: 0.4200 - val_loss: 1.0807\n",
      "Epoch 14/15\n",
      "10/10 - 1s - 58ms/step - accuracy: 0.5420 - loss: 0.9870 - val_accuracy: 0.3600 - val_loss: 1.1488\n",
      "Epoch 15/15\n",
      "10/10 - 1s - 58ms/step - accuracy: 0.6800 - loss: 0.7994 - val_accuracy: 0.4300 - val_loss: 1.1580\n",
      "Saved Keras weights to results/weights/keras_rnn_NumLayers_5_Units_32_Dir_Uni.weights.h5\n",
      "Saved plot to results/plots/experiment_NumLayers_5_Units_32_Dir_Uni_history.png\n",
      "\u001b[1m8/8\u001b[0m \u001b[32m━━━━━━━━━━━━━━━━━━━━\u001b[0m\u001b[37m\u001b[0m \u001b[1m1s\u001b[0m 15ms/step\n",
      "[Keras - NumLayers_5_Units_32_Dir_Uni] Test Macro F1-score: 0.3277\n",
      "\n",
      "--- Running Experiment 2/8: NumLayers_6_Units_32_Dir_Uni ---\n"
     ]
    },
    {
     "name": "stderr",
     "output_type": "stream",
     "text": [
      "c:\\Python312\\Lib\\site-packages\\keras\\src\\layers\\core\\embedding.py:90: UserWarning: Argument `input_length` is deprecated. Just remove it.\n",
      "  warnings.warn(\n"
     ]
    },
    {
     "data": {
      "text/html": [
       "<pre style=\"white-space:pre;overflow-x:auto;line-height:normal;font-family:Menlo,'DejaVu Sans Mono',consolas,'Courier New',monospace\"><span style=\"font-weight: bold\">Model: \"sequential_17\"</span>\n",
       "</pre>\n"
      ],
      "text/plain": [
       "\u001b[1mModel: \"sequential_17\"\u001b[0m\n"
      ]
     },
     "metadata": {},
     "output_type": "display_data"
    },
    {
     "data": {
      "text/html": [
       "<pre style=\"white-space:pre;overflow-x:auto;line-height:normal;font-family:Menlo,'DejaVu Sans Mono',consolas,'Courier New',monospace\">┏━━━━━━━━━━━━━━━━━━━━━━━━━━━━━━━━━┳━━━━━━━━━━━━━━━━━━━━━━━━┳━━━━━━━━━━━━━━━┓\n",
       "┃<span style=\"font-weight: bold\"> Layer (type)                    </span>┃<span style=\"font-weight: bold\"> Output Shape           </span>┃<span style=\"font-weight: bold\">       Param # </span>┃\n",
       "┡━━━━━━━━━━━━━━━━━━━━━━━━━━━━━━━━━╇━━━━━━━━━━━━━━━━━━━━━━━━╇━━━━━━━━━━━━━━━┩\n",
       "│ embedding (<span style=\"color: #0087ff; text-decoration-color: #0087ff\">Embedding</span>)           │ ?                      │   <span style=\"color: #00af00; text-decoration-color: #00af00\">0</span> (unbuilt) │\n",
       "├─────────────────────────────────┼────────────────────────┼───────────────┤\n",
       "│ simplernn_0_simplernn           │ ?                      │   <span style=\"color: #00af00; text-decoration-color: #00af00\">0</span> (unbuilt) │\n",
       "│ (<span style=\"color: #0087ff; text-decoration-color: #0087ff\">SimpleRNN</span>)                     │                        │               │\n",
       "├─────────────────────────────────┼────────────────────────┼───────────────┤\n",
       "│ simplernn_1_simplernn           │ ?                      │   <span style=\"color: #00af00; text-decoration-color: #00af00\">0</span> (unbuilt) │\n",
       "│ (<span style=\"color: #0087ff; text-decoration-color: #0087ff\">SimpleRNN</span>)                     │                        │               │\n",
       "├─────────────────────────────────┼────────────────────────┼───────────────┤\n",
       "│ simplernn_2_simplernn           │ ?                      │   <span style=\"color: #00af00; text-decoration-color: #00af00\">0</span> (unbuilt) │\n",
       "│ (<span style=\"color: #0087ff; text-decoration-color: #0087ff\">SimpleRNN</span>)                     │                        │               │\n",
       "├─────────────────────────────────┼────────────────────────┼───────────────┤\n",
       "│ simplernn_3_simplernn           │ ?                      │   <span style=\"color: #00af00; text-decoration-color: #00af00\">0</span> (unbuilt) │\n",
       "│ (<span style=\"color: #0087ff; text-decoration-color: #0087ff\">SimpleRNN</span>)                     │                        │               │\n",
       "├─────────────────────────────────┼────────────────────────┼───────────────┤\n",
       "│ simplernn_4_simplernn           │ ?                      │   <span style=\"color: #00af00; text-decoration-color: #00af00\">0</span> (unbuilt) │\n",
       "│ (<span style=\"color: #0087ff; text-decoration-color: #0087ff\">SimpleRNN</span>)                     │                        │               │\n",
       "├─────────────────────────────────┼────────────────────────┼───────────────┤\n",
       "│ simplernn_5_simplernn           │ ?                      │   <span style=\"color: #00af00; text-decoration-color: #00af00\">0</span> (unbuilt) │\n",
       "│ (<span style=\"color: #0087ff; text-decoration-color: #0087ff\">SimpleRNN</span>)                     │                        │               │\n",
       "├─────────────────────────────────┼────────────────────────┼───────────────┤\n",
       "│ dropout (<span style=\"color: #0087ff; text-decoration-color: #0087ff\">Dropout</span>)               │ ?                      │             <span style=\"color: #00af00; text-decoration-color: #00af00\">0</span> │\n",
       "├─────────────────────────────────┼────────────────────────┼───────────────┤\n",
       "│ output (<span style=\"color: #0087ff; text-decoration-color: #0087ff\">Dense</span>)                  │ ?                      │   <span style=\"color: #00af00; text-decoration-color: #00af00\">0</span> (unbuilt) │\n",
       "└─────────────────────────────────┴────────────────────────┴───────────────┘\n",
       "</pre>\n"
      ],
      "text/plain": [
       "┏━━━━━━━━━━━━━━━━━━━━━━━━━━━━━━━━━┳━━━━━━━━━━━━━━━━━━━━━━━━┳━━━━━━━━━━━━━━━┓\n",
       "┃\u001b[1m \u001b[0m\u001b[1mLayer (type)                   \u001b[0m\u001b[1m \u001b[0m┃\u001b[1m \u001b[0m\u001b[1mOutput Shape          \u001b[0m\u001b[1m \u001b[0m┃\u001b[1m \u001b[0m\u001b[1m      Param #\u001b[0m\u001b[1m \u001b[0m┃\n",
       "┡━━━━━━━━━━━━━━━━━━━━━━━━━━━━━━━━━╇━━━━━━━━━━━━━━━━━━━━━━━━╇━━━━━━━━━━━━━━━┩\n",
       "│ embedding (\u001b[38;5;33mEmbedding\u001b[0m)           │ ?                      │   \u001b[38;5;34m0\u001b[0m (unbuilt) │\n",
       "├─────────────────────────────────┼────────────────────────┼───────────────┤\n",
       "│ simplernn_0_simplernn           │ ?                      │   \u001b[38;5;34m0\u001b[0m (unbuilt) │\n",
       "│ (\u001b[38;5;33mSimpleRNN\u001b[0m)                     │                        │               │\n",
       "├─────────────────────────────────┼────────────────────────┼───────────────┤\n",
       "│ simplernn_1_simplernn           │ ?                      │   \u001b[38;5;34m0\u001b[0m (unbuilt) │\n",
       "│ (\u001b[38;5;33mSimpleRNN\u001b[0m)                     │                        │               │\n",
       "├─────────────────────────────────┼────────────────────────┼───────────────┤\n",
       "│ simplernn_2_simplernn           │ ?                      │   \u001b[38;5;34m0\u001b[0m (unbuilt) │\n",
       "│ (\u001b[38;5;33mSimpleRNN\u001b[0m)                     │                        │               │\n",
       "├─────────────────────────────────┼────────────────────────┼───────────────┤\n",
       "│ simplernn_3_simplernn           │ ?                      │   \u001b[38;5;34m0\u001b[0m (unbuilt) │\n",
       "│ (\u001b[38;5;33mSimpleRNN\u001b[0m)                     │                        │               │\n",
       "├─────────────────────────────────┼────────────────────────┼───────────────┤\n",
       "│ simplernn_4_simplernn           │ ?                      │   \u001b[38;5;34m0\u001b[0m (unbuilt) │\n",
       "│ (\u001b[38;5;33mSimpleRNN\u001b[0m)                     │                        │               │\n",
       "├─────────────────────────────────┼────────────────────────┼───────────────┤\n",
       "│ simplernn_5_simplernn           │ ?                      │   \u001b[38;5;34m0\u001b[0m (unbuilt) │\n",
       "│ (\u001b[38;5;33mSimpleRNN\u001b[0m)                     │                        │               │\n",
       "├─────────────────────────────────┼────────────────────────┼───────────────┤\n",
       "│ dropout (\u001b[38;5;33mDropout\u001b[0m)               │ ?                      │             \u001b[38;5;34m0\u001b[0m │\n",
       "├─────────────────────────────────┼────────────────────────┼───────────────┤\n",
       "│ output (\u001b[38;5;33mDense\u001b[0m)                  │ ?                      │   \u001b[38;5;34m0\u001b[0m (unbuilt) │\n",
       "└─────────────────────────────────┴────────────────────────┴───────────────┘\n"
      ]
     },
     "metadata": {},
     "output_type": "display_data"
    },
    {
     "data": {
      "text/html": [
       "<pre style=\"white-space:pre;overflow-x:auto;line-height:normal;font-family:Menlo,'DejaVu Sans Mono',consolas,'Courier New',monospace\"><span style=\"font-weight: bold\"> Total params: </span><span style=\"color: #00af00; text-decoration-color: #00af00\">0</span> (0.00 B)\n",
       "</pre>\n"
      ],
      "text/plain": [
       "\u001b[1m Total params: \u001b[0m\u001b[38;5;34m0\u001b[0m (0.00 B)\n"
      ]
     },
     "metadata": {},
     "output_type": "display_data"
    },
    {
     "data": {
      "text/html": [
       "<pre style=\"white-space:pre;overflow-x:auto;line-height:normal;font-family:Menlo,'DejaVu Sans Mono',consolas,'Courier New',monospace\"><span style=\"font-weight: bold\"> Trainable params: </span><span style=\"color: #00af00; text-decoration-color: #00af00\">0</span> (0.00 B)\n",
       "</pre>\n"
      ],
      "text/plain": [
       "\u001b[1m Trainable params: \u001b[0m\u001b[38;5;34m0\u001b[0m (0.00 B)\n"
      ]
     },
     "metadata": {},
     "output_type": "display_data"
    },
    {
     "data": {
      "text/html": [
       "<pre style=\"white-space:pre;overflow-x:auto;line-height:normal;font-family:Menlo,'DejaVu Sans Mono',consolas,'Courier New',monospace\"><span style=\"font-weight: bold\"> Non-trainable params: </span><span style=\"color: #00af00; text-decoration-color: #00af00\">0</span> (0.00 B)\n",
       "</pre>\n"
      ],
      "text/plain": [
       "\u001b[1m Non-trainable params: \u001b[0m\u001b[38;5;34m0\u001b[0m (0.00 B)\n"
      ]
     },
     "metadata": {},
     "output_type": "display_data"
    },
    {
     "name": "stdout",
     "output_type": "stream",
     "text": [
      "Training Keras model: NumLayers_6_Units_32_Dir_Uni\n",
      "Epoch 1/15\n",
      "10/10 - 7s - 659ms/step - accuracy: 0.3760 - loss: 1.3573 - val_accuracy: 0.3800 - val_loss: 1.1247\n",
      "Epoch 2/15\n",
      "10/10 - 1s - 63ms/step - accuracy: 0.3800 - loss: 1.1981 - val_accuracy: 0.3800 - val_loss: 1.0918\n",
      "Epoch 3/15\n",
      "10/10 - 1s - 66ms/step - accuracy: 0.3720 - loss: 1.1799 - val_accuracy: 0.3600 - val_loss: 1.1068\n",
      "Epoch 4/15\n",
      "10/10 - 1s - 62ms/step - accuracy: 0.4680 - loss: 1.0520 - val_accuracy: 0.3500 - val_loss: 1.3004\n",
      "Epoch 5/15\n",
      "10/10 - 1s - 71ms/step - accuracy: 0.6760 - loss: 0.7421 - val_accuracy: 0.2700 - val_loss: 1.5187\n",
      "Epoch 6/15\n",
      "10/10 - 1s - 67ms/step - accuracy: 0.8260 - loss: 0.4658 - val_accuracy: 0.2900 - val_loss: 1.7105\n",
      "Epoch 7/15\n",
      "10/10 - 1s - 62ms/step - accuracy: 0.9040 - loss: 0.2945 - val_accuracy: 0.2700 - val_loss: 1.9104\n",
      "Epoch 8/15\n",
      "10/10 - 1s - 62ms/step - accuracy: 0.9580 - loss: 0.1807 - val_accuracy: 0.2800 - val_loss: 1.9912\n",
      "Epoch 9/15\n",
      "10/10 - 1s - 65ms/step - accuracy: 0.9780 - loss: 0.1258 - val_accuracy: 0.3300 - val_loss: 2.1371\n",
      "Epoch 10/15\n",
      "10/10 - 1s - 63ms/step - accuracy: 0.9900 - loss: 0.0751 - val_accuracy: 0.2800 - val_loss: 2.3971\n",
      "Epoch 11/15\n",
      "10/10 - 1s - 61ms/step - accuracy: 0.9960 - loss: 0.0549 - val_accuracy: 0.2600 - val_loss: 2.5265\n",
      "Epoch 12/15\n",
      "10/10 - 1s - 68ms/step - accuracy: 1.0000 - loss: 0.0355 - val_accuracy: 0.2700 - val_loss: 2.5362\n",
      "Epoch 13/15\n",
      "10/10 - 1s - 64ms/step - accuracy: 0.9960 - loss: 0.0387 - val_accuracy: 0.3100 - val_loss: 2.5549\n",
      "Epoch 14/15\n",
      "10/10 - 1s - 62ms/step - accuracy: 1.0000 - loss: 0.0256 - val_accuracy: 0.3100 - val_loss: 2.6376\n",
      "Epoch 15/15\n",
      "10/10 - 1s - 61ms/step - accuracy: 1.0000 - loss: 0.0257 - val_accuracy: 0.3000 - val_loss: 2.6787\n",
      "Saved Keras weights to results/weights/keras_rnn_NumLayers_6_Units_32_Dir_Uni.weights.h5\n",
      "Saved plot to results/plots/experiment_NumLayers_6_Units_32_Dir_Uni_history.png\n",
      "\u001b[1m8/8\u001b[0m \u001b[32m━━━━━━━━━━━━━━━━━━━━\u001b[0m\u001b[37m\u001b[0m \u001b[1m1s\u001b[0m 15ms/step\n",
      "[Keras - NumLayers_6_Units_32_Dir_Uni] Test Macro F1-score: 0.3390\n",
      "\n",
      "--- Running Experiment 3/8: NumLayers_7_Units_32_Dir_Uni ---\n"
     ]
    },
    {
     "name": "stderr",
     "output_type": "stream",
     "text": [
      "c:\\Python312\\Lib\\site-packages\\keras\\src\\layers\\core\\embedding.py:90: UserWarning: Argument `input_length` is deprecated. Just remove it.\n",
      "  warnings.warn(\n"
     ]
    },
    {
     "data": {
      "text/html": [
       "<pre style=\"white-space:pre;overflow-x:auto;line-height:normal;font-family:Menlo,'DejaVu Sans Mono',consolas,'Courier New',monospace\"><span style=\"font-weight: bold\">Model: \"sequential_18\"</span>\n",
       "</pre>\n"
      ],
      "text/plain": [
       "\u001b[1mModel: \"sequential_18\"\u001b[0m\n"
      ]
     },
     "metadata": {},
     "output_type": "display_data"
    },
    {
     "data": {
      "text/html": [
       "<pre style=\"white-space:pre;overflow-x:auto;line-height:normal;font-family:Menlo,'DejaVu Sans Mono',consolas,'Courier New',monospace\">┏━━━━━━━━━━━━━━━━━━━━━━━━━━━━━━━━━┳━━━━━━━━━━━━━━━━━━━━━━━━┳━━━━━━━━━━━━━━━┓\n",
       "┃<span style=\"font-weight: bold\"> Layer (type)                    </span>┃<span style=\"font-weight: bold\"> Output Shape           </span>┃<span style=\"font-weight: bold\">       Param # </span>┃\n",
       "┡━━━━━━━━━━━━━━━━━━━━━━━━━━━━━━━━━╇━━━━━━━━━━━━━━━━━━━━━━━━╇━━━━━━━━━━━━━━━┩\n",
       "│ embedding (<span style=\"color: #0087ff; text-decoration-color: #0087ff\">Embedding</span>)           │ ?                      │   <span style=\"color: #00af00; text-decoration-color: #00af00\">0</span> (unbuilt) │\n",
       "├─────────────────────────────────┼────────────────────────┼───────────────┤\n",
       "│ simplernn_0_simplernn           │ ?                      │   <span style=\"color: #00af00; text-decoration-color: #00af00\">0</span> (unbuilt) │\n",
       "│ (<span style=\"color: #0087ff; text-decoration-color: #0087ff\">SimpleRNN</span>)                     │                        │               │\n",
       "├─────────────────────────────────┼────────────────────────┼───────────────┤\n",
       "│ simplernn_1_simplernn           │ ?                      │   <span style=\"color: #00af00; text-decoration-color: #00af00\">0</span> (unbuilt) │\n",
       "│ (<span style=\"color: #0087ff; text-decoration-color: #0087ff\">SimpleRNN</span>)                     │                        │               │\n",
       "├─────────────────────────────────┼────────────────────────┼───────────────┤\n",
       "│ simplernn_2_simplernn           │ ?                      │   <span style=\"color: #00af00; text-decoration-color: #00af00\">0</span> (unbuilt) │\n",
       "│ (<span style=\"color: #0087ff; text-decoration-color: #0087ff\">SimpleRNN</span>)                     │                        │               │\n",
       "├─────────────────────────────────┼────────────────────────┼───────────────┤\n",
       "│ simplernn_3_simplernn           │ ?                      │   <span style=\"color: #00af00; text-decoration-color: #00af00\">0</span> (unbuilt) │\n",
       "│ (<span style=\"color: #0087ff; text-decoration-color: #0087ff\">SimpleRNN</span>)                     │                        │               │\n",
       "├─────────────────────────────────┼────────────────────────┼───────────────┤\n",
       "│ simplernn_4_simplernn           │ ?                      │   <span style=\"color: #00af00; text-decoration-color: #00af00\">0</span> (unbuilt) │\n",
       "│ (<span style=\"color: #0087ff; text-decoration-color: #0087ff\">SimpleRNN</span>)                     │                        │               │\n",
       "├─────────────────────────────────┼────────────────────────┼───────────────┤\n",
       "│ simplernn_5_simplernn           │ ?                      │   <span style=\"color: #00af00; text-decoration-color: #00af00\">0</span> (unbuilt) │\n",
       "│ (<span style=\"color: #0087ff; text-decoration-color: #0087ff\">SimpleRNN</span>)                     │                        │               │\n",
       "├─────────────────────────────────┼────────────────────────┼───────────────┤\n",
       "│ simplernn_6_simplernn           │ ?                      │   <span style=\"color: #00af00; text-decoration-color: #00af00\">0</span> (unbuilt) │\n",
       "│ (<span style=\"color: #0087ff; text-decoration-color: #0087ff\">SimpleRNN</span>)                     │                        │               │\n",
       "├─────────────────────────────────┼────────────────────────┼───────────────┤\n",
       "│ dropout (<span style=\"color: #0087ff; text-decoration-color: #0087ff\">Dropout</span>)               │ ?                      │             <span style=\"color: #00af00; text-decoration-color: #00af00\">0</span> │\n",
       "├─────────────────────────────────┼────────────────────────┼───────────────┤\n",
       "│ output (<span style=\"color: #0087ff; text-decoration-color: #0087ff\">Dense</span>)                  │ ?                      │   <span style=\"color: #00af00; text-decoration-color: #00af00\">0</span> (unbuilt) │\n",
       "└─────────────────────────────────┴────────────────────────┴───────────────┘\n",
       "</pre>\n"
      ],
      "text/plain": [
       "┏━━━━━━━━━━━━━━━━━━━━━━━━━━━━━━━━━┳━━━━━━━━━━━━━━━━━━━━━━━━┳━━━━━━━━━━━━━━━┓\n",
       "┃\u001b[1m \u001b[0m\u001b[1mLayer (type)                   \u001b[0m\u001b[1m \u001b[0m┃\u001b[1m \u001b[0m\u001b[1mOutput Shape          \u001b[0m\u001b[1m \u001b[0m┃\u001b[1m \u001b[0m\u001b[1m      Param #\u001b[0m\u001b[1m \u001b[0m┃\n",
       "┡━━━━━━━━━━━━━━━━━━━━━━━━━━━━━━━━━╇━━━━━━━━━━━━━━━━━━━━━━━━╇━━━━━━━━━━━━━━━┩\n",
       "│ embedding (\u001b[38;5;33mEmbedding\u001b[0m)           │ ?                      │   \u001b[38;5;34m0\u001b[0m (unbuilt) │\n",
       "├─────────────────────────────────┼────────────────────────┼───────────────┤\n",
       "│ simplernn_0_simplernn           │ ?                      │   \u001b[38;5;34m0\u001b[0m (unbuilt) │\n",
       "│ (\u001b[38;5;33mSimpleRNN\u001b[0m)                     │                        │               │\n",
       "├─────────────────────────────────┼────────────────────────┼───────────────┤\n",
       "│ simplernn_1_simplernn           │ ?                      │   \u001b[38;5;34m0\u001b[0m (unbuilt) │\n",
       "│ (\u001b[38;5;33mSimpleRNN\u001b[0m)                     │                        │               │\n",
       "├─────────────────────────────────┼────────────────────────┼───────────────┤\n",
       "│ simplernn_2_simplernn           │ ?                      │   \u001b[38;5;34m0\u001b[0m (unbuilt) │\n",
       "│ (\u001b[38;5;33mSimpleRNN\u001b[0m)                     │                        │               │\n",
       "├─────────────────────────────────┼────────────────────────┼───────────────┤\n",
       "│ simplernn_3_simplernn           │ ?                      │   \u001b[38;5;34m0\u001b[0m (unbuilt) │\n",
       "│ (\u001b[38;5;33mSimpleRNN\u001b[0m)                     │                        │               │\n",
       "├─────────────────────────────────┼────────────────────────┼───────────────┤\n",
       "│ simplernn_4_simplernn           │ ?                      │   \u001b[38;5;34m0\u001b[0m (unbuilt) │\n",
       "│ (\u001b[38;5;33mSimpleRNN\u001b[0m)                     │                        │               │\n",
       "├─────────────────────────────────┼────────────────────────┼───────────────┤\n",
       "│ simplernn_5_simplernn           │ ?                      │   \u001b[38;5;34m0\u001b[0m (unbuilt) │\n",
       "│ (\u001b[38;5;33mSimpleRNN\u001b[0m)                     │                        │               │\n",
       "├─────────────────────────────────┼────────────────────────┼───────────────┤\n",
       "│ simplernn_6_simplernn           │ ?                      │   \u001b[38;5;34m0\u001b[0m (unbuilt) │\n",
       "│ (\u001b[38;5;33mSimpleRNN\u001b[0m)                     │                        │               │\n",
       "├─────────────────────────────────┼────────────────────────┼───────────────┤\n",
       "│ dropout (\u001b[38;5;33mDropout\u001b[0m)               │ ?                      │             \u001b[38;5;34m0\u001b[0m │\n",
       "├─────────────────────────────────┼────────────────────────┼───────────────┤\n",
       "│ output (\u001b[38;5;33mDense\u001b[0m)                  │ ?                      │   \u001b[38;5;34m0\u001b[0m (unbuilt) │\n",
       "└─────────────────────────────────┴────────────────────────┴───────────────┘\n"
      ]
     },
     "metadata": {},
     "output_type": "display_data"
    },
    {
     "data": {
      "text/html": [
       "<pre style=\"white-space:pre;overflow-x:auto;line-height:normal;font-family:Menlo,'DejaVu Sans Mono',consolas,'Courier New',monospace\"><span style=\"font-weight: bold\"> Total params: </span><span style=\"color: #00af00; text-decoration-color: #00af00\">0</span> (0.00 B)\n",
       "</pre>\n"
      ],
      "text/plain": [
       "\u001b[1m Total params: \u001b[0m\u001b[38;5;34m0\u001b[0m (0.00 B)\n"
      ]
     },
     "metadata": {},
     "output_type": "display_data"
    },
    {
     "data": {
      "text/html": [
       "<pre style=\"white-space:pre;overflow-x:auto;line-height:normal;font-family:Menlo,'DejaVu Sans Mono',consolas,'Courier New',monospace\"><span style=\"font-weight: bold\"> Trainable params: </span><span style=\"color: #00af00; text-decoration-color: #00af00\">0</span> (0.00 B)\n",
       "</pre>\n"
      ],
      "text/plain": [
       "\u001b[1m Trainable params: \u001b[0m\u001b[38;5;34m0\u001b[0m (0.00 B)\n"
      ]
     },
     "metadata": {},
     "output_type": "display_data"
    },
    {
     "data": {
      "text/html": [
       "<pre style=\"white-space:pre;overflow-x:auto;line-height:normal;font-family:Menlo,'DejaVu Sans Mono',consolas,'Courier New',monospace\"><span style=\"font-weight: bold\"> Non-trainable params: </span><span style=\"color: #00af00; text-decoration-color: #00af00\">0</span> (0.00 B)\n",
       "</pre>\n"
      ],
      "text/plain": [
       "\u001b[1m Non-trainable params: \u001b[0m\u001b[38;5;34m0\u001b[0m (0.00 B)\n"
      ]
     },
     "metadata": {},
     "output_type": "display_data"
    },
    {
     "name": "stdout",
     "output_type": "stream",
     "text": [
      "Training Keras model: NumLayers_7_Units_32_Dir_Uni\n",
      "Epoch 1/15\n",
      "10/10 - 6s - 640ms/step - accuracy: 0.3480 - loss: 1.2628 - val_accuracy: 0.4600 - val_loss: 1.0844\n",
      "Epoch 2/15\n",
      "10/10 - 1s - 69ms/step - accuracy: 0.3840 - loss: 1.1955 - val_accuracy: 0.3300 - val_loss: 1.1278\n",
      "Epoch 3/15\n",
      "10/10 - 1s - 69ms/step - accuracy: 0.4120 - loss: 1.1360 - val_accuracy: 0.4500 - val_loss: 1.1168\n",
      "Epoch 4/15\n",
      "10/10 - 1s - 66ms/step - accuracy: 0.5960 - loss: 0.9105 - val_accuracy: 0.4400 - val_loss: 1.1826\n",
      "Epoch 5/15\n",
      "10/10 - 1s - 68ms/step - accuracy: 0.7280 - loss: 0.6607 - val_accuracy: 0.4300 - val_loss: 1.3299\n",
      "Epoch 6/15\n",
      "10/10 - 1s - 64ms/step - accuracy: 0.7800 - loss: 0.5594 - val_accuracy: 0.4400 - val_loss: 1.5582\n",
      "Epoch 7/15\n",
      "10/10 - 1s - 64ms/step - accuracy: 0.8600 - loss: 0.3934 - val_accuracy: 0.4400 - val_loss: 1.5757\n",
      "Epoch 8/15\n",
      "10/10 - 1s - 65ms/step - accuracy: 0.9300 - loss: 0.2608 - val_accuracy: 0.4700 - val_loss: 1.5788\n",
      "Epoch 9/15\n",
      "10/10 - 1s - 65ms/step - accuracy: 0.9600 - loss: 0.1755 - val_accuracy: 0.4300 - val_loss: 1.7263\n",
      "Epoch 10/15\n",
      "10/10 - 1s - 68ms/step - accuracy: 0.9840 - loss: 0.1213 - val_accuracy: 0.4700 - val_loss: 1.8257\n",
      "Epoch 11/15\n",
      "10/10 - 1s - 68ms/step - accuracy: 0.9840 - loss: 0.0948 - val_accuracy: 0.4800 - val_loss: 1.9777\n",
      "Epoch 12/15\n",
      "10/10 - 1s - 66ms/step - accuracy: 0.9880 - loss: 0.0796 - val_accuracy: 0.4600 - val_loss: 1.9414\n",
      "Epoch 13/15\n",
      "10/10 - 1s - 65ms/step - accuracy: 0.9920 - loss: 0.0550 - val_accuracy: 0.4800 - val_loss: 2.0821\n",
      "Epoch 14/15\n",
      "10/10 - 1s - 65ms/step - accuracy: 0.9940 - loss: 0.0530 - val_accuracy: 0.4900 - val_loss: 2.0750\n",
      "Epoch 15/15\n",
      "10/10 - 1s - 67ms/step - accuracy: 0.9960 - loss: 0.0450 - val_accuracy: 0.4600 - val_loss: 2.2670\n",
      "Saved Keras weights to results/weights/keras_rnn_NumLayers_7_Units_32_Dir_Uni.weights.h5\n",
      "Saved plot to results/plots/experiment_NumLayers_7_Units_32_Dir_Uni_history.png\n",
      "\u001b[1m8/8\u001b[0m \u001b[32m━━━━━━━━━━━━━━━━━━━━\u001b[0m\u001b[37m\u001b[0m \u001b[1m1s\u001b[0m 18ms/step\n",
      "[Keras - NumLayers_7_Units_32_Dir_Uni] Test Macro F1-score: 0.3523\n",
      "\n",
      "--- Running Experiment 4/8: NumLayers_5_Units_32_Dir_Uni ---\n"
     ]
    },
    {
     "name": "stderr",
     "output_type": "stream",
     "text": [
      "c:\\Python312\\Lib\\site-packages\\keras\\src\\layers\\core\\embedding.py:90: UserWarning: Argument `input_length` is deprecated. Just remove it.\n",
      "  warnings.warn(\n"
     ]
    },
    {
     "data": {
      "text/html": [
       "<pre style=\"white-space:pre;overflow-x:auto;line-height:normal;font-family:Menlo,'DejaVu Sans Mono',consolas,'Courier New',monospace\"><span style=\"font-weight: bold\">Model: \"sequential_19\"</span>\n",
       "</pre>\n"
      ],
      "text/plain": [
       "\u001b[1mModel: \"sequential_19\"\u001b[0m\n"
      ]
     },
     "metadata": {},
     "output_type": "display_data"
    },
    {
     "data": {
      "text/html": [
       "<pre style=\"white-space:pre;overflow-x:auto;line-height:normal;font-family:Menlo,'DejaVu Sans Mono',consolas,'Courier New',monospace\">┏━━━━━━━━━━━━━━━━━━━━━━━━━━━━━━━━━┳━━━━━━━━━━━━━━━━━━━━━━━━┳━━━━━━━━━━━━━━━┓\n",
       "┃<span style=\"font-weight: bold\"> Layer (type)                    </span>┃<span style=\"font-weight: bold\"> Output Shape           </span>┃<span style=\"font-weight: bold\">       Param # </span>┃\n",
       "┡━━━━━━━━━━━━━━━━━━━━━━━━━━━━━━━━━╇━━━━━━━━━━━━━━━━━━━━━━━━╇━━━━━━━━━━━━━━━┩\n",
       "│ embedding (<span style=\"color: #0087ff; text-decoration-color: #0087ff\">Embedding</span>)           │ ?                      │   <span style=\"color: #00af00; text-decoration-color: #00af00\">0</span> (unbuilt) │\n",
       "├─────────────────────────────────┼────────────────────────┼───────────────┤\n",
       "│ simplernn_0_simplernn           │ ?                      │   <span style=\"color: #00af00; text-decoration-color: #00af00\">0</span> (unbuilt) │\n",
       "│ (<span style=\"color: #0087ff; text-decoration-color: #0087ff\">SimpleRNN</span>)                     │                        │               │\n",
       "├─────────────────────────────────┼────────────────────────┼───────────────┤\n",
       "│ simplernn_1_simplernn           │ ?                      │   <span style=\"color: #00af00; text-decoration-color: #00af00\">0</span> (unbuilt) │\n",
       "│ (<span style=\"color: #0087ff; text-decoration-color: #0087ff\">SimpleRNN</span>)                     │                        │               │\n",
       "├─────────────────────────────────┼────────────────────────┼───────────────┤\n",
       "│ simplernn_2_simplernn           │ ?                      │   <span style=\"color: #00af00; text-decoration-color: #00af00\">0</span> (unbuilt) │\n",
       "│ (<span style=\"color: #0087ff; text-decoration-color: #0087ff\">SimpleRNN</span>)                     │                        │               │\n",
       "├─────────────────────────────────┼────────────────────────┼───────────────┤\n",
       "│ simplernn_3_simplernn           │ ?                      │   <span style=\"color: #00af00; text-decoration-color: #00af00\">0</span> (unbuilt) │\n",
       "│ (<span style=\"color: #0087ff; text-decoration-color: #0087ff\">SimpleRNN</span>)                     │                        │               │\n",
       "├─────────────────────────────────┼────────────────────────┼───────────────┤\n",
       "│ simplernn_4_simplernn           │ ?                      │   <span style=\"color: #00af00; text-decoration-color: #00af00\">0</span> (unbuilt) │\n",
       "│ (<span style=\"color: #0087ff; text-decoration-color: #0087ff\">SimpleRNN</span>)                     │                        │               │\n",
       "├─────────────────────────────────┼────────────────────────┼───────────────┤\n",
       "│ dropout (<span style=\"color: #0087ff; text-decoration-color: #0087ff\">Dropout</span>)               │ ?                      │             <span style=\"color: #00af00; text-decoration-color: #00af00\">0</span> │\n",
       "├─────────────────────────────────┼────────────────────────┼───────────────┤\n",
       "│ output (<span style=\"color: #0087ff; text-decoration-color: #0087ff\">Dense</span>)                  │ ?                      │   <span style=\"color: #00af00; text-decoration-color: #00af00\">0</span> (unbuilt) │\n",
       "└─────────────────────────────────┴────────────────────────┴───────────────┘\n",
       "</pre>\n"
      ],
      "text/plain": [
       "┏━━━━━━━━━━━━━━━━━━━━━━━━━━━━━━━━━┳━━━━━━━━━━━━━━━━━━━━━━━━┳━━━━━━━━━━━━━━━┓\n",
       "┃\u001b[1m \u001b[0m\u001b[1mLayer (type)                   \u001b[0m\u001b[1m \u001b[0m┃\u001b[1m \u001b[0m\u001b[1mOutput Shape          \u001b[0m\u001b[1m \u001b[0m┃\u001b[1m \u001b[0m\u001b[1m      Param #\u001b[0m\u001b[1m \u001b[0m┃\n",
       "┡━━━━━━━━━━━━━━━━━━━━━━━━━━━━━━━━━╇━━━━━━━━━━━━━━━━━━━━━━━━╇━━━━━━━━━━━━━━━┩\n",
       "│ embedding (\u001b[38;5;33mEmbedding\u001b[0m)           │ ?                      │   \u001b[38;5;34m0\u001b[0m (unbuilt) │\n",
       "├─────────────────────────────────┼────────────────────────┼───────────────┤\n",
       "│ simplernn_0_simplernn           │ ?                      │   \u001b[38;5;34m0\u001b[0m (unbuilt) │\n",
       "│ (\u001b[38;5;33mSimpleRNN\u001b[0m)                     │                        │               │\n",
       "├─────────────────────────────────┼────────────────────────┼───────────────┤\n",
       "│ simplernn_1_simplernn           │ ?                      │   \u001b[38;5;34m0\u001b[0m (unbuilt) │\n",
       "│ (\u001b[38;5;33mSimpleRNN\u001b[0m)                     │                        │               │\n",
       "├─────────────────────────────────┼────────────────────────┼───────────────┤\n",
       "│ simplernn_2_simplernn           │ ?                      │   \u001b[38;5;34m0\u001b[0m (unbuilt) │\n",
       "│ (\u001b[38;5;33mSimpleRNN\u001b[0m)                     │                        │               │\n",
       "├─────────────────────────────────┼────────────────────────┼───────────────┤\n",
       "│ simplernn_3_simplernn           │ ?                      │   \u001b[38;5;34m0\u001b[0m (unbuilt) │\n",
       "│ (\u001b[38;5;33mSimpleRNN\u001b[0m)                     │                        │               │\n",
       "├─────────────────────────────────┼────────────────────────┼───────────────┤\n",
       "│ simplernn_4_simplernn           │ ?                      │   \u001b[38;5;34m0\u001b[0m (unbuilt) │\n",
       "│ (\u001b[38;5;33mSimpleRNN\u001b[0m)                     │                        │               │\n",
       "├─────────────────────────────────┼────────────────────────┼───────────────┤\n",
       "│ dropout (\u001b[38;5;33mDropout\u001b[0m)               │ ?                      │             \u001b[38;5;34m0\u001b[0m │\n",
       "├─────────────────────────────────┼────────────────────────┼───────────────┤\n",
       "│ output (\u001b[38;5;33mDense\u001b[0m)                  │ ?                      │   \u001b[38;5;34m0\u001b[0m (unbuilt) │\n",
       "└─────────────────────────────────┴────────────────────────┴───────────────┘\n"
      ]
     },
     "metadata": {},
     "output_type": "display_data"
    },
    {
     "data": {
      "text/html": [
       "<pre style=\"white-space:pre;overflow-x:auto;line-height:normal;font-family:Menlo,'DejaVu Sans Mono',consolas,'Courier New',monospace\"><span style=\"font-weight: bold\"> Total params: </span><span style=\"color: #00af00; text-decoration-color: #00af00\">0</span> (0.00 B)\n",
       "</pre>\n"
      ],
      "text/plain": [
       "\u001b[1m Total params: \u001b[0m\u001b[38;5;34m0\u001b[0m (0.00 B)\n"
      ]
     },
     "metadata": {},
     "output_type": "display_data"
    },
    {
     "data": {
      "text/html": [
       "<pre style=\"white-space:pre;overflow-x:auto;line-height:normal;font-family:Menlo,'DejaVu Sans Mono',consolas,'Courier New',monospace\"><span style=\"font-weight: bold\"> Trainable params: </span><span style=\"color: #00af00; text-decoration-color: #00af00\">0</span> (0.00 B)\n",
       "</pre>\n"
      ],
      "text/plain": [
       "\u001b[1m Trainable params: \u001b[0m\u001b[38;5;34m0\u001b[0m (0.00 B)\n"
      ]
     },
     "metadata": {},
     "output_type": "display_data"
    },
    {
     "data": {
      "text/html": [
       "<pre style=\"white-space:pre;overflow-x:auto;line-height:normal;font-family:Menlo,'DejaVu Sans Mono',consolas,'Courier New',monospace\"><span style=\"font-weight: bold\"> Non-trainable params: </span><span style=\"color: #00af00; text-decoration-color: #00af00\">0</span> (0.00 B)\n",
       "</pre>\n"
      ],
      "text/plain": [
       "\u001b[1m Non-trainable params: \u001b[0m\u001b[38;5;34m0\u001b[0m (0.00 B)\n"
      ]
     },
     "metadata": {},
     "output_type": "display_data"
    },
    {
     "name": "stdout",
     "output_type": "stream",
     "text": [
      "Training Keras model: NumLayers_5_Units_32_Dir_Uni\n",
      "Epoch 1/15\n",
      "10/10 - 6s - 580ms/step - accuracy: 0.3520 - loss: 1.4619 - val_accuracy: 0.3500 - val_loss: 1.1410\n",
      "Epoch 2/15\n",
      "10/10 - 1s - 64ms/step - accuracy: 0.3440 - loss: 1.3709 - val_accuracy: 0.4600 - val_loss: 1.0751\n",
      "Epoch 3/15\n",
      "10/10 - 1s - 60ms/step - accuracy: 0.3500 - loss: 1.3489 - val_accuracy: 0.3900 - val_loss: 1.0901\n",
      "Epoch 4/15\n",
      "10/10 - 1s - 62ms/step - accuracy: 0.3680 - loss: 1.2138 - val_accuracy: 0.3700 - val_loss: 1.1244\n",
      "Epoch 5/15\n",
      "10/10 - 1s - 59ms/step - accuracy: 0.3900 - loss: 1.1918 - val_accuracy: 0.4200 - val_loss: 1.0913\n",
      "Epoch 6/15\n",
      "10/10 - 1s - 57ms/step - accuracy: 0.3900 - loss: 1.1987 - val_accuracy: 0.4300 - val_loss: 1.1055\n",
      "Epoch 7/15\n",
      "10/10 - 1s - 56ms/step - accuracy: 0.3720 - loss: 1.2015 - val_accuracy: 0.4100 - val_loss: 1.0988\n",
      "Epoch 8/15\n",
      "10/10 - 1s - 60ms/step - accuracy: 0.3840 - loss: 1.1772 - val_accuracy: 0.3800 - val_loss: 1.1966\n",
      "Epoch 9/15\n",
      "10/10 - 1s - 58ms/step - accuracy: 0.4340 - loss: 1.1837 - val_accuracy: 0.3500 - val_loss: 1.1316\n",
      "Epoch 10/15\n",
      "10/10 - 1s - 57ms/step - accuracy: 0.4600 - loss: 1.1001 - val_accuracy: 0.3700 - val_loss: 1.1295\n",
      "Epoch 11/15\n",
      "10/10 - 1s - 57ms/step - accuracy: 0.5000 - loss: 1.0646 - val_accuracy: 0.3900 - val_loss: 1.1843\n",
      "Epoch 12/15\n",
      "10/10 - 1s - 58ms/step - accuracy: 0.4200 - loss: 1.1339 - val_accuracy: 0.3200 - val_loss: 1.1604\n",
      "Epoch 13/15\n",
      "10/10 - 1s - 58ms/step - accuracy: 0.5080 - loss: 1.0460 - val_accuracy: 0.4400 - val_loss: 1.1832\n",
      "Epoch 14/15\n",
      "10/10 - 1s - 56ms/step - accuracy: 0.5380 - loss: 0.9967 - val_accuracy: 0.4100 - val_loss: 1.1340\n",
      "Epoch 15/15\n",
      "10/10 - 1s - 57ms/step - accuracy: 0.6120 - loss: 0.9162 - val_accuracy: 0.3700 - val_loss: 1.2041\n",
      "Saved Keras weights to results/weights/keras_rnn_NumLayers_5_Units_32_Dir_Uni.weights.h5\n",
      "Saved plot to results/plots/experiment_NumLayers_5_Units_32_Dir_Uni_history.png\n",
      "\u001b[1m8/8\u001b[0m \u001b[32m━━━━━━━━━━━━━━━━━━━━\u001b[0m\u001b[37m\u001b[0m \u001b[1m0s\u001b[0m 13ms/step\n",
      "[Keras - NumLayers_5_Units_32_Dir_Uni] Test Macro F1-score: 0.2838\n",
      "\n",
      "--- Running Experiment 5/8: NumLayers_5_Units_64_Dir_Uni ---\n"
     ]
    },
    {
     "name": "stderr",
     "output_type": "stream",
     "text": [
      "c:\\Python312\\Lib\\site-packages\\keras\\src\\layers\\core\\embedding.py:90: UserWarning: Argument `input_length` is deprecated. Just remove it.\n",
      "  warnings.warn(\n"
     ]
    },
    {
     "data": {
      "text/html": [
       "<pre style=\"white-space:pre;overflow-x:auto;line-height:normal;font-family:Menlo,'DejaVu Sans Mono',consolas,'Courier New',monospace\"><span style=\"font-weight: bold\">Model: \"sequential_20\"</span>\n",
       "</pre>\n"
      ],
      "text/plain": [
       "\u001b[1mModel: \"sequential_20\"\u001b[0m\n"
      ]
     },
     "metadata": {},
     "output_type": "display_data"
    },
    {
     "data": {
      "text/html": [
       "<pre style=\"white-space:pre;overflow-x:auto;line-height:normal;font-family:Menlo,'DejaVu Sans Mono',consolas,'Courier New',monospace\">┏━━━━━━━━━━━━━━━━━━━━━━━━━━━━━━━━━┳━━━━━━━━━━━━━━━━━━━━━━━━┳━━━━━━━━━━━━━━━┓\n",
       "┃<span style=\"font-weight: bold\"> Layer (type)                    </span>┃<span style=\"font-weight: bold\"> Output Shape           </span>┃<span style=\"font-weight: bold\">       Param # </span>┃\n",
       "┡━━━━━━━━━━━━━━━━━━━━━━━━━━━━━━━━━╇━━━━━━━━━━━━━━━━━━━━━━━━╇━━━━━━━━━━━━━━━┩\n",
       "│ embedding (<span style=\"color: #0087ff; text-decoration-color: #0087ff\">Embedding</span>)           │ ?                      │   <span style=\"color: #00af00; text-decoration-color: #00af00\">0</span> (unbuilt) │\n",
       "├─────────────────────────────────┼────────────────────────┼───────────────┤\n",
       "│ simplernn_0_simplernn           │ ?                      │   <span style=\"color: #00af00; text-decoration-color: #00af00\">0</span> (unbuilt) │\n",
       "│ (<span style=\"color: #0087ff; text-decoration-color: #0087ff\">SimpleRNN</span>)                     │                        │               │\n",
       "├─────────────────────────────────┼────────────────────────┼───────────────┤\n",
       "│ simplernn_1_simplernn           │ ?                      │   <span style=\"color: #00af00; text-decoration-color: #00af00\">0</span> (unbuilt) │\n",
       "│ (<span style=\"color: #0087ff; text-decoration-color: #0087ff\">SimpleRNN</span>)                     │                        │               │\n",
       "├─────────────────────────────────┼────────────────────────┼───────────────┤\n",
       "│ simplernn_2_simplernn           │ ?                      │   <span style=\"color: #00af00; text-decoration-color: #00af00\">0</span> (unbuilt) │\n",
       "│ (<span style=\"color: #0087ff; text-decoration-color: #0087ff\">SimpleRNN</span>)                     │                        │               │\n",
       "├─────────────────────────────────┼────────────────────────┼───────────────┤\n",
       "│ simplernn_3_simplernn           │ ?                      │   <span style=\"color: #00af00; text-decoration-color: #00af00\">0</span> (unbuilt) │\n",
       "│ (<span style=\"color: #0087ff; text-decoration-color: #0087ff\">SimpleRNN</span>)                     │                        │               │\n",
       "├─────────────────────────────────┼────────────────────────┼───────────────┤\n",
       "│ simplernn_4_simplernn           │ ?                      │   <span style=\"color: #00af00; text-decoration-color: #00af00\">0</span> (unbuilt) │\n",
       "│ (<span style=\"color: #0087ff; text-decoration-color: #0087ff\">SimpleRNN</span>)                     │                        │               │\n",
       "├─────────────────────────────────┼────────────────────────┼───────────────┤\n",
       "│ dropout (<span style=\"color: #0087ff; text-decoration-color: #0087ff\">Dropout</span>)               │ ?                      │             <span style=\"color: #00af00; text-decoration-color: #00af00\">0</span> │\n",
       "├─────────────────────────────────┼────────────────────────┼───────────────┤\n",
       "│ output (<span style=\"color: #0087ff; text-decoration-color: #0087ff\">Dense</span>)                  │ ?                      │   <span style=\"color: #00af00; text-decoration-color: #00af00\">0</span> (unbuilt) │\n",
       "└─────────────────────────────────┴────────────────────────┴───────────────┘\n",
       "</pre>\n"
      ],
      "text/plain": [
       "┏━━━━━━━━━━━━━━━━━━━━━━━━━━━━━━━━━┳━━━━━━━━━━━━━━━━━━━━━━━━┳━━━━━━━━━━━━━━━┓\n",
       "┃\u001b[1m \u001b[0m\u001b[1mLayer (type)                   \u001b[0m\u001b[1m \u001b[0m┃\u001b[1m \u001b[0m\u001b[1mOutput Shape          \u001b[0m\u001b[1m \u001b[0m┃\u001b[1m \u001b[0m\u001b[1m      Param #\u001b[0m\u001b[1m \u001b[0m┃\n",
       "┡━━━━━━━━━━━━━━━━━━━━━━━━━━━━━━━━━╇━━━━━━━━━━━━━━━━━━━━━━━━╇━━━━━━━━━━━━━━━┩\n",
       "│ embedding (\u001b[38;5;33mEmbedding\u001b[0m)           │ ?                      │   \u001b[38;5;34m0\u001b[0m (unbuilt) │\n",
       "├─────────────────────────────────┼────────────────────────┼───────────────┤\n",
       "│ simplernn_0_simplernn           │ ?                      │   \u001b[38;5;34m0\u001b[0m (unbuilt) │\n",
       "│ (\u001b[38;5;33mSimpleRNN\u001b[0m)                     │                        │               │\n",
       "├─────────────────────────────────┼────────────────────────┼───────────────┤\n",
       "│ simplernn_1_simplernn           │ ?                      │   \u001b[38;5;34m0\u001b[0m (unbuilt) │\n",
       "│ (\u001b[38;5;33mSimpleRNN\u001b[0m)                     │                        │               │\n",
       "├─────────────────────────────────┼────────────────────────┼───────────────┤\n",
       "│ simplernn_2_simplernn           │ ?                      │   \u001b[38;5;34m0\u001b[0m (unbuilt) │\n",
       "│ (\u001b[38;5;33mSimpleRNN\u001b[0m)                     │                        │               │\n",
       "├─────────────────────────────────┼────────────────────────┼───────────────┤\n",
       "│ simplernn_3_simplernn           │ ?                      │   \u001b[38;5;34m0\u001b[0m (unbuilt) │\n",
       "│ (\u001b[38;5;33mSimpleRNN\u001b[0m)                     │                        │               │\n",
       "├─────────────────────────────────┼────────────────────────┼───────────────┤\n",
       "│ simplernn_4_simplernn           │ ?                      │   \u001b[38;5;34m0\u001b[0m (unbuilt) │\n",
       "│ (\u001b[38;5;33mSimpleRNN\u001b[0m)                     │                        │               │\n",
       "├─────────────────────────────────┼────────────────────────┼───────────────┤\n",
       "│ dropout (\u001b[38;5;33mDropout\u001b[0m)               │ ?                      │             \u001b[38;5;34m0\u001b[0m │\n",
       "├─────────────────────────────────┼────────────────────────┼───────────────┤\n",
       "│ output (\u001b[38;5;33mDense\u001b[0m)                  │ ?                      │   \u001b[38;5;34m0\u001b[0m (unbuilt) │\n",
       "└─────────────────────────────────┴────────────────────────┴───────────────┘\n"
      ]
     },
     "metadata": {},
     "output_type": "display_data"
    },
    {
     "data": {
      "text/html": [
       "<pre style=\"white-space:pre;overflow-x:auto;line-height:normal;font-family:Menlo,'DejaVu Sans Mono',consolas,'Courier New',monospace\"><span style=\"font-weight: bold\"> Total params: </span><span style=\"color: #00af00; text-decoration-color: #00af00\">0</span> (0.00 B)\n",
       "</pre>\n"
      ],
      "text/plain": [
       "\u001b[1m Total params: \u001b[0m\u001b[38;5;34m0\u001b[0m (0.00 B)\n"
      ]
     },
     "metadata": {},
     "output_type": "display_data"
    },
    {
     "data": {
      "text/html": [
       "<pre style=\"white-space:pre;overflow-x:auto;line-height:normal;font-family:Menlo,'DejaVu Sans Mono',consolas,'Courier New',monospace\"><span style=\"font-weight: bold\"> Trainable params: </span><span style=\"color: #00af00; text-decoration-color: #00af00\">0</span> (0.00 B)\n",
       "</pre>\n"
      ],
      "text/plain": [
       "\u001b[1m Trainable params: \u001b[0m\u001b[38;5;34m0\u001b[0m (0.00 B)\n"
      ]
     },
     "metadata": {},
     "output_type": "display_data"
    },
    {
     "data": {
      "text/html": [
       "<pre style=\"white-space:pre;overflow-x:auto;line-height:normal;font-family:Menlo,'DejaVu Sans Mono',consolas,'Courier New',monospace\"><span style=\"font-weight: bold\"> Non-trainable params: </span><span style=\"color: #00af00; text-decoration-color: #00af00\">0</span> (0.00 B)\n",
       "</pre>\n"
      ],
      "text/plain": [
       "\u001b[1m Non-trainable params: \u001b[0m\u001b[38;5;34m0\u001b[0m (0.00 B)\n"
      ]
     },
     "metadata": {},
     "output_type": "display_data"
    },
    {
     "name": "stdout",
     "output_type": "stream",
     "text": [
      "Training Keras model: NumLayers_5_Units_64_Dir_Uni\n",
      "Epoch 1/15\n",
      "10/10 - 5s - 541ms/step - accuracy: 0.3780 - loss: 1.3088 - val_accuracy: 0.3800 - val_loss: 1.1049\n",
      "Epoch 2/15\n",
      "10/10 - 1s - 83ms/step - accuracy: 0.3440 - loss: 1.2231 - val_accuracy: 0.3800 - val_loss: 1.0989\n",
      "Epoch 3/15\n",
      "10/10 - 1s - 67ms/step - accuracy: 0.3500 - loss: 1.1915 - val_accuracy: 0.3800 - val_loss: 1.0841\n",
      "Epoch 4/15\n",
      "10/10 - 1s - 68ms/step - accuracy: 0.4060 - loss: 1.1550 - val_accuracy: 0.3800 - val_loss: 1.0875\n",
      "Epoch 5/15\n",
      "10/10 - 1s - 67ms/step - accuracy: 0.3440 - loss: 1.2311 - val_accuracy: 0.3800 - val_loss: 1.0889\n",
      "Epoch 6/15\n",
      "10/10 - 1s - 68ms/step - accuracy: 0.2980 - loss: 1.2402 - val_accuracy: 0.3800 - val_loss: 1.0793\n",
      "Epoch 7/15\n",
      "10/10 - 1s - 67ms/step - accuracy: 0.3940 - loss: 1.1419 - val_accuracy: 0.3800 - val_loss: 1.0805\n",
      "Epoch 8/15\n",
      "10/10 - 1s - 72ms/step - accuracy: 0.3340 - loss: 1.1917 - val_accuracy: 0.3800 - val_loss: 1.0836\n",
      "Epoch 9/15\n",
      "10/10 - 1s - 66ms/step - accuracy: 0.3600 - loss: 1.1649 - val_accuracy: 0.3800 - val_loss: 1.1058\n",
      "Epoch 10/15\n",
      "10/10 - 1s - 70ms/step - accuracy: 0.3320 - loss: 1.1773 - val_accuracy: 0.3800 - val_loss: 1.0816\n",
      "Epoch 11/15\n",
      "10/10 - 1s - 66ms/step - accuracy: 0.3180 - loss: 1.1607 - val_accuracy: 0.3800 - val_loss: 1.0782\n",
      "Epoch 12/15\n",
      "10/10 - 1s - 67ms/step - accuracy: 0.3900 - loss: 1.0978 - val_accuracy: 0.3800 - val_loss: 1.0920\n",
      "Epoch 13/15\n",
      "10/10 - 1s - 70ms/step - accuracy: 0.3480 - loss: 1.1445 - val_accuracy: 0.3800 - val_loss: 1.0881\n",
      "Epoch 14/15\n",
      "10/10 - 1s - 69ms/step - accuracy: 0.3660 - loss: 1.1382 - val_accuracy: 0.3800 - val_loss: 1.0883\n",
      "Epoch 15/15\n",
      "10/10 - 1s - 71ms/step - accuracy: 0.3460 - loss: 1.1365 - val_accuracy: 0.3800 - val_loss: 1.0831\n",
      "Saved Keras weights to results/weights/keras_rnn_NumLayers_5_Units_64_Dir_Uni.weights.h5\n",
      "Saved plot to results/plots/experiment_NumLayers_5_Units_64_Dir_Uni_history.png\n",
      "\u001b[1m8/8\u001b[0m \u001b[32m━━━━━━━━━━━━━━━━━━━━\u001b[0m\u001b[37m\u001b[0m \u001b[1m0s\u001b[0m 16ms/step\n",
      "[Keras - NumLayers_5_Units_64_Dir_Uni] Test Macro F1-score: 0.1844\n",
      "\n",
      "--- Running Experiment 6/8: NumLayers_5_Units_128_Dir_Uni ---\n"
     ]
    },
    {
     "name": "stderr",
     "output_type": "stream",
     "text": [
      "c:\\Python312\\Lib\\site-packages\\keras\\src\\layers\\core\\embedding.py:90: UserWarning: Argument `input_length` is deprecated. Just remove it.\n",
      "  warnings.warn(\n"
     ]
    },
    {
     "data": {
      "text/html": [
       "<pre style=\"white-space:pre;overflow-x:auto;line-height:normal;font-family:Menlo,'DejaVu Sans Mono',consolas,'Courier New',monospace\"><span style=\"font-weight: bold\">Model: \"sequential_21\"</span>\n",
       "</pre>\n"
      ],
      "text/plain": [
       "\u001b[1mModel: \"sequential_21\"\u001b[0m\n"
      ]
     },
     "metadata": {},
     "output_type": "display_data"
    },
    {
     "data": {
      "text/html": [
       "<pre style=\"white-space:pre;overflow-x:auto;line-height:normal;font-family:Menlo,'DejaVu Sans Mono',consolas,'Courier New',monospace\">┏━━━━━━━━━━━━━━━━━━━━━━━━━━━━━━━━━┳━━━━━━━━━━━━━━━━━━━━━━━━┳━━━━━━━━━━━━━━━┓\n",
       "┃<span style=\"font-weight: bold\"> Layer (type)                    </span>┃<span style=\"font-weight: bold\"> Output Shape           </span>┃<span style=\"font-weight: bold\">       Param # </span>┃\n",
       "┡━━━━━━━━━━━━━━━━━━━━━━━━━━━━━━━━━╇━━━━━━━━━━━━━━━━━━━━━━━━╇━━━━━━━━━━━━━━━┩\n",
       "│ embedding (<span style=\"color: #0087ff; text-decoration-color: #0087ff\">Embedding</span>)           │ ?                      │   <span style=\"color: #00af00; text-decoration-color: #00af00\">0</span> (unbuilt) │\n",
       "├─────────────────────────────────┼────────────────────────┼───────────────┤\n",
       "│ simplernn_0_simplernn           │ ?                      │   <span style=\"color: #00af00; text-decoration-color: #00af00\">0</span> (unbuilt) │\n",
       "│ (<span style=\"color: #0087ff; text-decoration-color: #0087ff\">SimpleRNN</span>)                     │                        │               │\n",
       "├─────────────────────────────────┼────────────────────────┼───────────────┤\n",
       "│ simplernn_1_simplernn           │ ?                      │   <span style=\"color: #00af00; text-decoration-color: #00af00\">0</span> (unbuilt) │\n",
       "│ (<span style=\"color: #0087ff; text-decoration-color: #0087ff\">SimpleRNN</span>)                     │                        │               │\n",
       "├─────────────────────────────────┼────────────────────────┼───────────────┤\n",
       "│ simplernn_2_simplernn           │ ?                      │   <span style=\"color: #00af00; text-decoration-color: #00af00\">0</span> (unbuilt) │\n",
       "│ (<span style=\"color: #0087ff; text-decoration-color: #0087ff\">SimpleRNN</span>)                     │                        │               │\n",
       "├─────────────────────────────────┼────────────────────────┼───────────────┤\n",
       "│ simplernn_3_simplernn           │ ?                      │   <span style=\"color: #00af00; text-decoration-color: #00af00\">0</span> (unbuilt) │\n",
       "│ (<span style=\"color: #0087ff; text-decoration-color: #0087ff\">SimpleRNN</span>)                     │                        │               │\n",
       "├─────────────────────────────────┼────────────────────────┼───────────────┤\n",
       "│ simplernn_4_simplernn           │ ?                      │   <span style=\"color: #00af00; text-decoration-color: #00af00\">0</span> (unbuilt) │\n",
       "│ (<span style=\"color: #0087ff; text-decoration-color: #0087ff\">SimpleRNN</span>)                     │                        │               │\n",
       "├─────────────────────────────────┼────────────────────────┼───────────────┤\n",
       "│ dropout (<span style=\"color: #0087ff; text-decoration-color: #0087ff\">Dropout</span>)               │ ?                      │             <span style=\"color: #00af00; text-decoration-color: #00af00\">0</span> │\n",
       "├─────────────────────────────────┼────────────────────────┼───────────────┤\n",
       "│ output (<span style=\"color: #0087ff; text-decoration-color: #0087ff\">Dense</span>)                  │ ?                      │   <span style=\"color: #00af00; text-decoration-color: #00af00\">0</span> (unbuilt) │\n",
       "└─────────────────────────────────┴────────────────────────┴───────────────┘\n",
       "</pre>\n"
      ],
      "text/plain": [
       "┏━━━━━━━━━━━━━━━━━━━━━━━━━━━━━━━━━┳━━━━━━━━━━━━━━━━━━━━━━━━┳━━━━━━━━━━━━━━━┓\n",
       "┃\u001b[1m \u001b[0m\u001b[1mLayer (type)                   \u001b[0m\u001b[1m \u001b[0m┃\u001b[1m \u001b[0m\u001b[1mOutput Shape          \u001b[0m\u001b[1m \u001b[0m┃\u001b[1m \u001b[0m\u001b[1m      Param #\u001b[0m\u001b[1m \u001b[0m┃\n",
       "┡━━━━━━━━━━━━━━━━━━━━━━━━━━━━━━━━━╇━━━━━━━━━━━━━━━━━━━━━━━━╇━━━━━━━━━━━━━━━┩\n",
       "│ embedding (\u001b[38;5;33mEmbedding\u001b[0m)           │ ?                      │   \u001b[38;5;34m0\u001b[0m (unbuilt) │\n",
       "├─────────────────────────────────┼────────────────────────┼───────────────┤\n",
       "│ simplernn_0_simplernn           │ ?                      │   \u001b[38;5;34m0\u001b[0m (unbuilt) │\n",
       "│ (\u001b[38;5;33mSimpleRNN\u001b[0m)                     │                        │               │\n",
       "├─────────────────────────────────┼────────────────────────┼───────────────┤\n",
       "│ simplernn_1_simplernn           │ ?                      │   \u001b[38;5;34m0\u001b[0m (unbuilt) │\n",
       "│ (\u001b[38;5;33mSimpleRNN\u001b[0m)                     │                        │               │\n",
       "├─────────────────────────────────┼────────────────────────┼───────────────┤\n",
       "│ simplernn_2_simplernn           │ ?                      │   \u001b[38;5;34m0\u001b[0m (unbuilt) │\n",
       "│ (\u001b[38;5;33mSimpleRNN\u001b[0m)                     │                        │               │\n",
       "├─────────────────────────────────┼────────────────────────┼───────────────┤\n",
       "│ simplernn_3_simplernn           │ ?                      │   \u001b[38;5;34m0\u001b[0m (unbuilt) │\n",
       "│ (\u001b[38;5;33mSimpleRNN\u001b[0m)                     │                        │               │\n",
       "├─────────────────────────────────┼────────────────────────┼───────────────┤\n",
       "│ simplernn_4_simplernn           │ ?                      │   \u001b[38;5;34m0\u001b[0m (unbuilt) │\n",
       "│ (\u001b[38;5;33mSimpleRNN\u001b[0m)                     │                        │               │\n",
       "├─────────────────────────────────┼────────────────────────┼───────────────┤\n",
       "│ dropout (\u001b[38;5;33mDropout\u001b[0m)               │ ?                      │             \u001b[38;5;34m0\u001b[0m │\n",
       "├─────────────────────────────────┼────────────────────────┼───────────────┤\n",
       "│ output (\u001b[38;5;33mDense\u001b[0m)                  │ ?                      │   \u001b[38;5;34m0\u001b[0m (unbuilt) │\n",
       "└─────────────────────────────────┴────────────────────────┴───────────────┘\n"
      ]
     },
     "metadata": {},
     "output_type": "display_data"
    },
    {
     "data": {
      "text/html": [
       "<pre style=\"white-space:pre;overflow-x:auto;line-height:normal;font-family:Menlo,'DejaVu Sans Mono',consolas,'Courier New',monospace\"><span style=\"font-weight: bold\"> Total params: </span><span style=\"color: #00af00; text-decoration-color: #00af00\">0</span> (0.00 B)\n",
       "</pre>\n"
      ],
      "text/plain": [
       "\u001b[1m Total params: \u001b[0m\u001b[38;5;34m0\u001b[0m (0.00 B)\n"
      ]
     },
     "metadata": {},
     "output_type": "display_data"
    },
    {
     "data": {
      "text/html": [
       "<pre style=\"white-space:pre;overflow-x:auto;line-height:normal;font-family:Menlo,'DejaVu Sans Mono',consolas,'Courier New',monospace\"><span style=\"font-weight: bold\"> Trainable params: </span><span style=\"color: #00af00; text-decoration-color: #00af00\">0</span> (0.00 B)\n",
       "</pre>\n"
      ],
      "text/plain": [
       "\u001b[1m Trainable params: \u001b[0m\u001b[38;5;34m0\u001b[0m (0.00 B)\n"
      ]
     },
     "metadata": {},
     "output_type": "display_data"
    },
    {
     "data": {
      "text/html": [
       "<pre style=\"white-space:pre;overflow-x:auto;line-height:normal;font-family:Menlo,'DejaVu Sans Mono',consolas,'Courier New',monospace\"><span style=\"font-weight: bold\"> Non-trainable params: </span><span style=\"color: #00af00; text-decoration-color: #00af00\">0</span> (0.00 B)\n",
       "</pre>\n"
      ],
      "text/plain": [
       "\u001b[1m Non-trainable params: \u001b[0m\u001b[38;5;34m0\u001b[0m (0.00 B)\n"
      ]
     },
     "metadata": {},
     "output_type": "display_data"
    },
    {
     "name": "stdout",
     "output_type": "stream",
     "text": [
      "Training Keras model: NumLayers_5_Units_128_Dir_Uni\n",
      "Epoch 1/15\n",
      "10/10 - 6s - 562ms/step - accuracy: 0.3360 - loss: 1.4017 - val_accuracy: 0.3800 - val_loss: 1.2425\n",
      "Epoch 2/15\n",
      "10/10 - 1s - 109ms/step - accuracy: 0.3860 - loss: 1.2863 - val_accuracy: 0.3800 - val_loss: 1.1008\n",
      "Epoch 3/15\n",
      "10/10 - 1s - 108ms/step - accuracy: 0.3680 - loss: 1.2993 - val_accuracy: 0.3800 - val_loss: 1.0949\n",
      "Epoch 4/15\n",
      "10/10 - 1s - 109ms/step - accuracy: 0.3640 - loss: 1.2552 - val_accuracy: 0.3800 - val_loss: 1.1348\n",
      "Epoch 5/15\n",
      "10/10 - 1s - 109ms/step - accuracy: 0.3400 - loss: 1.2892 - val_accuracy: 0.3800 - val_loss: 1.1114\n",
      "Epoch 6/15\n",
      "10/10 - 1s - 111ms/step - accuracy: 0.3460 - loss: 1.2616 - val_accuracy: 0.3800 - val_loss: 1.1027\n",
      "Epoch 7/15\n",
      "10/10 - 1s - 113ms/step - accuracy: 0.3580 - loss: 1.2700 - val_accuracy: 0.3800 - val_loss: 1.0908\n",
      "Epoch 8/15\n",
      "10/10 - 1s - 110ms/step - accuracy: 0.3660 - loss: 1.2840 - val_accuracy: 0.3800 - val_loss: 1.1497\n",
      "Epoch 9/15\n",
      "10/10 - 1s - 109ms/step - accuracy: 0.4060 - loss: 1.2094 - val_accuracy: 0.3800 - val_loss: 1.0852\n",
      "Epoch 10/15\n",
      "10/10 - 1s - 114ms/step - accuracy: 0.3860 - loss: 1.2375 - val_accuracy: 0.3800 - val_loss: 1.1639\n",
      "Epoch 11/15\n",
      "10/10 - 1s - 116ms/step - accuracy: 0.3660 - loss: 1.2699 - val_accuracy: 0.3800 - val_loss: 1.1425\n",
      "Epoch 12/15\n",
      "10/10 - 1s - 102ms/step - accuracy: 0.3540 - loss: 1.2311 - val_accuracy: 0.2400 - val_loss: 1.1583\n",
      "Epoch 13/15\n",
      "10/10 - 1s - 93ms/step - accuracy: 0.3520 - loss: 1.3166 - val_accuracy: 0.3800 - val_loss: 1.0883\n",
      "Epoch 14/15\n",
      "10/10 - 1s - 106ms/step - accuracy: 0.3320 - loss: 1.2790 - val_accuracy: 0.3800 - val_loss: 1.0800\n",
      "Epoch 15/15\n",
      "10/10 - 1s - 102ms/step - accuracy: 0.3260 - loss: 1.2563 - val_accuracy: 0.3800 - val_loss: 1.0959\n",
      "Saved Keras weights to results/weights/keras_rnn_NumLayers_5_Units_128_Dir_Uni.weights.h5\n",
      "Saved plot to results/plots/experiment_NumLayers_5_Units_128_Dir_Uni_history.png\n",
      "\u001b[1m8/8\u001b[0m \u001b[32m━━━━━━━━━━━━━━━━━━━━\u001b[0m\u001b[37m\u001b[0m \u001b[1m1s\u001b[0m 34ms/step\n",
      "[Keras - NumLayers_5_Units_128_Dir_Uni] Test Macro F1-score: 0.1827\n",
      "\n",
      "--- Running Experiment 7/8: NumLayers_5_Units_32_Dir_Uni ---\n"
     ]
    },
    {
     "name": "stderr",
     "output_type": "stream",
     "text": [
      "c:\\Python312\\Lib\\site-packages\\keras\\src\\layers\\core\\embedding.py:90: UserWarning: Argument `input_length` is deprecated. Just remove it.\n",
      "  warnings.warn(\n"
     ]
    },
    {
     "data": {
      "text/html": [
       "<pre style=\"white-space:pre;overflow-x:auto;line-height:normal;font-family:Menlo,'DejaVu Sans Mono',consolas,'Courier New',monospace\"><span style=\"font-weight: bold\">Model: \"sequential_22\"</span>\n",
       "</pre>\n"
      ],
      "text/plain": [
       "\u001b[1mModel: \"sequential_22\"\u001b[0m\n"
      ]
     },
     "metadata": {},
     "output_type": "display_data"
    },
    {
     "data": {
      "text/html": [
       "<pre style=\"white-space:pre;overflow-x:auto;line-height:normal;font-family:Menlo,'DejaVu Sans Mono',consolas,'Courier New',monospace\">┏━━━━━━━━━━━━━━━━━━━━━━━━━━━━━━━━━┳━━━━━━━━━━━━━━━━━━━━━━━━┳━━━━━━━━━━━━━━━┓\n",
       "┃<span style=\"font-weight: bold\"> Layer (type)                    </span>┃<span style=\"font-weight: bold\"> Output Shape           </span>┃<span style=\"font-weight: bold\">       Param # </span>┃\n",
       "┡━━━━━━━━━━━━━━━━━━━━━━━━━━━━━━━━━╇━━━━━━━━━━━━━━━━━━━━━━━━╇━━━━━━━━━━━━━━━┩\n",
       "│ embedding (<span style=\"color: #0087ff; text-decoration-color: #0087ff\">Embedding</span>)           │ ?                      │   <span style=\"color: #00af00; text-decoration-color: #00af00\">0</span> (unbuilt) │\n",
       "├─────────────────────────────────┼────────────────────────┼───────────────┤\n",
       "│ simplernn_0_simplernn           │ ?                      │   <span style=\"color: #00af00; text-decoration-color: #00af00\">0</span> (unbuilt) │\n",
       "│ (<span style=\"color: #0087ff; text-decoration-color: #0087ff\">SimpleRNN</span>)                     │                        │               │\n",
       "├─────────────────────────────────┼────────────────────────┼───────────────┤\n",
       "│ simplernn_1_simplernn           │ ?                      │   <span style=\"color: #00af00; text-decoration-color: #00af00\">0</span> (unbuilt) │\n",
       "│ (<span style=\"color: #0087ff; text-decoration-color: #0087ff\">SimpleRNN</span>)                     │                        │               │\n",
       "├─────────────────────────────────┼────────────────────────┼───────────────┤\n",
       "│ simplernn_2_simplernn           │ ?                      │   <span style=\"color: #00af00; text-decoration-color: #00af00\">0</span> (unbuilt) │\n",
       "│ (<span style=\"color: #0087ff; text-decoration-color: #0087ff\">SimpleRNN</span>)                     │                        │               │\n",
       "├─────────────────────────────────┼────────────────────────┼───────────────┤\n",
       "│ simplernn_3_simplernn           │ ?                      │   <span style=\"color: #00af00; text-decoration-color: #00af00\">0</span> (unbuilt) │\n",
       "│ (<span style=\"color: #0087ff; text-decoration-color: #0087ff\">SimpleRNN</span>)                     │                        │               │\n",
       "├─────────────────────────────────┼────────────────────────┼───────────────┤\n",
       "│ simplernn_4_simplernn           │ ?                      │   <span style=\"color: #00af00; text-decoration-color: #00af00\">0</span> (unbuilt) │\n",
       "│ (<span style=\"color: #0087ff; text-decoration-color: #0087ff\">SimpleRNN</span>)                     │                        │               │\n",
       "├─────────────────────────────────┼────────────────────────┼───────────────┤\n",
       "│ dropout (<span style=\"color: #0087ff; text-decoration-color: #0087ff\">Dropout</span>)               │ ?                      │             <span style=\"color: #00af00; text-decoration-color: #00af00\">0</span> │\n",
       "├─────────────────────────────────┼────────────────────────┼───────────────┤\n",
       "│ output (<span style=\"color: #0087ff; text-decoration-color: #0087ff\">Dense</span>)                  │ ?                      │   <span style=\"color: #00af00; text-decoration-color: #00af00\">0</span> (unbuilt) │\n",
       "└─────────────────────────────────┴────────────────────────┴───────────────┘\n",
       "</pre>\n"
      ],
      "text/plain": [
       "┏━━━━━━━━━━━━━━━━━━━━━━━━━━━━━━━━━┳━━━━━━━━━━━━━━━━━━━━━━━━┳━━━━━━━━━━━━━━━┓\n",
       "┃\u001b[1m \u001b[0m\u001b[1mLayer (type)                   \u001b[0m\u001b[1m \u001b[0m┃\u001b[1m \u001b[0m\u001b[1mOutput Shape          \u001b[0m\u001b[1m \u001b[0m┃\u001b[1m \u001b[0m\u001b[1m      Param #\u001b[0m\u001b[1m \u001b[0m┃\n",
       "┡━━━━━━━━━━━━━━━━━━━━━━━━━━━━━━━━━╇━━━━━━━━━━━━━━━━━━━━━━━━╇━━━━━━━━━━━━━━━┩\n",
       "│ embedding (\u001b[38;5;33mEmbedding\u001b[0m)           │ ?                      │   \u001b[38;5;34m0\u001b[0m (unbuilt) │\n",
       "├─────────────────────────────────┼────────────────────────┼───────────────┤\n",
       "│ simplernn_0_simplernn           │ ?                      │   \u001b[38;5;34m0\u001b[0m (unbuilt) │\n",
       "│ (\u001b[38;5;33mSimpleRNN\u001b[0m)                     │                        │               │\n",
       "├─────────────────────────────────┼────────────────────────┼───────────────┤\n",
       "│ simplernn_1_simplernn           │ ?                      │   \u001b[38;5;34m0\u001b[0m (unbuilt) │\n",
       "│ (\u001b[38;5;33mSimpleRNN\u001b[0m)                     │                        │               │\n",
       "├─────────────────────────────────┼────────────────────────┼───────────────┤\n",
       "│ simplernn_2_simplernn           │ ?                      │   \u001b[38;5;34m0\u001b[0m (unbuilt) │\n",
       "│ (\u001b[38;5;33mSimpleRNN\u001b[0m)                     │                        │               │\n",
       "├─────────────────────────────────┼────────────────────────┼───────────────┤\n",
       "│ simplernn_3_simplernn           │ ?                      │   \u001b[38;5;34m0\u001b[0m (unbuilt) │\n",
       "│ (\u001b[38;5;33mSimpleRNN\u001b[0m)                     │                        │               │\n",
       "├─────────────────────────────────┼────────────────────────┼───────────────┤\n",
       "│ simplernn_4_simplernn           │ ?                      │   \u001b[38;5;34m0\u001b[0m (unbuilt) │\n",
       "│ (\u001b[38;5;33mSimpleRNN\u001b[0m)                     │                        │               │\n",
       "├─────────────────────────────────┼────────────────────────┼───────────────┤\n",
       "│ dropout (\u001b[38;5;33mDropout\u001b[0m)               │ ?                      │             \u001b[38;5;34m0\u001b[0m │\n",
       "├─────────────────────────────────┼────────────────────────┼───────────────┤\n",
       "│ output (\u001b[38;5;33mDense\u001b[0m)                  │ ?                      │   \u001b[38;5;34m0\u001b[0m (unbuilt) │\n",
       "└─────────────────────────────────┴────────────────────────┴───────────────┘\n"
      ]
     },
     "metadata": {},
     "output_type": "display_data"
    },
    {
     "data": {
      "text/html": [
       "<pre style=\"white-space:pre;overflow-x:auto;line-height:normal;font-family:Menlo,'DejaVu Sans Mono',consolas,'Courier New',monospace\"><span style=\"font-weight: bold\"> Total params: </span><span style=\"color: #00af00; text-decoration-color: #00af00\">0</span> (0.00 B)\n",
       "</pre>\n"
      ],
      "text/plain": [
       "\u001b[1m Total params: \u001b[0m\u001b[38;5;34m0\u001b[0m (0.00 B)\n"
      ]
     },
     "metadata": {},
     "output_type": "display_data"
    },
    {
     "data": {
      "text/html": [
       "<pre style=\"white-space:pre;overflow-x:auto;line-height:normal;font-family:Menlo,'DejaVu Sans Mono',consolas,'Courier New',monospace\"><span style=\"font-weight: bold\"> Trainable params: </span><span style=\"color: #00af00; text-decoration-color: #00af00\">0</span> (0.00 B)\n",
       "</pre>\n"
      ],
      "text/plain": [
       "\u001b[1m Trainable params: \u001b[0m\u001b[38;5;34m0\u001b[0m (0.00 B)\n"
      ]
     },
     "metadata": {},
     "output_type": "display_data"
    },
    {
     "data": {
      "text/html": [
       "<pre style=\"white-space:pre;overflow-x:auto;line-height:normal;font-family:Menlo,'DejaVu Sans Mono',consolas,'Courier New',monospace\"><span style=\"font-weight: bold\"> Non-trainable params: </span><span style=\"color: #00af00; text-decoration-color: #00af00\">0</span> (0.00 B)\n",
       "</pre>\n"
      ],
      "text/plain": [
       "\u001b[1m Non-trainable params: \u001b[0m\u001b[38;5;34m0\u001b[0m (0.00 B)\n"
      ]
     },
     "metadata": {},
     "output_type": "display_data"
    },
    {
     "name": "stdout",
     "output_type": "stream",
     "text": [
      "Training Keras model: NumLayers_5_Units_32_Dir_Uni\n",
      "Epoch 1/15\n",
      "10/10 - 5s - 544ms/step - accuracy: 0.3560 - loss: 1.2480 - val_accuracy: 0.3800 - val_loss: 1.0800\n",
      "Epoch 2/15\n",
      "10/10 - 1s - 57ms/step - accuracy: 0.3440 - loss: 1.1574 - val_accuracy: 0.3800 - val_loss: 1.0841\n",
      "Epoch 3/15\n",
      "10/10 - 1s - 55ms/step - accuracy: 0.3280 - loss: 1.1775 - val_accuracy: 0.3800 - val_loss: 1.0783\n",
      "Epoch 4/15\n",
      "10/10 - 1s - 62ms/step - accuracy: 0.3540 - loss: 1.1466 - val_accuracy: 0.3800 - val_loss: 1.1347\n",
      "Epoch 5/15\n",
      "10/10 - 1s - 64ms/step - accuracy: 0.3660 - loss: 1.1714 - val_accuracy: 0.3800 - val_loss: 1.0837\n",
      "Epoch 6/15\n",
      "10/10 - 1s - 60ms/step - accuracy: 0.3360 - loss: 1.1725 - val_accuracy: 0.3800 - val_loss: 1.0902\n",
      "Epoch 7/15\n",
      "10/10 - 1s - 63ms/step - accuracy: 0.3680 - loss: 1.1322 - val_accuracy: 0.3700 - val_loss: 1.0821\n",
      "Epoch 8/15\n",
      "10/10 - 1s - 55ms/step - accuracy: 0.4520 - loss: 1.0293 - val_accuracy: 0.3400 - val_loss: 1.1428\n",
      "Epoch 9/15\n",
      "10/10 - 1s - 55ms/step - accuracy: 0.5260 - loss: 0.9747 - val_accuracy: 0.3400 - val_loss: 1.1692\n",
      "Epoch 10/15\n",
      "10/10 - 1s - 60ms/step - accuracy: 0.6740 - loss: 0.7874 - val_accuracy: 0.2800 - val_loss: 1.3237\n",
      "Epoch 11/15\n",
      "10/10 - 1s - 61ms/step - accuracy: 0.7880 - loss: 0.6071 - val_accuracy: 0.3100 - val_loss: 1.4663\n",
      "Epoch 12/15\n",
      "10/10 - 1s - 55ms/step - accuracy: 0.8920 - loss: 0.4271 - val_accuracy: 0.3400 - val_loss: 1.5960\n",
      "Epoch 13/15\n",
      "10/10 - 1s - 63ms/step - accuracy: 0.9160 - loss: 0.3431 - val_accuracy: 0.3000 - val_loss: 1.7126\n",
      "Epoch 14/15\n",
      "10/10 - 1s - 61ms/step - accuracy: 0.9620 - loss: 0.2412 - val_accuracy: 0.2700 - val_loss: 1.9357\n",
      "Epoch 15/15\n",
      "10/10 - 1s - 64ms/step - accuracy: 0.9960 - loss: 0.1519 - val_accuracy: 0.2700 - val_loss: 2.0166\n",
      "Saved Keras weights to results/weights/keras_rnn_NumLayers_5_Units_32_Dir_Uni.weights.h5\n",
      "Saved plot to results/plots/experiment_NumLayers_5_Units_32_Dir_Uni_history.png\n",
      "\u001b[1m8/8\u001b[0m \u001b[32m━━━━━━━━━━━━━━━━━━━━\u001b[0m\u001b[37m\u001b[0m \u001b[1m0s\u001b[0m 12ms/step\n",
      "[Keras - NumLayers_5_Units_32_Dir_Uni] Test Macro F1-score: 0.3500\n",
      "\n",
      "--- Running Experiment 8/8: NumLayers_5_Units_32_Dir_Bi ---\n"
     ]
    },
    {
     "name": "stderr",
     "output_type": "stream",
     "text": [
      "c:\\Python312\\Lib\\site-packages\\keras\\src\\layers\\core\\embedding.py:90: UserWarning: Argument `input_length` is deprecated. Just remove it.\n",
      "  warnings.warn(\n"
     ]
    },
    {
     "data": {
      "text/html": [
       "<pre style=\"white-space:pre;overflow-x:auto;line-height:normal;font-family:Menlo,'DejaVu Sans Mono',consolas,'Courier New',monospace\"><span style=\"font-weight: bold\">Model: \"sequential_23\"</span>\n",
       "</pre>\n"
      ],
      "text/plain": [
       "\u001b[1mModel: \"sequential_23\"\u001b[0m\n"
      ]
     },
     "metadata": {},
     "output_type": "display_data"
    },
    {
     "data": {
      "text/html": [
       "<pre style=\"white-space:pre;overflow-x:auto;line-height:normal;font-family:Menlo,'DejaVu Sans Mono',consolas,'Courier New',monospace\">┏━━━━━━━━━━━━━━━━━━━━━━━━━━━━━━━━━┳━━━━━━━━━━━━━━━━━━━━━━━━┳━━━━━━━━━━━━━━━┓\n",
       "┃<span style=\"font-weight: bold\"> Layer (type)                    </span>┃<span style=\"font-weight: bold\"> Output Shape           </span>┃<span style=\"font-weight: bold\">       Param # </span>┃\n",
       "┡━━━━━━━━━━━━━━━━━━━━━━━━━━━━━━━━━╇━━━━━━━━━━━━━━━━━━━━━━━━╇━━━━━━━━━━━━━━━┩\n",
       "│ embedding (<span style=\"color: #0087ff; text-decoration-color: #0087ff\">Embedding</span>)           │ ?                      │   <span style=\"color: #00af00; text-decoration-color: #00af00\">0</span> (unbuilt) │\n",
       "├─────────────────────────────────┼────────────────────────┼───────────────┤\n",
       "│ bisimplernn_0_bidir             │ ?                      │   <span style=\"color: #00af00; text-decoration-color: #00af00\">0</span> (unbuilt) │\n",
       "│ (<span style=\"color: #0087ff; text-decoration-color: #0087ff\">Bidirectional</span>)                 │                        │               │\n",
       "├─────────────────────────────────┼────────────────────────┼───────────────┤\n",
       "│ bisimplernn_1_bidir             │ ?                      │   <span style=\"color: #00af00; text-decoration-color: #00af00\">0</span> (unbuilt) │\n",
       "│ (<span style=\"color: #0087ff; text-decoration-color: #0087ff\">Bidirectional</span>)                 │                        │               │\n",
       "├─────────────────────────────────┼────────────────────────┼───────────────┤\n",
       "│ bisimplernn_2_bidir             │ ?                      │   <span style=\"color: #00af00; text-decoration-color: #00af00\">0</span> (unbuilt) │\n",
       "│ (<span style=\"color: #0087ff; text-decoration-color: #0087ff\">Bidirectional</span>)                 │                        │               │\n",
       "├─────────────────────────────────┼────────────────────────┼───────────────┤\n",
       "│ bisimplernn_3_bidir             │ ?                      │   <span style=\"color: #00af00; text-decoration-color: #00af00\">0</span> (unbuilt) │\n",
       "│ (<span style=\"color: #0087ff; text-decoration-color: #0087ff\">Bidirectional</span>)                 │                        │               │\n",
       "├─────────────────────────────────┼────────────────────────┼───────────────┤\n",
       "│ bisimplernn_4_bidir             │ ?                      │   <span style=\"color: #00af00; text-decoration-color: #00af00\">0</span> (unbuilt) │\n",
       "│ (<span style=\"color: #0087ff; text-decoration-color: #0087ff\">Bidirectional</span>)                 │                        │               │\n",
       "├─────────────────────────────────┼────────────────────────┼───────────────┤\n",
       "│ dropout (<span style=\"color: #0087ff; text-decoration-color: #0087ff\">Dropout</span>)               │ ?                      │             <span style=\"color: #00af00; text-decoration-color: #00af00\">0</span> │\n",
       "├─────────────────────────────────┼────────────────────────┼───────────────┤\n",
       "│ output (<span style=\"color: #0087ff; text-decoration-color: #0087ff\">Dense</span>)                  │ ?                      │   <span style=\"color: #00af00; text-decoration-color: #00af00\">0</span> (unbuilt) │\n",
       "└─────────────────────────────────┴────────────────────────┴───────────────┘\n",
       "</pre>\n"
      ],
      "text/plain": [
       "┏━━━━━━━━━━━━━━━━━━━━━━━━━━━━━━━━━┳━━━━━━━━━━━━━━━━━━━━━━━━┳━━━━━━━━━━━━━━━┓\n",
       "┃\u001b[1m \u001b[0m\u001b[1mLayer (type)                   \u001b[0m\u001b[1m \u001b[0m┃\u001b[1m \u001b[0m\u001b[1mOutput Shape          \u001b[0m\u001b[1m \u001b[0m┃\u001b[1m \u001b[0m\u001b[1m      Param #\u001b[0m\u001b[1m \u001b[0m┃\n",
       "┡━━━━━━━━━━━━━━━━━━━━━━━━━━━━━━━━━╇━━━━━━━━━━━━━━━━━━━━━━━━╇━━━━━━━━━━━━━━━┩\n",
       "│ embedding (\u001b[38;5;33mEmbedding\u001b[0m)           │ ?                      │   \u001b[38;5;34m0\u001b[0m (unbuilt) │\n",
       "├─────────────────────────────────┼────────────────────────┼───────────────┤\n",
       "│ bisimplernn_0_bidir             │ ?                      │   \u001b[38;5;34m0\u001b[0m (unbuilt) │\n",
       "│ (\u001b[38;5;33mBidirectional\u001b[0m)                 │                        │               │\n",
       "├─────────────────────────────────┼────────────────────────┼───────────────┤\n",
       "│ bisimplernn_1_bidir             │ ?                      │   \u001b[38;5;34m0\u001b[0m (unbuilt) │\n",
       "│ (\u001b[38;5;33mBidirectional\u001b[0m)                 │                        │               │\n",
       "├─────────────────────────────────┼────────────────────────┼───────────────┤\n",
       "│ bisimplernn_2_bidir             │ ?                      │   \u001b[38;5;34m0\u001b[0m (unbuilt) │\n",
       "│ (\u001b[38;5;33mBidirectional\u001b[0m)                 │                        │               │\n",
       "├─────────────────────────────────┼────────────────────────┼───────────────┤\n",
       "│ bisimplernn_3_bidir             │ ?                      │   \u001b[38;5;34m0\u001b[0m (unbuilt) │\n",
       "│ (\u001b[38;5;33mBidirectional\u001b[0m)                 │                        │               │\n",
       "├─────────────────────────────────┼────────────────────────┼───────────────┤\n",
       "│ bisimplernn_4_bidir             │ ?                      │   \u001b[38;5;34m0\u001b[0m (unbuilt) │\n",
       "│ (\u001b[38;5;33mBidirectional\u001b[0m)                 │                        │               │\n",
       "├─────────────────────────────────┼────────────────────────┼───────────────┤\n",
       "│ dropout (\u001b[38;5;33mDropout\u001b[0m)               │ ?                      │             \u001b[38;5;34m0\u001b[0m │\n",
       "├─────────────────────────────────┼────────────────────────┼───────────────┤\n",
       "│ output (\u001b[38;5;33mDense\u001b[0m)                  │ ?                      │   \u001b[38;5;34m0\u001b[0m (unbuilt) │\n",
       "└─────────────────────────────────┴────────────────────────┴───────────────┘\n"
      ]
     },
     "metadata": {},
     "output_type": "display_data"
    },
    {
     "data": {
      "text/html": [
       "<pre style=\"white-space:pre;overflow-x:auto;line-height:normal;font-family:Menlo,'DejaVu Sans Mono',consolas,'Courier New',monospace\"><span style=\"font-weight: bold\"> Total params: </span><span style=\"color: #00af00; text-decoration-color: #00af00\">0</span> (0.00 B)\n",
       "</pre>\n"
      ],
      "text/plain": [
       "\u001b[1m Total params: \u001b[0m\u001b[38;5;34m0\u001b[0m (0.00 B)\n"
      ]
     },
     "metadata": {},
     "output_type": "display_data"
    },
    {
     "data": {
      "text/html": [
       "<pre style=\"white-space:pre;overflow-x:auto;line-height:normal;font-family:Menlo,'DejaVu Sans Mono',consolas,'Courier New',monospace\"><span style=\"font-weight: bold\"> Trainable params: </span><span style=\"color: #00af00; text-decoration-color: #00af00\">0</span> (0.00 B)\n",
       "</pre>\n"
      ],
      "text/plain": [
       "\u001b[1m Trainable params: \u001b[0m\u001b[38;5;34m0\u001b[0m (0.00 B)\n"
      ]
     },
     "metadata": {},
     "output_type": "display_data"
    },
    {
     "data": {
      "text/html": [
       "<pre style=\"white-space:pre;overflow-x:auto;line-height:normal;font-family:Menlo,'DejaVu Sans Mono',consolas,'Courier New',monospace\"><span style=\"font-weight: bold\"> Non-trainable params: </span><span style=\"color: #00af00; text-decoration-color: #00af00\">0</span> (0.00 B)\n",
       "</pre>\n"
      ],
      "text/plain": [
       "\u001b[1m Non-trainable params: \u001b[0m\u001b[38;5;34m0\u001b[0m (0.00 B)\n"
      ]
     },
     "metadata": {},
     "output_type": "display_data"
    },
    {
     "name": "stdout",
     "output_type": "stream",
     "text": [
      "Training Keras model: NumLayers_5_Units_32_Dir_Bi\n",
      "Epoch 1/15\n",
      "10/10 - 9s - 933ms/step - accuracy: 0.3640 - loss: 1.2446 - val_accuracy: 0.4300 - val_loss: 1.0726\n",
      "Epoch 2/15\n",
      "10/10 - 1s - 86ms/step - accuracy: 0.5420 - loss: 0.9471 - val_accuracy: 0.4400 - val_loss: 1.0191\n",
      "Epoch 3/15\n",
      "10/10 - 1s - 81ms/step - accuracy: 0.7340 - loss: 0.6411 - val_accuracy: 0.5700 - val_loss: 0.9634\n",
      "Epoch 4/15\n",
      "10/10 - 1s - 82ms/step - accuracy: 0.8760 - loss: 0.3940 - val_accuracy: 0.5800 - val_loss: 0.9829\n",
      "Epoch 5/15\n",
      "10/10 - 1s - 73ms/step - accuracy: 0.9480 - loss: 0.2254 - val_accuracy: 0.5400 - val_loss: 1.0476\n",
      "Epoch 6/15\n",
      "10/10 - 1s - 74ms/step - accuracy: 0.9800 - loss: 0.1261 - val_accuracy: 0.6100 - val_loss: 1.0536\n",
      "Epoch 7/15\n",
      "10/10 - 1s - 71ms/step - accuracy: 0.9980 - loss: 0.0680 - val_accuracy: 0.6100 - val_loss: 1.0809\n",
      "Epoch 8/15\n",
      "10/10 - 1s - 76ms/step - accuracy: 0.9980 - loss: 0.0514 - val_accuracy: 0.5800 - val_loss: 1.0871\n",
      "Epoch 9/15\n",
      "10/10 - 1s - 81ms/step - accuracy: 0.9980 - loss: 0.0428 - val_accuracy: 0.5900 - val_loss: 1.0890\n",
      "Epoch 10/15\n",
      "10/10 - 1s - 69ms/step - accuracy: 1.0000 - loss: 0.0303 - val_accuracy: 0.5900 - val_loss: 1.1194\n",
      "Epoch 11/15\n",
      "10/10 - 1s - 78ms/step - accuracy: 1.0000 - loss: 0.0269 - val_accuracy: 0.5900 - val_loss: 1.1449\n",
      "Epoch 12/15\n",
      "10/10 - 1s - 84ms/step - accuracy: 1.0000 - loss: 0.0245 - val_accuracy: 0.5800 - val_loss: 1.1490\n",
      "Epoch 13/15\n",
      "10/10 - 1s - 76ms/step - accuracy: 1.0000 - loss: 0.0203 - val_accuracy: 0.5900 - val_loss: 1.1711\n",
      "Epoch 14/15\n",
      "10/10 - 1s - 73ms/step - accuracy: 1.0000 - loss: 0.0168 - val_accuracy: 0.6100 - val_loss: 1.1963\n",
      "Epoch 15/15\n",
      "10/10 - 1s - 80ms/step - accuracy: 1.0000 - loss: 0.0145 - val_accuracy: 0.6100 - val_loss: 1.2033\n",
      "Saved Keras weights to results/weights/keras_rnn_NumLayers_5_Units_32_Dir_Bi.weights.h5\n",
      "Saved plot to results/plots/experiment_NumLayers_5_Units_32_Dir_Bi_history.png\n",
      "\u001b[1m8/8\u001b[0m \u001b[32m━━━━━━━━━━━━━━━━━━━━\u001b[0m\u001b[37m\u001b[0m \u001b[1m1s\u001b[0m 18ms/step\n",
      "[Keras - NumLayers_5_Units_32_Dir_Bi] Test Macro F1-score: 0.4896\n"
     ]
    }
   ],
   "source": [
    "# --- Run Experiments ---\n",
    "for i, exp_config in enumerate(experiments):\n",
    "    print(f\"\\n--- Running Experiment {i+1}/{len(experiments)}: {exp_config['name']} ---\")\n",
    "    \n",
    "    model_name = exp_config['name']\n",
    "    num_rnn_layers_exp = exp_config['num_rnn_layers']\n",
    "    rnn_units_exp = exp_config['rnn_units']\n",
    "    bidirectional_exp = exp_config['bidirectional']\n",
    "\n",
    "    # ----- bikin model keras -----\n",
    "    keras_model = build_keras_model(\n",
    "        num_rnn_layers=num_rnn_layers_exp,\n",
    "        rnn_units=rnn_units_exp,\n",
    "        bidirectional=bidirectional_exp\n",
    "    )\n",
    "    keras_model.summary()\n",
    "\n",
    "    # ----- Training -----\n",
    "    print(f\"Training Keras model: {model_name}\")\n",
    "    history = keras_model.fit(\n",
    "        tok_train, y_train,\n",
    "        validation_data=(tok_val, y_val),\n",
    "        epochs=EPOCHS,\n",
    "        batch_size=BATCH_SIZE,\n",
    "        verbose=2\n",
    "    )\n",
    "    # Save weights\n",
    "    weights_path = f'results/weights/keras_rnn_{model_name}.weights.h5'\n",
    "    keras_model.save_weights(weights_path)\n",
    "    print(f\"Saved Keras weights to {weights_path}\")\n",
    "\n",
    "    # Plot history\n",
    "    plot_history(history, model_name, \"experiment\")\n",
    "\n",
    "    # ----- Evaluation on test set (Keras) -----\n",
    "    y_pred_prob_keras = keras_model.predict(tok_test, batch_size=BATCH_SIZE)\n",
    "    y_pred_keras = np.argmax(y_pred_prob_keras, axis=1)\n",
    "    f1_test_keras = f1_score(y_test, y_pred_keras, average='macro')\n",
    "    print(f\"[Keras - {model_name}] Test Macro F1-score: {f1_test_keras:.4f}\")\n",
    "    \n",
    "    results_summary.append({\n",
    "        \"name\": model_name,\n",
    "        \"num_rnn_layers\": num_rnn_layers_exp,\n",
    "        \"rnn_units\": rnn_units_exp,\n",
    "        \"bidirectional\": bidirectional_exp,\n",
    "        \"f1_keras\": f1_test_keras,\n",
    "        \"f1_custom\": None\n",
    "    })"
   ]
  },
  {
   "cell_type": "code",
   "execution_count": 26,
   "id": "46e2daf0",
   "metadata": {},
   "outputs": [
    {
     "name": "stdout",
     "output_type": "stream",
     "text": [
      "\n",
      "--- Comparing with Custom Model for NumLayers_5_Units_32_Dir_Bi ---\n",
      "Loaded Keras weights into custom model.\n",
      "[Custom - NumLayers_5_Units_32_Dir_Bi] Test Macro F1-score: 0.4896\n"
     ]
    }
   ],
   "source": [
    "# ----- Custom Model Comparison -----\n",
    "if exp_config.get(\"compare_custom\", False):\n",
    "    print(f\"\\n--- Comparing with Custom Model for {model_name} ---\")\n",
    "    \n",
    "    custom_return_sequences = [True] * (num_rnn_layers_exp - 1) + [False] if num_rnn_layers_exp > 0 else []\n",
    "\n",
    "    custom_model = SimpleRNNModel(\n",
    "        vocab_size=vocab_size,\n",
    "        embed_dim=EMBED_DIM,\n",
    "        hidden_dim=rnn_units_exp,\n",
    "        num_classes=num_classes,\n",
    "        dropout_rate=DROPOUT_RATE,\n",
    "        num_layers=num_rnn_layers_exp,\n",
    "        bidirectional=bidirectional_exp,\n",
    "        return_sequences_list=custom_return_sequences\n",
    "    )\n",
    "\n",
    "    keras_weights_list = keras_model.get_weights()\n",
    "    custom_model.load_keras_weights(keras_weights_list)\n",
    "    print(\"Loaded Keras weights into custom model.\")\n",
    "\n",
    "    custom_model.set_training_mode(False)\n",
    "\n",
    "    probs_custom = custom_model.forward(tok_test, training=False)\n",
    "    preds_custom = np.argmax(probs_custom, axis=1)\n",
    "    f1_custom = f1_score(y_test, preds_custom, average='macro')\n",
    "    print(f\"[Custom - {model_name}] Test Macro F1-score: {f1_custom:.4f}\")\n",
    "    \n",
    "    for res in results_summary:\n",
    "        if res[\"name\"] == model_name:\n",
    "            res[\"f1_custom\"] = f1_custom\n",
    "            break\n",
    "    \n",
    "    if not np.isclose(f1_test_keras, f1_custom, atol=1e-3):\n",
    "        print(\"Warning: Keras and Custom F1 scores differ significantly. Debugging may be needed.\")"
   ]
  },
  {
   "cell_type": "code",
   "execution_count": 27,
   "id": "13ba663a",
   "metadata": {},
   "outputs": [
    {
     "name": "stdout",
     "output_type": "stream",
     "text": [
      "\n",
      "\n",
      "--- Experiment Results Summary ---\n",
      "Name | RNN Layers | RNN Units | Bidirectional | F1 Keras | F1 Custom\n",
      "--------------------------------------------------------------------------------\n",
      "NumLayers_5_Units_32_Dir_Uni | 5 | 32 | False | 0.3277 | N/A\n",
      "NumLayers_6_Units_32_Dir_Uni | 6 | 32 | False | 0.3390 | N/A\n",
      "NumLayers_7_Units_32_Dir_Uni | 7 | 32 | False | 0.3523 | N/A\n",
      "NumLayers_5_Units_32_Dir_Uni | 5 | 32 | False | 0.2838 | N/A\n",
      "NumLayers_5_Units_64_Dir_Uni | 5 | 64 | False | 0.1844 | N/A\n",
      "NumLayers_5_Units_128_Dir_Uni | 5 | 128 | False | 0.1827 | N/A\n",
      "NumLayers_5_Units_32_Dir_Uni | 5 | 32 | False | 0.3500 | N/A\n",
      "NumLayers_5_Units_32_Dir_Bi | 5 | 32 | True | 0.4896 | 0.4896\n"
     ]
    }
   ],
   "source": [
    "# --- Print Hasil ---\n",
    "print(\"\\n\\n--- Experiment Results Summary ---\")\n",
    "print(\"Name | RNN Layers | RNN Units | Bidirectional | F1 Keras | F1 Custom\")\n",
    "print(\"-\" * 80)\n",
    "for res in results_summary:\n",
    "    f1_custom_str = f\"{res['f1_custom']:.4f}\" if res['f1_custom'] is not None else \"N/A\"\n",
    "    print(f\"{res['name']} | {res['num_rnn_layers']} | {res['rnn_units']} | {res['bidirectional']} | {res['f1_keras']:.4f} | {f1_custom_str}\")"
   ]
  }
 ],
 "metadata": {
  "kernelspec": {
   "display_name": "Python 3",
   "language": "python",
   "name": "python3"
  },
  "language_info": {
   "codemirror_mode": {
    "name": "ipython",
    "version": 3
   },
   "file_extension": ".py",
   "mimetype": "text/x-python",
   "name": "python",
   "nbconvert_exporter": "python",
   "pygments_lexer": "ipython3",
   "version": "3.12.3"
  }
 },
 "nbformat": 4,
 "nbformat_minor": 5
}
