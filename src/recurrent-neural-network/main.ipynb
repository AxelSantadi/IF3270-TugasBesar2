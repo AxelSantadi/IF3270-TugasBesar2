{
 "cells": [
  {
   "cell_type": "code",
   "execution_count": 1,
   "id": "51d63dc3",
   "metadata": {},
   "outputs": [],
   "source": [
    "# importing\n",
    "import os\n",
    "import numpy as np\n",
    "import tensorflow as tf\n",
    "from tensorflow.keras.models import Sequential\n",
    "from tensorflow.keras.layers import Embedding, SimpleRNN, Bidirectional, Dropout, Dense, LSTM\n",
    "from sklearn.metrics import f1_score\n",
    "import matplotlib.pyplot as plt\n",
    "from utils import load_nusax_data\n",
    "from model import SimpleRNNModel\n",
    "from layers import RNN as CustomRNN, BiRNN as CustomBiRNN"
   ]
  },
  {
   "cell_type": "code",
   "execution_count": 2,
   "id": "932442fa",
   "metadata": {},
   "outputs": [],
   "source": [
    "# ----- Fixed Hyperparameters -----\n",
    "MAX_TOKENS    = 20000\n",
    "SEQ_LENGTH    = 100\n",
    "EMBED_DIM     = 128\n",
    "DROPOUT_RATE  = 0.5\n",
    "BATCH_SIZE    = 50\n",
    "EPOCHS        = 15"
   ]
  },
  {
   "cell_type": "code",
   "execution_count": 3,
   "id": "ffa6a654",
   "metadata": {},
   "outputs": [],
   "source": [
    "# ----- Load and preprocess data -----\n",
    "tok_train, y_train, tok_val, y_val, tok_test, y_test, vocab_size, num_classes = \\\n",
    "    load_nusax_data(MAX_TOKENS, SEQ_LENGTH)\n",
    "\n",
    "os.makedirs('results/weights', exist_ok=True)\n",
    "os.makedirs('results/plots', exist_ok=True)\n",
    "results_summary = []"
   ]
  },
  {
   "cell_type": "code",
   "execution_count": 4,
   "id": "1660bbe9",
   "metadata": {},
   "outputs": [],
   "source": [
    "# ----- Needed Function Definitions -----\n",
    "def build_keras_model(num_rnn_layers, rnn_units, bidirectional, rnn_type='SimpleRNN', dropout_rate=DROPOUT_RATE):\n",
    "    keras_model = Sequential()\n",
    "    keras_model.add(Embedding(\n",
    "        input_dim=vocab_size,\n",
    "        output_dim=EMBED_DIM,\n",
    "        input_length=SEQ_LENGTH,\n",
    "        name='embedding'\n",
    "    ))\n",
    "\n",
    "    for i in range(num_rnn_layers):\n",
    "        is_last_rnn = (i == num_rnn_layers - 1)\n",
    "        return_sequences = not is_last_rnn\n",
    "        \n",
    "        layer_name_prefix = f\"{'bi' if bidirectional else ''}{rnn_type.lower()}_{i}\"\n",
    "\n",
    "        if rnn_type == 'SimpleRNN':\n",
    "            rnn_layer_constructor = SimpleRNN(rnn_units, return_sequences=return_sequences, name=f\"{layer_name_prefix}_simplernn\")\n",
    "        elif rnn_type == 'LSTM':\n",
    "            rnn_layer_constructor = LSTM(rnn_units, return_sequences=return_sequences, name=f\"{layer_name_prefix}_lstm\")\n",
    "        else:\n",
    "            raise ValueError(f\"Unsupported RNN type: {rnn_type}\")\n",
    "\n",
    "        if bidirectional:\n",
    "            keras_model.add(Bidirectional(rnn_layer_constructor, name=f\"{layer_name_prefix}_bidir\"))\n",
    "        else:\n",
    "            keras_model.add(rnn_layer_constructor)\n",
    "            \n",
    "    keras_model.add(Dropout(dropout_rate, name='dropout'))\n",
    "    keras_model.add(Dense(num_classes, activation='softmax', name='output'))\n",
    "\n",
    "    keras_model.compile(\n",
    "        optimizer='adam',\n",
    "        loss='sparse_categorical_crossentropy',\n",
    "        metrics=['accuracy']\n",
    "    )\n",
    "    return keras_model\n",
    "\n",
    "def plot_history(history, model_name, experiment_name):\n",
    "    plt.figure(figsize=(12, 4))\n",
    "    plt.subplot(1, 2, 1)\n",
    "    plt.plot(history.history['loss'], label='Training Loss')\n",
    "    plt.plot(history.history['val_loss'], label='Validation Loss')\n",
    "    plt.title(f'Loss - {model_name}')\n",
    "    plt.xlabel('Epoch')\n",
    "    plt.ylabel('Loss')\n",
    "    plt.legend()\n",
    "\n",
    "    plt.subplot(1, 2, 2)\n",
    "    plt.plot(history.history['accuracy'], label='Training Accuracy')\n",
    "    plt.plot(history.history['val_accuracy'], label='Validation Accuracy')\n",
    "    plt.title(f'Accuracy - {model_name}')\n",
    "    plt.xlabel('Epoch')\n",
    "    plt.ylabel('Accuracy')\n",
    "    plt.legend()\n",
    "    \n",
    "    plot_filename = f\"results/plots/{experiment_name}_{model_name}_history.png\"\n",
    "    plt.savefig(plot_filename)\n",
    "    print(f\"Saved plot to {plot_filename}\")\n",
    "    plt.close()"
   ]
  },
  {
   "cell_type": "code",
   "execution_count": 5,
   "id": "b0021098",
   "metadata": {},
   "outputs": [],
   "source": [
    "# --- Experiment Configurations ---\n",
    "experiments = []\n",
    "\n",
    "# 1. beda layer RNN\n",
    "base_rnn_units = 32\n",
    "base_bidirectional = True\n",
    "for num_layers in [1, 2, 3]:\n",
    "    experiments.append({\n",
    "        \"name\": f\"NumLayers_{num_layers}_Units_{base_rnn_units}_Dir_{'Bi' if base_bidirectional else 'Uni'}\",\n",
    "        \"num_rnn_layers\": num_layers,\n",
    "        \"rnn_units\": base_rnn_units,\n",
    "        \"bidirectional\": base_bidirectional\n",
    "    })\n",
    "\n",
    "# 2. beda cell RNN per layer\n",
    "base_num_layers = 2\n",
    "base_bidirectional = True\n",
    "for rnn_units in [16, 32, 64]:\n",
    "    experiments.append({\n",
    "        \"name\": f\"NumLayers_{base_num_layers}_Units_{rnn_units}_Dir_{'Bi' if base_bidirectional else 'Uni'}\",\n",
    "        \"num_rnn_layers\": base_num_layers,\n",
    "        \"rnn_units\": rnn_units,\n",
    "        \"bidirectional\": base_bidirectional\n",
    "    })\n",
    "\n",
    "# 3. beda RNN berdasarkan arah\n",
    "base_num_layers = 2\n",
    "base_rnn_units = 32\n",
    "for bidirectional_flag in [False, True]:\n",
    "    experiments.append({\n",
    "        \"name\": f\"NumLayers_{base_num_layers}_Units_{base_rnn_units}_Dir_{'Bi' if bidirectional_flag else 'Uni'}\",\n",
    "        \"num_rnn_layers\": base_num_layers,\n",
    "        \"rnn_units\": base_rnn_units,\n",
    "        \"bidirectional\": bidirectional_flag\n",
    "    })"
   ]
  },
  {
   "cell_type": "code",
   "execution_count": 6,
   "id": "dbb41d37",
   "metadata": {},
   "outputs": [
    {
     "name": "stdout",
     "output_type": "stream",
     "text": [
      "\n",
      "--- Running Experiment 1/8: NumLayers_1_Units_32_Dir_Bi ---\n"
     ]
    },
    {
     "name": "stderr",
     "output_type": "stream",
     "text": [
      "c:\\Python312\\Lib\\site-packages\\keras\\src\\layers\\core\\embedding.py:90: UserWarning: Argument `input_length` is deprecated. Just remove it.\n",
      "  warnings.warn(\n"
     ]
    },
    {
     "data": {
      "text/html": [
       "<pre style=\"white-space:pre;overflow-x:auto;line-height:normal;font-family:Menlo,'DejaVu Sans Mono',consolas,'Courier New',monospace\"><span style=\"font-weight: bold\">Model: \"sequential\"</span>\n",
       "</pre>\n"
      ],
      "text/plain": [
       "\u001b[1mModel: \"sequential\"\u001b[0m\n"
      ]
     },
     "metadata": {},
     "output_type": "display_data"
    },
    {
     "data": {
      "text/html": [
       "<pre style=\"white-space:pre;overflow-x:auto;line-height:normal;font-family:Menlo,'DejaVu Sans Mono',consolas,'Courier New',monospace\">┏━━━━━━━━━━━━━━━━━━━━━━━━━━━━━━━━━┳━━━━━━━━━━━━━━━━━━━━━━━━┳━━━━━━━━━━━━━━━┓\n",
       "┃<span style=\"font-weight: bold\"> Layer (type)                    </span>┃<span style=\"font-weight: bold\"> Output Shape           </span>┃<span style=\"font-weight: bold\">       Param # </span>┃\n",
       "┡━━━━━━━━━━━━━━━━━━━━━━━━━━━━━━━━━╇━━━━━━━━━━━━━━━━━━━━━━━━╇━━━━━━━━━━━━━━━┩\n",
       "│ embedding (<span style=\"color: #0087ff; text-decoration-color: #0087ff\">Embedding</span>)           │ ?                      │   <span style=\"color: #00af00; text-decoration-color: #00af00\">0</span> (unbuilt) │\n",
       "├─────────────────────────────────┼────────────────────────┼───────────────┤\n",
       "│ bisimplernn_0_bidir             │ ?                      │   <span style=\"color: #00af00; text-decoration-color: #00af00\">0</span> (unbuilt) │\n",
       "│ (<span style=\"color: #0087ff; text-decoration-color: #0087ff\">Bidirectional</span>)                 │                        │               │\n",
       "├─────────────────────────────────┼────────────────────────┼───────────────┤\n",
       "│ dropout (<span style=\"color: #0087ff; text-decoration-color: #0087ff\">Dropout</span>)               │ ?                      │             <span style=\"color: #00af00; text-decoration-color: #00af00\">0</span> │\n",
       "├─────────────────────────────────┼────────────────────────┼───────────────┤\n",
       "│ output (<span style=\"color: #0087ff; text-decoration-color: #0087ff\">Dense</span>)                  │ ?                      │   <span style=\"color: #00af00; text-decoration-color: #00af00\">0</span> (unbuilt) │\n",
       "└─────────────────────────────────┴────────────────────────┴───────────────┘\n",
       "</pre>\n"
      ],
      "text/plain": [
       "┏━━━━━━━━━━━━━━━━━━━━━━━━━━━━━━━━━┳━━━━━━━━━━━━━━━━━━━━━━━━┳━━━━━━━━━━━━━━━┓\n",
       "┃\u001b[1m \u001b[0m\u001b[1mLayer (type)                   \u001b[0m\u001b[1m \u001b[0m┃\u001b[1m \u001b[0m\u001b[1mOutput Shape          \u001b[0m\u001b[1m \u001b[0m┃\u001b[1m \u001b[0m\u001b[1m      Param #\u001b[0m\u001b[1m \u001b[0m┃\n",
       "┡━━━━━━━━━━━━━━━━━━━━━━━━━━━━━━━━━╇━━━━━━━━━━━━━━━━━━━━━━━━╇━━━━━━━━━━━━━━━┩\n",
       "│ embedding (\u001b[38;5;33mEmbedding\u001b[0m)           │ ?                      │   \u001b[38;5;34m0\u001b[0m (unbuilt) │\n",
       "├─────────────────────────────────┼────────────────────────┼───────────────┤\n",
       "│ bisimplernn_0_bidir             │ ?                      │   \u001b[38;5;34m0\u001b[0m (unbuilt) │\n",
       "│ (\u001b[38;5;33mBidirectional\u001b[0m)                 │                        │               │\n",
       "├─────────────────────────────────┼────────────────────────┼───────────────┤\n",
       "│ dropout (\u001b[38;5;33mDropout\u001b[0m)               │ ?                      │             \u001b[38;5;34m0\u001b[0m │\n",
       "├─────────────────────────────────┼────────────────────────┼───────────────┤\n",
       "│ output (\u001b[38;5;33mDense\u001b[0m)                  │ ?                      │   \u001b[38;5;34m0\u001b[0m (unbuilt) │\n",
       "└─────────────────────────────────┴────────────────────────┴───────────────┘\n"
      ]
     },
     "metadata": {},
     "output_type": "display_data"
    },
    {
     "data": {
      "text/html": [
       "<pre style=\"white-space:pre;overflow-x:auto;line-height:normal;font-family:Menlo,'DejaVu Sans Mono',consolas,'Courier New',monospace\"><span style=\"font-weight: bold\"> Total params: </span><span style=\"color: #00af00; text-decoration-color: #00af00\">0</span> (0.00 B)\n",
       "</pre>\n"
      ],
      "text/plain": [
       "\u001b[1m Total params: \u001b[0m\u001b[38;5;34m0\u001b[0m (0.00 B)\n"
      ]
     },
     "metadata": {},
     "output_type": "display_data"
    },
    {
     "data": {
      "text/html": [
       "<pre style=\"white-space:pre;overflow-x:auto;line-height:normal;font-family:Menlo,'DejaVu Sans Mono',consolas,'Courier New',monospace\"><span style=\"font-weight: bold\"> Trainable params: </span><span style=\"color: #00af00; text-decoration-color: #00af00\">0</span> (0.00 B)\n",
       "</pre>\n"
      ],
      "text/plain": [
       "\u001b[1m Trainable params: \u001b[0m\u001b[38;5;34m0\u001b[0m (0.00 B)\n"
      ]
     },
     "metadata": {},
     "output_type": "display_data"
    },
    {
     "data": {
      "text/html": [
       "<pre style=\"white-space:pre;overflow-x:auto;line-height:normal;font-family:Menlo,'DejaVu Sans Mono',consolas,'Courier New',monospace\"><span style=\"font-weight: bold\"> Non-trainable params: </span><span style=\"color: #00af00; text-decoration-color: #00af00\">0</span> (0.00 B)\n",
       "</pre>\n"
      ],
      "text/plain": [
       "\u001b[1m Non-trainable params: \u001b[0m\u001b[38;5;34m0\u001b[0m (0.00 B)\n"
      ]
     },
     "metadata": {},
     "output_type": "display_data"
    },
    {
     "name": "stdout",
     "output_type": "stream",
     "text": [
      "Training Keras model: NumLayers_1_Units_32_Dir_Bi\n",
      "Epoch 1/15\n",
      "10/10 - 2s - 240ms/step - accuracy: 0.3400 - loss: 1.1068 - val_accuracy: 0.3400 - val_loss: 1.0525\n",
      "Epoch 2/15\n",
      "10/10 - 0s - 37ms/step - accuracy: 0.6260 - loss: 0.9228 - val_accuracy: 0.3800 - val_loss: 1.0361\n",
      "Epoch 3/15\n",
      "10/10 - 0s - 37ms/step - accuracy: 0.8220 - loss: 0.6992 - val_accuracy: 0.4200 - val_loss: 1.0169\n",
      "Epoch 4/15\n",
      "10/10 - 0s - 41ms/step - accuracy: 0.9240 - loss: 0.4692 - val_accuracy: 0.3800 - val_loss: 1.0335\n",
      "Epoch 5/15\n",
      "10/10 - 0s - 37ms/step - accuracy: 0.9680 - loss: 0.3021 - val_accuracy: 0.4100 - val_loss: 1.0666\n",
      "Epoch 6/15\n",
      "10/10 - 0s - 36ms/step - accuracy: 0.9900 - loss: 0.1937 - val_accuracy: 0.4200 - val_loss: 1.1259\n",
      "Epoch 7/15\n",
      "10/10 - 0s - 37ms/step - accuracy: 0.9900 - loss: 0.1366 - val_accuracy: 0.4500 - val_loss: 1.1202\n",
      "Epoch 8/15\n",
      "10/10 - 0s - 37ms/step - accuracy: 0.9980 - loss: 0.0840 - val_accuracy: 0.4000 - val_loss: 1.1844\n",
      "Epoch 9/15\n",
      "10/10 - 0s - 36ms/step - accuracy: 1.0000 - loss: 0.0603 - val_accuracy: 0.4200 - val_loss: 1.2020\n",
      "Epoch 10/15\n",
      "10/10 - 0s - 37ms/step - accuracy: 1.0000 - loss: 0.0458 - val_accuracy: 0.4300 - val_loss: 1.2002\n",
      "Epoch 11/15\n",
      "10/10 - 0s - 38ms/step - accuracy: 1.0000 - loss: 0.0400 - val_accuracy: 0.4700 - val_loss: 1.1977\n",
      "Epoch 12/15\n",
      "10/10 - 0s - 40ms/step - accuracy: 1.0000 - loss: 0.0283 - val_accuracy: 0.4800 - val_loss: 1.2152\n",
      "Epoch 13/15\n",
      "10/10 - 0s - 36ms/step - accuracy: 1.0000 - loss: 0.0235 - val_accuracy: 0.4500 - val_loss: 1.2871\n",
      "Epoch 14/15\n",
      "10/10 - 0s - 38ms/step - accuracy: 1.0000 - loss: 0.0206 - val_accuracy: 0.4200 - val_loss: 1.2925\n",
      "Epoch 15/15\n",
      "10/10 - 0s - 37ms/step - accuracy: 1.0000 - loss: 0.0180 - val_accuracy: 0.4200 - val_loss: 1.3044\n",
      "Saved Keras weights to results/weights/keras_rnn_NumLayers_1_Units_32_Dir_Bi.weights.h5\n",
      "Saved plot to results/plots/experiment_NumLayers_1_Units_32_Dir_Bi_history.png\n",
      "\u001b[1m8/8\u001b[0m \u001b[32m━━━━━━━━━━━━━━━━━━━━\u001b[0m\u001b[37m\u001b[0m \u001b[1m0s\u001b[0m 6ms/step  \n",
      "[Keras - NumLayers_1_Units_32_Dir_Bi] Test Macro F1-score: 0.4213\n",
      "\n",
      "--- Comparing with Custom Model for NumLayers_1_Units_32_Dir_Bi ---\n",
      "Loaded Keras weights into custom model.\n",
      "[Custom - NumLayers_1_Units_32_Dir_Bi] Test Macro F1-score: 0.4213\n",
      "\n",
      "--- Running Experiment 2/8: NumLayers_2_Units_32_Dir_Bi ---\n"
     ]
    },
    {
     "name": "stderr",
     "output_type": "stream",
     "text": [
      "c:\\Python312\\Lib\\site-packages\\keras\\src\\layers\\core\\embedding.py:90: UserWarning: Argument `input_length` is deprecated. Just remove it.\n",
      "  warnings.warn(\n"
     ]
    },
    {
     "data": {
      "text/html": [
       "<pre style=\"white-space:pre;overflow-x:auto;line-height:normal;font-family:Menlo,'DejaVu Sans Mono',consolas,'Courier New',monospace\"><span style=\"font-weight: bold\">Model: \"sequential_1\"</span>\n",
       "</pre>\n"
      ],
      "text/plain": [
       "\u001b[1mModel: \"sequential_1\"\u001b[0m\n"
      ]
     },
     "metadata": {},
     "output_type": "display_data"
    },
    {
     "data": {
      "text/html": [
       "<pre style=\"white-space:pre;overflow-x:auto;line-height:normal;font-family:Menlo,'DejaVu Sans Mono',consolas,'Courier New',monospace\">┏━━━━━━━━━━━━━━━━━━━━━━━━━━━━━━━━━┳━━━━━━━━━━━━━━━━━━━━━━━━┳━━━━━━━━━━━━━━━┓\n",
       "┃<span style=\"font-weight: bold\"> Layer (type)                    </span>┃<span style=\"font-weight: bold\"> Output Shape           </span>┃<span style=\"font-weight: bold\">       Param # </span>┃\n",
       "┡━━━━━━━━━━━━━━━━━━━━━━━━━━━━━━━━━╇━━━━━━━━━━━━━━━━━━━━━━━━╇━━━━━━━━━━━━━━━┩\n",
       "│ embedding (<span style=\"color: #0087ff; text-decoration-color: #0087ff\">Embedding</span>)           │ ?                      │   <span style=\"color: #00af00; text-decoration-color: #00af00\">0</span> (unbuilt) │\n",
       "├─────────────────────────────────┼────────────────────────┼───────────────┤\n",
       "│ bisimplernn_0_bidir             │ ?                      │   <span style=\"color: #00af00; text-decoration-color: #00af00\">0</span> (unbuilt) │\n",
       "│ (<span style=\"color: #0087ff; text-decoration-color: #0087ff\">Bidirectional</span>)                 │                        │               │\n",
       "├─────────────────────────────────┼────────────────────────┼───────────────┤\n",
       "│ bisimplernn_1_bidir             │ ?                      │   <span style=\"color: #00af00; text-decoration-color: #00af00\">0</span> (unbuilt) │\n",
       "│ (<span style=\"color: #0087ff; text-decoration-color: #0087ff\">Bidirectional</span>)                 │                        │               │\n",
       "├─────────────────────────────────┼────────────────────────┼───────────────┤\n",
       "│ dropout (<span style=\"color: #0087ff; text-decoration-color: #0087ff\">Dropout</span>)               │ ?                      │             <span style=\"color: #00af00; text-decoration-color: #00af00\">0</span> │\n",
       "├─────────────────────────────────┼────────────────────────┼───────────────┤\n",
       "│ output (<span style=\"color: #0087ff; text-decoration-color: #0087ff\">Dense</span>)                  │ ?                      │   <span style=\"color: #00af00; text-decoration-color: #00af00\">0</span> (unbuilt) │\n",
       "└─────────────────────────────────┴────────────────────────┴───────────────┘\n",
       "</pre>\n"
      ],
      "text/plain": [
       "┏━━━━━━━━━━━━━━━━━━━━━━━━━━━━━━━━━┳━━━━━━━━━━━━━━━━━━━━━━━━┳━━━━━━━━━━━━━━━┓\n",
       "┃\u001b[1m \u001b[0m\u001b[1mLayer (type)                   \u001b[0m\u001b[1m \u001b[0m┃\u001b[1m \u001b[0m\u001b[1mOutput Shape          \u001b[0m\u001b[1m \u001b[0m┃\u001b[1m \u001b[0m\u001b[1m      Param #\u001b[0m\u001b[1m \u001b[0m┃\n",
       "┡━━━━━━━━━━━━━━━━━━━━━━━━━━━━━━━━━╇━━━━━━━━━━━━━━━━━━━━━━━━╇━━━━━━━━━━━━━━━┩\n",
       "│ embedding (\u001b[38;5;33mEmbedding\u001b[0m)           │ ?                      │   \u001b[38;5;34m0\u001b[0m (unbuilt) │\n",
       "├─────────────────────────────────┼────────────────────────┼───────────────┤\n",
       "│ bisimplernn_0_bidir             │ ?                      │   \u001b[38;5;34m0\u001b[0m (unbuilt) │\n",
       "│ (\u001b[38;5;33mBidirectional\u001b[0m)                 │                        │               │\n",
       "├─────────────────────────────────┼────────────────────────┼───────────────┤\n",
       "│ bisimplernn_1_bidir             │ ?                      │   \u001b[38;5;34m0\u001b[0m (unbuilt) │\n",
       "│ (\u001b[38;5;33mBidirectional\u001b[0m)                 │                        │               │\n",
       "├─────────────────────────────────┼────────────────────────┼───────────────┤\n",
       "│ dropout (\u001b[38;5;33mDropout\u001b[0m)               │ ?                      │             \u001b[38;5;34m0\u001b[0m │\n",
       "├─────────────────────────────────┼────────────────────────┼───────────────┤\n",
       "│ output (\u001b[38;5;33mDense\u001b[0m)                  │ ?                      │   \u001b[38;5;34m0\u001b[0m (unbuilt) │\n",
       "└─────────────────────────────────┴────────────────────────┴───────────────┘\n"
      ]
     },
     "metadata": {},
     "output_type": "display_data"
    },
    {
     "data": {
      "text/html": [
       "<pre style=\"white-space:pre;overflow-x:auto;line-height:normal;font-family:Menlo,'DejaVu Sans Mono',consolas,'Courier New',monospace\"><span style=\"font-weight: bold\"> Total params: </span><span style=\"color: #00af00; text-decoration-color: #00af00\">0</span> (0.00 B)\n",
       "</pre>\n"
      ],
      "text/plain": [
       "\u001b[1m Total params: \u001b[0m\u001b[38;5;34m0\u001b[0m (0.00 B)\n"
      ]
     },
     "metadata": {},
     "output_type": "display_data"
    },
    {
     "data": {
      "text/html": [
       "<pre style=\"white-space:pre;overflow-x:auto;line-height:normal;font-family:Menlo,'DejaVu Sans Mono',consolas,'Courier New',monospace\"><span style=\"font-weight: bold\"> Trainable params: </span><span style=\"color: #00af00; text-decoration-color: #00af00\">0</span> (0.00 B)\n",
       "</pre>\n"
      ],
      "text/plain": [
       "\u001b[1m Trainable params: \u001b[0m\u001b[38;5;34m0\u001b[0m (0.00 B)\n"
      ]
     },
     "metadata": {},
     "output_type": "display_data"
    },
    {
     "data": {
      "text/html": [
       "<pre style=\"white-space:pre;overflow-x:auto;line-height:normal;font-family:Menlo,'DejaVu Sans Mono',consolas,'Courier New',monospace\"><span style=\"font-weight: bold\"> Non-trainable params: </span><span style=\"color: #00af00; text-decoration-color: #00af00\">0</span> (0.00 B)\n",
       "</pre>\n"
      ],
      "text/plain": [
       "\u001b[1m Non-trainable params: \u001b[0m\u001b[38;5;34m0\u001b[0m (0.00 B)\n"
      ]
     },
     "metadata": {},
     "output_type": "display_data"
    },
    {
     "name": "stdout",
     "output_type": "stream",
     "text": [
      "Training Keras model: NumLayers_2_Units_32_Dir_Bi\n",
      "Epoch 1/15\n",
      "10/10 - 4s - 401ms/step - accuracy: 0.3760 - loss: 1.1348 - val_accuracy: 0.4800 - val_loss: 1.0469\n",
      "Epoch 2/15\n",
      "10/10 - 0s - 45ms/step - accuracy: 0.6500 - loss: 0.8199 - val_accuracy: 0.5400 - val_loss: 0.9783\n",
      "Epoch 3/15\n",
      "10/10 - 0s - 46ms/step - accuracy: 0.8940 - loss: 0.4981 - val_accuracy: 0.5600 - val_loss: 0.9119\n",
      "Epoch 4/15\n",
      "10/10 - 0s - 45ms/step - accuracy: 0.9540 - loss: 0.2939 - val_accuracy: 0.5300 - val_loss: 0.9434\n",
      "Epoch 5/15\n",
      "10/10 - 0s - 46ms/step - accuracy: 0.9900 - loss: 0.1646 - val_accuracy: 0.4800 - val_loss: 0.9982\n",
      "Epoch 6/15\n",
      "10/10 - 0s - 46ms/step - accuracy: 0.9940 - loss: 0.0904 - val_accuracy: 0.5200 - val_loss: 1.0154\n",
      "Epoch 7/15\n",
      "10/10 - 0s - 46ms/step - accuracy: 1.0000 - loss: 0.0548 - val_accuracy: 0.5100 - val_loss: 1.0819\n",
      "Epoch 8/15\n",
      "10/10 - 1s - 51ms/step - accuracy: 0.9980 - loss: 0.0349 - val_accuracy: 0.5300 - val_loss: 1.1081\n",
      "Epoch 9/15\n",
      "10/10 - 0s - 48ms/step - accuracy: 1.0000 - loss: 0.0330 - val_accuracy: 0.4800 - val_loss: 1.1952\n",
      "Epoch 10/15\n",
      "10/10 - 1s - 55ms/step - accuracy: 1.0000 - loss: 0.0440 - val_accuracy: 0.4500 - val_loss: 1.2139\n",
      "Epoch 11/15\n",
      "10/10 - 0s - 48ms/step - accuracy: 0.9980 - loss: 0.0352 - val_accuracy: 0.4300 - val_loss: 1.2636\n",
      "Epoch 12/15\n",
      "10/10 - 0s - 47ms/step - accuracy: 1.0000 - loss: 0.0256 - val_accuracy: 0.4400 - val_loss: 1.3310\n",
      "Epoch 13/15\n",
      "10/10 - 0s - 47ms/step - accuracy: 0.9980 - loss: 0.0210 - val_accuracy: 0.4900 - val_loss: 1.3844\n",
      "Epoch 14/15\n",
      "10/10 - 0s - 46ms/step - accuracy: 0.9980 - loss: 0.0178 - val_accuracy: 0.4600 - val_loss: 1.4613\n",
      "Epoch 15/15\n",
      "10/10 - 0s - 44ms/step - accuracy: 1.0000 - loss: 0.0151 - val_accuracy: 0.4400 - val_loss: 1.5080\n",
      "Saved Keras weights to results/weights/keras_rnn_NumLayers_2_Units_32_Dir_Bi.weights.h5\n",
      "Saved plot to results/plots/experiment_NumLayers_2_Units_32_Dir_Bi_history.png\n",
      "\u001b[1m8/8\u001b[0m \u001b[32m━━━━━━━━━━━━━━━━━━━━\u001b[0m\u001b[37m\u001b[0m \u001b[1m0s\u001b[0m 8ms/step  \n",
      "[Keras - NumLayers_2_Units_32_Dir_Bi] Test Macro F1-score: 0.4696\n",
      "\n",
      "--- Comparing with Custom Model for NumLayers_2_Units_32_Dir_Bi ---\n",
      "Loaded Keras weights into custom model.\n",
      "[Custom - NumLayers_2_Units_32_Dir_Bi] Test Macro F1-score: 0.4696\n",
      "\n",
      "--- Running Experiment 3/8: NumLayers_3_Units_32_Dir_Bi ---\n"
     ]
    },
    {
     "name": "stderr",
     "output_type": "stream",
     "text": [
      "c:\\Python312\\Lib\\site-packages\\keras\\src\\layers\\core\\embedding.py:90: UserWarning: Argument `input_length` is deprecated. Just remove it.\n",
      "  warnings.warn(\n"
     ]
    },
    {
     "data": {
      "text/html": [
       "<pre style=\"white-space:pre;overflow-x:auto;line-height:normal;font-family:Menlo,'DejaVu Sans Mono',consolas,'Courier New',monospace\"><span style=\"font-weight: bold\">Model: \"sequential_2\"</span>\n",
       "</pre>\n"
      ],
      "text/plain": [
       "\u001b[1mModel: \"sequential_2\"\u001b[0m\n"
      ]
     },
     "metadata": {},
     "output_type": "display_data"
    },
    {
     "data": {
      "text/html": [
       "<pre style=\"white-space:pre;overflow-x:auto;line-height:normal;font-family:Menlo,'DejaVu Sans Mono',consolas,'Courier New',monospace\">┏━━━━━━━━━━━━━━━━━━━━━━━━━━━━━━━━━┳━━━━━━━━━━━━━━━━━━━━━━━━┳━━━━━━━━━━━━━━━┓\n",
       "┃<span style=\"font-weight: bold\"> Layer (type)                    </span>┃<span style=\"font-weight: bold\"> Output Shape           </span>┃<span style=\"font-weight: bold\">       Param # </span>┃\n",
       "┡━━━━━━━━━━━━━━━━━━━━━━━━━━━━━━━━━╇━━━━━━━━━━━━━━━━━━━━━━━━╇━━━━━━━━━━━━━━━┩\n",
       "│ embedding (<span style=\"color: #0087ff; text-decoration-color: #0087ff\">Embedding</span>)           │ ?                      │   <span style=\"color: #00af00; text-decoration-color: #00af00\">0</span> (unbuilt) │\n",
       "├─────────────────────────────────┼────────────────────────┼───────────────┤\n",
       "│ bisimplernn_0_bidir             │ ?                      │   <span style=\"color: #00af00; text-decoration-color: #00af00\">0</span> (unbuilt) │\n",
       "│ (<span style=\"color: #0087ff; text-decoration-color: #0087ff\">Bidirectional</span>)                 │                        │               │\n",
       "├─────────────────────────────────┼────────────────────────┼───────────────┤\n",
       "│ bisimplernn_1_bidir             │ ?                      │   <span style=\"color: #00af00; text-decoration-color: #00af00\">0</span> (unbuilt) │\n",
       "│ (<span style=\"color: #0087ff; text-decoration-color: #0087ff\">Bidirectional</span>)                 │                        │               │\n",
       "├─────────────────────────────────┼────────────────────────┼───────────────┤\n",
       "│ bisimplernn_2_bidir             │ ?                      │   <span style=\"color: #00af00; text-decoration-color: #00af00\">0</span> (unbuilt) │\n",
       "│ (<span style=\"color: #0087ff; text-decoration-color: #0087ff\">Bidirectional</span>)                 │                        │               │\n",
       "├─────────────────────────────────┼────────────────────────┼───────────────┤\n",
       "│ dropout (<span style=\"color: #0087ff; text-decoration-color: #0087ff\">Dropout</span>)               │ ?                      │             <span style=\"color: #00af00; text-decoration-color: #00af00\">0</span> │\n",
       "├─────────────────────────────────┼────────────────────────┼───────────────┤\n",
       "│ output (<span style=\"color: #0087ff; text-decoration-color: #0087ff\">Dense</span>)                  │ ?                      │   <span style=\"color: #00af00; text-decoration-color: #00af00\">0</span> (unbuilt) │\n",
       "└─────────────────────────────────┴────────────────────────┴───────────────┘\n",
       "</pre>\n"
      ],
      "text/plain": [
       "┏━━━━━━━━━━━━━━━━━━━━━━━━━━━━━━━━━┳━━━━━━━━━━━━━━━━━━━━━━━━┳━━━━━━━━━━━━━━━┓\n",
       "┃\u001b[1m \u001b[0m\u001b[1mLayer (type)                   \u001b[0m\u001b[1m \u001b[0m┃\u001b[1m \u001b[0m\u001b[1mOutput Shape          \u001b[0m\u001b[1m \u001b[0m┃\u001b[1m \u001b[0m\u001b[1m      Param #\u001b[0m\u001b[1m \u001b[0m┃\n",
       "┡━━━━━━━━━━━━━━━━━━━━━━━━━━━━━━━━━╇━━━━━━━━━━━━━━━━━━━━━━━━╇━━━━━━━━━━━━━━━┩\n",
       "│ embedding (\u001b[38;5;33mEmbedding\u001b[0m)           │ ?                      │   \u001b[38;5;34m0\u001b[0m (unbuilt) │\n",
       "├─────────────────────────────────┼────────────────────────┼───────────────┤\n",
       "│ bisimplernn_0_bidir             │ ?                      │   \u001b[38;5;34m0\u001b[0m (unbuilt) │\n",
       "│ (\u001b[38;5;33mBidirectional\u001b[0m)                 │                        │               │\n",
       "├─────────────────────────────────┼────────────────────────┼───────────────┤\n",
       "│ bisimplernn_1_bidir             │ ?                      │   \u001b[38;5;34m0\u001b[0m (unbuilt) │\n",
       "│ (\u001b[38;5;33mBidirectional\u001b[0m)                 │                        │               │\n",
       "├─────────────────────────────────┼────────────────────────┼───────────────┤\n",
       "│ bisimplernn_2_bidir             │ ?                      │   \u001b[38;5;34m0\u001b[0m (unbuilt) │\n",
       "│ (\u001b[38;5;33mBidirectional\u001b[0m)                 │                        │               │\n",
       "├─────────────────────────────────┼────────────────────────┼───────────────┤\n",
       "│ dropout (\u001b[38;5;33mDropout\u001b[0m)               │ ?                      │             \u001b[38;5;34m0\u001b[0m │\n",
       "├─────────────────────────────────┼────────────────────────┼───────────────┤\n",
       "│ output (\u001b[38;5;33mDense\u001b[0m)                  │ ?                      │   \u001b[38;5;34m0\u001b[0m (unbuilt) │\n",
       "└─────────────────────────────────┴────────────────────────┴───────────────┘\n"
      ]
     },
     "metadata": {},
     "output_type": "display_data"
    },
    {
     "data": {
      "text/html": [
       "<pre style=\"white-space:pre;overflow-x:auto;line-height:normal;font-family:Menlo,'DejaVu Sans Mono',consolas,'Courier New',monospace\"><span style=\"font-weight: bold\"> Total params: </span><span style=\"color: #00af00; text-decoration-color: #00af00\">0</span> (0.00 B)\n",
       "</pre>\n"
      ],
      "text/plain": [
       "\u001b[1m Total params: \u001b[0m\u001b[38;5;34m0\u001b[0m (0.00 B)\n"
      ]
     },
     "metadata": {},
     "output_type": "display_data"
    },
    {
     "data": {
      "text/html": [
       "<pre style=\"white-space:pre;overflow-x:auto;line-height:normal;font-family:Menlo,'DejaVu Sans Mono',consolas,'Courier New',monospace\"><span style=\"font-weight: bold\"> Trainable params: </span><span style=\"color: #00af00; text-decoration-color: #00af00\">0</span> (0.00 B)\n",
       "</pre>\n"
      ],
      "text/plain": [
       "\u001b[1m Trainable params: \u001b[0m\u001b[38;5;34m0\u001b[0m (0.00 B)\n"
      ]
     },
     "metadata": {},
     "output_type": "display_data"
    },
    {
     "data": {
      "text/html": [
       "<pre style=\"white-space:pre;overflow-x:auto;line-height:normal;font-family:Menlo,'DejaVu Sans Mono',consolas,'Courier New',monospace\"><span style=\"font-weight: bold\"> Non-trainable params: </span><span style=\"color: #00af00; text-decoration-color: #00af00\">0</span> (0.00 B)\n",
       "</pre>\n"
      ],
      "text/plain": [
       "\u001b[1m Non-trainable params: \u001b[0m\u001b[38;5;34m0\u001b[0m (0.00 B)\n"
      ]
     },
     "metadata": {},
     "output_type": "display_data"
    },
    {
     "name": "stdout",
     "output_type": "stream",
     "text": [
      "Training Keras model: NumLayers_3_Units_32_Dir_Bi\n",
      "Epoch 1/15\n",
      "10/10 - 6s - 566ms/step - accuracy: 0.3820 - loss: 1.2321 - val_accuracy: 0.4100 - val_loss: 1.1035\n",
      "Epoch 2/15\n",
      "10/10 - 1s - 63ms/step - accuracy: 0.6180 - loss: 0.8570 - val_accuracy: 0.5000 - val_loss: 1.0340\n",
      "Epoch 3/15\n",
      "10/10 - 1s - 60ms/step - accuracy: 0.7620 - loss: 0.6007 - val_accuracy: 0.4700 - val_loss: 1.1081\n",
      "Epoch 4/15\n",
      "10/10 - 1s - 59ms/step - accuracy: 0.8960 - loss: 0.3263 - val_accuracy: 0.4800 - val_loss: 1.1485\n",
      "Epoch 5/15\n",
      "10/10 - 1s - 58ms/step - accuracy: 0.9740 - loss: 0.1611 - val_accuracy: 0.4400 - val_loss: 1.3077\n",
      "Epoch 6/15\n",
      "10/10 - 1s - 57ms/step - accuracy: 0.9980 - loss: 0.0651 - val_accuracy: 0.4900 - val_loss: 1.4529\n",
      "Epoch 7/15\n",
      "10/10 - 1s - 57ms/step - accuracy: 1.0000 - loss: 0.0370 - val_accuracy: 0.4500 - val_loss: 1.5269\n",
      "Epoch 8/15\n",
      "10/10 - 1s - 56ms/step - accuracy: 1.0000 - loss: 0.0257 - val_accuracy: 0.4900 - val_loss: 1.5372\n",
      "Epoch 9/15\n",
      "10/10 - 1s - 57ms/step - accuracy: 1.0000 - loss: 0.0187 - val_accuracy: 0.5100 - val_loss: 1.5461\n",
      "Epoch 10/15\n",
      "10/10 - 1s - 60ms/step - accuracy: 1.0000 - loss: 0.0144 - val_accuracy: 0.5100 - val_loss: 1.5794\n",
      "Epoch 11/15\n",
      "10/10 - 1s - 58ms/step - accuracy: 1.0000 - loss: 0.0121 - val_accuracy: 0.5000 - val_loss: 1.6611\n",
      "Epoch 12/15\n",
      "10/10 - 1s - 62ms/step - accuracy: 1.0000 - loss: 0.0095 - val_accuracy: 0.5100 - val_loss: 1.6932\n",
      "Epoch 13/15\n",
      "10/10 - 1s - 55ms/step - accuracy: 1.0000 - loss: 0.0089 - val_accuracy: 0.5100 - val_loss: 1.6841\n",
      "Epoch 14/15\n",
      "10/10 - 1s - 58ms/step - accuracy: 1.0000 - loss: 0.0062 - val_accuracy: 0.4700 - val_loss: 1.7510\n",
      "Epoch 15/15\n",
      "10/10 - 1s - 59ms/step - accuracy: 1.0000 - loss: 0.0058 - val_accuracy: 0.4700 - val_loss: 1.7465\n",
      "Saved Keras weights to results/weights/keras_rnn_NumLayers_3_Units_32_Dir_Bi.weights.h5\n",
      "Saved plot to results/plots/experiment_NumLayers_3_Units_32_Dir_Bi_history.png\n",
      "\u001b[1m8/8\u001b[0m \u001b[32m━━━━━━━━━━━━━━━━━━━━\u001b[0m\u001b[37m\u001b[0m \u001b[1m1s\u001b[0m 12ms/step\n",
      "[Keras - NumLayers_3_Units_32_Dir_Bi] Test Macro F1-score: 0.4466\n",
      "\n",
      "--- Comparing with Custom Model for NumLayers_3_Units_32_Dir_Bi ---\n",
      "Loaded Keras weights into custom model.\n",
      "[Custom - NumLayers_3_Units_32_Dir_Bi] Test Macro F1-score: 0.4466\n",
      "\n",
      "--- Running Experiment 4/8: NumLayers_2_Units_16_Dir_Bi ---\n"
     ]
    },
    {
     "name": "stderr",
     "output_type": "stream",
     "text": [
      "c:\\Python312\\Lib\\site-packages\\keras\\src\\layers\\core\\embedding.py:90: UserWarning: Argument `input_length` is deprecated. Just remove it.\n",
      "  warnings.warn(\n"
     ]
    },
    {
     "data": {
      "text/html": [
       "<pre style=\"white-space:pre;overflow-x:auto;line-height:normal;font-family:Menlo,'DejaVu Sans Mono',consolas,'Courier New',monospace\"><span style=\"font-weight: bold\">Model: \"sequential_3\"</span>\n",
       "</pre>\n"
      ],
      "text/plain": [
       "\u001b[1mModel: \"sequential_3\"\u001b[0m\n"
      ]
     },
     "metadata": {},
     "output_type": "display_data"
    },
    {
     "data": {
      "text/html": [
       "<pre style=\"white-space:pre;overflow-x:auto;line-height:normal;font-family:Menlo,'DejaVu Sans Mono',consolas,'Courier New',monospace\">┏━━━━━━━━━━━━━━━━━━━━━━━━━━━━━━━━━┳━━━━━━━━━━━━━━━━━━━━━━━━┳━━━━━━━━━━━━━━━┓\n",
       "┃<span style=\"font-weight: bold\"> Layer (type)                    </span>┃<span style=\"font-weight: bold\"> Output Shape           </span>┃<span style=\"font-weight: bold\">       Param # </span>┃\n",
       "┡━━━━━━━━━━━━━━━━━━━━━━━━━━━━━━━━━╇━━━━━━━━━━━━━━━━━━━━━━━━╇━━━━━━━━━━━━━━━┩\n",
       "│ embedding (<span style=\"color: #0087ff; text-decoration-color: #0087ff\">Embedding</span>)           │ ?                      │   <span style=\"color: #00af00; text-decoration-color: #00af00\">0</span> (unbuilt) │\n",
       "├─────────────────────────────────┼────────────────────────┼───────────────┤\n",
       "│ bisimplernn_0_bidir             │ ?                      │   <span style=\"color: #00af00; text-decoration-color: #00af00\">0</span> (unbuilt) │\n",
       "│ (<span style=\"color: #0087ff; text-decoration-color: #0087ff\">Bidirectional</span>)                 │                        │               │\n",
       "├─────────────────────────────────┼────────────────────────┼───────────────┤\n",
       "│ bisimplernn_1_bidir             │ ?                      │   <span style=\"color: #00af00; text-decoration-color: #00af00\">0</span> (unbuilt) │\n",
       "│ (<span style=\"color: #0087ff; text-decoration-color: #0087ff\">Bidirectional</span>)                 │                        │               │\n",
       "├─────────────────────────────────┼────────────────────────┼───────────────┤\n",
       "│ dropout (<span style=\"color: #0087ff; text-decoration-color: #0087ff\">Dropout</span>)               │ ?                      │             <span style=\"color: #00af00; text-decoration-color: #00af00\">0</span> │\n",
       "├─────────────────────────────────┼────────────────────────┼───────────────┤\n",
       "│ output (<span style=\"color: #0087ff; text-decoration-color: #0087ff\">Dense</span>)                  │ ?                      │   <span style=\"color: #00af00; text-decoration-color: #00af00\">0</span> (unbuilt) │\n",
       "└─────────────────────────────────┴────────────────────────┴───────────────┘\n",
       "</pre>\n"
      ],
      "text/plain": [
       "┏━━━━━━━━━━━━━━━━━━━━━━━━━━━━━━━━━┳━━━━━━━━━━━━━━━━━━━━━━━━┳━━━━━━━━━━━━━━━┓\n",
       "┃\u001b[1m \u001b[0m\u001b[1mLayer (type)                   \u001b[0m\u001b[1m \u001b[0m┃\u001b[1m \u001b[0m\u001b[1mOutput Shape          \u001b[0m\u001b[1m \u001b[0m┃\u001b[1m \u001b[0m\u001b[1m      Param #\u001b[0m\u001b[1m \u001b[0m┃\n",
       "┡━━━━━━━━━━━━━━━━━━━━━━━━━━━━━━━━━╇━━━━━━━━━━━━━━━━━━━━━━━━╇━━━━━━━━━━━━━━━┩\n",
       "│ embedding (\u001b[38;5;33mEmbedding\u001b[0m)           │ ?                      │   \u001b[38;5;34m0\u001b[0m (unbuilt) │\n",
       "├─────────────────────────────────┼────────────────────────┼───────────────┤\n",
       "│ bisimplernn_0_bidir             │ ?                      │   \u001b[38;5;34m0\u001b[0m (unbuilt) │\n",
       "│ (\u001b[38;5;33mBidirectional\u001b[0m)                 │                        │               │\n",
       "├─────────────────────────────────┼────────────────────────┼───────────────┤\n",
       "│ bisimplernn_1_bidir             │ ?                      │   \u001b[38;5;34m0\u001b[0m (unbuilt) │\n",
       "│ (\u001b[38;5;33mBidirectional\u001b[0m)                 │                        │               │\n",
       "├─────────────────────────────────┼────────────────────────┼───────────────┤\n",
       "│ dropout (\u001b[38;5;33mDropout\u001b[0m)               │ ?                      │             \u001b[38;5;34m0\u001b[0m │\n",
       "├─────────────────────────────────┼────────────────────────┼───────────────┤\n",
       "│ output (\u001b[38;5;33mDense\u001b[0m)                  │ ?                      │   \u001b[38;5;34m0\u001b[0m (unbuilt) │\n",
       "└─────────────────────────────────┴────────────────────────┴───────────────┘\n"
      ]
     },
     "metadata": {},
     "output_type": "display_data"
    },
    {
     "data": {
      "text/html": [
       "<pre style=\"white-space:pre;overflow-x:auto;line-height:normal;font-family:Menlo,'DejaVu Sans Mono',consolas,'Courier New',monospace\"><span style=\"font-weight: bold\"> Total params: </span><span style=\"color: #00af00; text-decoration-color: #00af00\">0</span> (0.00 B)\n",
       "</pre>\n"
      ],
      "text/plain": [
       "\u001b[1m Total params: \u001b[0m\u001b[38;5;34m0\u001b[0m (0.00 B)\n"
      ]
     },
     "metadata": {},
     "output_type": "display_data"
    },
    {
     "data": {
      "text/html": [
       "<pre style=\"white-space:pre;overflow-x:auto;line-height:normal;font-family:Menlo,'DejaVu Sans Mono',consolas,'Courier New',monospace\"><span style=\"font-weight: bold\"> Trainable params: </span><span style=\"color: #00af00; text-decoration-color: #00af00\">0</span> (0.00 B)\n",
       "</pre>\n"
      ],
      "text/plain": [
       "\u001b[1m Trainable params: \u001b[0m\u001b[38;5;34m0\u001b[0m (0.00 B)\n"
      ]
     },
     "metadata": {},
     "output_type": "display_data"
    },
    {
     "data": {
      "text/html": [
       "<pre style=\"white-space:pre;overflow-x:auto;line-height:normal;font-family:Menlo,'DejaVu Sans Mono',consolas,'Courier New',monospace\"><span style=\"font-weight: bold\"> Non-trainable params: </span><span style=\"color: #00af00; text-decoration-color: #00af00\">0</span> (0.00 B)\n",
       "</pre>\n"
      ],
      "text/plain": [
       "\u001b[1m Non-trainable params: \u001b[0m\u001b[38;5;34m0\u001b[0m (0.00 B)\n"
      ]
     },
     "metadata": {},
     "output_type": "display_data"
    },
    {
     "name": "stdout",
     "output_type": "stream",
     "text": [
      "Training Keras model: NumLayers_2_Units_16_Dir_Bi\n",
      "Epoch 1/15\n",
      "10/10 - 4s - 377ms/step - accuracy: 0.3660 - loss: 1.1640 - val_accuracy: 0.3600 - val_loss: 1.0993\n",
      "Epoch 2/15\n",
      "10/10 - 0s - 48ms/step - accuracy: 0.4980 - loss: 0.9814 - val_accuracy: 0.3200 - val_loss: 1.1338\n",
      "Epoch 3/15\n",
      "10/10 - 0s - 46ms/step - accuracy: 0.7320 - loss: 0.7554 - val_accuracy: 0.3800 - val_loss: 1.1128\n",
      "Epoch 4/15\n",
      "10/10 - 0s - 46ms/step - accuracy: 0.8540 - loss: 0.5525 - val_accuracy: 0.3700 - val_loss: 1.1009\n",
      "Epoch 5/15\n",
      "10/10 - 0s - 46ms/step - accuracy: 0.9400 - loss: 0.4107 - val_accuracy: 0.4100 - val_loss: 1.1133\n",
      "Epoch 6/15\n",
      "10/10 - 0s - 48ms/step - accuracy: 0.9700 - loss: 0.2916 - val_accuracy: 0.3700 - val_loss: 1.1072\n",
      "Epoch 7/15\n",
      "10/10 - 0s - 48ms/step - accuracy: 0.9880 - loss: 0.2127 - val_accuracy: 0.4000 - val_loss: 1.1557\n",
      "Epoch 8/15\n",
      "10/10 - 0s - 48ms/step - accuracy: 0.9840 - loss: 0.1690 - val_accuracy: 0.3700 - val_loss: 1.2049\n",
      "Epoch 9/15\n",
      "10/10 - 0s - 47ms/step - accuracy: 0.9940 - loss: 0.1249 - val_accuracy: 0.3300 - val_loss: 1.2802\n",
      "Epoch 10/15\n",
      "10/10 - 0s - 46ms/step - accuracy: 1.0000 - loss: 0.0969 - val_accuracy: 0.3500 - val_loss: 1.3535\n",
      "Epoch 11/15\n",
      "10/10 - 0s - 47ms/step - accuracy: 1.0000 - loss: 0.0697 - val_accuracy: 0.3500 - val_loss: 1.3755\n",
      "Epoch 12/15\n",
      "10/10 - 0s - 48ms/step - accuracy: 1.0000 - loss: 0.0600 - val_accuracy: 0.3300 - val_loss: 1.4047\n",
      "Epoch 13/15\n",
      "10/10 - 1s - 54ms/step - accuracy: 1.0000 - loss: 0.0532 - val_accuracy: 0.3300 - val_loss: 1.4299\n",
      "Epoch 14/15\n",
      "10/10 - 0s - 48ms/step - accuracy: 1.0000 - loss: 0.0403 - val_accuracy: 0.3400 - val_loss: 1.4465\n",
      "Epoch 15/15\n",
      "10/10 - 1s - 53ms/step - accuracy: 0.9980 - loss: 0.0368 - val_accuracy: 0.3300 - val_loss: 1.4640\n",
      "Saved Keras weights to results/weights/keras_rnn_NumLayers_2_Units_16_Dir_Bi.weights.h5\n",
      "Saved plot to results/plots/experiment_NumLayers_2_Units_16_Dir_Bi_history.png\n",
      "\u001b[1m8/8\u001b[0m \u001b[32m━━━━━━━━━━━━━━━━━━━━\u001b[0m\u001b[37m\u001b[0m \u001b[1m0s\u001b[0m 9ms/step  \n",
      "[Keras - NumLayers_2_Units_16_Dir_Bi] Test Macro F1-score: 0.3829\n",
      "\n",
      "--- Comparing with Custom Model for NumLayers_2_Units_16_Dir_Bi ---\n",
      "Loaded Keras weights into custom model.\n",
      "[Custom - NumLayers_2_Units_16_Dir_Bi] Test Macro F1-score: 0.3829\n",
      "\n",
      "--- Running Experiment 5/8: NumLayers_2_Units_32_Dir_Bi ---\n"
     ]
    },
    {
     "name": "stderr",
     "output_type": "stream",
     "text": [
      "c:\\Python312\\Lib\\site-packages\\keras\\src\\layers\\core\\embedding.py:90: UserWarning: Argument `input_length` is deprecated. Just remove it.\n",
      "  warnings.warn(\n"
     ]
    },
    {
     "data": {
      "text/html": [
       "<pre style=\"white-space:pre;overflow-x:auto;line-height:normal;font-family:Menlo,'DejaVu Sans Mono',consolas,'Courier New',monospace\"><span style=\"font-weight: bold\">Model: \"sequential_4\"</span>\n",
       "</pre>\n"
      ],
      "text/plain": [
       "\u001b[1mModel: \"sequential_4\"\u001b[0m\n"
      ]
     },
     "metadata": {},
     "output_type": "display_data"
    },
    {
     "data": {
      "text/html": [
       "<pre style=\"white-space:pre;overflow-x:auto;line-height:normal;font-family:Menlo,'DejaVu Sans Mono',consolas,'Courier New',monospace\">┏━━━━━━━━━━━━━━━━━━━━━━━━━━━━━━━━━┳━━━━━━━━━━━━━━━━━━━━━━━━┳━━━━━━━━━━━━━━━┓\n",
       "┃<span style=\"font-weight: bold\"> Layer (type)                    </span>┃<span style=\"font-weight: bold\"> Output Shape           </span>┃<span style=\"font-weight: bold\">       Param # </span>┃\n",
       "┡━━━━━━━━━━━━━━━━━━━━━━━━━━━━━━━━━╇━━━━━━━━━━━━━━━━━━━━━━━━╇━━━━━━━━━━━━━━━┩\n",
       "│ embedding (<span style=\"color: #0087ff; text-decoration-color: #0087ff\">Embedding</span>)           │ ?                      │   <span style=\"color: #00af00; text-decoration-color: #00af00\">0</span> (unbuilt) │\n",
       "├─────────────────────────────────┼────────────────────────┼───────────────┤\n",
       "│ bisimplernn_0_bidir             │ ?                      │   <span style=\"color: #00af00; text-decoration-color: #00af00\">0</span> (unbuilt) │\n",
       "│ (<span style=\"color: #0087ff; text-decoration-color: #0087ff\">Bidirectional</span>)                 │                        │               │\n",
       "├─────────────────────────────────┼────────────────────────┼───────────────┤\n",
       "│ bisimplernn_1_bidir             │ ?                      │   <span style=\"color: #00af00; text-decoration-color: #00af00\">0</span> (unbuilt) │\n",
       "│ (<span style=\"color: #0087ff; text-decoration-color: #0087ff\">Bidirectional</span>)                 │                        │               │\n",
       "├─────────────────────────────────┼────────────────────────┼───────────────┤\n",
       "│ dropout (<span style=\"color: #0087ff; text-decoration-color: #0087ff\">Dropout</span>)               │ ?                      │             <span style=\"color: #00af00; text-decoration-color: #00af00\">0</span> │\n",
       "├─────────────────────────────────┼────────────────────────┼───────────────┤\n",
       "│ output (<span style=\"color: #0087ff; text-decoration-color: #0087ff\">Dense</span>)                  │ ?                      │   <span style=\"color: #00af00; text-decoration-color: #00af00\">0</span> (unbuilt) │\n",
       "└─────────────────────────────────┴────────────────────────┴───────────────┘\n",
       "</pre>\n"
      ],
      "text/plain": [
       "┏━━━━━━━━━━━━━━━━━━━━━━━━━━━━━━━━━┳━━━━━━━━━━━━━━━━━━━━━━━━┳━━━━━━━━━━━━━━━┓\n",
       "┃\u001b[1m \u001b[0m\u001b[1mLayer (type)                   \u001b[0m\u001b[1m \u001b[0m┃\u001b[1m \u001b[0m\u001b[1mOutput Shape          \u001b[0m\u001b[1m \u001b[0m┃\u001b[1m \u001b[0m\u001b[1m      Param #\u001b[0m\u001b[1m \u001b[0m┃\n",
       "┡━━━━━━━━━━━━━━━━━━━━━━━━━━━━━━━━━╇━━━━━━━━━━━━━━━━━━━━━━━━╇━━━━━━━━━━━━━━━┩\n",
       "│ embedding (\u001b[38;5;33mEmbedding\u001b[0m)           │ ?                      │   \u001b[38;5;34m0\u001b[0m (unbuilt) │\n",
       "├─────────────────────────────────┼────────────────────────┼───────────────┤\n",
       "│ bisimplernn_0_bidir             │ ?                      │   \u001b[38;5;34m0\u001b[0m (unbuilt) │\n",
       "│ (\u001b[38;5;33mBidirectional\u001b[0m)                 │                        │               │\n",
       "├─────────────────────────────────┼────────────────────────┼───────────────┤\n",
       "│ bisimplernn_1_bidir             │ ?                      │   \u001b[38;5;34m0\u001b[0m (unbuilt) │\n",
       "│ (\u001b[38;5;33mBidirectional\u001b[0m)                 │                        │               │\n",
       "├─────────────────────────────────┼────────────────────────┼───────────────┤\n",
       "│ dropout (\u001b[38;5;33mDropout\u001b[0m)               │ ?                      │             \u001b[38;5;34m0\u001b[0m │\n",
       "├─────────────────────────────────┼────────────────────────┼───────────────┤\n",
       "│ output (\u001b[38;5;33mDense\u001b[0m)                  │ ?                      │   \u001b[38;5;34m0\u001b[0m (unbuilt) │\n",
       "└─────────────────────────────────┴────────────────────────┴───────────────┘\n"
      ]
     },
     "metadata": {},
     "output_type": "display_data"
    },
    {
     "data": {
      "text/html": [
       "<pre style=\"white-space:pre;overflow-x:auto;line-height:normal;font-family:Menlo,'DejaVu Sans Mono',consolas,'Courier New',monospace\"><span style=\"font-weight: bold\"> Total params: </span><span style=\"color: #00af00; text-decoration-color: #00af00\">0</span> (0.00 B)\n",
       "</pre>\n"
      ],
      "text/plain": [
       "\u001b[1m Total params: \u001b[0m\u001b[38;5;34m0\u001b[0m (0.00 B)\n"
      ]
     },
     "metadata": {},
     "output_type": "display_data"
    },
    {
     "data": {
      "text/html": [
       "<pre style=\"white-space:pre;overflow-x:auto;line-height:normal;font-family:Menlo,'DejaVu Sans Mono',consolas,'Courier New',monospace\"><span style=\"font-weight: bold\"> Trainable params: </span><span style=\"color: #00af00; text-decoration-color: #00af00\">0</span> (0.00 B)\n",
       "</pre>\n"
      ],
      "text/plain": [
       "\u001b[1m Trainable params: \u001b[0m\u001b[38;5;34m0\u001b[0m (0.00 B)\n"
      ]
     },
     "metadata": {},
     "output_type": "display_data"
    },
    {
     "data": {
      "text/html": [
       "<pre style=\"white-space:pre;overflow-x:auto;line-height:normal;font-family:Menlo,'DejaVu Sans Mono',consolas,'Courier New',monospace\"><span style=\"font-weight: bold\"> Non-trainable params: </span><span style=\"color: #00af00; text-decoration-color: #00af00\">0</span> (0.00 B)\n",
       "</pre>\n"
      ],
      "text/plain": [
       "\u001b[1m Non-trainable params: \u001b[0m\u001b[38;5;34m0\u001b[0m (0.00 B)\n"
      ]
     },
     "metadata": {},
     "output_type": "display_data"
    },
    {
     "name": "stdout",
     "output_type": "stream",
     "text": [
      "Training Keras model: NumLayers_2_Units_32_Dir_Bi\n",
      "Epoch 1/15\n",
      "10/10 - 4s - 445ms/step - accuracy: 0.4240 - loss: 1.1267 - val_accuracy: 0.4700 - val_loss: 1.0620\n",
      "Epoch 2/15\n",
      "10/10 - 1s - 57ms/step - accuracy: 0.6620 - loss: 0.8228 - val_accuracy: 0.5400 - val_loss: 1.0155\n",
      "Epoch 3/15\n",
      "10/10 - 1s - 55ms/step - accuracy: 0.8260 - loss: 0.5568 - val_accuracy: 0.5500 - val_loss: 0.9824\n",
      "Epoch 4/15\n",
      "10/10 - 1s - 53ms/step - accuracy: 0.9440 - loss: 0.3210 - val_accuracy: 0.5200 - val_loss: 0.9883\n",
      "Epoch 5/15\n",
      "10/10 - 1s - 53ms/step - accuracy: 0.9880 - loss: 0.1582 - val_accuracy: 0.4700 - val_loss: 1.1114\n",
      "Epoch 6/15\n",
      "10/10 - 1s - 54ms/step - accuracy: 0.9960 - loss: 0.0907 - val_accuracy: 0.5200 - val_loss: 1.0909\n",
      "Epoch 7/15\n",
      "10/10 - 1s - 53ms/step - accuracy: 1.0000 - loss: 0.0461 - val_accuracy: 0.5000 - val_loss: 1.1401\n",
      "Epoch 8/15\n",
      "10/10 - 1s - 53ms/step - accuracy: 1.0000 - loss: 0.0275 - val_accuracy: 0.5100 - val_loss: 1.1391\n",
      "Epoch 9/15\n",
      "10/10 - 1s - 53ms/step - accuracy: 1.0000 - loss: 0.0195 - val_accuracy: 0.5100 - val_loss: 1.1599\n",
      "Epoch 10/15\n",
      "10/10 - 1s - 54ms/step - accuracy: 1.0000 - loss: 0.0158 - val_accuracy: 0.5200 - val_loss: 1.2070\n",
      "Epoch 11/15\n",
      "10/10 - 1s - 54ms/step - accuracy: 1.0000 - loss: 0.0129 - val_accuracy: 0.5400 - val_loss: 1.1916\n",
      "Epoch 12/15\n",
      "10/10 - 1s - 53ms/step - accuracy: 1.0000 - loss: 0.0115 - val_accuracy: 0.5000 - val_loss: 1.1838\n",
      "Epoch 13/15\n",
      "10/10 - 1s - 53ms/step - accuracy: 1.0000 - loss: 0.0091 - val_accuracy: 0.5300 - val_loss: 1.2004\n",
      "Epoch 14/15\n",
      "10/10 - 1s - 54ms/step - accuracy: 1.0000 - loss: 0.0081 - val_accuracy: 0.5200 - val_loss: 1.2218\n",
      "Epoch 15/15\n",
      "10/10 - 1s - 54ms/step - accuracy: 1.0000 - loss: 0.0060 - val_accuracy: 0.5200 - val_loss: 1.2442\n",
      "Saved Keras weights to results/weights/keras_rnn_NumLayers_2_Units_32_Dir_Bi.weights.h5\n",
      "Saved plot to results/plots/experiment_NumLayers_2_Units_32_Dir_Bi_history.png\n",
      "\u001b[1m8/8\u001b[0m \u001b[32m━━━━━━━━━━━━━━━━━━━━\u001b[0m\u001b[37m\u001b[0m \u001b[1m0s\u001b[0m 14ms/step\n",
      "[Keras - NumLayers_2_Units_32_Dir_Bi] Test Macro F1-score: 0.5267\n",
      "\n",
      "--- Comparing with Custom Model for NumLayers_2_Units_32_Dir_Bi ---\n",
      "Loaded Keras weights into custom model.\n",
      "[Custom - NumLayers_2_Units_32_Dir_Bi] Test Macro F1-score: 0.5267\n",
      "\n",
      "--- Running Experiment 6/8: NumLayers_2_Units_64_Dir_Bi ---\n"
     ]
    },
    {
     "name": "stderr",
     "output_type": "stream",
     "text": [
      "c:\\Python312\\Lib\\site-packages\\keras\\src\\layers\\core\\embedding.py:90: UserWarning: Argument `input_length` is deprecated. Just remove it.\n",
      "  warnings.warn(\n"
     ]
    },
    {
     "data": {
      "text/html": [
       "<pre style=\"white-space:pre;overflow-x:auto;line-height:normal;font-family:Menlo,'DejaVu Sans Mono',consolas,'Courier New',monospace\"><span style=\"font-weight: bold\">Model: \"sequential_5\"</span>\n",
       "</pre>\n"
      ],
      "text/plain": [
       "\u001b[1mModel: \"sequential_5\"\u001b[0m\n"
      ]
     },
     "metadata": {},
     "output_type": "display_data"
    },
    {
     "data": {
      "text/html": [
       "<pre style=\"white-space:pre;overflow-x:auto;line-height:normal;font-family:Menlo,'DejaVu Sans Mono',consolas,'Courier New',monospace\">┏━━━━━━━━━━━━━━━━━━━━━━━━━━━━━━━━━┳━━━━━━━━━━━━━━━━━━━━━━━━┳━━━━━━━━━━━━━━━┓\n",
       "┃<span style=\"font-weight: bold\"> Layer (type)                    </span>┃<span style=\"font-weight: bold\"> Output Shape           </span>┃<span style=\"font-weight: bold\">       Param # </span>┃\n",
       "┡━━━━━━━━━━━━━━━━━━━━━━━━━━━━━━━━━╇━━━━━━━━━━━━━━━━━━━━━━━━╇━━━━━━━━━━━━━━━┩\n",
       "│ embedding (<span style=\"color: #0087ff; text-decoration-color: #0087ff\">Embedding</span>)           │ ?                      │   <span style=\"color: #00af00; text-decoration-color: #00af00\">0</span> (unbuilt) │\n",
       "├─────────────────────────────────┼────────────────────────┼───────────────┤\n",
       "│ bisimplernn_0_bidir             │ ?                      │   <span style=\"color: #00af00; text-decoration-color: #00af00\">0</span> (unbuilt) │\n",
       "│ (<span style=\"color: #0087ff; text-decoration-color: #0087ff\">Bidirectional</span>)                 │                        │               │\n",
       "├─────────────────────────────────┼────────────────────────┼───────────────┤\n",
       "│ bisimplernn_1_bidir             │ ?                      │   <span style=\"color: #00af00; text-decoration-color: #00af00\">0</span> (unbuilt) │\n",
       "│ (<span style=\"color: #0087ff; text-decoration-color: #0087ff\">Bidirectional</span>)                 │                        │               │\n",
       "├─────────────────────────────────┼────────────────────────┼───────────────┤\n",
       "│ dropout (<span style=\"color: #0087ff; text-decoration-color: #0087ff\">Dropout</span>)               │ ?                      │             <span style=\"color: #00af00; text-decoration-color: #00af00\">0</span> │\n",
       "├─────────────────────────────────┼────────────────────────┼───────────────┤\n",
       "│ output (<span style=\"color: #0087ff; text-decoration-color: #0087ff\">Dense</span>)                  │ ?                      │   <span style=\"color: #00af00; text-decoration-color: #00af00\">0</span> (unbuilt) │\n",
       "└─────────────────────────────────┴────────────────────────┴───────────────┘\n",
       "</pre>\n"
      ],
      "text/plain": [
       "┏━━━━━━━━━━━━━━━━━━━━━━━━━━━━━━━━━┳━━━━━━━━━━━━━━━━━━━━━━━━┳━━━━━━━━━━━━━━━┓\n",
       "┃\u001b[1m \u001b[0m\u001b[1mLayer (type)                   \u001b[0m\u001b[1m \u001b[0m┃\u001b[1m \u001b[0m\u001b[1mOutput Shape          \u001b[0m\u001b[1m \u001b[0m┃\u001b[1m \u001b[0m\u001b[1m      Param #\u001b[0m\u001b[1m \u001b[0m┃\n",
       "┡━━━━━━━━━━━━━━━━━━━━━━━━━━━━━━━━━╇━━━━━━━━━━━━━━━━━━━━━━━━╇━━━━━━━━━━━━━━━┩\n",
       "│ embedding (\u001b[38;5;33mEmbedding\u001b[0m)           │ ?                      │   \u001b[38;5;34m0\u001b[0m (unbuilt) │\n",
       "├─────────────────────────────────┼────────────────────────┼───────────────┤\n",
       "│ bisimplernn_0_bidir             │ ?                      │   \u001b[38;5;34m0\u001b[0m (unbuilt) │\n",
       "│ (\u001b[38;5;33mBidirectional\u001b[0m)                 │                        │               │\n",
       "├─────────────────────────────────┼────────────────────────┼───────────────┤\n",
       "│ bisimplernn_1_bidir             │ ?                      │   \u001b[38;5;34m0\u001b[0m (unbuilt) │\n",
       "│ (\u001b[38;5;33mBidirectional\u001b[0m)                 │                        │               │\n",
       "├─────────────────────────────────┼────────────────────────┼───────────────┤\n",
       "│ dropout (\u001b[38;5;33mDropout\u001b[0m)               │ ?                      │             \u001b[38;5;34m0\u001b[0m │\n",
       "├─────────────────────────────────┼────────────────────────┼───────────────┤\n",
       "│ output (\u001b[38;5;33mDense\u001b[0m)                  │ ?                      │   \u001b[38;5;34m0\u001b[0m (unbuilt) │\n",
       "└─────────────────────────────────┴────────────────────────┴───────────────┘\n"
      ]
     },
     "metadata": {},
     "output_type": "display_data"
    },
    {
     "data": {
      "text/html": [
       "<pre style=\"white-space:pre;overflow-x:auto;line-height:normal;font-family:Menlo,'DejaVu Sans Mono',consolas,'Courier New',monospace\"><span style=\"font-weight: bold\"> Total params: </span><span style=\"color: #00af00; text-decoration-color: #00af00\">0</span> (0.00 B)\n",
       "</pre>\n"
      ],
      "text/plain": [
       "\u001b[1m Total params: \u001b[0m\u001b[38;5;34m0\u001b[0m (0.00 B)\n"
      ]
     },
     "metadata": {},
     "output_type": "display_data"
    },
    {
     "data": {
      "text/html": [
       "<pre style=\"white-space:pre;overflow-x:auto;line-height:normal;font-family:Menlo,'DejaVu Sans Mono',consolas,'Courier New',monospace\"><span style=\"font-weight: bold\"> Trainable params: </span><span style=\"color: #00af00; text-decoration-color: #00af00\">0</span> (0.00 B)\n",
       "</pre>\n"
      ],
      "text/plain": [
       "\u001b[1m Trainable params: \u001b[0m\u001b[38;5;34m0\u001b[0m (0.00 B)\n"
      ]
     },
     "metadata": {},
     "output_type": "display_data"
    },
    {
     "data": {
      "text/html": [
       "<pre style=\"white-space:pre;overflow-x:auto;line-height:normal;font-family:Menlo,'DejaVu Sans Mono',consolas,'Courier New',monospace\"><span style=\"font-weight: bold\"> Non-trainable params: </span><span style=\"color: #00af00; text-decoration-color: #00af00\">0</span> (0.00 B)\n",
       "</pre>\n"
      ],
      "text/plain": [
       "\u001b[1m Non-trainable params: \u001b[0m\u001b[38;5;34m0\u001b[0m (0.00 B)\n"
      ]
     },
     "metadata": {},
     "output_type": "display_data"
    },
    {
     "name": "stdout",
     "output_type": "stream",
     "text": [
      "Training Keras model: NumLayers_2_Units_64_Dir_Bi\n",
      "Epoch 1/15\n",
      "10/10 - 4s - 429ms/step - accuracy: 0.3700 - loss: 1.1795 - val_accuracy: 0.4400 - val_loss: 1.0763\n",
      "Epoch 2/15\n",
      "10/10 - 1s - 59ms/step - accuracy: 0.6520 - loss: 0.8520 - val_accuracy: 0.5300 - val_loss: 1.0252\n",
      "Epoch 3/15\n",
      "10/10 - 1s - 60ms/step - accuracy: 0.8200 - loss: 0.5289 - val_accuracy: 0.4700 - val_loss: 1.1108\n",
      "Epoch 4/15\n",
      "10/10 - 1s - 59ms/step - accuracy: 0.9580 - loss: 0.2281 - val_accuracy: 0.5000 - val_loss: 1.1712\n",
      "Epoch 5/15\n",
      "10/10 - 1s - 62ms/step - accuracy: 0.9980 - loss: 0.0719 - val_accuracy: 0.5000 - val_loss: 1.2601\n",
      "Epoch 6/15\n",
      "10/10 - 1s - 64ms/step - accuracy: 1.0000 - loss: 0.0260 - val_accuracy: 0.4500 - val_loss: 1.3505\n",
      "Epoch 7/15\n",
      "10/10 - 1s - 60ms/step - accuracy: 1.0000 - loss: 0.0145 - val_accuracy: 0.4600 - val_loss: 1.4066\n",
      "Epoch 8/15\n",
      "10/10 - 1s - 59ms/step - accuracy: 1.0000 - loss: 0.0083 - val_accuracy: 0.4700 - val_loss: 1.3917\n",
      "Epoch 9/15\n",
      "10/10 - 1s - 59ms/step - accuracy: 1.0000 - loss: 0.0065 - val_accuracy: 0.4700 - val_loss: 1.4390\n",
      "Epoch 10/15\n",
      "10/10 - 1s - 59ms/step - accuracy: 1.0000 - loss: 0.0050 - val_accuracy: 0.4600 - val_loss: 1.4608\n",
      "Epoch 11/15\n",
      "10/10 - 1s - 60ms/step - accuracy: 1.0000 - loss: 0.0037 - val_accuracy: 0.4500 - val_loss: 1.4763\n",
      "Epoch 12/15\n",
      "10/10 - 1s - 59ms/step - accuracy: 1.0000 - loss: 0.0034 - val_accuracy: 0.4600 - val_loss: 1.4714\n",
      "Epoch 13/15\n",
      "10/10 - 1s - 59ms/step - accuracy: 1.0000 - loss: 0.0026 - val_accuracy: 0.4700 - val_loss: 1.4790\n",
      "Epoch 14/15\n",
      "10/10 - 1s - 60ms/step - accuracy: 1.0000 - loss: 0.0022 - val_accuracy: 0.4700 - val_loss: 1.5019\n",
      "Epoch 15/15\n",
      "10/10 - 1s - 62ms/step - accuracy: 1.0000 - loss: 0.0019 - val_accuracy: 0.4700 - val_loss: 1.5175\n",
      "Saved Keras weights to results/weights/keras_rnn_NumLayers_2_Units_64_Dir_Bi.weights.h5\n",
      "Saved plot to results/plots/experiment_NumLayers_2_Units_64_Dir_Bi_history.png\n",
      "\u001b[1m8/8\u001b[0m \u001b[32m━━━━━━━━━━━━━━━━━━━━\u001b[0m\u001b[37m\u001b[0m \u001b[1m0s\u001b[0m 13ms/step\n",
      "[Keras - NumLayers_2_Units_64_Dir_Bi] Test Macro F1-score: 0.3929\n",
      "\n",
      "--- Comparing with Custom Model for NumLayers_2_Units_64_Dir_Bi ---\n",
      "Loaded Keras weights into custom model.\n",
      "[Custom - NumLayers_2_Units_64_Dir_Bi] Test Macro F1-score: 0.3929\n",
      "\n",
      "--- Running Experiment 7/8: NumLayers_2_Units_32_Dir_Uni ---\n"
     ]
    },
    {
     "name": "stderr",
     "output_type": "stream",
     "text": [
      "c:\\Python312\\Lib\\site-packages\\keras\\src\\layers\\core\\embedding.py:90: UserWarning: Argument `input_length` is deprecated. Just remove it.\n",
      "  warnings.warn(\n"
     ]
    },
    {
     "data": {
      "text/html": [
       "<pre style=\"white-space:pre;overflow-x:auto;line-height:normal;font-family:Menlo,'DejaVu Sans Mono',consolas,'Courier New',monospace\"><span style=\"font-weight: bold\">Model: \"sequential_6\"</span>\n",
       "</pre>\n"
      ],
      "text/plain": [
       "\u001b[1mModel: \"sequential_6\"\u001b[0m\n"
      ]
     },
     "metadata": {},
     "output_type": "display_data"
    },
    {
     "data": {
      "text/html": [
       "<pre style=\"white-space:pre;overflow-x:auto;line-height:normal;font-family:Menlo,'DejaVu Sans Mono',consolas,'Courier New',monospace\">┏━━━━━━━━━━━━━━━━━━━━━━━━━━━━━━━━━┳━━━━━━━━━━━━━━━━━━━━━━━━┳━━━━━━━━━━━━━━━┓\n",
       "┃<span style=\"font-weight: bold\"> Layer (type)                    </span>┃<span style=\"font-weight: bold\"> Output Shape           </span>┃<span style=\"font-weight: bold\">       Param # </span>┃\n",
       "┡━━━━━━━━━━━━━━━━━━━━━━━━━━━━━━━━━╇━━━━━━━━━━━━━━━━━━━━━━━━╇━━━━━━━━━━━━━━━┩\n",
       "│ embedding (<span style=\"color: #0087ff; text-decoration-color: #0087ff\">Embedding</span>)           │ ?                      │   <span style=\"color: #00af00; text-decoration-color: #00af00\">0</span> (unbuilt) │\n",
       "├─────────────────────────────────┼────────────────────────┼───────────────┤\n",
       "│ simplernn_0_simplernn           │ ?                      │   <span style=\"color: #00af00; text-decoration-color: #00af00\">0</span> (unbuilt) │\n",
       "│ (<span style=\"color: #0087ff; text-decoration-color: #0087ff\">SimpleRNN</span>)                     │                        │               │\n",
       "├─────────────────────────────────┼────────────────────────┼───────────────┤\n",
       "│ simplernn_1_simplernn           │ ?                      │   <span style=\"color: #00af00; text-decoration-color: #00af00\">0</span> (unbuilt) │\n",
       "│ (<span style=\"color: #0087ff; text-decoration-color: #0087ff\">SimpleRNN</span>)                     │                        │               │\n",
       "├─────────────────────────────────┼────────────────────────┼───────────────┤\n",
       "│ dropout (<span style=\"color: #0087ff; text-decoration-color: #0087ff\">Dropout</span>)               │ ?                      │             <span style=\"color: #00af00; text-decoration-color: #00af00\">0</span> │\n",
       "├─────────────────────────────────┼────────────────────────┼───────────────┤\n",
       "│ output (<span style=\"color: #0087ff; text-decoration-color: #0087ff\">Dense</span>)                  │ ?                      │   <span style=\"color: #00af00; text-decoration-color: #00af00\">0</span> (unbuilt) │\n",
       "└─────────────────────────────────┴────────────────────────┴───────────────┘\n",
       "</pre>\n"
      ],
      "text/plain": [
       "┏━━━━━━━━━━━━━━━━━━━━━━━━━━━━━━━━━┳━━━━━━━━━━━━━━━━━━━━━━━━┳━━━━━━━━━━━━━━━┓\n",
       "┃\u001b[1m \u001b[0m\u001b[1mLayer (type)                   \u001b[0m\u001b[1m \u001b[0m┃\u001b[1m \u001b[0m\u001b[1mOutput Shape          \u001b[0m\u001b[1m \u001b[0m┃\u001b[1m \u001b[0m\u001b[1m      Param #\u001b[0m\u001b[1m \u001b[0m┃\n",
       "┡━━━━━━━━━━━━━━━━━━━━━━━━━━━━━━━━━╇━━━━━━━━━━━━━━━━━━━━━━━━╇━━━━━━━━━━━━━━━┩\n",
       "│ embedding (\u001b[38;5;33mEmbedding\u001b[0m)           │ ?                      │   \u001b[38;5;34m0\u001b[0m (unbuilt) │\n",
       "├─────────────────────────────────┼────────────────────────┼───────────────┤\n",
       "│ simplernn_0_simplernn           │ ?                      │   \u001b[38;5;34m0\u001b[0m (unbuilt) │\n",
       "│ (\u001b[38;5;33mSimpleRNN\u001b[0m)                     │                        │               │\n",
       "├─────────────────────────────────┼────────────────────────┼───────────────┤\n",
       "│ simplernn_1_simplernn           │ ?                      │   \u001b[38;5;34m0\u001b[0m (unbuilt) │\n",
       "│ (\u001b[38;5;33mSimpleRNN\u001b[0m)                     │                        │               │\n",
       "├─────────────────────────────────┼────────────────────────┼───────────────┤\n",
       "│ dropout (\u001b[38;5;33mDropout\u001b[0m)               │ ?                      │             \u001b[38;5;34m0\u001b[0m │\n",
       "├─────────────────────────────────┼────────────────────────┼───────────────┤\n",
       "│ output (\u001b[38;5;33mDense\u001b[0m)                  │ ?                      │   \u001b[38;5;34m0\u001b[0m (unbuilt) │\n",
       "└─────────────────────────────────┴────────────────────────┴───────────────┘\n"
      ]
     },
     "metadata": {},
     "output_type": "display_data"
    },
    {
     "data": {
      "text/html": [
       "<pre style=\"white-space:pre;overflow-x:auto;line-height:normal;font-family:Menlo,'DejaVu Sans Mono',consolas,'Courier New',monospace\"><span style=\"font-weight: bold\"> Total params: </span><span style=\"color: #00af00; text-decoration-color: #00af00\">0</span> (0.00 B)\n",
       "</pre>\n"
      ],
      "text/plain": [
       "\u001b[1m Total params: \u001b[0m\u001b[38;5;34m0\u001b[0m (0.00 B)\n"
      ]
     },
     "metadata": {},
     "output_type": "display_data"
    },
    {
     "data": {
      "text/html": [
       "<pre style=\"white-space:pre;overflow-x:auto;line-height:normal;font-family:Menlo,'DejaVu Sans Mono',consolas,'Courier New',monospace\"><span style=\"font-weight: bold\"> Trainable params: </span><span style=\"color: #00af00; text-decoration-color: #00af00\">0</span> (0.00 B)\n",
       "</pre>\n"
      ],
      "text/plain": [
       "\u001b[1m Trainable params: \u001b[0m\u001b[38;5;34m0\u001b[0m (0.00 B)\n"
      ]
     },
     "metadata": {},
     "output_type": "display_data"
    },
    {
     "data": {
      "text/html": [
       "<pre style=\"white-space:pre;overflow-x:auto;line-height:normal;font-family:Menlo,'DejaVu Sans Mono',consolas,'Courier New',monospace\"><span style=\"font-weight: bold\"> Non-trainable params: </span><span style=\"color: #00af00; text-decoration-color: #00af00\">0</span> (0.00 B)\n",
       "</pre>\n"
      ],
      "text/plain": [
       "\u001b[1m Non-trainable params: \u001b[0m\u001b[38;5;34m0\u001b[0m (0.00 B)\n"
      ]
     },
     "metadata": {},
     "output_type": "display_data"
    },
    {
     "name": "stdout",
     "output_type": "stream",
     "text": [
      "Training Keras model: NumLayers_2_Units_32_Dir_Uni\n",
      "Epoch 1/15\n",
      "10/10 - 3s - 250ms/step - accuracy: 0.3820 - loss: 1.1230 - val_accuracy: 0.5400 - val_loss: 1.0131\n",
      "Epoch 2/15\n",
      "10/10 - 0s - 43ms/step - accuracy: 0.5380 - loss: 0.9188 - val_accuracy: 0.4600 - val_loss: 1.0058\n",
      "Epoch 3/15\n",
      "10/10 - 0s - 40ms/step - accuracy: 0.6860 - loss: 0.7615 - val_accuracy: 0.5600 - val_loss: 0.9142\n",
      "Epoch 4/15\n",
      "10/10 - 0s - 40ms/step - accuracy: 0.8400 - loss: 0.5420 - val_accuracy: 0.5200 - val_loss: 0.9118\n",
      "Epoch 5/15\n",
      "10/10 - 0s - 40ms/step - accuracy: 0.9440 - loss: 0.3467 - val_accuracy: 0.5100 - val_loss: 0.9560\n",
      "Epoch 6/15\n",
      "10/10 - 0s - 39ms/step - accuracy: 0.9880 - loss: 0.2162 - val_accuracy: 0.5800 - val_loss: 0.9791\n",
      "Epoch 7/15\n",
      "10/10 - 0s - 41ms/step - accuracy: 0.9980 - loss: 0.1278 - val_accuracy: 0.5200 - val_loss: 1.1426\n",
      "Epoch 8/15\n",
      "10/10 - 0s - 45ms/step - accuracy: 0.9980 - loss: 0.1051 - val_accuracy: 0.5700 - val_loss: 1.1206\n",
      "Epoch 9/15\n",
      "10/10 - 0s - 45ms/step - accuracy: 0.9980 - loss: 0.0749 - val_accuracy: 0.5500 - val_loss: 1.1572\n",
      "Epoch 10/15\n",
      "10/10 - 0s - 45ms/step - accuracy: 0.9980 - loss: 0.0598 - val_accuracy: 0.5700 - val_loss: 1.2064\n",
      "Epoch 11/15\n",
      "10/10 - 0s - 42ms/step - accuracy: 1.0000 - loss: 0.0496 - val_accuracy: 0.5700 - val_loss: 1.2691\n",
      "Epoch 12/15\n",
      "10/10 - 0s - 40ms/step - accuracy: 1.0000 - loss: 0.0387 - val_accuracy: 0.5500 - val_loss: 1.2323\n",
      "Epoch 13/15\n",
      "10/10 - 0s - 40ms/step - accuracy: 1.0000 - loss: 0.0356 - val_accuracy: 0.5600 - val_loss: 1.2763\n",
      "Epoch 14/15\n",
      "10/10 - 0s - 41ms/step - accuracy: 1.0000 - loss: 0.0319 - val_accuracy: 0.5600 - val_loss: 1.3371\n",
      "Epoch 15/15\n",
      "10/10 - 0s - 39ms/step - accuracy: 1.0000 - loss: 0.0230 - val_accuracy: 0.5800 - val_loss: 1.3267\n",
      "Saved Keras weights to results/weights/keras_rnn_NumLayers_2_Units_32_Dir_Uni.weights.h5\n",
      "Saved plot to results/plots/experiment_NumLayers_2_Units_32_Dir_Uni_history.png\n",
      "\u001b[1m8/8\u001b[0m \u001b[32m━━━━━━━━━━━━━━━━━━━━\u001b[0m\u001b[37m\u001b[0m \u001b[1m0s\u001b[0m 7ms/step  \n",
      "[Keras - NumLayers_2_Units_32_Dir_Uni] Test Macro F1-score: 0.4883\n",
      "\n",
      "--- Comparing with Custom Model for NumLayers_2_Units_32_Dir_Uni ---\n",
      "Loaded Keras weights into custom model.\n",
      "[Custom - NumLayers_2_Units_32_Dir_Uni] Test Macro F1-score: 0.4883\n",
      "\n",
      "--- Running Experiment 8/8: NumLayers_2_Units_32_Dir_Bi ---\n"
     ]
    },
    {
     "name": "stderr",
     "output_type": "stream",
     "text": [
      "c:\\Python312\\Lib\\site-packages\\keras\\src\\layers\\core\\embedding.py:90: UserWarning: Argument `input_length` is deprecated. Just remove it.\n",
      "  warnings.warn(\n"
     ]
    },
    {
     "data": {
      "text/html": [
       "<pre style=\"white-space:pre;overflow-x:auto;line-height:normal;font-family:Menlo,'DejaVu Sans Mono',consolas,'Courier New',monospace\"><span style=\"font-weight: bold\">Model: \"sequential_7\"</span>\n",
       "</pre>\n"
      ],
      "text/plain": [
       "\u001b[1mModel: \"sequential_7\"\u001b[0m\n"
      ]
     },
     "metadata": {},
     "output_type": "display_data"
    },
    {
     "data": {
      "text/html": [
       "<pre style=\"white-space:pre;overflow-x:auto;line-height:normal;font-family:Menlo,'DejaVu Sans Mono',consolas,'Courier New',monospace\">┏━━━━━━━━━━━━━━━━━━━━━━━━━━━━━━━━━┳━━━━━━━━━━━━━━━━━━━━━━━━┳━━━━━━━━━━━━━━━┓\n",
       "┃<span style=\"font-weight: bold\"> Layer (type)                    </span>┃<span style=\"font-weight: bold\"> Output Shape           </span>┃<span style=\"font-weight: bold\">       Param # </span>┃\n",
       "┡━━━━━━━━━━━━━━━━━━━━━━━━━━━━━━━━━╇━━━━━━━━━━━━━━━━━━━━━━━━╇━━━━━━━━━━━━━━━┩\n",
       "│ embedding (<span style=\"color: #0087ff; text-decoration-color: #0087ff\">Embedding</span>)           │ ?                      │   <span style=\"color: #00af00; text-decoration-color: #00af00\">0</span> (unbuilt) │\n",
       "├─────────────────────────────────┼────────────────────────┼───────────────┤\n",
       "│ bisimplernn_0_bidir             │ ?                      │   <span style=\"color: #00af00; text-decoration-color: #00af00\">0</span> (unbuilt) │\n",
       "│ (<span style=\"color: #0087ff; text-decoration-color: #0087ff\">Bidirectional</span>)                 │                        │               │\n",
       "├─────────────────────────────────┼────────────────────────┼───────────────┤\n",
       "│ bisimplernn_1_bidir             │ ?                      │   <span style=\"color: #00af00; text-decoration-color: #00af00\">0</span> (unbuilt) │\n",
       "│ (<span style=\"color: #0087ff; text-decoration-color: #0087ff\">Bidirectional</span>)                 │                        │               │\n",
       "├─────────────────────────────────┼────────────────────────┼───────────────┤\n",
       "│ dropout (<span style=\"color: #0087ff; text-decoration-color: #0087ff\">Dropout</span>)               │ ?                      │             <span style=\"color: #00af00; text-decoration-color: #00af00\">0</span> │\n",
       "├─────────────────────────────────┼────────────────────────┼───────────────┤\n",
       "│ output (<span style=\"color: #0087ff; text-decoration-color: #0087ff\">Dense</span>)                  │ ?                      │   <span style=\"color: #00af00; text-decoration-color: #00af00\">0</span> (unbuilt) │\n",
       "└─────────────────────────────────┴────────────────────────┴───────────────┘\n",
       "</pre>\n"
      ],
      "text/plain": [
       "┏━━━━━━━━━━━━━━━━━━━━━━━━━━━━━━━━━┳━━━━━━━━━━━━━━━━━━━━━━━━┳━━━━━━━━━━━━━━━┓\n",
       "┃\u001b[1m \u001b[0m\u001b[1mLayer (type)                   \u001b[0m\u001b[1m \u001b[0m┃\u001b[1m \u001b[0m\u001b[1mOutput Shape          \u001b[0m\u001b[1m \u001b[0m┃\u001b[1m \u001b[0m\u001b[1m      Param #\u001b[0m\u001b[1m \u001b[0m┃\n",
       "┡━━━━━━━━━━━━━━━━━━━━━━━━━━━━━━━━━╇━━━━━━━━━━━━━━━━━━━━━━━━╇━━━━━━━━━━━━━━━┩\n",
       "│ embedding (\u001b[38;5;33mEmbedding\u001b[0m)           │ ?                      │   \u001b[38;5;34m0\u001b[0m (unbuilt) │\n",
       "├─────────────────────────────────┼────────────────────────┼───────────────┤\n",
       "│ bisimplernn_0_bidir             │ ?                      │   \u001b[38;5;34m0\u001b[0m (unbuilt) │\n",
       "│ (\u001b[38;5;33mBidirectional\u001b[0m)                 │                        │               │\n",
       "├─────────────────────────────────┼────────────────────────┼───────────────┤\n",
       "│ bisimplernn_1_bidir             │ ?                      │   \u001b[38;5;34m0\u001b[0m (unbuilt) │\n",
       "│ (\u001b[38;5;33mBidirectional\u001b[0m)                 │                        │               │\n",
       "├─────────────────────────────────┼────────────────────────┼───────────────┤\n",
       "│ dropout (\u001b[38;5;33mDropout\u001b[0m)               │ ?                      │             \u001b[38;5;34m0\u001b[0m │\n",
       "├─────────────────────────────────┼────────────────────────┼───────────────┤\n",
       "│ output (\u001b[38;5;33mDense\u001b[0m)                  │ ?                      │   \u001b[38;5;34m0\u001b[0m (unbuilt) │\n",
       "└─────────────────────────────────┴────────────────────────┴───────────────┘\n"
      ]
     },
     "metadata": {},
     "output_type": "display_data"
    },
    {
     "data": {
      "text/html": [
       "<pre style=\"white-space:pre;overflow-x:auto;line-height:normal;font-family:Menlo,'DejaVu Sans Mono',consolas,'Courier New',monospace\"><span style=\"font-weight: bold\"> Total params: </span><span style=\"color: #00af00; text-decoration-color: #00af00\">0</span> (0.00 B)\n",
       "</pre>\n"
      ],
      "text/plain": [
       "\u001b[1m Total params: \u001b[0m\u001b[38;5;34m0\u001b[0m (0.00 B)\n"
      ]
     },
     "metadata": {},
     "output_type": "display_data"
    },
    {
     "data": {
      "text/html": [
       "<pre style=\"white-space:pre;overflow-x:auto;line-height:normal;font-family:Menlo,'DejaVu Sans Mono',consolas,'Courier New',monospace\"><span style=\"font-weight: bold\"> Trainable params: </span><span style=\"color: #00af00; text-decoration-color: #00af00\">0</span> (0.00 B)\n",
       "</pre>\n"
      ],
      "text/plain": [
       "\u001b[1m Trainable params: \u001b[0m\u001b[38;5;34m0\u001b[0m (0.00 B)\n"
      ]
     },
     "metadata": {},
     "output_type": "display_data"
    },
    {
     "data": {
      "text/html": [
       "<pre style=\"white-space:pre;overflow-x:auto;line-height:normal;font-family:Menlo,'DejaVu Sans Mono',consolas,'Courier New',monospace\"><span style=\"font-weight: bold\"> Non-trainable params: </span><span style=\"color: #00af00; text-decoration-color: #00af00\">0</span> (0.00 B)\n",
       "</pre>\n"
      ],
      "text/plain": [
       "\u001b[1m Non-trainable params: \u001b[0m\u001b[38;5;34m0\u001b[0m (0.00 B)\n"
      ]
     },
     "metadata": {},
     "output_type": "display_data"
    },
    {
     "name": "stdout",
     "output_type": "stream",
     "text": [
      "Training Keras model: NumLayers_2_Units_32_Dir_Bi\n",
      "Epoch 1/15\n",
      "10/10 - 4s - 383ms/step - accuracy: 0.3640 - loss: 1.1672 - val_accuracy: 0.3900 - val_loss: 1.0854\n",
      "Epoch 2/15\n",
      "10/10 - 1s - 51ms/step - accuracy: 0.6320 - loss: 0.8259 - val_accuracy: 0.4500 - val_loss: 1.0524\n",
      "Epoch 3/15\n",
      "10/10 - 0s - 47ms/step - accuracy: 0.8300 - loss: 0.5325 - val_accuracy: 0.5200 - val_loss: 0.9631\n",
      "Epoch 4/15\n",
      "10/10 - 0s - 49ms/step - accuracy: 0.9400 - loss: 0.2844 - val_accuracy: 0.4600 - val_loss: 1.1019\n",
      "Epoch 5/15\n",
      "10/10 - 0s - 47ms/step - accuracy: 0.9940 - loss: 0.1093 - val_accuracy: 0.5000 - val_loss: 1.0588\n",
      "Epoch 6/15\n",
      "10/10 - 0s - 46ms/step - accuracy: 0.9940 - loss: 0.0551 - val_accuracy: 0.5000 - val_loss: 1.1008\n",
      "Epoch 7/15\n",
      "10/10 - 0s - 46ms/step - accuracy: 1.0000 - loss: 0.0309 - val_accuracy: 0.4800 - val_loss: 1.1901\n",
      "Epoch 8/15\n",
      "10/10 - 0s - 46ms/step - accuracy: 1.0000 - loss: 0.0178 - val_accuracy: 0.4700 - val_loss: 1.1847\n",
      "Epoch 9/15\n",
      "10/10 - 0s - 47ms/step - accuracy: 1.0000 - loss: 0.0126 - val_accuracy: 0.4800 - val_loss: 1.1709\n",
      "Epoch 10/15\n",
      "10/10 - 0s - 47ms/step - accuracy: 1.0000 - loss: 0.0139 - val_accuracy: 0.4700 - val_loss: 1.2015\n",
      "Epoch 11/15\n",
      "10/10 - 0s - 48ms/step - accuracy: 1.0000 - loss: 0.0102 - val_accuracy: 0.4900 - val_loss: 1.1874\n",
      "Epoch 12/15\n",
      "10/10 - 0s - 47ms/step - accuracy: 1.0000 - loss: 0.0077 - val_accuracy: 0.4900 - val_loss: 1.2273\n",
      "Epoch 13/15\n",
      "10/10 - 0s - 47ms/step - accuracy: 1.0000 - loss: 0.0074 - val_accuracy: 0.4900 - val_loss: 1.2109\n",
      "Epoch 14/15\n",
      "10/10 - 0s - 49ms/step - accuracy: 1.0000 - loss: 0.0067 - val_accuracy: 0.4700 - val_loss: 1.2380\n",
      "Epoch 15/15\n",
      "10/10 - 0s - 46ms/step - accuracy: 1.0000 - loss: 0.0056 - val_accuracy: 0.4900 - val_loss: 1.2311\n",
      "Saved Keras weights to results/weights/keras_rnn_NumLayers_2_Units_32_Dir_Bi.weights.h5\n",
      "Saved plot to results/plots/experiment_NumLayers_2_Units_32_Dir_Bi_history.png\n",
      "\u001b[1m8/8\u001b[0m \u001b[32m━━━━━━━━━━━━━━━━━━━━\u001b[0m\u001b[37m\u001b[0m \u001b[1m0s\u001b[0m 9ms/step  \n",
      "[Keras - NumLayers_2_Units_32_Dir_Bi] Test Macro F1-score: 0.4646\n",
      "\n",
      "--- Comparing with Custom Model for NumLayers_2_Units_32_Dir_Bi ---\n",
      "Loaded Keras weights into custom model.\n",
      "[Custom - NumLayers_2_Units_32_Dir_Bi] Test Macro F1-score: 0.4646\n"
     ]
    }
   ],
   "source": [
    "# --- Run Experiments ---\n",
    "for i, exp_config in enumerate(experiments):\n",
    "    print(f\"\\n--- Running Experiment {i+1}/{len(experiments)}: {exp_config['name']} ---\")\n",
    "    \n",
    "    model_name = exp_config['name']\n",
    "    num_rnn_layers_exp = exp_config['num_rnn_layers']\n",
    "    rnn_units_exp = exp_config['rnn_units']\n",
    "    bidirectional_exp = exp_config['bidirectional']\n",
    "\n",
    "    # ----- bikin model keras -----\n",
    "    keras_model = build_keras_model(\n",
    "        num_rnn_layers=num_rnn_layers_exp,\n",
    "        rnn_units=rnn_units_exp,\n",
    "        bidirectional=bidirectional_exp,\n",
    "        rnn_type='SimpleRNN'\n",
    "    )\n",
    "    keras_model.summary()\n",
    "\n",
    "    # ----- Training -----\n",
    "    print(f\"Training Keras model: {model_name}\")\n",
    "    history = keras_model.fit(\n",
    "        tok_train, y_train,\n",
    "        validation_data=(tok_val, y_val),\n",
    "        epochs=EPOCHS,\n",
    "        batch_size=BATCH_SIZE,\n",
    "        verbose=2\n",
    "    )\n",
    "    weights_path = f'results/weights/keras_rnn_{model_name}.weights.h5'\n",
    "    keras_model.save_weights(weights_path)\n",
    "    print(f\"Saved Keras weights to {weights_path}\")\n",
    "\n",
    "    plot_history(history, model_name, \"experiment\")\n",
    "\n",
    "    # ----- Evaluation on test set (Keras) -----\n",
    "    y_pred_prob_keras = keras_model.predict(tok_test, batch_size=BATCH_SIZE)\n",
    "    y_pred_keras = np.argmax(y_pred_prob_keras, axis=1)\n",
    "    f1_test_keras = f1_score(y_test, y_pred_keras, average='macro')\n",
    "    print(f\"[Keras - {model_name}] Test Macro F1-score: {f1_test_keras:.4f}\")\n",
    "\n",
    "    f1_test_custom = None\n",
    "\n",
    "    # ----- Custom Model Comparison for THIS experiment -----\n",
    "    print(f\"\\n--- Comparing with Custom Model for {model_name} ---\")\n",
    "\n",
    "    if num_rnn_layers_exp > 0:\n",
    "        custom_return_sequences = [True] * (num_rnn_layers_exp - 1) + [False]\n",
    "    else:\n",
    "        custom_return_sequences = []\n",
    "\n",
    "    try:\n",
    "        custom_model = SimpleRNNModel(\n",
    "            vocab_size=vocab_size,\n",
    "            embed_dim=EMBED_DIM,\n",
    "            hidden_dim=rnn_units_exp,\n",
    "            num_classes=num_classes,\n",
    "            dropout_rate=DROPOUT_RATE,\n",
    "            num_layers=num_rnn_layers_exp,\n",
    "            bidirectional=bidirectional_exp,\n",
    "            return_sequences_list=custom_return_sequences\n",
    "        )\n",
    "\n",
    "        keras_weights_list = keras_model.get_weights()\n",
    "        custom_model.load_keras_weights(keras_weights_list)\n",
    "        print(\"Loaded Keras weights into custom model.\")\n",
    "\n",
    "        custom_model.set_training_mode(False)\n",
    "\n",
    "        y_pred_prob_custom_list = []\n",
    "        num_test_samples = tok_test.shape[0]\n",
    "        for j_batch in range(0, num_test_samples, BATCH_SIZE):\n",
    "            tok_test_batch = tok_test[j_batch:j_batch + BATCH_SIZE]\n",
    "            probs_batch_custom = custom_model.forward(tok_test_batch, training=False)\n",
    "            y_pred_prob_custom_list.append(probs_batch_custom)\n",
    "        \n",
    "        y_pred_prob_custom = np.concatenate(y_pred_prob_custom_list, axis=0)\n",
    "        y_pred_custom = np.argmax(y_pred_prob_custom, axis=1)\n",
    "        f1_test_custom = f1_score(y_test, y_pred_custom, average='macro')\n",
    "        print(f\"[Custom - {model_name}] Test Macro F1-score: {f1_test_custom:.4f}\")\n",
    "        \n",
    "        if not np.isclose(f1_test_keras, f1_test_custom, atol=1e-3):\n",
    "            print(f\"Warning: Keras F1 ({f1_test_keras:.4f}) and Custom F1 ({f1_test_custom:.4f}) scores differ significantly for {model_name}.\")\n",
    "\n",
    "    except Exception as e:\n",
    "        print(f\"Error during custom model comparison for {model_name}: {e}\")\n",
    "        f1_test_custom = None\n",
    "\n",
    "    results_summary.append({\n",
    "        \"name\": model_name,\n",
    "        \"num_rnn_layers\": num_rnn_layers_exp,\n",
    "        \"rnn_units\": rnn_units_exp,\n",
    "        \"bidirectional\": bidirectional_exp,\n",
    "        \"f1_keras\": f1_test_keras,\n",
    "        \"f1_custom\": f1_test_custom\n",
    "    })"
   ]
  },
  {
   "cell_type": "code",
   "execution_count": 7,
   "id": "13ba663a",
   "metadata": {},
   "outputs": [
    {
     "name": "stdout",
     "output_type": "stream",
     "text": [
      "\n",
      "\n",
      "--- Experiment Results Summary ---\n",
      "Name | RNN Layers | RNN Units | Bidirectional | F1 Keras | F1 Custom\n",
      "--------------------------------------------------------------------------------\n",
      "NumLayers_1_Units_32_Dir_Bi | 1 | 32 | True | 0.4213 | 0.4213\n",
      "NumLayers_2_Units_32_Dir_Bi | 2 | 32 | True | 0.4696 | 0.4696\n",
      "NumLayers_3_Units_32_Dir_Bi | 3 | 32 | True | 0.4466 | 0.4466\n",
      "NumLayers_2_Units_16_Dir_Bi | 2 | 16 | True | 0.3829 | 0.3829\n",
      "NumLayers_2_Units_32_Dir_Bi | 2 | 32 | True | 0.5267 | 0.5267\n",
      "NumLayers_2_Units_64_Dir_Bi | 2 | 64 | True | 0.3929 | 0.3929\n",
      "NumLayers_2_Units_32_Dir_Uni | 2 | 32 | False | 0.4883 | 0.4883\n",
      "NumLayers_2_Units_32_Dir_Bi | 2 | 32 | True | 0.4646 | 0.4646\n"
     ]
    }
   ],
   "source": [
    "# --- Print Hasil ---\n",
    "print(\"\\n\\n--- Experiment Results Summary ---\")\n",
    "print(\"Name | RNN Layers | RNN Units | Bidirectional | F1 Keras | F1 Custom\")\n",
    "print(\"-\" * 80)\n",
    "for res in results_summary:\n",
    "    f1_custom_str = f\"{res['f1_custom']:.4f}\" if res['f1_custom'] is not None else \"N/A\"\n",
    "    print(f\"{res['name']} | {res['num_rnn_layers']} | {res['rnn_units']} | {res['bidirectional']} | {res['f1_keras']:.4f} | {f1_custom_str}\")"
   ]
  }
 ],
 "metadata": {
  "kernelspec": {
   "display_name": "Python 3",
   "language": "python",
   "name": "python3"
  },
  "language_info": {
   "codemirror_mode": {
    "name": "ipython",
    "version": 3
   },
   "file_extension": ".py",
   "mimetype": "text/x-python",
   "name": "python",
   "nbconvert_exporter": "python",
   "pygments_lexer": "ipython3",
   "version": "3.12.3"
  }
 },
 "nbformat": 4,
 "nbformat_minor": 5
}
